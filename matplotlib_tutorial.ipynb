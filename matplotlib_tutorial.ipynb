{
 "cells": [
  {
   "cell_type": "code",
   "execution_count": null,
   "metadata": {},
   "outputs": [],
   "source": [
    "%pip install --upgrade numpy matplotlib"
   ]
  },
  {
   "cell_type": "code",
   "execution_count": null,
   "metadata": {},
   "outputs": [],
   "source": [
    "from numpy import linspace, sin, cos, random\n",
    "import matplotlib.pyplot as plt"
   ]
  },
  {
   "cell_type": "code",
   "execution_count": null,
   "metadata": {},
   "outputs": [],
   "source": [
    "x = linspace(0, 15, 300)\n",
    "y1 = sin(x)\n",
    "y2 = cos(x)\n",
    "y3 = cos(x) + random.randint(300) * 0.5\n",
    "\n",
    "res1 = random.random(1000) * 0.2 + 0.4\n",
    "res2 = random.random(1000) * 0.2 + 0.4\n",
    "plt.figure(figsize=(8, 8))  # заданный размер фигуры\n",
    "plt.suptitle('Тригонометрия', fontsize=14, fontweight='bold')\n",
    "plt.grid(True)  # добавление сетки\n",
    "# '-', '--', '-.', ':', 'None', ' ', '', 'solid', 'dashed', 'dashdot', 'dotted'\n",
    "plt.plot(x, y1,\n",
    "            label='sin',\n",
    "            linestyle=':',  # тип линии\n",
    "            color='blue',\n",
    "            linewidth=3)  # толщина линии\n",
    "plt.text(4, 0, 'ОПАНА',\n",
    "            rotation=90, fontsize=10, fontweight='bold')\n",
    "plt.plot(x, y2,\n",
    "            label='cos',\n",
    "            linestyle='-',  # тип линии\n",
    "            color=(1, 0, 0),\n",
    "            linewidth=3)\n",
    "plt.xlim(0, 8)\n",
    "plt.ylim(-1, 1)\n",
    "plt.xlabel('x', fontsize=12, fontweight='bold')\n",
    "plt.ylabel('f(x)', fontsize=15, rotation=45)\n",
    "# 'best', 'upper right', 'upper left', 'lower left', 'lower right', 'right', 'center left', 'center right', 'lower center', 'upper center', 'center'\n",
    "plt.legend(loc='upper right', fontsize=14)\n",
    "\n",
    "plt.scatter(x, y3, s=40, color='green')\n",
    "plt.show()  # показать фигуру\n",
    "plt.figure(figsize=(6, 8))\n",
    "plt.suptitle('Пьедестал', fontsize=14, fontweight='bold')\n",
    "plt.grid(False)\n",
    "plt.hist(res1,\n",
    "            bins=50,\n",
    "            histtype='step')\n",
    "plt.hist(res2,\n",
    "            bins=200)\n",
    "plt.show()"
   ]
  }
 ],
 "metadata": {
  "language_info": {
   "name": "python"
  }
 },
 "nbformat": 4,
 "nbformat_minor": 2
}
