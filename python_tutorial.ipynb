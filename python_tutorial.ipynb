{
 "cells": [
  {
   "cell_type": "markdown",
   "metadata": {},
   "source": [
    "# Структурное = процедурно-функциональное программирование"
   ]
  },
  {
   "cell_type": "markdown",
   "metadata": {},
   "source": [
    "## comments"
   ]
  },
  {
   "cell_type": "code",
   "execution_count": 1,
   "metadata": {},
   "outputs": [],
   "source": [
    "# все, что написано правее # есть комментарий\n",
    "\n",
    "'''\n",
    "Многострочный \n",
    "комментарий\n",
    "''';"
   ]
  },
  {
   "cell_type": "markdown",
   "metadata": {},
   "source": [
    "## stdin/stdout"
   ]
  },
  {
   "cell_type": "code",
   "execution_count": 2,
   "metadata": {},
   "outputs": [
    {
     "name": "stdout",
     "output_type": "stream",
     "text": [
      "Hello world\n",
      "1 2 3\n",
      "1, 2, 3\n",
      "integer numbers (int): 1,2,3,4..."
     ]
    }
   ],
   "source": [
    "print('Hello world')\n",
    "print('1', '2', '3')\n",
    "print('1', '2', '3', sep=', ')  # sep=' ' по умолчанию\n",
    "print('integer numbers (int)', end=': ') # end='\\n' по умолчанию\n",
    "print(1, '2', 3, 4, sep=',', end='...')  "
   ]
  },
  {
   "cell_type": "markdown",
   "metadata": {},
   "source": [
    "### naming\n",
    "\n",
    "- Имена переменных должны **начинаться** с буквы или символа подчёркивания. Они не могут начинаться с числа, н-р `2a`!\n",
    "- Имена переменных могут содержать только буквы, цифры и знаки подчёркивания. Они не могут содержать пробелов или специальных символов, н-р `bif!s` или `error message`!\n",
    "- Имена переменных чувствительны к регистру. Например, age, Age и AGE — три разных переменные\n",
    "\n",
    "Принято в именах переменных использовать нижний регистр букв, а отдельные слова разделять символами подчёркивания. \n",
    "Например, переменная с именем «site name» должна быть записана как «site_name»"
   ]
  },
  {
   "cell_type": "code",
   "execution_count": 3,
   "metadata": {},
   "outputs": [
    {
     "name": "stdout",
     "output_type": "stream",
     "text": [
      "2 3\n"
     ]
    }
   ],
   "source": [
    "w = 2\n",
    "_w = 3\n",
    "\n",
    "print(w, _w)"
   ]
  },
  {
   "cell_type": "code",
   "execution_count": 4,
   "metadata": {},
   "outputs": [
    {
     "name": "stdout",
     "output_type": "stream",
     "text": [
      "4 200\n"
     ]
    }
   ],
   "source": [
    "kuro4ka = 4\n",
    "status_code = 200\n",
    "\n",
    "print(kuro4ka, status_code)"
   ]
  },
  {
   "cell_type": "code",
   "execution_count": 5,
   "metadata": {},
   "outputs": [
    {
     "name": "stdout",
     "output_type": "stream",
     "text": [
      "17 71\n"
     ]
    }
   ],
   "source": [
    "age = 17\n",
    "AGE = 71\n",
    "\n",
    "print(age, AGE)"
   ]
  },
  {
   "cell_type": "code",
   "execution_count": 6,
   "metadata": {},
   "outputs": [
    {
     "name": "stdout",
     "output_type": "stream",
     "text": [
      "То, что ввел пользователь в консоль 123 !\n",
      "То, что ввел пользователь в консоль 123 !\n",
      "То, что ввел пользователь в консоль/123/!."
     ]
    }
   ],
   "source": [
    "a = input(\"То, что сначала выводится на экран: \")\n",
    "print(\"То, что ввел пользователь в консоль\", a, '!')\n",
    "print(\"То, что ввел пользователь в консоль\", a, '!', sep=' ', end='\\n')\n",
    "print(\"То, что ввел пользователь в консоль\", a, '!', sep='/', end='.')"
   ]
  },
  {
   "cell_type": "markdown",
   "metadata": {},
   "source": [
    "## Types"
   ]
  },
  {
   "cell_type": "markdown",
   "metadata": {},
   "source": [
    "Функция `type(obj)` = возвращает тип передаваемого объекта obj"
   ]
  },
  {
   "cell_type": "markdown",
   "metadata": {},
   "source": [
    "### int"
   ]
  },
  {
   "cell_type": "code",
   "execution_count": 7,
   "metadata": {},
   "outputs": [
    {
     "name": "stdout",
     "output_type": "stream",
     "text": [
      "Целые числа: -7 -456 0 99\n",
      "Тип целых чисел: <class 'int'> <class 'int'> <class 'int'> <class 'int'>\n",
      "-7.0\n"
     ]
    }
   ],
   "source": [
    "a = -7\n",
    "print('Целые числа:', a, -456, 0, 99)\n",
    "print('Тип целых чисел:', type(a), type(-456), type(0), type(99))\n",
    "print(float(a))"
   ]
  },
  {
   "cell_type": "markdown",
   "metadata": {},
   "source": [
    "### float"
   ]
  },
  {
   "cell_type": "markdown",
   "metadata": {},
   "source": [
    "В вещественных числах используют ТОЧКУ вместо запятой!"
   ]
  },
  {
   "cell_type": "code",
   "execution_count": 8,
   "metadata": {},
   "outputs": [
    {
     "name": "stdout",
     "output_type": "stream",
     "text": [
      "Вещественные числа: -3.6086 5.0 0.764\n",
      "Вещественные числа: <class 'float'> <class 'float'> <class 'float'>\n",
      "-3\n"
     ]
    }
   ],
   "source": [
    "a = -3.6086\n",
    "b = 5.0\n",
    "print('Вещественные числа:', a, b, .764)\n",
    "print('Вещественные числа:', type(a), type(b), type(.764))\n",
    "print(int(a))"
   ]
  },
  {
   "cell_type": "markdown",
   "metadata": {},
   "source": [
    "### numeric operations"
   ]
  },
  {
   "cell_type": "code",
   "execution_count": 9,
   "metadata": {},
   "outputs": [],
   "source": [
    "a, b, c = 17, 5, 0.0"
   ]
  },
  {
   "cell_type": "markdown",
   "metadata": {},
   "source": [
    "При любых арифметических действиях с int и float результат будет типом float!"
   ]
  },
  {
   "cell_type": "code",
   "execution_count": 10,
   "metadata": {},
   "outputs": [
    {
     "name": "stdout",
     "output_type": "stream",
     "text": [
      "22\n",
      "5.0\n"
     ]
    }
   ],
   "source": [
    "print(a + b)\n",
    "print(b + c)"
   ]
  },
  {
   "cell_type": "code",
   "execution_count": 11,
   "metadata": {},
   "outputs": [
    {
     "name": "stdout",
     "output_type": "stream",
     "text": [
      "-12\n",
      "-5.0\n"
     ]
    }
   ],
   "source": [
    "print(b - a)\n",
    "print(c - b)"
   ]
  },
  {
   "cell_type": "code",
   "execution_count": 12,
   "metadata": {},
   "outputs": [
    {
     "name": "stdout",
     "output_type": "stream",
     "text": [
      "85\n",
      "0.0\n"
     ]
    }
   ],
   "source": [
    "print(a * b)\n",
    "print(b * c)"
   ]
  },
  {
   "cell_type": "code",
   "execution_count": 13,
   "metadata": {},
   "outputs": [
    {
     "name": "stdout",
     "output_type": "stream",
     "text": [
      "1419857\n",
      "1.0\n"
     ]
    }
   ],
   "source": [
    "print(a ** b)\n",
    "print(b ** c)"
   ]
  },
  {
   "cell_type": "markdown",
   "metadata": {},
   "source": [
    "При делении результат ВСЕГДА будет типом float!"
   ]
  },
  {
   "cell_type": "code",
   "execution_count": 14,
   "metadata": {},
   "outputs": [
    {
     "name": "stdout",
     "output_type": "stream",
     "text": [
      "4.0\n"
     ]
    }
   ],
   "source": [
    "print(8 / 2)"
   ]
  },
  {
   "cell_type": "code",
   "execution_count": 15,
   "metadata": {},
   "outputs": [
    {
     "name": "stdout",
     "output_type": "stream",
     "text": [
      "3.4\n",
      "Целая часть от деления 3\n",
      "Остаток от деления 2\n"
     ]
    }
   ],
   "source": [
    "print(a / b)\n",
    "print('Целая часть от деления', a // b)\n",
    "print('Остаток от деления', a % b)"
   ]
  },
  {
   "cell_type": "code",
   "execution_count": 16,
   "metadata": {},
   "outputs": [
    {
     "ename": "ZeroDivisionError",
     "evalue": "float division by zero",
     "output_type": "error",
     "traceback": [
      "\u001b[1;31m---------------------------------------------------------------------------\u001b[0m",
      "\u001b[1;31mZeroDivisionError\u001b[0m                         Traceback (most recent call last)",
      "Cell \u001b[1;32mIn[16], line 1\u001b[0m\n\u001b[1;32m----> 1\u001b[0m \u001b[38;5;28mprint\u001b[39m(\u001b[43mb\u001b[49m\u001b[43m \u001b[49m\u001b[38;5;241;43m/\u001b[39;49m\u001b[43m \u001b[49m\u001b[43mc\u001b[49m)\n",
      "\u001b[1;31mZeroDivisionError\u001b[0m: float division by zero"
     ]
    }
   ],
   "source": [
    "print(b / c)"
   ]
  },
  {
   "cell_type": "markdown",
   "metadata": {},
   "source": [
    "У всего есть погрешность!"
   ]
  },
  {
   "cell_type": "code",
   "execution_count": 17,
   "metadata": {},
   "outputs": [
    {
     "name": "stdout",
     "output_type": "stream",
     "text": [
      "0.30000000000000004\n"
     ]
    }
   ],
   "source": [
    "print(0.1 + 0.2)  # используй Decimal"
   ]
  },
  {
   "cell_type": "code",
   "execution_count": 18,
   "metadata": {},
   "outputs": [
    {
     "name": "stdout",
     "output_type": "stream",
     "text": [
      "1\n"
     ]
    }
   ],
   "source": [
    "print(abs(-1))"
   ]
  },
  {
   "cell_type": "code",
   "execution_count": 19,
   "metadata": {},
   "outputs": [
    {
     "name": "stdout",
     "output_type": "stream",
     "text": [
      "3.142\n"
     ]
    }
   ],
   "source": [
    "print(round(3.1415, 3))"
   ]
  },
  {
   "cell_type": "code",
   "execution_count": 20,
   "metadata": {},
   "outputs": [],
   "source": [
    "from math import pi, e  # константы\n",
    "from math import sqrt, log, sin, cos, tan, asin, acos, atan, radians, degrees  # функции"
   ]
  },
  {
   "cell_type": "code",
   "execution_count": 21,
   "metadata": {},
   "outputs": [
    {
     "name": "stdout",
     "output_type": "stream",
     "text": [
      "3.141592653589793\n",
      "2.718281828459045\n"
     ]
    }
   ],
   "source": [
    "print(pi)\n",
    "print(e)"
   ]
  },
  {
   "cell_type": "code",
   "execution_count": 22,
   "metadata": {},
   "outputs": [
    {
     "name": "stdout",
     "output_type": "stream",
     "text": [
      "3.0\n"
     ]
    }
   ],
   "source": [
    "print(sqrt(9))"
   ]
  },
  {
   "cell_type": "code",
   "execution_count": 23,
   "metadata": {},
   "outputs": [
    {
     "name": "stdout",
     "output_type": "stream",
     "text": [
      "1.0\n"
     ]
    }
   ],
   "source": [
    "print(log(e))"
   ]
  },
  {
   "cell_type": "code",
   "execution_count": 24,
   "metadata": {},
   "outputs": [
    {
     "name": "stdout",
     "output_type": "stream",
     "text": [
      "0.49999999999999994\n",
      "0.8660254037844387\n",
      "0.5773502691896257\n"
     ]
    }
   ],
   "source": [
    "print(sin(pi/6))\n",
    "print(cos(pi/6))\n",
    "print(tan(pi/6))"
   ]
  },
  {
   "cell_type": "code",
   "execution_count": 25,
   "metadata": {},
   "outputs": [
    {
     "name": "stdout",
     "output_type": "stream",
     "text": [
      "0.5510695830994463\n",
      "1.0197267436954502\n",
      "0.48234790710102493\n"
     ]
    }
   ],
   "source": [
    "print(asin(pi/6))\n",
    "print(acos(pi/6))\n",
    "print(atan(pi/6))"
   ]
  },
  {
   "cell_type": "code",
   "execution_count": 26,
   "metadata": {},
   "outputs": [
    {
     "name": "stdout",
     "output_type": "stream",
     "text": [
      "0.5235987755982988\n",
      "29.999999999999996\n"
     ]
    }
   ],
   "source": [
    "print(radians(30))\n",
    "print(degrees(pi / 6))"
   ]
  },
  {
   "cell_type": "markdown",
   "metadata": {},
   "source": [
    "#### mortgage 1.0"
   ]
  },
  {
   "cell_type": "markdown",
   "metadata": {},
   "source": [
    "![](images/mortgage.png)"
   ]
  },
  {
   "cell_type": "code",
   "execution_count": 27,
   "metadata": {},
   "outputs": [],
   "source": [
    "c = 2_000_000  # сумма кредита\n",
    "m = (15 / 100) / 12  # МЕСЯЧНАЯ процентная ставка\n",
    "s = 5 * 12  # срок кредита в месяцах"
   ]
  },
  {
   "cell_type": "code",
   "execution_count": 28,
   "metadata": {},
   "outputs": [
    {
     "name": "stdout",
     "output_type": "stream",
     "text": [
      "ануитетный платеж 47579.86017271757\n"
     ]
    }
   ],
   "source": [
    "k = (m * (1 + m) ** s) / ((1 + m) ** s - 1)\n",
    "x = c * k\n",
    "print('ануитетный платеж', x)"
   ]
  },
  {
   "cell_type": "markdown",
   "metadata": {},
   "source": [
    "### str"
   ]
  },
  {
   "cell_type": "code",
   "execution_count": 57,
   "metadata": {},
   "outputs": [
    {
     "name": "stdout",
     "output_type": "stream",
     "text": [
      "Хорошо в лесу зимой!\n",
      "\n",
      "Летом ничуть не хуже!\n",
      "\n",
      "\"Ленин жил, Ленин жив, Ленин будет жить!\"\n",
      "\n",
      "Многострочная\n",
      "строка\n",
      "\n",
      "Строковый тип: <class 'str'> <class 'str'> <class 'str'> <class 'str'> <class 'str'>\n"
     ]
    }
   ],
   "source": [
    "s1 = 'Хорошо в лесу зимой!'\n",
    "s2 = \"Летом ничуть не хуже!\"\n",
    "s3 = '\"Ленин жил, Ленин жив, Ленин будет жить!\"'\n",
    "s4 = '''Многострочная\n",
    "строка'''\n",
    "print(s1, s2, s3, s4, sep='\\n\\n', end='\\n\\n')\n",
    "print('Строковый тип:', type(s1), type(s2), type(s3), type(s4), type(''))"
   ]
  },
  {
   "cell_type": "markdown",
   "metadata": {},
   "source": [
    "### bool"
   ]
  },
  {
   "cell_type": "markdown",
   "metadata": {},
   "source": [
    "Внимание на регистр!"
   ]
  },
  {
   "cell_type": "code",
   "execution_count": 80,
   "metadata": {},
   "outputs": [
    {
     "name": "stdout",
     "output_type": "stream",
     "text": [
      "True False True False\n",
      "<class 'bool'> <class 'bool'> <class 'bool'> <class 'bool'>\n"
     ]
    }
   ],
   "source": [
    "t = True\n",
    "f = False\n",
    "\n",
    "te = 0 < 1  # True\n",
    "fe = 5*5 == 6*6  # False\n",
    "\n",
    "print(t, f, te, fe)\n",
    "print(type(t), type(f), type(te), type(fe))"
   ]
  },
  {
   "cell_type": "markdown",
   "metadata": {},
   "source": [
    "### tuple"
   ]
  },
  {
   "cell_type": "code",
   "execution_count": 9,
   "metadata": {},
   "outputs": [
    {
     "name": "stdout",
     "output_type": "stream",
     "text": [
      "(123, True, 'qwerty', {'a': 1, 'b': 2}, [-1, 0, 1], {4, 5, 6})\n",
      "<class 'tuple'>\n"
     ]
    }
   ],
   "source": [
    "t = (123, True, 'qwerty', {'a': 1, 'b': 2}, [-1, 0, 1], {4, 5, 6})\n",
    "print(t, type(t), sep='\\n')"
   ]
  },
  {
   "cell_type": "code",
   "execution_count": null,
   "metadata": {},
   "outputs": [],
   "source": [
    "t = (1, 2, 3, 4, 5)"
   ]
  },
  {
   "cell_type": "markdown",
   "metadata": {},
   "source": [
    "### list"
   ]
  },
  {
   "cell_type": "code",
   "execution_count": null,
   "metadata": {},
   "outputs": [
    {
     "name": "stdout",
     "output_type": "stream",
     "text": [
      "[123, True, 'qwerty', {'a': 1, 'b': 2}, [-1, 0, 1], {4, 5, 6}]\n",
      "<class 'list'>\n"
     ]
    }
   ],
   "source": [
    "result = [123, True, 'qwerty', {'a': 1, 'b': 2}, [-1, 0, 1], {4, 5, 6}]\n",
    "print(result, type(result), sep='\\n')"
   ]
  },
  {
   "cell_type": "markdown",
   "metadata": {},
   "source": [
    "### frozenset"
   ]
  },
  {
   "cell_type": "code",
   "execution_count": 23,
   "metadata": {},
   "outputs": [
    {
     "name": "stdout",
     "output_type": "stream",
     "text": [
      "frozenset({'3', 1, 2, 3})\n",
      "<class 'frozenset'>\n"
     ]
    }
   ],
   "source": [
    "fse = frozenset((1, 2, 3, '3', 3, 2, 1))  # НЕИЗМЕНЯЕМОЕ множество ИНДИВИДУАЛЬНЫХ значений\n",
    "print(fse, type(fse), sep='\\n')"
   ]
  },
  {
   "cell_type": "markdown",
   "metadata": {},
   "source": [
    "### set"
   ]
  },
  {
   "cell_type": "code",
   "execution_count": 28,
   "metadata": {},
   "outputs": [
    {
     "name": "stdout",
     "output_type": "stream",
     "text": [
      "{'3', 2, 3, 1}\n",
      "<class 'set'>\n"
     ]
    }
   ],
   "source": [
    "se = {1, 2, 3, '3', 3, 2, 1}  # множество ИНДИВИДУАЛЬНЫХ значений\n",
    "print(se, type(se), sep='\\n')"
   ]
  },
  {
   "cell_type": "markdown",
   "metadata": {},
   "source": [
    "### dict"
   ]
  },
  {
   "cell_type": "code",
   "execution_count": 29,
   "metadata": {},
   "outputs": [
    {
     "name": "stdout",
     "output_type": "stream",
     "text": [
      "{'a': 1, 'b': 2, 'c': 3, 'd': 4}\n",
      "<class 'dict'>\n"
     ]
    }
   ],
   "source": [
    "d = {'a': 1, 'b': 2, 'c': 3, 'd': 4}\n",
    "print(d, type(d), sep='\\n')"
   ]
  },
  {
   "cell_type": "markdown",
   "metadata": {},
   "source": [
    "### transform types"
   ]
  },
  {
   "cell_type": "code",
   "execution_count": 14,
   "metadata": {},
   "outputs": [
    {
     "name": "stdout",
     "output_type": "stream",
     "text": [
      "t: True, f: False\n",
      "ex_t: True, ex_f: False\n",
      "s_t: True, s_f: False\n",
      "l_t: True, l_f: False\n",
      "set_t: True, set_f: False\n",
      "d_t: True, d_f: False\n",
      "<class 'bool'> <class 'bool'>\n"
     ]
    }
   ],
   "source": [
    "t = True  # С заглавной буквы\n",
    "f = False  # С заглавной буквы\n",
    "ex_t = 3 ** 2 > 2 ** 3  # истинное утверждение\n",
    "ex_f = 3 ** 2 <= 2 ** 3  # ложное утверждение\n",
    "s_t = bool('Daniil')  # не пустая строка\n",
    "s_f = bool('')  # пустая строка\n",
    "l_t = bool([1, -0.7364, 'qwerty'])  # не пустой список\n",
    "l_f = bool([])  # пустой список\n",
    "set_t = bool({1, -0.7364, '', 1})  # не пустое множество\n",
    "set_f = bool({})  # пустое множество\n",
    "d_t = bool({'a': 1, 'b': 2, 'c': 3})  # не пустой словарь\n",
    "d_f = bool({})  # пустой словарь\n",
    "\n",
    "print(f't: {t}, f: {f}')\n",
    "print(f'ex_t: {ex_t}, ex_f: {ex_f}')\n",
    "print(f's_t: {s_t}, s_f: {s_f}')\n",
    "print(f'l_t: {l_t}, l_f: {l_f}')\n",
    "print(f'set_t: {set_t}, set_f: {set_f}')\n",
    "print(f'd_t: {d_t}, d_f: {d_f}')\n",
    "print(type(t), type(f))"
   ]
  },
  {
   "cell_type": "markdown",
   "metadata": {},
   "source": [
    "## if-elif-else"
   ]
  },
  {
   "cell_type": "markdown",
   "metadata": {},
   "source": [
    "Внимание на двоеточие и табуляцию!"
   ]
  },
  {
   "cell_type": "code",
   "execution_count": 16,
   "metadata": {},
   "outputs": [],
   "source": [
    "'''\n",
    "if <condition1>:  # начало условного оператора ВСЕГДА начинается с if!\n",
    "    <body1>  # то, что будет выполняться, когда condition1 истинно\n",
    "elif <condition2>:  # условие condition2 будет сравниваться только при ложном condition1\n",
    "    <body2>  # то, что будет выполняться, когда condition2 истинно\n",
    "elif <condition...>:  # условие condition... будет сравниваться только при ложнох условиях выше\n",
    "    <body3>  # то, что будет выполняться, когда condition... истинно\n",
    "else:\n",
    "    <bodyn>  # то, что будет выполняться, когда все condition ложны\n",
    "''';"
   ]
  },
  {
   "cell_type": "markdown",
   "metadata": {},
   "source": [
    "`elif` и `else` не обязательны"
   ]
  },
  {
   "cell_type": "markdown",
   "metadata": {},
   "source": [
    "### ZeroDevisionError"
   ]
  },
  {
   "cell_type": "code",
   "execution_count": 11,
   "metadata": {},
   "outputs": [
    {
     "ename": "ZeroDivisionError",
     "evalue": "division by zero",
     "output_type": "error",
     "traceback": [
      "\u001b[1;31m---------------------------------------------------------------------------\u001b[0m",
      "\u001b[1;31mZeroDivisionError\u001b[0m                         Traceback (most recent call last)",
      "Cell \u001b[1;32mIn[11], line 1\u001b[0m\n\u001b[1;32m----> 1\u001b[0m \u001b[38;5;28mprint\u001b[39m(\u001b[38;5;241;43m10\u001b[39;49m\u001b[43m \u001b[49m\u001b[38;5;241;43m/\u001b[39;49m\u001b[43m \u001b[49m\u001b[38;5;241;43m0\u001b[39;49m)\n",
      "\u001b[1;31mZeroDivisionError\u001b[0m: division by zero"
     ]
    }
   ],
   "source": [
    "print(10 / 0)"
   ]
  },
  {
   "cell_type": "code",
   "execution_count": null,
   "metadata": {},
   "outputs": [
    {
     "name": "stdout",
     "output_type": "stream",
     "text": [
      "Частное: 9.0\n"
     ]
    }
   ],
   "source": [
    "n1 = float(input())\n",
    "n2 = float(input())\n",
    "\n",
    "if n2 == 0:\n",
    "    print('На ноль делить нельзя!')\n",
    "else:\n",
    "    print('Частное:', n1 / n2)"
   ]
  },
  {
   "cell_type": "code",
   "execution_count": 7,
   "metadata": {},
   "outputs": [
    {
     "name": "stdout",
     "output_type": "stream",
     "text": [
      "negative\n",
      "The END.\n"
     ]
    }
   ],
   "source": [
    "n = float(input('input number: '))\n",
    "\n",
    "if n > 0:\n",
    "    print('positive')\n",
    "elif n < 0:\n",
    "    print('negative')\n",
    "else:\n",
    "    print('nuetral')\n",
    "\n",
    "print('The END.')"
   ]
  },
  {
   "cell_type": "markdown",
   "metadata": {},
   "source": [
    "## Falses"
   ]
  },
  {
   "cell_type": "markdown",
   "metadata": {},
   "source": [
    "Для Python помимо очевидных ложных условиях вида `False` или `-5 < 9`, также являются ложными условиями `0`, `0.0`, пустые строки и коллекции "
   ]
  },
  {
   "cell_type": "code",
   "execution_count": 16,
   "metadata": {},
   "outputs": [],
   "source": [
    "if False: # False\n",
    "    print(False)\n",
    "if 0:  # False\n",
    "    print(0)\n",
    "if 0.0:\n",
    "    print(0.0)\n",
    "if '':  # empty = False\n",
    "    print('')\n",
    "if tuple():  # empty = False\n",
    "    print(tuple())\n",
    "if []:  # empty = False\n",
    "    print([])\n",
    "if {}:  # empty = False\n",
    "    print({})"
   ]
  },
  {
   "cell_type": "markdown",
   "metadata": {},
   "source": [
    "## Trues"
   ]
  },
  {
   "cell_type": "code",
   "execution_count": 17,
   "metadata": {},
   "outputs": [
    {
     "name": "stdout",
     "output_type": "stream",
     "text": [
      "True\n",
      "1\n",
      "0.1\n",
      "empty\n",
      "(1, 2, 3)\n",
      "[1, 2, 3]\n",
      "{1: 'a', 2: 'b', 3: 'c'}\n"
     ]
    }
   ],
   "source": [
    "if True:  # True\n",
    "    print(True)\n",
    "if 1:  # not 0 = True \n",
    "    print(1)\n",
    "if 0.1:  # True\n",
    "    print(0.1) \n",
    "if 'not empty':  # True\n",
    "    print('empty') \n",
    "if (1,2,3):  # True\n",
    "    print((1,2,3)) \n",
    "if [1,2,3]:  # True\n",
    "    print([1,2,3])\n",
    "if {1: 'a', 2: 'b', 3: 'c'}:  # True\n",
    "    print({1: 'a', 2: 'b', 3: 'c'})"
   ]
  },
  {
   "cell_type": "markdown",
   "metadata": {},
   "source": [
    "## and/or"
   ]
  },
  {
   "cell_type": "markdown",
   "metadata": {},
   "source": [
    "![Таблица истинности](./images/truth_table.jpg)"
   ]
  },
  {
   "cell_type": "code",
   "execution_count": 96,
   "metadata": {},
   "outputs": [
    {
     "name": "stdout",
     "output_type": "stream",
     "text": [
      "True and True = True\n",
      "False and False = False\n",
      "True and False = False\n",
      "False and True = False\n"
     ]
    }
   ],
   "source": [
    "# and = * = '^' = конъюнкция \n",
    "print(f'{True and True = }')  # 1 * 1 = 1\n",
    "print(f'{False and False = }')  # 0 * 0 = 0\n",
    "print(f'{True and False = }')  # 1 * 0 = 0\n",
    "print(f'{False and True = }')  # 0 * 1 = 0"
   ]
  },
  {
   "cell_type": "code",
   "execution_count": 98,
   "metadata": {},
   "outputs": [
    {
     "name": "stdout",
     "output_type": "stream",
     "text": [
      "True or True = True\n",
      "False or False = False\n",
      "True or False = True\n",
      "False or True = True\n"
     ]
    }
   ],
   "source": [
    "# or = + = 'v' = дизъюнкция\n",
    "print(f'{True or True = }')  # 1 + 1 = 2\n",
    "print(f'{False or False = }')  # 0 + 0 = 0\n",
    "print(f'{True or False = }')  # 1 + 0 = 1\n",
    "print(f'{False or True = }')  # 0 + 1 = 1"
   ]
  },
  {
   "cell_type": "code",
   "execution_count": 21,
   "metadata": {},
   "outputs": [
    {
     "data": {
      "text/plain": [
       "True"
      ]
     },
     "execution_count": 21,
     "metadata": {},
     "output_type": "execute_result"
    }
   ],
   "source": [
    "True or True and False"
   ]
  },
  {
   "cell_type": "code",
   "execution_count": 22,
   "metadata": {},
   "outputs": [
    {
     "data": {
      "text/plain": [
       "False"
      ]
     },
     "execution_count": 22,
     "metadata": {},
     "output_type": "execute_result"
    }
   ],
   "source": [
    "False or True and False"
   ]
  },
  {
   "cell_type": "markdown",
   "metadata": {},
   "source": [
    "## all() & any()"
   ]
  },
  {
   "cell_type": "markdown",
   "metadata": {},
   "source": [
    "- `all()` = функция, которая принимает в себя кортеж условий и возвращает `True`, если **ВСЕ** условия истинны, иначе `False`\n",
    "- `any()` = функция, которая принимает в себя кортеж условий и возвращает `True`, если **ХОТЯ БЫ ОДНО** условие истинно, иначе `False`"
   ]
  },
  {
   "cell_type": "code",
   "execution_count": 37,
   "metadata": {},
   "outputs": [
    {
     "name": "stdout",
     "output_type": "stream",
     "text": [
      "and\n",
      "all\n"
     ]
    }
   ],
   "source": [
    "if (0 < 1) and (1 < 2) and (2 < 3):\n",
    "    print('and')\n",
    "\n",
    "if all(((0 < 1), (1 < 2), (2 < 3))):\n",
    "    print('all')"
   ]
  },
  {
   "cell_type": "code",
   "execution_count": 24,
   "metadata": {},
   "outputs": [
    {
     "name": "stdout",
     "output_type": "stream",
     "text": [
      "or\n",
      "any\n"
     ]
    }
   ],
   "source": [
    "if (0 < 1) or (1 < 2) or (2 < 3):\n",
    "    print('or')\n",
    "\n",
    "if any(((0 < 1), (1 < 2), (2 < 3))):\n",
    "    print('any')"
   ]
  },
  {
   "cell_type": "code",
   "execution_count": 99,
   "metadata": {},
   "outputs": [
    {
     "name": "stdout",
     "output_type": "stream",
     "text": [
      "1\n",
      "2 < 3 and 4 < 3 or 0 < 1\n",
      "3**2 > 2**3 and \"car\" != \"vehicle\" and [1,2,3]\n",
      "all((3 ** 2 > 2 ** 3, \"car\" != \"vehicle\", [1, 2, 3]))\n",
      "10 < 6 or len(\"ahahaha\") > 50 or {\"a\":1,\"b\":2}\n",
      "any((10 < 6, len(\"ahahaha\") > 50, {\"a\": 1,\"b\": 2}))\n"
     ]
    }
   ],
   "source": [
    "if 2 < 3 and 4 < 3 or 0 < 1:  # 1 * 0 + 1\n",
    "    print('2 < 3 and 4 < 3 or 0 < 1')\n",
    "if 3 ** 2 > 2 ** 3 and 'car' != 'vehicle' and [1, 2, 3]:\n",
    "    print('3**2 > 2**3 and \"car\" != \"vehicle\" and [1,2,3]')\n",
    "if all((3 ** 2 > 2 ** 3, 'car' != 'vehicle', [1, 2, 3])):\n",
    "    print('all((3 ** 2 > 2 ** 3, \"car\" != \"vehicle\", [1, 2, 3]))')\n",
    "if 10 < 6 or len('ahahaha') > 50 or {'a': 1, 'b': 2}:\n",
    "    print('10 < 6 or len(\"ahahaha\") > 50 or {\"a\":1,\"b\":2}')\n",
    "if any((10 < 6, len('ahahaha') > 50, {'a': 1, 'b': 2})):\n",
    "    print('any((10 < 6, len(\"ahahaha\") > 50, {\"a\": 1,\"b\": 2}))')"
   ]
  },
  {
   "cell_type": "markdown",
   "metadata": {},
   "source": [
    "## if-elif-else practice"
   ]
  },
  {
   "cell_type": "markdown",
   "metadata": {},
   "source": [
    "### calculator"
   ]
  },
  {
   "cell_type": "code",
   "execution_count": null,
   "metadata": {},
   "outputs": [
    {
     "name": "stdout",
     "output_type": "stream",
     "text": [
      "1.6666666666666667\n"
     ]
    }
   ],
   "source": [
    "a = float(input('Введите первое число'))\n",
    "action = input('Введите действие')\n",
    "b = float(input('Введите второе число'))\n",
    "\n",
    "if action == '+':\n",
    "    result = a + b\n",
    "elif action == '-':\n",
    "    result = a - b\n",
    "elif action == '*':\n",
    "    result = a * b\n",
    "elif any(((action == '/'), (action == ':'), (action == '\\\\'))):\n",
    "    if b == 0:\n",
    "        print('На ноль делить нельзя')\n",
    "        exit()\n",
    "    result = a / b\n",
    "elif action == '%':\n",
    "    result = a % b\n",
    "elif action == '//':\n",
    "    result = a // b\n",
    "elif action == '^':\n",
    "    result = a ** b\n",
    "else:\n",
    "    result = 'Действия не существует'\n",
    "print(result)"
   ]
  },
  {
   "cell_type": "code",
   "execution_count": 101,
   "metadata": {},
   "outputs": [
    {
     "name": "stdout",
     "output_type": "stream",
     "text": [
      "13\n",
      "13\n",
      "\n",
      "0.30000000000000004\n",
      "0.30000000000000004\n"
     ]
    }
   ],
   "source": [
    "print(eval('3 + 2 * 5'))\n",
    "print(3 + 2 * 5)\n",
    "print()\n",
    "print(eval('0.1 + 0.2'))\n",
    "print(0.1 + 0.2)"
   ]
  },
  {
   "cell_type": "markdown",
   "metadata": {},
   "source": [
    "### mortgage 2.0"
   ]
  },
  {
   "cell_type": "markdown",
   "metadata": {},
   "source": [
    "![](images/mortgage.png)"
   ]
  },
  {
   "cell_type": "code",
   "execution_count": 4,
   "metadata": {},
   "outputs": [],
   "source": [
    "c = float(input('Введите сумму кредита: '))\n",
    "if c < 0:\n",
    "    print('Отрицательная сумма платежа не имеет смысла')\n",
    "    exit()\n",
    "\n",
    "m = float(input('Введите годовую ставку в %: '))  \n",
    "if m < 0:\n",
    "    print('Отрицательная ставка не имеет смысла')\n",
    "    exit()\n",
    "m = m / 100 / 12\n",
    "\n",
    "s = int(input('Введите срок кредита в годах: '))\n",
    "if s < 0 or s > 100:\n",
    "    print('Невалидный период кредита')\n",
    "    exit()\n",
    "s = s * 12"
   ]
  },
  {
   "cell_type": "code",
   "execution_count": 5,
   "metadata": {},
   "outputs": [
    {
     "name": "stdout",
     "output_type": "stream",
     "text": [
      "ануитетный платеж 38337559.27196366\n"
     ]
    }
   ],
   "source": [
    "k = (m * (1 + m) ** s) / ((1 + m) ** s - 1)\n",
    "x = c * k\n",
    "print('ануитетный платеж', x)"
   ]
  },
  {
   "cell_type": "markdown",
   "metadata": {},
   "source": [
    "### discriminant"
   ]
  },
  {
   "cell_type": "markdown",
   "metadata": {},
   "source": [
    "A * x**2 + B * x + C = 0"
   ]
  },
  {
   "cell_type": "code",
   "execution_count": null,
   "metadata": {},
   "outputs": [],
   "source": [
    "import math\n",
    "\n",
    "a = float(input('a = '))\n",
    "b = float(input('b = '))\n",
    "c = float(input('c = '))\n",
    "\n",
    "d = b ** 2 - 4 * a * c\n",
    "print('discriminant =', d)\n",
    "if d > 0:\n",
    "    print((-b - math.sqrt(d)) / (2 * a), \n",
    "          (-b + math.sqrt(d)) / (2 * a))\n",
    "elif d == 0:\n",
    "    print((-b) / (2 * a))\n",
    "else:\n",
    "    print(None)"
   ]
  },
  {
   "cell_type": "markdown",
   "metadata": {},
   "source": [
    "### triangle"
   ]
  },
  {
   "cell_type": "markdown",
   "metadata": {},
   "source": [
    "Треугольник существует, если сумма **любых** двух его сторон больше третьей "
   ]
  },
  {
   "cell_type": "code",
   "execution_count": null,
   "metadata": {},
   "outputs": [
    {
     "name": "stdout",
     "output_type": "stream",
     "text": [
      "False\n"
     ]
    }
   ],
   "source": [
    "# Вводятся длины сторон треугольника. \n",
    "# Проверить возможность существования треугольника!\n",
    "# Найти все углы и площадь треугольника! \n",
    "a, b, c = float(input()), float(input()), float(input())\n",
    "\n",
    "if ((a + b) > c) and ((a + c) > b) and ((c + b) > a):\n",
    "    is_triangle = True\n",
    "else:\n",
    "    is_triangle = False\n",
    "print(is_triangle)"
   ]
  },
  {
   "cell_type": "markdown",
   "metadata": {},
   "source": [
    "## cycles for & while"
   ]
  },
  {
   "cell_type": "markdown",
   "metadata": {},
   "source": [
    "Цикл = конструкция, позволяющая выполнять один код **несколько раз** "
   ]
  },
  {
   "cell_type": "markdown",
   "metadata": {},
   "source": [
    "![](./images/cycles.png)"
   ]
  },
  {
   "cell_type": "markdown",
   "metadata": {},
   "source": [
    "### for = цикл с параметром"
   ]
  },
  {
   "cell_type": "code",
   "execution_count": null,
   "metadata": {},
   "outputs": [],
   "source": [
    "'''\n",
    "for <index> in <condition>:\n",
    "    <cycle_body>  # тело цикла\n",
    "else:  # необязательно\n",
    "    pass  # то, что выполняется, если цикл заверщился без прерывания break\n",
    "''';"
   ]
  },
  {
   "cell_type": "markdown",
   "metadata": {},
   "source": [
    "`range(start: int, stop: int, step: int = 1)` = генератор ЦЕЛЫХ чисел от start ВКЛЮЧИТЕЛЬНО до stop НЕ ВКЛЮЧИТЕЛЬНО с шагом step"
   ]
  },
  {
   "cell_type": "code",
   "execution_count": null,
   "metadata": {},
   "outputs": [
    {
     "name": "stdout",
     "output_type": "stream",
     "text": [
      "2\n",
      "4\n",
      "6\n"
     ]
    }
   ],
   "source": [
    "for word in range(2, 8, 2):  # 2, 4, 6 \n",
    "    print(word)  # cycle_body"
   ]
  },
  {
   "cell_type": "code",
   "execution_count": null,
   "metadata": {},
   "outputs": [
    {
     "name": "stdout",
     "output_type": "stream",
     "text": [
      "2\n",
      "4\n",
      "6\n",
      "no break\n",
      "--------\n",
      "2\n"
     ]
    }
   ],
   "source": [
    "for word in range(2, 8, 2):\n",
    "    print(word)  # cycle_body\n",
    "else:\n",
    "    print(\"no break\")\n",
    "\n",
    "print('--------')\n",
    "\n",
    "for word in range(2, 8, 2):\n",
    "    print(word)  # cycle_body\n",
    "    break  # выход из ЦИКЛА\n",
    "else:\n",
    "    print(\"break\")"
   ]
  },
  {
   "cell_type": "code",
   "execution_count": null,
   "metadata": {},
   "outputs": [
    {
     "name": "stdout",
     "output_type": "stream",
     "text": [
      "10\n",
      "8\n",
      "6\n",
      "4\n",
      "2\n",
      "0\n",
      "-2\n",
      "-4\n",
      "-6\n",
      "-8\n"
     ]
    }
   ],
   "source": [
    "# Четные числа от start до stop ВКЛЮЧИТЕЛЬНО в обратном порядке\n",
    "\n",
    "start = 10\n",
    "stop = -8 - 1  # хотим включительно\n",
    "step = -2  # четные располагаются с шагом 2 в обратном порядке\n",
    "\n",
    "for word in range(start, stop, step):\n",
    "    print(word)"
   ]
  },
  {
   "cell_type": "code",
   "execution_count": 8,
   "metadata": {},
   "outputs": [
    {
     "name": "stdout",
     "output_type": "stream",
     "text": [
      "A\n",
      "B\n",
      "C\n",
      "D\n",
      "E\n",
      "G\n",
      "F\n",
      "G\n"
     ]
    }
   ],
   "source": [
    "for c in 'ABCDEGFG':  # параметр, сожержащий несколько значений\n",
    "    print(c)"
   ]
  },
  {
   "cell_type": "code",
   "execution_count": 17,
   "metadata": {},
   "outputs": [
    {
     "name": "stdout",
     "output_type": "stream",
     "text": [
      "123\n",
      "4.5\n",
      "5\n",
      "0\n",
      "True\n"
     ]
    }
   ],
   "source": [
    "for c in ('123', 4.5, 6-1, 0, 5**2 < 6**2):  # параметр, сожержащий несколько значений\n",
    "    print(c)"
   ]
  },
  {
   "cell_type": "markdown",
   "metadata": {},
   "source": [
    "### while = цикл с предусловием"
   ]
  },
  {
   "cell_type": "code",
   "execution_count": null,
   "metadata": {},
   "outputs": [],
   "source": [
    "'''\n",
    "while <condition>:\n",
    "    <cycle_body>  # тело цикла\n",
    "else:  # необязательно\n",
    "    pass  # то, что выполняется, если цикл заверщился без прерывания break\n",
    "''';"
   ]
  },
  {
   "cell_type": "code",
   "execution_count": null,
   "metadata": {},
   "outputs": [
    {
     "name": "stdout",
     "output_type": "stream",
     "text": [
      "I have 50 $\n",
      "I have 33 $\n",
      "I have no 17 $, I have only 16 $\n"
     ]
    }
   ],
   "source": [
    "price = 17\n",
    "money = 50\n",
    "while money > price:\n",
    "    print('I have', money, '$')\n",
    "    money = money - price\n",
    "print('I have no', price, '$, I have only', money, '$')"
   ]
  },
  {
   "cell_type": "code",
   "execution_count": null,
   "metadata": {},
   "outputs": [
    {
     "name": "stdout",
     "output_type": "stream",
     "text": [
      "I have 50 $\n",
      "I have 33 $\n",
      "no break\n",
      "--------\n",
      "I have 50 $\n"
     ]
    }
   ],
   "source": [
    "price = 17\n",
    "\n",
    "money = 50\n",
    "while money > price:\n",
    "    print('I have', money, '$')\n",
    "    money = money - price\n",
    "else:\n",
    "    print('no break')  # no break\n",
    "\n",
    "print('--------')\n",
    "\n",
    "money = 50\n",
    "while money > price:\n",
    "    print('I have', money, '$')\n",
    "    money = money - price\n",
    "    break\n",
    "else:\n",
    "    print('break')  # break"
   ]
  },
  {
   "cell_type": "markdown",
   "metadata": {},
   "source": [
    "### while = цикл с постусловием"
   ]
  },
  {
   "cell_type": "code",
   "execution_count": 5,
   "metadata": {},
   "outputs": [],
   "source": [
    "'''\n",
    "while True:  # бесконечный цикл\n",
    "    <cycle_body>  # тело цикла\n",
    "    if <break_condition>:  # условие выхода из цикла\n",
    "        break\n",
    "''';"
   ]
  },
  {
   "cell_type": "markdown",
   "metadata": {},
   "source": [
    "Защита от дурака"
   ]
  },
  {
   "cell_type": "code",
   "execution_count": 8,
   "metadata": {},
   "outputs": [
    {
     "name": "stdout",
     "output_type": "stream",
     "text": [
      "Вы еще не родились?\n",
      "Вы еще не родились?\n",
      "Вы еще не родились?\n",
      "Вы очень молоды!\n"
     ]
    }
   ],
   "source": [
    "while True:\n",
    "    age = int(input('Введите Ваш возраст: '))\n",
    "    if age > 0:\n",
    "        break\n",
    "    else:\n",
    "        print('Вы еще не родились?')\n",
    "print('Вы очень молоды!')"
   ]
  },
  {
   "cell_type": "markdown",
   "metadata": {},
   "source": [
    "## cycle practice"
   ]
  },
  {
   "cell_type": "markdown",
   "metadata": {},
   "source": [
    "### draw"
   ]
  },
  {
   "cell_type": "code",
   "execution_count": 1,
   "metadata": {},
   "outputs": [
    {
     "name": "stdout",
     "output_type": "stream",
     "text": [
      " \n",
      "1  \n",
      "2 2  \n",
      "3 3 3  \n",
      "4 4 4 4  \n",
      "5 5 5 5 5  \n"
     ]
    }
   ],
   "source": [
    "rows = 6\n",
    "for num in range(rows):\n",
    "    for i in range(num):\n",
    "        print(num, end=\" \") # вывод числа\n",
    "    # вывод пустой строки после каждой строки с числами для правильного отображения шаблона\n",
    "    print(\" \")"
   ]
  },
  {
   "cell_type": "code",
   "execution_count": null,
   "metadata": {},
   "outputs": [
    {
     "name": "stdout",
     "output_type": "stream",
     "text": [
      "1 1 1 1 1 \n",
      "2 2 2 2 \n",
      "3 3 3 \n",
      "4 4 \n",
      "5 \n"
     ]
    }
   ],
   "source": [
    "rows = 5\n",
    "b = 0\n",
    "for i in range(rows, 0, -1):\n",
    "    b += 1\n",
    "    for j in range(1, i + 1):\n",
    "        print(b, end=' ')\n",
    "    print('\\r')"
   ]
  },
  {
   "cell_type": "code",
   "execution_count": 3,
   "metadata": {},
   "outputs": [
    {
     "name": "stdout",
     "output_type": "stream",
     "text": [
      "1 \n",
      "1 2 \n",
      "1 2 3 \n",
      "1 2 3 4 \n",
      "1 2 3 4 5 \n"
     ]
    }
   ],
   "source": [
    "rows = 5\n",
    "for row in range(1, rows+1):\n",
    "    for column in range(1, row + 1):\n",
    "        print(column, end=' ')\n",
    "    print(\"\")"
   ]
  },
  {
   "cell_type": "code",
   "execution_count": 4,
   "metadata": {},
   "outputs": [
    {
     "name": "stdout",
     "output_type": "stream",
     "text": [
      "5 5 5 5 5 \n",
      "4 4 4 4 \n",
      "3 3 3 \n",
      "2 2 \n",
      "1 \n"
     ]
    }
   ],
   "source": [
    "rows = 5\n",
    "for i in range(rows, 0, -1):\n",
    "    num = i\n",
    "    for j in range(0, i):\n",
    "        print(num, end=' ')\n",
    "    print(\"\\r\")"
   ]
  },
  {
   "cell_type": "code",
   "execution_count": 5,
   "metadata": {},
   "outputs": [
    {
     "name": "stdout",
     "output_type": "stream",
     "text": [
      "1 \n",
      "2 3 4 \n",
      "5 6 7 8 9 \n"
     ]
    }
   ],
   "source": [
    "currentNumber = 1\n",
    "stop = 2\n",
    "rows = 3 # Количество строк, из которых состоит пирамида\n",
    "for i in range(rows):\n",
    "    for column in range(1, stop):\n",
    "        print(currentNumber, end=' ')\n",
    "        currentNumber += 1\n",
    "    print(\"\")\n",
    "    stop += 2"
   ]
  },
  {
   "cell_type": "code",
   "execution_count": 6,
   "metadata": {},
   "outputs": [
    {
     "name": "stdout",
     "output_type": "stream",
     "text": [
      "1 \n",
      "3 2 \n",
      "6 5 4 \n",
      "10 9 8 7 \n"
     ]
    }
   ],
   "source": [
    "start = 1\n",
    "stop = 2\n",
    "currentNumber = stop\n",
    "for row in range(2, 6):\n",
    "    for col in range(start, stop):\n",
    "        currentNumber -= 1\n",
    "        print(currentNumber, end=' ')\n",
    "    print(\"\")\n",
    "    start = stop\n",
    "    stop += row\n",
    "    currentNumber = stop"
   ]
  },
  {
   "cell_type": "code",
   "execution_count": 9,
   "metadata": {},
   "outputs": [
    {
     "name": "stdout",
     "output_type": "stream",
     "text": [
      "5 4 3 2 1 1 2 3 4 5 \n",
      "\n",
      "5 4 3 2 2 3 4 5 \n",
      "\n",
      "5 4 3 3 4 5 \n",
      "\n",
      "5 4 4 5 \n",
      "\n",
      "5 5 \n",
      "\n",
      "\n",
      "\n"
     ]
    }
   ],
   "source": [
    "rows = 6\n",
    "for i in range(0, rows):\n",
    "    for j in range(rows - 1, i, -1):\n",
    "        print(j, '', end='')\n",
    "    for l in range(i):\n",
    "        print('', end='')\n",
    "    for k in range(i + 1, rows):\n",
    "        print(k, '', end='')\n",
    "    print('\\n')"
   ]
  },
  {
   "cell_type": "code",
   "execution_count": 8,
   "metadata": {},
   "outputs": [
    {
     "name": "stdout",
     "output_type": "stream",
     "text": [
      "10 \n",
      "10 8 \n",
      "10 8 6 \n",
      "10 8 6 4 \n",
      "10 8 6 4 2 \n"
     ]
    }
   ],
   "source": [
    "rows = 5\n",
    "LastEvenNumber = 2 * rows\n",
    "evenNumber = LastEvenNumber\n",
    "for i in range(1, rows+1):\n",
    "    evenNumber = LastEvenNumber\n",
    "    for j in range(i):\n",
    "        print(evenNumber, end=' ')\n",
    "        evenNumber -= 2\n",
    "    print(\"\\r\")"
   ]
  },
  {
   "cell_type": "code",
   "execution_count": 10,
   "metadata": {},
   "outputs": [
    {
     "name": "stdout",
     "output_type": "stream",
     "text": [
      "0 \n",
      "0 1 \n",
      "0 2 4 \n",
      "0 3 6 9 \n",
      "0 4 8 12 16 \n",
      "0 5 10 15 20 25 \n",
      "0 6 12 18 24 30 36 \n"
     ]
    }
   ],
   "source": [
    "rows = 7\n",
    "for i in range(0, rows):\n",
    "    for j in range(0, i + 1):\n",
    "        print(i * j, end=' ')\n",
    "    print()"
   ]
  },
  {
   "cell_type": "code",
   "execution_count": 11,
   "metadata": {},
   "outputs": [
    {
     "name": "stdout",
     "output_type": "stream",
     "text": [
      "1 \n",
      "3 3 \n",
      "5 5 5 \n",
      "7 7 7 7 \n",
      "9 9 9 9 9 \n"
     ]
    }
   ],
   "source": [
    "rows = 5\n",
    "i = 1\n",
    "while i <= rows:\n",
    "    j = 1\n",
    "    while j <= i:\n",
    "        print((i * 2 - 1), end=\" \")\n",
    "        j = j + 1\n",
    "    i = i + 1\n",
    "    print()"
   ]
  },
  {
   "cell_type": "code",
   "execution_count": 12,
   "metadata": {},
   "outputs": [
    {
     "name": "stdout",
     "output_type": "stream",
     "text": [
      "          1 \n",
      "        1 2 \n",
      "      1 2 3 \n",
      "    1 2 3 4 \n",
      "  1 2 3 4 5 \n"
     ]
    }
   ],
   "source": [
    "rows = 6\n",
    "for row in range(1, rows):\n",
    "    num = 1\n",
    "    for j in range(rows, 0, -1):\n",
    "        if j > row:\n",
    "            print(\" \", end=' ')\n",
    "        else:\n",
    "            print(num, end=' ')\n",
    "            num += 1\n",
    "    print(\"\")"
   ]
  },
  {
   "cell_type": "code",
   "execution_count": 13,
   "metadata": {},
   "outputs": [
    {
     "name": "stdout",
     "output_type": "stream",
     "text": [
      "            *  \n",
      "           * *  \n",
      "          * * *  \n",
      "         * * * *  \n",
      "        * * * * *  \n",
      "       * * * * * *  \n",
      "      * * * * * * *  \n"
     ]
    }
   ],
   "source": [
    "size = 7\n",
    "m = (2 * size) - 2\n",
    "for i in range(0, size):\n",
    "    for j in range(0, m):\n",
    "        print(end=\" \")\n",
    "    m = m - 1 # уменьшение m после каждого прохода цикла\n",
    "    for j in range(0, i + 1):\n",
    "        # вывод пирамиды из звёздочек\n",
    "        print(\"*\", end=' ')\n",
    "    print(\" \")"
   ]
  },
  {
   "cell_type": "code",
   "execution_count": 14,
   "metadata": {},
   "outputs": [
    {
     "name": "stdout",
     "output_type": "stream",
     "text": [
      "        * * * * * * \n",
      "         * * * * * \n",
      "          * * * * \n",
      "           * * * \n",
      "            * * \n",
      "             * \n"
     ]
    }
   ],
   "source": [
    "rows = 5\n",
    "k = 2 * rows - 2\n",
    "for i in range(rows, -1, -1):\n",
    "    for j in range(k, 0, -1):\n",
    "        print(end=\" \")\n",
    "    k = k + 1\n",
    "    for j in range(0, i + 1):\n",
    "        print(\"*\", end=\" \")\n",
    "    print(\"\")"
   ]
  },
  {
   "cell_type": "code",
   "execution_count": 15,
   "metadata": {},
   "outputs": [
    {
     "name": "stdout",
     "output_type": "stream",
     "text": [
      "* \n",
      "* * \n",
      "* * * \n",
      "* * * * \n",
      "* * * * * \n"
     ]
    }
   ],
   "source": [
    "rows = 5\n",
    "for i in range(0, rows):\n",
    "    for j in range(0, i + 1):\n",
    "        print(\"*\", end=' ')\n",
    "    print(\"\\r\")"
   ]
  },
  {
   "cell_type": "markdown",
   "metadata": {},
   "source": [
    "### 1"
   ]
  },
  {
   "cell_type": "markdown",
   "metadata": {},
   "source": [
    "Сколько раз нужно сделать таких шагов начиная с 3, где каждый последующий имеет в трое больше предыдущего, чтобы достичь дистанции 1000?"
   ]
  },
  {
   "cell_type": "code",
   "execution_count": 27,
   "metadata": {},
   "outputs": [
    {
     "name": "stdout",
     "output_type": "stream",
     "text": [
      "шаг: 1 distance: 3\n",
      "шаг: 2 distance: 12\n",
      "шаг: 3 distance: 39\n",
      "шаг: 4 distance: 120\n",
      "шаг: 5 distance: 363\n",
      "шаг: 6 distance: 1092\n",
      "Количество таких шагов до 1000 было 6\n"
     ]
    }
   ],
   "source": [
    "distance = 0  # начальная дистанция\n",
    "step = 3  # начальный шаг\n",
    "count = 0  # количество шагов\n",
    "while True:\n",
    "    distance = distance + step\n",
    "    step = step * 3  # каждый последующий имеет в трое больше предыдущего\n",
    "    count = count + 1\n",
    "    print('шаг:', count, 'distance:', distance)\n",
    "    if distance >= 1000:  # break_condition\n",
    "        break\n",
    "print('Количество таких шагов до 1000 было', count)"
   ]
  },
  {
   "cell_type": "markdown",
   "metadata": {},
   "source": [
    "### 2"
   ]
  },
  {
   "cell_type": "markdown",
   "metadata": {},
   "source": [
    "Вывести все положительные делители вводимого числа"
   ]
  },
  {
   "cell_type": "code",
   "execution_count": 12,
   "metadata": {},
   "outputs": [
    {
     "name": "stdout",
     "output_type": "stream",
     "text": [
      "Все положительные делители числа 36\n",
      "1\n",
      "2\n",
      "3\n",
      "4\n",
      "6\n",
      "9\n",
      "12\n",
      "18\n",
      "36\n"
     ]
    }
   ],
   "source": [
    "n = int(input('Введите целое число'))\n",
    "print('Все положительные делители числа', n)\n",
    "for d in range(1, n+1):\n",
    "    if n % d == 0:\n",
    "        print(d)"
   ]
  },
  {
   "cell_type": "markdown",
   "metadata": {},
   "source": [
    "### 3"
   ]
  },
  {
   "cell_type": "markdown",
   "metadata": {},
   "source": [
    "Вводится текст. Вывести каждую 3 символ данного текста"
   ]
  },
  {
   "cell_type": "code",
   "execution_count": null,
   "metadata": {},
   "outputs": [
    {
     "name": "stdout",
     "output_type": "stream",
     "text": [
      "0\n",
      "3\n",
      "6\n",
      "9\n"
     ]
    }
   ],
   "source": [
    "text = input('Введите текст:')\n",
    "print(text)\n",
    "word = 0\n",
    "for c in text:\n",
    "    if word % 3 == 0:\n",
    "        print(c)\n",
    "    word = word + 1"
   ]
  },
  {
   "cell_type": "code",
   "execution_count": null,
   "metadata": {},
   "outputs": [
    {
     "name": "stdout",
     "output_type": "stream",
     "text": [
      "0123456789\n",
      "0\n",
      "3\n",
      "6\n",
      "9\n"
     ]
    }
   ],
   "source": [
    "text = input('Введите текст:')\n",
    "print(text)\n",
    "step = 3  # каждый 3\n",
    "for word in range(0, len(text), step):\n",
    "    print(text[word])"
   ]
  },
  {
   "cell_type": "markdown",
   "metadata": {},
   "source": [
    "### 4"
   ]
  },
  {
   "cell_type": "markdown",
   "metadata": {},
   "source": [
    "Вывести сумму чисел от 1 до введенного n"
   ]
  },
  {
   "cell_type": "code",
   "execution_count": null,
   "metadata": {},
   "outputs": [
    {
     "name": "stdout",
     "output_type": "stream",
     "text": [
      "n = -16\n",
      "Сумма чисел от 1 до -16 0\n"
     ]
    }
   ],
   "source": [
    "n = int(input())\n",
    "print('n =', n)\n",
    "result = 0\n",
    "for word in range(1, n+1):\n",
    "    result = result + word\n",
    "print('Сумма чисел от 1 до', n, result)"
   ]
  },
  {
   "cell_type": "markdown",
   "metadata": {},
   "source": [
    "### 5"
   ]
  },
  {
   "cell_type": "markdown",
   "metadata": {},
   "source": [
    "Вводится целое число. Необходимо вывести таблицу умножения от 0 до 20 на это число. \n",
    "\n",
    "Пример: n = 5\n",
    "- 0 * 5 = 0\n",
    "- 1 * 5 = 5\n",
    "- 2 * 5 = 10\n",
    "- и т. д."
   ]
  },
  {
   "cell_type": "code",
   "execution_count": null,
   "metadata": {},
   "outputs": [
    {
     "name": "stdout",
     "output_type": "stream",
     "text": [
      "0 * 3 = 0\n",
      "1 * 3 = 3\n",
      "2 * 3 = 6\n",
      "3 * 3 = 9\n",
      "4 * 3 = 12\n",
      "5 * 3 = 15\n",
      "6 * 3 = 18\n",
      "7 * 3 = 21\n",
      "8 * 3 = 24\n",
      "9 * 3 = 27\n",
      "10 * 3 = 30\n",
      "11 * 3 = 33\n",
      "12 * 3 = 36\n",
      "13 * 3 = 39\n",
      "14 * 3 = 42\n",
      "15 * 3 = 45\n",
      "16 * 3 = 48\n",
      "17 * 3 = 51\n",
      "18 * 3 = 54\n",
      "19 * 3 = 57\n",
      "20 * 3 = 60\n"
     ]
    }
   ],
   "source": [
    "n = int(input())\n",
    "for word in range(0, 20+1, 1):\n",
    "    print(word, '*', n, '=', word * n)"
   ]
  },
  {
   "cell_type": "markdown",
   "metadata": {},
   "source": [
    "### Факториал"
   ]
  },
  {
   "cell_type": "markdown",
   "metadata": {},
   "source": [
    "Вводится число n. Гарантируется что оно целое и больше нуля. Посчитать его факториал. Факториалом числа называется произведение всех чисел от 1 до N"
   ]
  },
  {
   "cell_type": "code",
   "execution_count": null,
   "metadata": {},
   "outputs": [],
   "source": [
    "n = int(input(\"Введите целое число больше нуля: \"))\n",
    "\n",
    "if n < 0:\n",
    "    print(\"Факториал отрицательного числа не определен.\")\n",
    "elif n == 0:\n",
    "    print(\"Факториал 0 равен 1\")\n",
    "else:\n",
    "    matem = 1\n",
    "    for word in range(1, n + 1):\n",
    "        matem = matem * word\n",
    "    print(\"Факториал\", n, \"равен\", matem)"
   ]
  },
  {
   "cell_type": "markdown",
   "metadata": {},
   "source": [
    "### Фибоначи"
   ]
  },
  {
   "cell_type": "markdown",
   "metadata": {},
   "source": [
    "Вводится число n. Гарантируется что оно целое и больше нуля. Вывести на экран n число Фибоначи"
   ]
  },
  {
   "cell_type": "code",
   "execution_count": null,
   "metadata": {},
   "outputs": [
    {
     "name": "stdout",
     "output_type": "stream",
     "text": [
      "0\n",
      "1\n",
      "2\n",
      "3\n",
      "5\n",
      "8\n",
      "13\n",
      "21\n",
      "34\n"
     ]
    }
   ],
   "source": [
    "n = int(input(\"Введите целое число больше нуля: \"))\n",
    "\n",
    "previos, next = 0, 1\n",
    "print(previos)\n",
    "for word in range(2, n):\n",
    "    previos, next = next, previos + next\n",
    "    print(next)"
   ]
  },
  {
   "cell_type": "markdown",
   "metadata": {},
   "source": [
    "### 6"
   ]
  },
  {
   "cell_type": "markdown",
   "metadata": {},
   "source": [
    "Решить задачу про улитку, которая днем поднимается на 3 см вверх по трубе, а ночью соскальзывает на 1 см вниз. Сколько суток надо улитке для преодоления 18 см?"
   ]
  },
  {
   "cell_type": "code",
   "execution_count": null,
   "metadata": {},
   "outputs": [
    {
     "name": "stdout",
     "output_type": "stream",
     "text": [
      "суток i = 9\n"
     ]
    }
   ],
   "source": [
    "up = 3\n",
    "down = 1\n",
    "end = 18\n",
    "\n",
    "length, word = 0, 0\n",
    "while length < end:\n",
    "    word = word + 1\n",
    "    length = length + up\n",
    "    if length >= end:\n",
    "        print(f'суток {word = }')\n",
    "        break\n",
    "    length = length - down"
   ]
  },
  {
   "cell_type": "markdown",
   "metadata": {},
   "source": [
    "### 7"
   ]
  },
  {
   "cell_type": "markdown",
   "metadata": {},
   "source": [
    "Спортсмен-лыжник начал тренировки, пробежав в первый день 10 км. Каждый следующий день он увеличивал длину пробега на P процентов от пробега предыдущего дня (P — вещественное, 0 < P < 50). По данному P определить, после какого дня суммарный пробег лыжника за все дни превысит 200 км, и вывести найденное количество дней K (целое) и суммарный пробег S (вещественное число)."
   ]
  },
  {
   "cell_type": "code",
   "execution_count": 2,
   "metadata": {},
   "outputs": [
    {
     "name": "stdout",
     "output_type": "stream",
     "text": [
      "day 1 distance 10 step 12.0\n",
      "day 2 distance 22.0 step 14.399999999999999\n",
      "day 3 distance 36.4 step 17.279999999999998\n",
      "day 4 distance 53.67999999999999 step 20.735999999999997\n",
      "day 5 distance 74.416 step 24.883199999999995\n",
      "day 6 distance 99.29919999999998 step 29.85983999999999\n",
      "day 7 distance 129.15903999999998 step 35.83180799999999\n",
      "day 8 distance 164.99084799999997 step 42.99816959999998\n",
      "day 9 distance 207.98901759999995 step 51.59780351999998\n"
     ]
    }
   ],
   "source": [
    "percent = int(input('increase %: '))\n",
    "fraction = percent / 100\n",
    "\n",
    "day = 0\n",
    "distance = 0\n",
    "stop = 200\n",
    "step = 10\n",
    "while distance <= stop:\n",
    "    day = day + 1\n",
    "    distance = distance + step\n",
    "    step = step * (1 + fraction)\n",
    "    print('day', day, 'distance', distance, 'step', step)"
   ]
  },
  {
   "cell_type": "markdown",
   "metadata": {},
   "source": [
    "### 8"
   ]
  },
  {
   "cell_type": "markdown",
   "metadata": {},
   "source": [
    "Вводится текст письма с клавиатуры. Написать модель оценки эмоциональности письма: посчитать долю восклицательных знаков ко всем предложениям в тексте. При условии, что эта доля больше 0.1 вывести на экран \"Важно!\", в противном случае - \"Спам\""
   ]
  },
  {
   "cell_type": "code",
   "execution_count": null,
   "metadata": {},
   "outputs": [
    {
     "name": "stdout",
     "output_type": "stream",
     "text": [
      "importance = 0.5\n",
      "Важно!\n"
     ]
    }
   ],
   "source": [
    "text1 = '''\n",
    "Тема: Поручения на ближайший период  \n",
    "\n",
    "Уважаемые коллеги, \n",
    "\n",
    "Надеюсь, у вас всё проходит хорошо! В связи с текущими задачами и планами развития проекта, хочу проинформировать вас о ключевых поручениях на ближайший период.  \n",
    "\n",
    "1. Оптимизация производительности системы  \n",
    "   Прошу команду backend-разработчиков провести анализ текущей нагрузки на серверы и предложить решения для оптимизации производительности. Особое внимание уделить обработке запросов в пиковые часы. Срок выполнения — до конца текущей недели.  \n",
    "2. Доработка пользовательского интерфейса  \n",
    "   Команде frontend-разработчиков необходимо внести изменения в интерфейс личного кабинета пользователя согласно последним правкам от дизайнеров. Прошу предоставить промежуточный результат для тестирования к среде.  \n",
    "3. Исправление багов  \n",
    "   Напоминаю о необходимости закрыть все критические баги, указанные в Jira. Прошу каждого ответственного разработчика обновить статус задач и при необходимости запросить помощь у коллег.  \n",
    "4. Подготовка к релизу новой функциональности  \n",
    "   Команде QA и разработчикам необходимо завершить тестирование новой функциональности (модуль аналитики) и подготовить документацию для релиза. Планируемая дата релиза — 10 марта.  \n",
    "5. Общее собрание команды  \n",
    "   В четверг в 11:00 состоится общее собрание, на котором мы обсудим текущие задачи, планы и возможные улучшения процессов. Прошу всех подготовить предложения и вопросы.  \n",
    "\n",
    "Если у вас есть вопросы или требуется дополнительная информация, не стесняйтесь обращаться ко мне или к тимлидам.  \n",
    "\n",
    "Спасибо за вашу работу и dedication!  \n",
    "\n",
    "С уважением,  \n",
    "Гражданков Андрей Сергеевич \n",
    "Исполнительный директор\n",
    "'''\n",
    "\n",
    "text2 = '''\n",
    "Тема: [Без темы]  \n",
    "\n",
    "Ребята, вы вообще *** с ума посходили?! Я *** не могу поверить, что вы тут творите! Какого *** вы пишете такой *** код, который потом даже сами не можете понять?!  \n",
    "Я тут не для того, чтобы каждую *** строчку вашего *** кода разжевывать и объяснять, как надо делать! Вы *** разработчики или кто? Или вы тут просто *** время теряете?  \n",
    "И что это за *** отношение к работе?! Никто ничего не делает, все только *** отмазываются и перекладывают ответственность! Я *** не детский сад тут руковожу, чтобы за каждым бегать и уговаривать работать!  \n",
    "Если к концу недели не увижу *** нормального кода и хотя бы попыток что-то исправить, то *** всем будет очень плохо! Я *** не шучу!  \n",
    "Разберитесь, ***, с этим бардаком и начните, наконец, работать как нормальные *** профессионалы.  \n",
    " \n",
    "P.S. И да, если кому-то не нравится, то *** дверь на выходе!  \n",
    "\n",
    "---\n",
    "\n",
    "AI-Примечание: Использование ненормативной лексики в профессиональной переписке крайне не рекомендуется, так как это может негативно сказаться на атмосфере в коллективе и репутации руководителя. Лучше использовать конструктивную критику и четко формулировать ожидания.\n",
    "'''\n",
    "threshold = 0.15\n",
    "a = 0 # count \"!\"\n",
    "sentences = 0 # count \"!\" or \".\" or \"?\"\n",
    "\n",
    "for symbol in text2:\n",
    "    if symbol == '!':\n",
    "        a = a + 1\n",
    "    if symbol == '.' or symbol == '?' or symbol == '!':\n",
    "        sentences = sentences + 1\n",
    "if sentences != 0:\n",
    "    importance = a / sentences\n",
    "    print('importance =', importance)\n",
    "    if importance >= threshold:\n",
    "        print('Важно!')\n",
    "    else:\n",
    "        print('Спам!')"
   ]
  },
  {
   "cell_type": "markdown",
   "metadata": {},
   "source": [
    "### mortgage 3.0"
   ]
  },
  {
   "cell_type": "markdown",
   "metadata": {},
   "source": [
    "![](images/mortgage.png)"
   ]
  },
  {
   "cell_type": "code",
   "execution_count": null,
   "metadata": {},
   "outputs": [
    {
     "name": "stdout",
     "output_type": "stream",
     "text": [
      "Вы ввели -50000.0\n",
      "Вы возможно ошиблись, повторите попытку\n",
      "Вы ввели 50000.0\n",
      "50000.0\n"
     ]
    }
   ],
   "source": [
    "while True:\n",
    "    c = float(input('Введите сумму кредита: '))\n",
    "    print('Вы ввели', c)\n",
    "    if c <= 0:\n",
    "        print('Вы возможно ошиблись, повторите попытку')\n",
    "    else:\n",
    "        break"
   ]
  },
  {
   "cell_type": "code",
   "execution_count": null,
   "metadata": {},
   "outputs": [],
   "source": [
    "if c < 0:\n",
    "    print('Отрицательная сумма платежа не имеет смысла')\n",
    "    exit()\n",
    "\n",
    "m = float(input('Введите годовую ставку в %: '))  \n",
    "if m < 0:\n",
    "    print('Отрицательная ставка не имеет смысла')\n",
    "    exit()\n",
    "m = m / 100 / 12\n",
    "\n",
    "s = int(input('Введите срок кредита в годах: '))\n",
    "if s < 0 or s > 100:\n",
    "    print('Невалидный период кредита')\n",
    "    exit()\n",
    "s = s * 12"
   ]
  },
  {
   "cell_type": "code",
   "execution_count": null,
   "metadata": {},
   "outputs": [],
   "source": [
    "k = (m * (1 + m) ** s) / ((1 + m) ** s - 1)\n",
    "x = c * k\n",
    "print('ануитетный платеж', x)"
   ]
  },
  {
   "cell_type": "markdown",
   "metadata": {},
   "source": [
    "### credit"
   ]
  },
  {
   "cell_type": "code",
   "execution_count": null,
   "metadata": {},
   "outputs": [],
   "source": [
    "import math\n",
    "\n",
    "S = float(input('Кредит (руб): '))\n",
    "q = float(input('Годовая процентная ставка (%): '))\n",
    "q = q / 12 / 100  # перевод в месячные доли\n",
    "d = float(input('Ежемесячные выплаты (руб): '))\n",
    "\n",
    "if S * (1 + q) - S > d:\n",
    "    print('\\nИпотека не выплатится НИКОГДА!')\n",
    "    exit()\n",
    "\n",
    "m = 0\n",
    "while (S >= 0) and (S != math.inf) and (m <= 40 * 12):\n",
    "    print()\n",
    "    m += 1\n",
    "    print('Год', (m // 12) + 1, 'Месяц', m)\n",
    "    print('Долг (руб):', round(S, 3))\n",
    "    S = S * (1 + q)\n",
    "    print('Долг после начисления процентов (руб):', round(S, 3))\n",
    "    S -= d\n",
    "    print('Долг после выплат (руб):', round(S, 3))"
   ]
  },
  {
   "cell_type": "markdown",
   "metadata": {},
   "source": [
    "### Begals"
   ]
  },
  {
   "cell_type": "markdown",
   "metadata": {},
   "source": [
    "Написать игру Бегалс. Программа \"загадывает\" целое число из диапазона от 0 до 100 (см. код ниже)\n",
    "\n",
    "import random\n",
    "\n",
    "n = random.randint(0,100)\n",
    "\n",
    "Далее в течении 10 попыток пользователь, вводя числа в компьютер, пытается угадать загаданное число. При каждой попытке программа выводит \"меньше\", если загаданное число меньше введенного, \"больше\", если загаданное число больше введенного, \"победа!\" при угадывании и \"поражение\" при истечении 10 попыток"
   ]
  },
  {
   "cell_type": "code",
   "execution_count": 96,
   "metadata": {},
   "outputs": [
    {
     "name": "stdout",
     "output_type": "stream",
     "text": [
      "\n",
      "Попытка 1\n",
      "Вы ввели 50\n",
      "Больше\n",
      "\n",
      "Попытка 2\n",
      "I need the int number!\n",
      "Вы ввели 75\n",
      "Меньше\n",
      "\n",
      "Попытка 3\n",
      "Вы ввели 65\n",
      "Больше\n",
      "\n",
      "Попытка 4\n",
      "Вы ввели 70\n",
      "Больше\n",
      "\n",
      "Попытка 5\n",
      "Вы ввели 72\n",
      "Больше\n",
      "\n",
      "Попытка 6\n",
      "Вы ввели 73\n",
      "Угадал!\n"
     ]
    }
   ],
   "source": [
    "import random\n",
    "\n",
    "number = random.randint(0, 100)\n",
    "\n",
    "count, max_count = 0, 10\n",
    "while True:\n",
    "    print() # для красоты\n",
    "\n",
    "    count = count + 1\n",
    "    print('Попытка', count) \n",
    "\n",
    "    while True:\n",
    "        n = input('Gess the number: ')\n",
    "        if n.isdigit():\n",
    "            n = int(n)\n",
    "            break\n",
    "        else:\n",
    "            print('I need the int number!')\n",
    "    print('Вы ввели', n)\n",
    "\n",
    "    if n < number: \n",
    "        print('Больше')\n",
    "    elif n > number: \n",
    "        print('Меньше')\n",
    "    else:\n",
    "        print('Угадал!')\n",
    "        break\n",
    "    \n",
    "    if count >= max_count:\n",
    "        print('Проиграл!')\n",
    "        break"
   ]
  },
  {
   "cell_type": "markdown",
   "metadata": {},
   "source": [
    "## str"
   ]
  },
  {
   "cell_type": "markdown",
   "metadata": {},
   "source": [
    "### Создание строк"
   ]
  },
  {
   "cell_type": "markdown",
   "metadata": {},
   "source": [
    "Главное, чтобы кавычки слева и справа были одинаковыми!"
   ]
  },
  {
   "cell_type": "code",
   "execution_count": null,
   "metadata": {},
   "outputs": [
    {
     "name": "stdout",
     "output_type": "stream",
     "text": [
      "str1\n",
      "\n",
      "str2\n",
      "\n",
      "str3\n",
      "\n",
      "str4\n",
      "\n",
      "\"цитата\"\n",
      "\n",
      "Люблю грозу в начале мая,\n",
      "Когда весенний зной,\n",
      "Как бы играясь ...\n",
      "\n",
      "Не выходи из комнаты.\n",
      "Не совершай ошибку.\n",
      "Зачем тебе Солнце,\n",
      "если ты куришь Шипку?\n"
     ]
    }
   ],
   "source": [
    "s1 = 'str1'\n",
    "s2 = \"str2\"\n",
    "s3 = '''str3'''\n",
    "s4 = \"\"\"str4\"\"\"\n",
    "s5 = '\"цитата\"'\n",
    "s6 = '''Люблю грозу в начале мая,\n",
    "Когда весенний зной,\n",
    "Как бы играясь ...'''\n",
    "s7 = \"\"\"Не выходи из комнаты.\n",
    "Не совершай ошибку.\n",
    "Зачем тебе Солнце,\n",
    "если ты куришь Шипку?\"\"\"\n",
    "\n",
    "print(s1, s2, s3, s4, s5, s6, s7, sep='\\n\\n')"
   ]
  },
  {
   "cell_type": "markdown",
   "metadata": {},
   "source": [
    "### Форматирование строк"
   ]
  },
  {
   "cell_type": "code",
   "execution_count": null,
   "metadata": {},
   "outputs": [
    {
     "name": "stdout",
     "output_type": "stream",
     "text": [
      "Введенное число = 3.141592653589793, имя = Nokia\n",
      "Введенное число = 3.141592653589793, имя = Nokia\n",
      "Имя = Nokia, число = 3.141592653589793\n",
      "debuging: num = 3.141592653589793\n",
      "formating:       3.14\n",
      "formating: 1.0000e+11\n",
      "pretty look: 100_000_000_000, 100,000,000,000\n",
      "filling: ###3.141592653589793\n",
      "filling: 3.141592653589793###\n",
      "filling: #3.141592653589793##\n"
     ]
    }
   ],
   "source": [
    "big_num = 100000000000\n",
    "num = 3.1415926535897932\n",
    "name = 'Nokia'\n",
    "\n",
    "print(f'Введенное число = {num}, имя = {name}')  # f-строки\n",
    "print('Введенное число = {}, имя = {}'.format(num, name))  # строго в том же порядке (РУДИМЕНТ)\n",
    "print('Имя = {1}, число = {0}'.format(num, name))  # указание индекса вставки (РУДИМЕНТ)\n",
    "print(f'debuging: {num = }')  # вывод значения вместе с названием переменной\n",
    "print(f'formating: {num:10.2f}')  # добавление/отсечка количества символов в целой и дробной частях \n",
    "print(f'formating: {big_num:.4e}')  # представление в степенном формате с указанием количетва дробной части \n",
    "print(f'pretty look: {big_num:_}, {big_num:,}')  # удобочимтаемость больших чисел\n",
    "print(f'filling: {num:#>20}')  # заполение # слева до 20 символов в сумме\n",
    "print(f'filling: {num:#<20}')  # заполение # справа до 20 символов в сумме\n",
    "print(f'filling: {num:#^20}')  # заполение # побокам до 20 символов в сумме"
   ]
  },
  {
   "cell_type": "markdown",
   "metadata": {},
   "source": [
    "### Экранированные символы"
   ]
  },
  {
   "cell_type": "markdown",
   "metadata": {},
   "source": [
    "- `\\` в самом конце строки = строка продолжается на новой строке, а сам символ игнорируется\n",
    "- `\\\\` = символ обратного слеша (остается один символ \\)\n",
    "- `\\'` = апостроф (остается один ‘)\n",
    "- `\\\"` = кавычка (остается один символ \")\n",
    "- `\\n` = новая строка (перевод строки)\n",
    "- `\\r` = возврат курсора в начало текущей строки\n",
    "- `\\t` = горизонтальная табуляция (4 пробела)\n",
    "- `\\u…` = 16-битовый символ Юникода в 16-ричном представлении\n",
    "- `\\U…` = 32-битовый символ Юникода в 32-ричном представлении\n",
    "- `\\x…` = 16-ричное значение\n",
    "- `\\o…` = 8-ричное значение\n",
    "- `\\0` = cимвол Null (не признак конца строки)"
   ]
  },
  {
   "cell_type": "code",
   "execution_count": 45,
   "metadata": {},
   "outputs": [
    {
     "name": "stdout",
     "output_type": "stream",
     "text": [
      "\\\n"
     ]
    }
   ],
   "source": [
    "print('\\\\')"
   ]
  },
  {
   "cell_type": "code",
   "execution_count": 46,
   "metadata": {},
   "outputs": [
    {
     "name": "stdout",
     "output_type": "stream",
     "text": [
      "'\n"
     ]
    }
   ],
   "source": [
    "print('\\'')"
   ]
  },
  {
   "cell_type": "code",
   "execution_count": 47,
   "metadata": {},
   "outputs": [
    {
     "name": "stdout",
     "output_type": "stream",
     "text": [
      "\"\n"
     ]
    }
   ],
   "source": [
    "print('\\\"')"
   ]
  },
  {
   "cell_type": "code",
   "execution_count": 80,
   "metadata": {},
   "outputs": [
    {
     "name": "stdout",
     "output_type": "stream",
     "text": [
      "первая строка\n",
      "вторая строка\n"
     ]
    }
   ],
   "source": [
    "print('первая строка\\nвторая строка')"
   ]
  },
  {
   "cell_type": "code",
   "execution_count": 81,
   "metadata": {},
   "outputs": [
    {
     "name": "stdout",
     "output_type": "stream",
     "text": [
      "до табуляции\tпосле табуляции\n"
     ]
    }
   ],
   "source": [
    "print('до табуляции\\tпосле табуляции')"
   ]
  },
  {
   "cell_type": "code",
   "execution_count": 82,
   "metadata": {},
   "outputs": [
    {
     "name": "stdout",
     "output_type": "stream",
     "text": [
      "короткое предложениеиииииииииинное предложение\n"
     ]
    }
   ],
   "source": [
    "print('длиииииииииииииииииииииииииииинное предложение\\rкороткое предложение')"
   ]
  },
  {
   "cell_type": "code",
   "execution_count": 83,
   "metadata": {},
   "outputs": [
    {
     "name": "stdout",
     "output_type": "stream",
     "text": [
      "Null = \u0000 = это ничего\n"
     ]
    }
   ],
   "source": [
    "print('Null = \\0 = это ничего' )"
   ]
  },
  {
   "cell_type": "markdown",
   "metadata": {},
   "source": [
    "### Конкатенация (сложение)"
   ]
  },
  {
   "cell_type": "code",
   "execution_count": 14,
   "metadata": {},
   "outputs": [
    {
     "name": "stdout",
     "output_type": "stream",
     "text": [
      "spameggs\n"
     ]
    }
   ],
   "source": [
    "s1 = 'spam'\n",
    "s2 = 'eggs'\n",
    "print(s1 + s2)"
   ]
  },
  {
   "cell_type": "markdown",
   "metadata": {},
   "source": [
    "### Дублирование строки"
   ]
  },
  {
   "cell_type": "markdown",
   "metadata": {},
   "source": [
    "Строку можно умножать только на целое (int) число!"
   ]
  },
  {
   "cell_type": "code",
   "execution_count": 6,
   "metadata": {},
   "outputs": [
    {
     "name": "stdout",
     "output_type": "stream",
     "text": [
      "spamspamspamspamspam\n"
     ]
    }
   ],
   "source": [
    "print('spam' * 5)"
   ]
  },
  {
   "cell_type": "markdown",
   "metadata": {},
   "source": [
    "### Длина строки"
   ]
  },
  {
   "cell_type": "code",
   "execution_count": 15,
   "metadata": {},
   "outputs": [
    {
     "name": "stdout",
     "output_type": "stream",
     "text": [
      "Длина строчки \"spam\" = 4, считая с 1!\n"
     ]
    }
   ],
   "source": [
    "s = \"spam\"\n",
    "print(f'Длина строчки \"{s}\" = {len(s)}, считая с 1!')"
   ]
  },
  {
   "cell_type": "markdown",
   "metadata": {},
   "source": [
    "### Индексы"
   ]
  },
  {
   "cell_type": "code",
   "execution_count": null,
   "metadata": {},
   "outputs": [
    {
     "name": "stdout",
     "output_type": "stream",
     "text": [
      "s = 'spam'\n",
      "s[0] = 's'\n",
      "s[2] = 'a'\n",
      "s[-2] = 'a'\n",
      "Как видно из примера, в Python возможен и доступ по отрицательному индексу, при этом отсчет идет от конца строки\n",
      "\n",
      " 0  1  2  3\n",
      " s  p  a  m\n",
      "-4 -3 -2 -1\n",
      "\n",
      "-5 и ниже, а также 4 и выше индексов не существует в данном случае\n"
     ]
    }
   ],
   "source": [
    "s = 'spam'\n",
    "print(f'{s = }')\n",
    "print(f'{s[0] = }')   # первый по счету = 0 индекс\n",
    "print(f'{s[2] = }')\n",
    "print(f'{s[-2] = }')\n",
    "print('Как видно из примера, в Python возможен и доступ по отрицательному индексу, при этом отсчет идет от конца строки')\n",
    "example = '''\n",
    " 0  1  2  3\n",
    " s  p  a  m\n",
    "-4 -3 -2 -1\n",
    "'''\n",
    "print(example)\n",
    "print('-5 и ниже, а также 4 и выше индексов не существует в данном случае')"
   ]
  },
  {
   "cell_type": "markdown",
   "metadata": {},
   "source": [
    "### Срезы"
   ]
  },
  {
   "cell_type": "markdown",
   "metadata": {},
   "source": [
    "Оператор извлечения среза: [start:stop:step].'\n",
    "- start – индекс начала среза\n",
    "- stop – индекс конца среза НЕВКЛЮЧИТЕЛЬНО!\n",
    "- step - шаг\n",
    "\n",
    "По умолчанию: start = 0, stop = -1, step = 1"
   ]
  },
  {
   "cell_type": "code",
   "execution_count": 7,
   "metadata": {},
   "outputs": [
    {
     "name": "stdout",
     "output_type": "stream",
     "text": [
      "s = 'abcdefghijklmnopqrstuvwxyz'\n",
      "s[3:5] = 'de'\n",
      "s[2:-2] = 'cdefghijklmnopqrstuvwx'\n",
      "s[:5+1] = 'abcdef'\n",
      "s[1:] = 'bcdefghijklmnopqrstuvwxyz'\n",
      "s[::] = 'abcdefghijklmnopqrstuvwxyz'\n",
      "Кроме того, можно задать шаг, с которым нужно извлекать срез.\n",
      "s[::-1] = 'zyxwvutsrqponmlkjihgfedcba'\n",
      "s[3:5:-1] = ''\n",
      "s[2::2] = 'cegikmoqsuwy'\n"
     ]
    }
   ],
   "source": [
    "s = 'abcdefghijklmnopqrstuvwxyz'\n",
    "print(f'{s = }')\n",
    "print(f'{s[3:5] = }')\n",
    "print(f'{s[2:-2] = }')\n",
    "print(f'{s[:5+1] = }')  # = s[0:6]\n",
    "print(f'{s[1:] = }')  # = s[1:-1] = s[1:len(s)-1]\n",
    "print(f'{s[::] = }')  # копия строки\n",
    "print('Кроме того, можно задать шаг, с которым нужно извлекать срез.')\n",
    "print(f'{s[::-1] = }')  # реверс элементов\n",
    "print(f'{s[3:5:-1] = }')\n",
    "print(f'{s[2::2] = }')"
   ]
  },
  {
   "cell_type": "markdown",
   "metadata": {},
   "source": [
    "**При вызове методов необходимо помнить,\n",
    "что строки в Python относятся к категории неизменяемых последовательностей,\n",
    "то есть все функции и методы могут лишь создавать новую строку!!!**"
   ]
  },
  {
   "cell_type": "code",
   "execution_count": 8,
   "metadata": {},
   "outputs": [
    {
     "name": "stdout",
     "output_type": "stream",
     "text": [
      "p\n"
     ]
    },
    {
     "ename": "TypeError",
     "evalue": "'str' object does not support item assignment",
     "output_type": "error",
     "traceback": [
      "\u001b[1;31m---------------------------------------------------------------------------\u001b[0m",
      "\u001b[1;31mTypeError\u001b[0m                                 Traceback (most recent call last)",
      "Cell \u001b[1;32mIn[8], line 3\u001b[0m\n\u001b[0;32m      1\u001b[0m s \u001b[38;5;241m=\u001b[39m \u001b[38;5;124m'\u001b[39m\u001b[38;5;124mspam\u001b[39m\u001b[38;5;124m'\u001b[39m\n\u001b[0;32m      2\u001b[0m \u001b[38;5;28mprint\u001b[39m(s[\u001b[38;5;241m1\u001b[39m])\n\u001b[1;32m----> 3\u001b[0m \u001b[43ms\u001b[49m\u001b[43m[\u001b[49m\u001b[38;5;241;43m1\u001b[39;49m\u001b[43m]\u001b[49m \u001b[38;5;241m=\u001b[39m \u001b[38;5;124m'\u001b[39m\u001b[38;5;124mb\u001b[39m\u001b[38;5;124m'\u001b[39m\n",
      "\u001b[1;31mTypeError\u001b[0m: 'str' object does not support item assignment"
     ]
    }
   ],
   "source": [
    "s = 'spam'\n",
    "print(s[1])\n",
    "s[1] = 'b'"
   ]
  },
  {
   "cell_type": "code",
   "execution_count": 54,
   "metadata": {},
   "outputs": [
    {
     "name": "stdout",
     "output_type": "stream",
     "text": [
      "s = 'spam', s_new = 'sbam'\n"
     ]
    }
   ],
   "source": [
    "s_new = s[0] + 'b' + s[2:]\n",
    "print(f'{s = }, {s_new = }')"
   ]
  },
  {
   "cell_type": "code",
   "execution_count": 37,
   "metadata": {},
   "outputs": [
    {
     "name": "stdout",
     "output_type": "stream",
     "text": [
      "Экранированные символы C:\temp\n",
      "ew\n",
      "Подавление экранирования: C:\\temp\\new\n"
     ]
    }
   ],
   "source": [
    "print('Экранированные символы', \"C:\\temp\\new\")\n",
    "print('Подавление экранирования:', r\"C:\\temp\\new\")  # r-строка"
   ]
  },
  {
   "cell_type": "markdown",
   "metadata": {},
   "source": [
    "### find"
   ]
  },
  {
   "cell_type": "markdown",
   "metadata": {},
   "source": [
    "Поиск подстроки в строке. Возвращает номер **первого** вхождения или -1 при отсутствии вхождения подстроки \n",
    "\n",
    "- `find(str, start = 0, end = -1)` = поиск слева направо\n",
    "- `rfind(str, start = 0, end = -1)` = поиск справа налево"
   ]
  },
  {
   "cell_type": "code",
   "execution_count": 38,
   "metadata": {},
   "outputs": [
    {
     "name": "stdout",
     "output_type": "stream",
     "text": [
      "S.find(str, [start], [end])\n",
      "1\n",
      "11\n",
      "-1\n",
      "S.rfind(str, [start], [end])\n",
      "16\n",
      "11\n",
      "-1\n"
     ]
    }
   ],
   "source": [
    "s = 'мама мыла раму мама'\n",
    "\n",
    "print('S.find(str, [start], [end])')\n",
    "print(s.find('ам'))\n",
    "print(s.find('ам', 2, -3))\n",
    "print(s.find('мвл', 2, -3))\n",
    "\n",
    "print('S.rfind(str, [start], [end])')\n",
    "print(s.rfind('ам'))\n",
    "print(s.rfind('ам', 2, -3))\n",
    "print(s.rfind('мвл', 2, -3))"
   ]
  },
  {
   "cell_type": "markdown",
   "metadata": {},
   "source": [
    "### index"
   ]
  },
  {
   "cell_type": "markdown",
   "metadata": {},
   "source": [
    "Поиск подстроки в строке. Возвращает номер **первого** вхождения или вызывает `ValueError` при ненахождении\n",
    "- index = поиск слева\n",
    "- rindex = поиск справа"
   ]
  },
  {
   "cell_type": "code",
   "execution_count": 35,
   "metadata": {},
   "outputs": [
    {
     "name": "stdout",
     "output_type": "stream",
     "text": [
      "S.index(str, [start],[end])\n",
      "2\n"
     ]
    },
    {
     "ename": "ValueError",
     "evalue": "substring not found",
     "output_type": "error",
     "traceback": [
      "\u001b[1;31m---------------------------------------------------------------------------\u001b[0m",
      "\u001b[1;31mValueError\u001b[0m                                Traceback (most recent call last)",
      "Cell \u001b[1;32mIn[35], line 5\u001b[0m\n\u001b[0;32m      3\u001b[0m \u001b[38;5;28mprint\u001b[39m(\u001b[38;5;124m'\u001b[39m\u001b[38;5;124mS.index(str, [start],[end])\u001b[39m\u001b[38;5;124m'\u001b[39m)\n\u001b[0;32m      4\u001b[0m \u001b[38;5;28mprint\u001b[39m(s\u001b[38;5;241m.\u001b[39mindex(\u001b[38;5;124m'\u001b[39m\u001b[38;5;124mлук\u001b[39m\u001b[38;5;124m'\u001b[39m, \u001b[38;5;241m1\u001b[39m, \u001b[38;5;241m12\u001b[39m))\n\u001b[1;32m----> 5\u001b[0m \u001b[38;5;28mprint\u001b[39m(\u001b[43ms\u001b[49m\u001b[38;5;241;43m.\u001b[39;49m\u001b[43mindex\u001b[49m\u001b[43m(\u001b[49m\u001b[38;5;124;43m'\u001b[39;49m\u001b[38;5;124;43mпук\u001b[39;49m\u001b[38;5;124;43m'\u001b[39;49m\u001b[43m)\u001b[49m)\n",
      "\u001b[1;31mValueError\u001b[0m: substring not found"
     ]
    }
   ],
   "source": [
    "s = 'У лукоморья дуб зеленый'\n",
    "\n",
    "print('S.index(str, [start],[end])')\n",
    "print(s.index('лук', 1, 12))\n",
    "print(s.index('пук'))"
   ]
  },
  {
   "cell_type": "code",
   "execution_count": 36,
   "metadata": {},
   "outputs": [
    {
     "name": "stdout",
     "output_type": "stream",
     "text": [
      "S.rindex(str, [start],[end])\n",
      "13\n"
     ]
    },
    {
     "ename": "ValueError",
     "evalue": "substring not found",
     "output_type": "error",
     "traceback": [
      "\u001b[1;31m---------------------------------------------------------------------------\u001b[0m",
      "\u001b[1;31mValueError\u001b[0m                                Traceback (most recent call last)",
      "Cell \u001b[1;32mIn[36], line 5\u001b[0m\n\u001b[0;32m      3\u001b[0m \u001b[38;5;28mprint\u001b[39m(\u001b[38;5;124m'\u001b[39m\u001b[38;5;124mS.rindex(str, [start],[end])\u001b[39m\u001b[38;5;124m'\u001b[39m)\n\u001b[0;32m      4\u001b[0m \u001b[38;5;28mprint\u001b[39m(s\u001b[38;5;241m.\u001b[39mrindex(\u001b[38;5;124m'\u001b[39m\u001b[38;5;124mу\u001b[39m\u001b[38;5;124m'\u001b[39m, \u001b[38;5;241m1\u001b[39m, \u001b[38;5;241m16\u001b[39m))\n\u001b[1;32m----> 5\u001b[0m \u001b[38;5;28mprint\u001b[39m(\u001b[43ms\u001b[49m\u001b[38;5;241;43m.\u001b[39;49m\u001b[43mrindex\u001b[49m\u001b[43m(\u001b[49m\u001b[38;5;124;43m'\u001b[39;49m\u001b[38;5;124;43mа\u001b[39;49m\u001b[38;5;124;43m'\u001b[39;49m\u001b[43m)\u001b[49m)\n",
      "\u001b[1;31mValueError\u001b[0m: substring not found"
     ]
    }
   ],
   "source": [
    "s = 'У лукоморья дуб зеленый'\n",
    "\n",
    "print('S.rindex(str, [start],[end])')\n",
    "print(s.rindex('у', 1, 16))\n",
    "print(s.rindex('а'))"
   ]
  },
  {
   "cell_type": "markdown",
   "metadata": {},
   "source": [
    "### replace"
   ]
  },
  {
   "cell_type": "markdown",
   "metadata": {},
   "source": [
    "`replace(old, new, count = -1)` = замена подстроки `old` на подстроку `new` шаблона с `count` количеством раз\n",
    "По умолчанию count = -1 (все)"
   ]
  },
  {
   "cell_type": "code",
   "execution_count": null,
   "metadata": {},
   "outputs": [
    {
     "name": "stdout",
     "output_type": "stream",
     "text": [
      "Бля, привет, пойдем кодить?\n",
      "Юля, привет, пойдем кодить?\n"
     ]
    }
   ],
   "source": [
    "s = 'Бля, привет, пойдем кодить?'\n",
    "print(s)\n",
    "print(s.replace('Б', 'Ю', 1))"
   ]
  },
  {
   "cell_type": "markdown",
   "metadata": {},
   "source": [
    "### split"
   ]
  },
  {
   "cell_type": "markdown",
   "metadata": {},
   "source": [
    "`split(sep = ' ')` = разбиение строки по разделителю `sep`"
   ]
  },
  {
   "cell_type": "code",
   "execution_count": 11,
   "metadata": {},
   "outputs": [
    {
     "name": "stdout",
     "output_type": "stream",
     "text": [
      "['Скажи ка дядя', 'ведь не даром ...']\n",
      "['Скажи', 'ка', 'дядя,', 'ведь', 'не', 'даром', '...']\n"
     ]
    }
   ],
   "source": [
    "s = 'Скажи ка дядя, ведь не даром ...'\n",
    "print(s.split(', '))\n",
    "print(s.split())"
   ]
  },
  {
   "cell_type": "markdown",
   "metadata": {},
   "source": [
    "### isdigit"
   ]
  },
  {
   "cell_type": "markdown",
   "metadata": {},
   "source": [
    "`isdigit()` = Проверка состоит ли строка из одних только ЦИФР"
   ]
  },
  {
   "cell_type": "code",
   "execution_count": 38,
   "metadata": {},
   "outputs": [
    {
     "name": "stdout",
     "output_type": "stream",
     "text": [
      "True\n",
      "False\n",
      "False\n"
     ]
    }
   ],
   "source": [
    "s = '0123456789'\n",
    "\n",
    "print(s.isdigit())\n",
    "print((s + ' ').isdigit())\n",
    "print((s + '.').isdigit())"
   ]
  },
  {
   "cell_type": "markdown",
   "metadata": {},
   "source": [
    "### isalpha"
   ]
  },
  {
   "cell_type": "markdown",
   "metadata": {},
   "source": [
    "`isalpha()` = Проверка состоит ли строка из одних только БУКВ"
   ]
  },
  {
   "cell_type": "code",
   "execution_count": null,
   "metadata": {},
   "outputs": [
    {
     "name": "stdout",
     "output_type": "stream",
     "text": [
      "True\n",
      "False\n",
      "False\n"
     ]
    }
   ],
   "source": [
    "s = 'фываолдж'\n",
    "\n",
    "print(s.isalpha())\n",
    "print((s + '.').isalpha())\n",
    "print((s + '1').isalpha())"
   ]
  },
  {
   "cell_type": "markdown",
   "metadata": {},
   "source": [
    "### isalnum"
   ]
  },
  {
   "cell_type": "markdown",
   "metadata": {},
   "source": [
    "`isalnum()` = Проверка состоит ли строка из одних только БУКВ или ЦИФР"
   ]
  },
  {
   "cell_type": "code",
   "execution_count": 48,
   "metadata": {},
   "outputs": [
    {
     "name": "stdout",
     "output_type": "stream",
     "text": [
      "True\n",
      "False\n"
     ]
    }
   ],
   "source": [
    "s = '0123456789' + 'фываолдж'\n",
    "\n",
    "print(s.isalnum())\n",
    "print((s + '#').isalnum())"
   ]
  },
  {
   "cell_type": "markdown",
   "metadata": {},
   "source": [
    "### isupper & islower and lower & upper"
   ]
  },
  {
   "cell_type": "markdown",
   "metadata": {},
   "source": [
    "- `isupper() и islower()` = проверка на верхний или нижний регистр\n",
    "- upper(lower) = насильный перевод в верхний(нижний) регистр"
   ]
  },
  {
   "cell_type": "code",
   "execution_count": null,
   "metadata": {},
   "outputs": [
    {
     "name": "stdout",
     "output_type": "stream",
     "text": [
      "False\n",
      "False\n",
      "ленин жил, ленин жив, ленин будет жить!\n",
      "ЛЕНИН ЖИЛ, ЛЕНИН ЖИВ, ЛЕНИН БУДЕТ ЖИТЬ!\n"
     ]
    }
   ],
   "source": [
    "s = 'Ленин жил, Ленин жив, Ленин будет жить!'\n",
    "\n",
    "print(s.islower())\n",
    "print(s.isupper())\n",
    "\n",
    "print(s.lower())\n",
    "print(s.upper())"
   ]
  },
  {
   "cell_type": "markdown",
   "metadata": {},
   "source": [
    "### isspace"
   ]
  },
  {
   "cell_type": "markdown",
   "metadata": {},
   "source": [
    "Проверка состоит ли строка из неотображаемых символов: пробел, \\f, \\n, \\r, \\t, \\v"
   ]
  },
  {
   "cell_type": "code",
   "execution_count": 51,
   "metadata": {},
   "outputs": [
    {
     "name": "stdout",
     "output_type": "stream",
     "text": [
      "True\n",
      "False\n"
     ]
    }
   ],
   "source": [
    "s = \"\\f\\r\\v\\t\\n\"\n",
    "\n",
    "print(s.isspace())\n",
    "print((s + 'C:').isspace())"
   ]
  },
  {
   "cell_type": "markdown",
   "metadata": {},
   "source": [
    "### istitle"
   ]
  },
  {
   "cell_type": "markdown",
   "metadata": {},
   "source": [
    "Проверка начинаются ли ВСЕ **слова** в строке с заглавной буквы"
   ]
  },
  {
   "cell_type": "code",
   "execution_count": null,
   "metadata": {},
   "outputs": [
    {
     "name": "stdout",
     "output_type": "stream",
     "text": [
      "True\n",
      "False\n"
     ]
    }
   ],
   "source": [
    "s = 'Hello World!'\n",
    "\n",
    "print(s.istitle())\n",
    "print((s + ' mine').istitle())"
   ]
  },
  {
   "cell_type": "markdown",
   "metadata": {},
   "source": [
    "### startswith & endswith"
   ]
  },
  {
   "cell_type": "markdown",
   "metadata": {},
   "source": [
    "- `startswith(prefix)` = Проверка начинается ли строка с подстроки `prefix`\n",
    "- `endswith(suffix)` = Проверка заканчивается ли строка с подстроки `suffix`"
   ]
  },
  {
   "cell_type": "code",
   "execution_count": 54,
   "metadata": {},
   "outputs": [
    {
     "name": "stdout",
     "output_type": "stream",
     "text": [
      "True\n",
      "False\n"
     ]
    }
   ],
   "source": [
    "s = r'C:\\temp\\new'\n",
    "\n",
    "print(s.startswith('C:'))\n",
    "print(s.startswith('D:'))"
   ]
  },
  {
   "cell_type": "code",
   "execution_count": 53,
   "metadata": {},
   "outputs": [
    {
     "name": "stdout",
     "output_type": "stream",
     "text": [
      "True\n",
      "False\n"
     ]
    }
   ],
   "source": [
    "s = 'The end.'\n",
    "\n",
    "print(s.endswith('.'))\n",
    "print(s.endswith('!'))"
   ]
  },
  {
   "cell_type": "markdown",
   "metadata": {},
   "source": [
    "### join"
   ]
  },
  {
   "cell_type": "markdown",
   "metadata": {},
   "source": [
    "`sep.join(iterable)` = Сборка строки из `iterable`, содеждащий другие **строчки** с разделителем `sep`"
   ]
  },
  {
   "cell_type": "code",
   "execution_count": null,
   "metadata": {},
   "outputs": [
    {
     "name": "stdout",
     "output_type": "stream",
     "text": [
      "1+2+5\n"
     ]
    }
   ],
   "source": [
    "result = ['1', '2', '5']\n",
    "\n",
    "print('+'.join(result))"
   ]
  },
  {
   "cell_type": "markdown",
   "metadata": {},
   "source": [
    "### chr & ord"
   ]
  },
  {
   "cell_type": "markdown",
   "metadata": {},
   "source": [
    "- `chr(i)` = взятие символа из таблицы ASCII по номеру `i`\n",
    "- `ord(c)` = получение номера из таблицы ASCII по символу `c`"
   ]
  },
  {
   "cell_type": "code",
   "execution_count": 73,
   "metadata": {},
   "outputs": [
    {
     "name": "stdout",
     "output_type": "stream",
     "text": [
      "ОДИН символ в его код ASCII 35\n",
      "Код ASCII в символ #\n"
     ]
    }
   ],
   "source": [
    "print('ОДИН символ в его код ASCII', ord('#'))\n",
    "print('Код ASCII в символ', chr(35))"
   ]
  },
  {
   "cell_type": "markdown",
   "metadata": {},
   "source": [
    "### capitalize"
   ]
  },
  {
   "cell_type": "code",
   "execution_count": 47,
   "metadata": {},
   "outputs": [
    {
     "name": "stdout",
     "output_type": "stream",
     "text": [
      "у меня сломалась кнопка \"SHIFT\"!\n",
      "Переводит первый символ строки в верхний регистр, а все остальные в нижний\n",
      "У меня сломалась кнопка \"shift\"!\n"
     ]
    }
   ],
   "source": [
    "s = 'у меня сломалась кнопка \"SHIFT\"!'\n",
    "print(s)\n",
    "print('Переводит первый символ строки в верхний регистр, а все остальные в нижний')\n",
    "print(s.capitalize())"
   ]
  },
  {
   "cell_type": "markdown",
   "metadata": {},
   "source": [
    "### center"
   ]
  },
  {
   "cell_type": "markdown",
   "metadata": {},
   "source": [
    "`center(width, fill=' ')` = Возвращает отцентрованную строку шириной `width`, по краям которой стоит символ `fill` (пробел по умолчанию)"
   ]
  },
  {
   "cell_type": "code",
   "execution_count": null,
   "metadata": {},
   "outputs": [
    {
     "name": "stdout",
     "output_type": "stream",
     "text": [
      "....я по центру.....\n"
     ]
    }
   ],
   "source": [
    "s = 'я по центру'\n",
    "print(s.center(20, '.'))"
   ]
  },
  {
   "cell_type": "markdown",
   "metadata": {},
   "source": [
    "### count"
   ]
  },
  {
   "cell_type": "markdown",
   "metadata": {},
   "source": [
    "`count(sub, start=0, end=-1)` = Возвращает количество непересекающихся вхождений подстроки `sub` в диапазоне от `start` до `end`"
   ]
  },
  {
   "cell_type": "code",
   "execution_count": 75,
   "metadata": {},
   "outputs": [
    {
     "name": "stdout",
     "output_type": "stream",
     "text": [
      "7\n",
      "3\n"
     ]
    }
   ],
   "source": [
    "s = '123124 34324246356 34637567 213512'\n",
    "\n",
    "print(s.count('3'))\n",
    "print(s.count('3', 5, 18))"
   ]
  },
  {
   "cell_type": "markdown",
   "metadata": {},
   "source": [
    "### strip & lstrip & rstrip"
   ]
  },
  {
   "cell_type": "markdown",
   "metadata": {},
   "source": [
    "- `strip()` = Удаление пробельных символов (в том числе экранированных) в начале и в конце строки\n",
    "- `lstrip()` = Удаление пробельных символов (в том числе экранированных) в начале строки\n",
    "- `rstrip()` = Удаление пробельных символов (в том числе экранированных) в конце строки"
   ]
  },
  {
   "cell_type": "code",
   "execution_count": 52,
   "metadata": {},
   "outputs": [
    {
     "name": "stdout",
     "output_type": "stream",
     "text": [
      "s = '     \\t      важная инфа      \\t       '\n",
      "s.strip() = 'важная инфа'\n",
      "s.lstrip() = 'важная инфа      \\t       '\n",
      "s.rstrip() = '     \\t      важная инфа'\n"
     ]
    }
   ],
   "source": [
    "s = '     \\t      важная инфа      \\t       '\n",
    "print(f'{s = }')\n",
    "print(f'{s.strip() = }')\n",
    "print(f'{s.lstrip() = }')\n",
    "print(f'{s.rstrip() = }')"
   ]
  },
  {
   "cell_type": "markdown",
   "metadata": {},
   "source": [
    "### swapcase"
   ]
  },
  {
   "cell_type": "code",
   "execution_count": 28,
   "metadata": {},
   "outputs": [
    {
     "name": "stdout",
     "output_type": "stream",
     "text": [
      "я НЕ ВЫКЛЮЧИЛ caps lock! памагити!\n",
      "Я не выключил CAPS LOCK! ПАМАГИТИ!\n"
     ]
    }
   ],
   "source": [
    "s = 'я НЕ ВЫКЛЮЧИЛ caps lock! памагити!'\n",
    "print(s)\n",
    "print(s.swapcase())"
   ]
  },
  {
   "cell_type": "markdown",
   "metadata": {},
   "source": [
    "### title"
   ]
  },
  {
   "cell_type": "markdown",
   "metadata": {},
   "source": [
    "`title()` = перевод первой буквы каждого слова в верхний регистр"
   ]
  },
  {
   "cell_type": "code",
   "execution_count": 62,
   "metadata": {},
   "outputs": [
    {
     "name": "stdout",
     "output_type": "stream",
     "text": [
      "московский государственный университет баумана\n",
      "Московский Государственный Университет Баумана\n"
     ]
    }
   ],
   "source": [
    "s = 'московский государственный университет баумана'\n",
    "print(s)\n",
    "\n",
    "print(s.title())"
   ]
  },
  {
   "cell_type": "markdown",
   "metadata": {},
   "source": [
    "### zfill & ljust & rjust"
   ]
  },
  {
   "cell_type": "markdown",
   "metadata": {},
   "source": [
    "- `zfill(width)` = Делает длину строки не меньшей `width`, по необходимости заполняя первые символы нулями\n",
    "- `ljust(width, fillchar)` = Делает длину строки не меньшей `width`, по необходимости заполняя первые символы символом `fillchar`\n",
    "- `rjust(width, fillchar)` = Делает длину строки не меньшей `width`, по необходимости заполняя последние символы символом `fillchar`"
   ]
  },
  {
   "cell_type": "code",
   "execution_count": 61,
   "metadata": {},
   "outputs": [
    {
     "name": "stdout",
     "output_type": "stream",
     "text": [
      "12.3\n",
      "000012.3\n",
      "12.3####\n",
      "????12.3\n"
     ]
    }
   ],
   "source": [
    "s = '12.3'\n",
    "print(s)\n",
    "\n",
    "print(s.zfill(8))\n",
    "print(s.ljust(8, '#'))\n",
    "print(s.rjust(8, '?'))"
   ]
  },
  {
   "cell_type": "markdown",
   "metadata": {},
   "source": [
    "## str practice"
   ]
  },
  {
   "cell_type": "markdown",
   "metadata": {},
   "source": [
    "### format phone number"
   ]
  },
  {
   "cell_type": "markdown",
   "metadata": {},
   "source": [
    "Напишите программу, которая принимает телефонный номер в любом формате (например, \"+7-123-456-78-90\" или \"81234567890\") и возвращает его в стандартном формате \"+7 (123) 456-78-90\"."
   ]
  },
  {
   "cell_type": "code",
   "execution_count": null,
   "metadata": {},
   "outputs": [],
   "source": [
    "while True:\n",
    "    phone_number = input('Введите номер телефона').strip()\n",
    "    phone_number = phone_number.replace(' ', '').replace('+', '').replace('-','').replace('(','').replace(')','')\n",
    "    if phone_number.isdigit() and len(phone_number) == 11:\n",
    "        break\n",
    "    else:\n",
    "        print('Номер должен содержать 11 цифр!')\n",
    "\n",
    "phone_number = f\"+7 ({phone_number[1:4]}) {phone_number[4:7]}-{phone_number[7:9]}-{phone_number[9:]}\"\n",
    "print(f'{phone_number = }')"
   ]
  },
  {
   "cell_type": "markdown",
   "metadata": {},
   "source": [
    "### is_polinome"
   ]
  },
  {
   "cell_type": "markdown",
   "metadata": {},
   "source": [
    "Написать скрипт для проверки является ли строка полиндромом"
   ]
  },
  {
   "cell_type": "code",
   "execution_count": null,
   "metadata": {},
   "outputs": [
    {
     "name": "stdout",
     "output_type": "stream",
     "text": [
      "123 not polinome\n"
     ]
    }
   ],
   "source": [
    "s = input('>>>').strip().lower()\n",
    "print(s, end=' ')\n",
    "if s == s[::-1]:\n",
    "    print('polinome')\n",
    "else:\n",
    "    print('not polinome')"
   ]
  },
  {
   "cell_type": "markdown",
   "metadata": {},
   "source": [
    "### acronym_generator"
   ]
  },
  {
   "cell_type": "markdown",
   "metadata": {},
   "source": [
    "Напишите программу, которая принимает строку (например, \"Central Intelligence Agency\") и возвращает её акроним (\"CIA\")."
   ]
  },
  {
   "cell_type": "code",
   "execution_count": null,
   "metadata": {},
   "outputs": [
    {
     "name": "stdout",
     "output_type": "stream",
     "text": [
      "phrase = 'Central Intelligence Agency'\n",
      "acronym = 'CIA'\n"
     ]
    }
   ],
   "source": [
    "phrase = input('>>>')\n",
    "print(f'{phrase = }')\n",
    "words = phrase.split(' ')\n",
    "#acronym = ''.join(word[0].upper() for word in words)\n",
    "acronym = ''\n",
    "for word in words:\n",
    "    acronym = acronym + word[0].upper()\n",
    "print(f'{acronym = }')"
   ]
  },
  {
   "cell_type": "markdown",
   "metadata": {},
   "source": [
    "### Casesar"
   ]
  },
  {
   "cell_type": "markdown",
   "metadata": {},
   "source": [
    "Шифр Цезаря — это один из самых простых и известных методов шифрования, который использовался еще в древности. Он относится к типу шифров подстановки, где каждый символ в открытом текете заменяется на другой символ, находящийся на фиксированное количество позиций в алфавите.  \n",
    "\n",
    "Как работает шифр Цезаря:\n",
    "1. Выбор ключа:  \n",
    "   Ключом в шифре Цезаря является число, которое определяет, на сколько позиций сдвигается каждый символ. Например, ключ 3 означает, что каждая буква в тексте будет заменена на букву, находящуюся на 3 позиции дальше в алфавите.  \n",
    "\n",
    "2. Шифрование:  \n",
    "   - Для каждого символа в открытом тексте находится его позиция в алфавите.  \n",
    "   - К этой позиции добавляется ключ.  \n",
    "   - Если результат выходит за пределы алфавита (например, для английского алфавита из 26 букв), то выполняется \"закольцовывание\" — отсчет продолжается с начала алфавита.  \n",
    "   - Новый символ записывается в зашифрованный текст.  \n",
    "\n",
    "   Пример:  \n",
    "   - Открытый текст: \"HELLO\"  \n",
    "   - Ключ: 3  \n",
    "   - Зашифрованный текст: \"KHOOR\"  \n",
    "     - H → K  \n",
    "     - E → H  \n",
    "     - L → O  \n",
    "     - L → O  \n",
    "     - O → R  \n",
    "\n",
    "3. Дешифрование:  \n",
    "   Для расшифровки текста используется тот же ключ, но сдвиг выполняется в обратную сторону (вычитание ключа).  \n",
    "\n",
    "   Пример:  \n",
    "   - Зашифрованный текст: \"KHOOR\"  \n",
    "   - Ключ: 3  \n",
    "   - Открытый текст: \"HELLO\"  \n",
    "     - K → H  \n",
    "     - H → E  \n",
    "     - O → L  \n",
    "     - O → L  \n",
    "     - R → O  \n",
    "\n",
    "**Особенности шифра Цезаря:**\n",
    "- Простота: Шифр легко реализовать и понять.  \n",
    "- Уязвимость: Из-за своей простоты шифр Цезаря легко взламывается методом полного перебора (brute force), так как количество возможных ключей ограничено (например, для английского алфавита всего 25 вариантов).  \n",
    "- Историческое значение: Шифр Цезаря использовался Юлием Цезарем для защиты военных сообщений.  "
   ]
  },
  {
   "cell_type": "code",
   "execution_count": 9,
   "metadata": {},
   "outputs": [],
   "source": [
    "SYMBOLS = 'ABCDEFGHIJKLMNOPQRSTUVWXYZ'"
   ]
  },
  {
   "cell_type": "markdown",
   "metadata": {},
   "source": [
    "encode/decode"
   ]
  },
  {
   "cell_type": "code",
   "execution_count": 10,
   "metadata": {},
   "outputs": [
    {
     "name": "stdout",
     "output_type": "stream",
     "text": [
      "message = 'HELLO WORLD!'\n",
      "key = 7\n",
      "translated = 'OLSSV DVYSK!'\n"
     ]
    }
   ],
   "source": [
    "message = input('Input sms: ').upper()\n",
    "print(f'{message = }')\n",
    "\n",
    "while True:  # защита от дурака\n",
    "    key = input('Please input the key: ')\n",
    "    try:\n",
    "        key = int(key)\n",
    "        break\n",
    "    except:\n",
    "        continue\n",
    "print(f'{key = }')\n",
    "key = key % len(SYMBOLS) if key >= 0 else -1 * (abs(key) % len(SYMBOLS))  # отбрасываем целое количество проходов по алфавиту\n",
    "\n",
    "translated = ''\n",
    "for symbol in message:\n",
    "    num = SYMBOLS.find(symbol)  # индекс символа в алфавите\n",
    "    if num != -1:  # символ найден в алфавите        \n",
    "        num = (num + key) % len(SYMBOLS) # сдвиг\n",
    "        translated = translated + SYMBOLS[num] \n",
    "    else:  # символ НЕ найден в алфавите\n",
    "        translated = translated + symbol\n",
    "\n",
    "print(f'{translated = }')"
   ]
  },
  {
   "cell_type": "markdown",
   "metadata": {},
   "source": [
    "hack"
   ]
  },
  {
   "cell_type": "code",
   "execution_count": null,
   "metadata": {},
   "outputs": [
    {
     "name": "stdout",
     "output_type": "stream",
     "text": [
      "message = 'OLSSV DVYSK!'\n",
      "key =  0: OLSSV DVYSK!\n",
      "key =  1: PMTTW EWZTL!\n",
      "key =  2: QNUUX FXAUM!\n",
      "key =  3: ROVVY GYBVN!\n",
      "key =  4: SPWWZ HZCWO!\n",
      "key =  5: TQXXA IADXP!\n",
      "key =  6: URYYB JBEYQ!\n",
      "key =  7: VSZZC KCFZR!\n",
      "key =  8: WTAAD LDGAS!\n",
      "key =  9: XUBBE MEHBT!\n",
      "key = 10: YVCCF NFICU!\n",
      "key = 11: ZWDDG OGJDV!\n",
      "key = 12: AXEEH PHKEW!\n",
      "key = 13: BYFFI QILFX!\n",
      "key = 14: CZGGJ RJMGY!\n",
      "key = 15: DAHHK SKNHZ!\n",
      "key = 16: EBIIL TLOIA!\n",
      "key = 17: FCJJM UMPJB!\n",
      "key = 18: GDKKN VNQKC!\n",
      "key = 19: HELLO WORLD!\n",
      "key = 20: IFMMP XPSME!\n",
      "key = 21: JGNNQ YQTNF!\n",
      "key = 22: KHOOR ZRUOG!\n",
      "key = 23: LIPPS ASVPH!\n",
      "key = 24: MJQQT BTWQI!\n",
      "key = 25: NKRRU CUXRJ!\n"
     ]
    }
   ],
   "source": [
    "message = input('Input sms: ').upper()\n",
    "print(f'{message = }')\n",
    "\n",
    "for key in range(0, len(SYMBOLS)):\n",
    "    translated = ''\n",
    "    for symbol in message:\n",
    "        num = SYMBOLS.find(symbol)  # индекс символа в алфавите\n",
    "        if num != -1: \n",
    "            num = (num + key) % len(SYMBOLS)\n",
    "            translated = translated + SYMBOLS[num]\n",
    "        else:\n",
    "            translated = translated + symbol\n",
    "\n",
    "    print(f'{key = :>2}: {translated}')"
   ]
  },
  {
   "cell_type": "markdown",
   "metadata": {},
   "source": [
    "## tuple & list"
   ]
  },
  {
   "cell_type": "markdown",
   "metadata": {},
   "source": [
    "- `tuple` = кортеж, НЕИЗМЕНЕМАЯ структура, хранящая ЛЮБЫЕ типы данных\n",
    "- `list` = список, ИЗМЕНЕМАЯ структура, хранящая ЛЮБЫЕ типы данных"
   ]
  },
  {
   "cell_type": "markdown",
   "metadata": {},
   "source": [
    "### Создание кортежей"
   ]
  },
  {
   "cell_type": "code",
   "execution_count": 26,
   "metadata": {},
   "outputs": [
    {
     "name": "stdout",
     "output_type": "stream",
     "text": [
      "tpl = ('Python', True, -0.375, 7, None, [1, 2, 3], {'key': 'value'}) type(tpl) = <class 'tuple'>\n",
      "tpl = ('Python', True, -0.375, 7, None, [1, 2, 3], {'key': 'value'}) type(tpl) = <class 'tuple'>\n",
      "tpl = 5 type(tpl) = <class 'int'>\n",
      "tpl = (5,) type(tpl) = <class 'tuple'>\n",
      "tpl = (1, False, [-1, 0, 1], None) type(tpl) = <class 'tuple'>\n"
     ]
    }
   ],
   "source": [
    "tpl = ('Python', True, -0.375, 7, None, [1, 2, 3], {'key': 'value'})\n",
    "print(f'{tpl = } {type(tpl) = }')\n",
    "tpl = tuple(('Python', True, -0.375, 7, None, [1, 2, 3], {'key': 'value'}))\n",
    "print(f'{tpl = } {type(tpl) = }')\n",
    "tpl = (5)  # НЕ кортеж!\n",
    "print(f'{tpl = } {type(tpl) = }')\n",
    "tpl = (5,)  # кортеж!\n",
    "print(f'{tpl = } {type(tpl) = }')\n",
    "tpl = 1, False, [-1, 0, 1], None  # кортеж!\n",
    "print(f'{tpl = } {type(tpl) = }')"
   ]
  },
  {
   "cell_type": "markdown",
   "metadata": {},
   "source": [
    "### Действия с кортежами"
   ]
  },
  {
   "cell_type": "code",
   "execution_count": 28,
   "metadata": {},
   "outputs": [
    {
     "name": "stdout",
     "output_type": "stream",
     "text": [
      "tpl = ('Python', True, -0.375, 7, None, [1, 2, 3], {'key': 'value'})\n",
      "tpl[0] * 4 = 'PythonPythonPythonPython'\n",
      "tpl[2] * 4 = -1.5\n",
      "None in tpl = True\n",
      "len(tpl) = 7\n"
     ]
    },
    {
     "ename": "TypeError",
     "evalue": "'tuple' object does not support item assignment",
     "output_type": "error",
     "traceback": [
      "\u001b[1;31m---------------------------------------------------------------------------\u001b[0m",
      "\u001b[1;31mTypeError\u001b[0m                                 Traceback (most recent call last)",
      "Cell \u001b[1;32mIn[28], line 8\u001b[0m\n\u001b[0;32m      6\u001b[0m \u001b[38;5;28mprint\u001b[39m(\u001b[38;5;124mf\u001b[39m\u001b[38;5;124m'\u001b[39m\u001b[38;5;132;01m{\u001b[39;00m\u001b[38;5;28;01mNone\u001b[39;00m\u001b[38;5;250m \u001b[39m\u001b[38;5;129;01min\u001b[39;00m\u001b[38;5;250m \u001b[39mtpl\u001b[38;5;250m \u001b[39m\u001b[38;5;132;01m= }\u001b[39;00m\u001b[38;5;124m'\u001b[39m)\n\u001b[0;32m      7\u001b[0m \u001b[38;5;28mprint\u001b[39m(\u001b[38;5;124mf\u001b[39m\u001b[38;5;124m'\u001b[39m\u001b[38;5;132;01m{\u001b[39;00m\u001b[38;5;28mlen\u001b[39m(tpl)\u001b[38;5;250m \u001b[39m\u001b[38;5;132;01m= }\u001b[39;00m\u001b[38;5;124m'\u001b[39m)\n\u001b[1;32m----> 8\u001b[0m \u001b[43mtpl\u001b[49m\u001b[43m[\u001b[49m\u001b[38;5;241;43m4\u001b[39;49m\u001b[43m]\u001b[49m \u001b[38;5;241m=\u001b[39m \u001b[38;5;124m'\u001b[39m\u001b[38;5;124mАЛ-31Ф\u001b[39m\u001b[38;5;124m'\u001b[39m\n",
      "\u001b[1;31mTypeError\u001b[0m: 'tuple' object does not support item assignment"
     ]
    }
   ],
   "source": [
    "tpl = ('Python', True, -0.375, 7, None, [1, 2, 3], {'key': 'value'})\n",
    "print(f'{tpl = }')\n",
    "\n",
    "print(f'{tpl[0] * 4 = }')\n",
    "print(f'{tpl[2] * 4 = }')\n",
    "print(f'{None in tpl = }')\n",
    "print(f'{len(tpl) = }')\n",
    "tpl[4] = 'АЛ-31Ф'"
   ]
  },
  {
   "cell_type": "markdown",
   "metadata": {},
   "source": [
    "### Создание списков"
   ]
  },
  {
   "cell_type": "code",
   "execution_count": 14,
   "metadata": {},
   "outputs": [
    {
     "name": "stdout",
     "output_type": "stream",
     "text": [
      "lst0 = []\n",
      "lst0 = []\n",
      "lst = ['Python', True, -0.375, 7, None, [1, 2, 3], {'key': 'value'}, ('a', 'b', 'c')] type(lst) = <class 'list'>\n",
      "lst = ['Python', True, -0.375, 7, None, [1, 2, 3], {'key': 'value'}, ('a', 'b', 'c')] type(lst) = <class 'list'>\n",
      "tuple2list = ['Python', True, -0.375, 7, None, [1, 2, 3], {'key': 'value'}, ('a', 'b', 'c')]\n"
     ]
    }
   ],
   "source": [
    "lst0 = list()  # пустой список\n",
    "print(f'{lst0 = }')\n",
    "lst0 = []  # пустой список\n",
    "print(f'{lst0 = }')\n",
    "lst = ['Python', True, -0.375, 7, None, [1, 2, 3], {'key': 'value'}, ('a', 'b', 'c')]\n",
    "print(f'{lst = } {type(lst) = }')\n",
    "lst = list(('Python', True, -0.375, 7, None, [1, 2, 3], {'key': 'value'}, ('a', 'b', 'c')))\n",
    "print(f'{lst = } {type(lst) = }')\n",
    "tpl = ('Python', True, -0.375, 7, None, [1, 2, 3], {'key': 'value'}, ('a', 'b', 'c'))\n",
    "tuple2list = list(tpl)\n",
    "print(f'{tuple2list = }')"
   ]
  },
  {
   "cell_type": "code",
   "execution_count": 63,
   "metadata": {},
   "outputs": [
    {
     "name": "stdout",
     "output_type": "stream",
     "text": [
      "lst = ['Python', True, -0.375, 7, None, [1, 2, 3], {'key': 'value'}, ('a', 'b', 'c')]\n"
     ]
    }
   ],
   "source": [
    "lst = list(('Python', True, -0.375, 7, None, [1, 2, 3], {'key': 'value'}, ('a', 'b', 'c')))\n",
    "print(f'{lst = }')"
   ]
  },
  {
   "cell_type": "markdown",
   "metadata": {},
   "source": [
    "### `append()`"
   ]
  },
  {
   "cell_type": "code",
   "execution_count": 64,
   "metadata": {},
   "outputs": [
    {
     "name": "stdout",
     "output_type": "stream",
     "text": [
      "lst = ['Python', True, -0.375, 7, None, [1, 2, 3], {'key': 'value'}, ('a', 'b', 'c'), True]\n"
     ]
    }
   ],
   "source": [
    "lst.append(True)  # добавление элемента в конец списка\n",
    "print(f'{lst = }')"
   ]
  },
  {
   "cell_type": "markdown",
   "metadata": {},
   "source": [
    "### `extend()`"
   ]
  },
  {
   "cell_type": "code",
   "execution_count": 65,
   "metadata": {},
   "outputs": [
    {
     "name": "stdout",
     "output_type": "stream",
     "text": [
      "lst = ['Python', True, -0.375, 7, None, [1, 2, 3], {'key': 'value'}, ('a', 'b', 'c'), True, 45, False, -0.4, [1, 2, 3]]\n"
     ]
    }
   ],
   "source": [
    "lst.extend([45, False, -0.4, [1, 2, 3]])  # расширить список другим списком\n",
    "print(f'{lst = }')"
   ]
  },
  {
   "cell_type": "markdown",
   "metadata": {},
   "source": [
    "### `insert()`"
   ]
  },
  {
   "cell_type": "code",
   "execution_count": 66,
   "metadata": {},
   "outputs": [
    {
     "name": "stdout",
     "output_type": "stream",
     "text": [
      "lst = ['Python', True, 'НК-93', -0.375, 7, None, [1, 2, 3], {'key': 'value'}, ('a', 'b', 'c'), True, 45, False, -0.4, [1, 2, 3]]\n"
     ]
    }
   ],
   "source": [
    "lst.insert(2, 'НК-93')  # вставка в список по индексу\n",
    "print(f'{lst = }')"
   ]
  },
  {
   "cell_type": "markdown",
   "metadata": {},
   "source": [
    "### `remove()`"
   ]
  },
  {
   "cell_type": "code",
   "execution_count": 67,
   "metadata": {},
   "outputs": [
    {
     "name": "stdout",
     "output_type": "stream",
     "text": [
      "lst = ['Python', True, 'НК-93', -0.375, 7, [1, 2, 3], {'key': 'value'}, ('a', 'b', 'c'), True, 45, False, -0.4, [1, 2, 3]]\n"
     ]
    },
    {
     "ename": "ValueError",
     "evalue": "list.remove(x): x not in list",
     "output_type": "error",
     "traceback": [
      "\u001b[1;31m---------------------------------------------------------------------------\u001b[0m",
      "\u001b[1;31mValueError\u001b[0m                                Traceback (most recent call last)",
      "Cell \u001b[1;32mIn[67], line 3\u001b[0m\n\u001b[0;32m      1\u001b[0m lst\u001b[38;5;241m.\u001b[39mremove(\u001b[38;5;28;01mNone\u001b[39;00m)  \u001b[38;5;66;03m# удаление элемента в списке с данным значением\u001b[39;00m\n\u001b[0;32m      2\u001b[0m \u001b[38;5;28mprint\u001b[39m(\u001b[38;5;124mf\u001b[39m\u001b[38;5;124m'\u001b[39m\u001b[38;5;132;01m{\u001b[39;00mlst\u001b[38;5;250m \u001b[39m\u001b[38;5;132;01m= }\u001b[39;00m\u001b[38;5;124m'\u001b[39m)\n\u001b[1;32m----> 3\u001b[0m \u001b[43mlst\u001b[49m\u001b[38;5;241;43m.\u001b[39;49m\u001b[43mremove\u001b[49m\u001b[43m(\u001b[49m\u001b[38;5;124;43m'\u001b[39;49m\u001b[38;5;124;43m45\u001b[39;49m\u001b[38;5;124;43m'\u001b[39;49m\u001b[43m)\u001b[49m  \u001b[38;5;66;03m# нет такого значения в списке\u001b[39;00m\n\u001b[0;32m      4\u001b[0m \u001b[38;5;28mprint\u001b[39m(\u001b[38;5;124mf\u001b[39m\u001b[38;5;124m'\u001b[39m\u001b[38;5;132;01m{\u001b[39;00mlst\u001b[38;5;250m \u001b[39m\u001b[38;5;132;01m= }\u001b[39;00m\u001b[38;5;124m'\u001b[39m)\n",
      "\u001b[1;31mValueError\u001b[0m: list.remove(x): x not in list"
     ]
    }
   ],
   "source": [
    "lst.remove(None)  # удаление элемента в списке с данным значением\n",
    "print(f'{lst = }')\n",
    "lst.remove('45')  # нет такого значения в списке\n",
    "print(f'{lst = }')"
   ]
  },
  {
   "cell_type": "markdown",
   "metadata": {},
   "source": [
    "### `pop()`"
   ]
  },
  {
   "cell_type": "code",
   "execution_count": 68,
   "metadata": {},
   "outputs": [
    {
     "name": "stdout",
     "output_type": "stream",
     "text": [
      "lst = ['Python', True, 'НК-93', -0.375, 7, [1, 2, 3], {'key': 'value'}, ('a', 'b', 'c'), True, 45, False, -0.4]\n",
      "lst = ['Python', True, 'НК-93', 7, [1, 2, 3], {'key': 'value'}, ('a', 'b', 'c'), True, 45, False, -0.4]\n",
      "lst.pop(1) = True\n"
     ]
    }
   ],
   "source": [
    "lst.pop()  # удаление последнего элемента\n",
    "print(f'{lst = }')\n",
    "lst.pop(3)  # удаление элемента под данным индексом\n",
    "print(f'{lst = }')\n",
    "print(f'{lst.pop(1) = }')  # возвращение и удаление элемента под индексом 1"
   ]
  },
  {
   "cell_type": "markdown",
   "metadata": {},
   "source": [
    "### `clear()`"
   ]
  },
  {
   "cell_type": "code",
   "execution_count": 62,
   "metadata": {},
   "outputs": [
    {
     "name": "stdout",
     "output_type": "stream",
     "text": [
      "lst = []\n"
     ]
    }
   ],
   "source": [
    "lst.clear()  # удаление всех элементов в списке с сохранением структуры списка\n",
    "print(f'{lst = }')"
   ]
  },
  {
   "cell_type": "markdown",
   "metadata": {},
   "source": [
    "### `index()`"
   ]
  },
  {
   "cell_type": "code",
   "execution_count": 69,
   "metadata": {},
   "outputs": [
    {
     "name": "stdout",
     "output_type": "stream",
     "text": [
      "lst = ['Python', 'НК-93', 7, [1, 2, 3], {'key': 'value'}, ('a', 'b', 'c'), True, 45, False, -0.4]\n",
      "5ый элемент lst2: lst[5] = ('a', 'b', 'c')\n",
      "1ый элемент у 5ого элемента: lst[5][1] = 'b'\n"
     ]
    }
   ],
   "source": [
    "print(f'{lst = }')\n",
    "print(f'5ый элемент lst2: {lst[5] = }')\n",
    "print(f'1ый элемент у 5ого элемента: {lst[5][1] = }')"
   ]
  },
  {
   "cell_type": "markdown",
   "metadata": {},
   "source": [
    "### `count()`"
   ]
  },
  {
   "cell_type": "code",
   "execution_count": 70,
   "metadata": {},
   "outputs": [
    {
     "name": "stdout",
     "output_type": "stream",
     "text": [
      "lst = ['Python', 'НК-93', 7, [1, 2, 3], {'key': 'value'}, ('a', 'b', 'c'), True, 45, False, -0.4]\n",
      "lst.count(None) = 0\n",
      "lst.count(0) = 1\n"
     ]
    }
   ],
   "source": [
    "print(f'{lst = }')\n",
    "print(f'{lst.count(None) = }')  # количество элементов по значению в списке\n",
    "print(f'{lst.count(0) = }')  # количество элементов по значению в списке"
   ]
  },
  {
   "cell_type": "markdown",
   "metadata": {},
   "source": [
    "### `copy()`"
   ]
  },
  {
   "cell_type": "code",
   "execution_count": null,
   "metadata": {},
   "outputs": [
    {
     "name": "stdout",
     "output_type": "stream",
     "text": [
      "lst_copy0 = ['Python', 'НК-93', 7, [1, 2, 3], {'key': 'value'}, ('a', 'b', 'c'), True, 45, False, -0.4]\n",
      "lst_copy1 = ['Python', 'НК-93', 7, [1, 2, 3], {'key': 'value'}, ('a', 'b', 'c'), True, 45, False, -0.4]\n",
      "lst = []\n"
     ]
    }
   ],
   "source": [
    "lst_copy0 = lst[::]\n",
    "print(f'{lst_copy0 = }')\n",
    "lst_copy1 = lst.copy()\n",
    "print(f'{lst_copy1 = }')\n",
    "\n",
    "lst_no_copy = lst  # НЕ КОПИЯ, а ссылка на существующий список!\n",
    "# доказательсво\n",
    "lst_no_copy.clear()\n",
    "print(f'{lst = }')"
   ]
  },
  {
   "cell_type": "markdown",
   "metadata": {},
   "source": [
    "### `sort()`"
   ]
  },
  {
   "cell_type": "code",
   "execution_count": 78,
   "metadata": {},
   "outputs": [
    {
     "name": "stdout",
     "output_type": "stream",
     "text": [
      "lst = [-3, 17, 0, -28, 99]\n",
      "lst = [-28, -3, 0, 17, 99]\n",
      "lst = [99, 17, 0, -3, -28]\n"
     ]
    }
   ],
   "source": [
    "lst = [-3, 17, 0, -28, 99]\n",
    "print(f'{lst = }')\n",
    "lst.sort(reverse=False)\n",
    "print(f'{lst = }')\n",
    "lst.sort(reverse=True)\n",
    "print(f'{lst = }')"
   ]
  },
  {
   "cell_type": "markdown",
   "metadata": {},
   "source": [
    "### `in`"
   ]
  },
  {
   "cell_type": "code",
   "execution_count": 79,
   "metadata": {},
   "outputs": [
    {
     "name": "stdout",
     "output_type": "stream",
     "text": [
      "lst = [99, 17, 0, -3, -28]\n",
      "None in lst = False\n",
      "0 in lst = True\n"
     ]
    }
   ],
   "source": [
    "print(f'{lst = }')\n",
    "print(f'{None in lst = }')\n",
    "print(f'{0 in lst = }')"
   ]
  },
  {
   "cell_type": "markdown",
   "metadata": {},
   "source": [
    "### `len()`"
   ]
  },
  {
   "cell_type": "code",
   "execution_count": 75,
   "metadata": {},
   "outputs": [
    {
     "name": "stdout",
     "output_type": "stream",
     "text": [
      "len(lst) = 5\n"
     ]
    }
   ],
   "source": [
    "print(f'{len(lst) = }')"
   ]
  },
  {
   "cell_type": "markdown",
   "metadata": {},
   "source": [
    "### `del`"
   ]
  },
  {
   "cell_type": "code",
   "execution_count": 76,
   "metadata": {},
   "outputs": [
    {
     "ename": "NameError",
     "evalue": "name 'lst' is not defined",
     "output_type": "error",
     "traceback": [
      "\u001b[1;31m---------------------------------------------------------------------------\u001b[0m",
      "\u001b[1;31mNameError\u001b[0m                                 Traceback (most recent call last)",
      "Cell \u001b[1;32mIn[76], line 2\u001b[0m\n\u001b[0;32m      1\u001b[0m \u001b[38;5;28;01mdel\u001b[39;00m lst\n\u001b[1;32m----> 2\u001b[0m \u001b[38;5;28mprint\u001b[39m(\u001b[38;5;124mf\u001b[39m\u001b[38;5;124m'\u001b[39m\u001b[38;5;132;01m{\u001b[39;00m\u001b[43mlst\u001b[49m\u001b[38;5;250m \u001b[39m\u001b[38;5;132;01m= }\u001b[39;00m\u001b[38;5;124m'\u001b[39m)\n",
      "\u001b[1;31mNameError\u001b[0m: name 'lst' is not defined"
     ]
    }
   ],
   "source": [
    "del lst\n",
    "print(f'{lst = }')"
   ]
  },
  {
   "cell_type": "markdown",
   "metadata": {},
   "source": [
    "## tuple & list practice"
   ]
  },
  {
   "cell_type": "code",
   "execution_count": 86,
   "metadata": {},
   "outputs": [],
   "source": [
    "tasks = list()"
   ]
  },
  {
   "cell_type": "code",
   "execution_count": 87,
   "metadata": {},
   "outputs": [
    {
     "name": "stdout",
     "output_type": "stream",
     "text": [
      "['Инцидент']\n"
     ]
    }
   ],
   "source": [
    "tasks.append('Инцидент')\n",
    "print(tasks)"
   ]
  },
  {
   "cell_type": "code",
   "execution_count": 88,
   "metadata": {},
   "outputs": [
    {
     "name": "stdout",
     "output_type": "stream",
     "text": [
      "['Вахтанг', 'Инцидент']\n"
     ]
    }
   ],
   "source": [
    "tasks.insert(0, 'Вахтанг')\n",
    "print(tasks)"
   ]
  },
  {
   "cell_type": "code",
   "execution_count": 90,
   "metadata": {},
   "outputs": [
    {
     "name": "stdout",
     "output_type": "stream",
     "text": [
      "['Инцидент']\n"
     ]
    }
   ],
   "source": [
    "tasks.remove('Вахтанг')\n",
    "print(tasks)"
   ]
  },
  {
   "cell_type": "code",
   "execution_count": 91,
   "metadata": {},
   "outputs": [
    {
     "name": "stdout",
     "output_type": "stream",
     "text": [
      "['Инцидент', '1', 2, 33.3]\n"
     ]
    }
   ],
   "source": [
    "command_tasks = ('1', 2, 33.3)\n",
    "tasks.extend(command_tasks)\n",
    "print(tasks)"
   ]
  },
  {
   "cell_type": "code",
   "execution_count": null,
   "metadata": {},
   "outputs": [
    {
     "name": "stdout",
     "output_type": "stream",
     "text": [
      "0 Инцидент\n",
      "1 1\n",
      "2 2\n",
      "3 33.3\n"
     ]
    }
   ],
   "source": [
    "for word, task in enumerate(tasks):\n",
    "    print(word, task)"
   ]
  },
  {
   "cell_type": "markdown",
   "metadata": {},
   "source": [
    "### check the brackets"
   ]
  },
  {
   "cell_type": "markdown",
   "metadata": {},
   "source": [
    "Напишите скрипт для проверки корректности постановки скобок \"()\", \"[]\", \"{}\" в строковом выражении. Следите за парностью и количеством.\n",
    "\n",
    "Примеры работы программы:\n",
    "\n",
    "Ввод: (a + b) * [c - d]\n",
    "Вывод: Скобки расставлены корректно.\n",
    "\n",
    "Ввод: {(a + b) * [c - d]}\n",
    "Вывод: Скобки расставлены корректно.\n",
    "\n",
    "Ввод: (a + b) * [c - d}\n",
    "Вывод: Скобки расставлены некорректно.\n",
    "\n",
    "Ввод: ((a + b) * [c - d]\n",
    "Вывод: Скобки расставлены некорректно."
   ]
  },
  {
   "cell_type": "code",
   "execution_count": null,
   "metadata": {},
   "outputs": [
    {
     "name": "stdout",
     "output_type": "stream",
     "text": [
      "expression = '(a + b) * [c - d]'\n",
      "Is brackets correct? True\n"
     ]
    }
   ],
   "source": [
    "expression = input('>>>').strip()\n",
    "print(f'{expression = }')\n",
    "\n",
    "correct = True\n",
    "stack = list()  # сковорода\n",
    "for char in expression:\n",
    "    if char in '([{':\n",
    "        stack.append(char)\n",
    "    elif char in ')]}':\n",
    "        if (len(stack) == 0) or ((stack[-1] + char) not in ('()', '[]', '{}')):\n",
    "            correct = False\n",
    "            break\n",
    "        stack.pop()\n",
    "else:\n",
    "    if len(stack) != 0: \n",
    "        correct = False\n",
    "\n",
    "print(f'Is brackets correct? {correct}')"
   ]
  },
  {
   "cell_type": "markdown",
   "metadata": {},
   "source": [
    "## dict"
   ]
  },
  {
   "cell_type": "markdown",
   "metadata": {},
   "source": [
    "`dict` (словарь) = коллекция, позволяющая хранить множество элементов `values` и обращаться к ним через ключи `keys`. \n",
    "**Все ключи должны быть неизменяемого типа!**"
   ]
  },
  {
   "cell_type": "code",
   "execution_count": 34,
   "metadata": {},
   "outputs": [
    {
     "name": "stdout",
     "output_type": "stream",
     "text": [
      "d = {'key': 'value', 4567: [4, 5, 6, 7], 'boolean': True, False: 0, '': None}\n",
      "d[\"boolean\"] = True\n",
      "d[False] = 0\n"
     ]
    },
    {
     "ename": "KeyError",
     "evalue": "1",
     "output_type": "error",
     "traceback": [
      "\u001b[1;31m---------------------------------------------------------------------------\u001b[0m",
      "\u001b[1;31mKeyError\u001b[0m                                  Traceback (most recent call last)",
      "Cell \u001b[1;32mIn[34], line 9\u001b[0m\n\u001b[0;32m      7\u001b[0m \u001b[38;5;28mprint\u001b[39m(\u001b[38;5;124mf\u001b[39m\u001b[38;5;124m'\u001b[39m\u001b[38;5;132;01m{\u001b[39;00md[\u001b[38;5;124m\"\u001b[39m\u001b[38;5;124mboolean\u001b[39m\u001b[38;5;124m\"\u001b[39m]\u001b[38;5;250m \u001b[39m\u001b[38;5;132;01m= }\u001b[39;00m\u001b[38;5;124m'\u001b[39m)  \u001b[38;5;66;03m# True\u001b[39;00m\n\u001b[0;32m      8\u001b[0m \u001b[38;5;28mprint\u001b[39m(\u001b[38;5;124mf\u001b[39m\u001b[38;5;124m'\u001b[39m\u001b[38;5;132;01m{\u001b[39;00md[\u001b[38;5;28;01mFalse\u001b[39;00m]\u001b[38;5;250m \u001b[39m\u001b[38;5;132;01m= }\u001b[39;00m\u001b[38;5;124m'\u001b[39m)  \u001b[38;5;66;03m# 0\u001b[39;00m\n\u001b[1;32m----> 9\u001b[0m \u001b[38;5;28mprint\u001b[39m(\u001b[38;5;124mf\u001b[39m\u001b[38;5;124m'\u001b[39m\u001b[38;5;132;01m{\u001b[39;00m\u001b[43md\u001b[49m\u001b[43m[\u001b[49m\u001b[38;5;241;43m1\u001b[39;49m\u001b[43m]\u001b[49m\u001b[38;5;250m \u001b[39m\u001b[38;5;132;01m= }\u001b[39;00m\u001b[38;5;124m'\u001b[39m)  \u001b[38;5;66;03m# KeyError\u001b[39;00m\n",
      "\u001b[1;31mKeyError\u001b[0m: 1"
     ]
    }
   ],
   "source": [
    "d = {'key': 'value',\n",
    "     4567: [4, 5, 6, 7],\n",
    "     'boolean': True,\n",
    "     False: 0,\n",
    "     '': None}\n",
    "print(f'{d = }')\n",
    "print(f'{d[\"boolean\"] = }')  # True\n",
    "print(f'{d[False] = }')  # 0\n",
    "print(f'{d[1] = }')  # KeyError"
   ]
  },
  {
   "cell_type": "markdown",
   "metadata": {},
   "source": [
    "### создание словаря"
   ]
  },
  {
   "cell_type": "code",
   "execution_count": 35,
   "metadata": {},
   "outputs": [
    {
     "name": "stdout",
     "output_type": "stream",
     "text": [
      "d = {'key': 'value', 4567: [4, 5, 6, 7], 'boolean': True, False: 0, ('tuple', 'not list'): (), '': None}\n",
      "d_empty1 = {}\n",
      "d_empty2 = {}\n",
      "tuple2dict = {1: True, 3: False}\n"
     ]
    },
    {
     "ename": "TypeError",
     "evalue": "unhashable type: 'list'",
     "output_type": "error",
     "traceback": [
      "\u001b[1;31m---------------------------------------------------------------------------\u001b[0m",
      "\u001b[1;31mTypeError\u001b[0m                                 Traceback (most recent call last)",
      "Cell \u001b[1;32mIn[35], line 15\u001b[0m\n\u001b[0;32m     12\u001b[0m tuple2dict \u001b[38;5;241m=\u001b[39m \u001b[38;5;28mdict\u001b[39m([(\u001b[38;5;241m1\u001b[39m, \u001b[38;5;28;01mTrue\u001b[39;00m), \n\u001b[0;32m     13\u001b[0m                    (\u001b[38;5;241m3\u001b[39m, \u001b[38;5;28;01mFalse\u001b[39;00m)])\n\u001b[0;32m     14\u001b[0m \u001b[38;5;28mprint\u001b[39m(\u001b[38;5;124mf\u001b[39m\u001b[38;5;124m'\u001b[39m\u001b[38;5;132;01m{\u001b[39;00mtuple2dict\u001b[38;5;250m \u001b[39m\u001b[38;5;132;01m= }\u001b[39;00m\u001b[38;5;124m'\u001b[39m)\n\u001b[1;32m---> 15\u001b[0m bad_dict \u001b[38;5;241m=\u001b[39m {\u001b[38;5;124m'\u001b[39m\u001b[38;5;124mqwerty\u001b[39m\u001b[38;5;124m'\u001b[39m: \u001b[38;5;241m12345678\u001b[39m,\n\u001b[0;32m     16\u001b[0m             [\u001b[38;5;241m1\u001b[39m, \u001b[38;5;241m2\u001b[39m]: \u001b[38;5;28;01mTrue\u001b[39;00m}  \u001b[38;5;66;03m# список изменяемый!\u001b[39;00m\n\u001b[0;32m     17\u001b[0m \u001b[38;5;28mprint\u001b[39m(bad_dict)\n",
      "\u001b[1;31mTypeError\u001b[0m: unhashable type: 'list'"
     ]
    }
   ],
   "source": [
    "d = {'key': 'value',\n",
    "     4567: [4, 5, 6, 7],\n",
    "     'boolean': True,\n",
    "     False: 0,\n",
    "     ('tuple', 'not list'): tuple(),\n",
    "     '': None}\n",
    "print(f'{d = }')\n",
    "d_empty1 = dict()  # пустой словарь\n",
    "print(f'{d_empty1 = }')\n",
    "d_empty2 = {}  # пустой словарь\n",
    "print(f'{d_empty2 = }')\n",
    "tuple2dict = dict([(1, True), \n",
    "                   (3, False)])\n",
    "print(f'{tuple2dict = }')\n",
    "bad_dict = {'qwerty': 12345678,\n",
    "            [1, 2]: True}  # список изменяемый!\n",
    "print(bad_dict)"
   ]
  },
  {
   "cell_type": "markdown",
   "metadata": {},
   "source": [
    "### пример"
   ]
  },
  {
   "cell_type": "code",
   "execution_count": 36,
   "metadata": {},
   "outputs": [
    {
     "name": "stdout",
     "output_type": "stream",
     "text": [
      "d = {'key': 'value', '4567': [4, 5, 6, 7], 'aqua': True, '0': 0, 'real': -3.1415, 'null': None, 'tuple': ('t', 'u', 'p', 'l', 'e'), 'set': {1, 3, 5, 7, 9}, 'dict': {1: 'a', 2: 'b', 3: 'c', 4: 'd'}}\n"
     ]
    }
   ],
   "source": [
    "d = {'key': 'value',\n",
    "    '4567': [4, 5, 6, 7],\n",
    "    'aqua': True,\n",
    "    '0': 0,\n",
    "    'real': -3.1415,\n",
    "    'null': None,\n",
    "    'tuple': ('t', 'u', 'p', 'l', 'e'),\n",
    "    'set': {1, 3, 5, 7, 9},\n",
    "    'dict': {1: 'a', 2: 'b', 3: 'c', 4: 'd'}}\n",
    "print(f'{d = }')"
   ]
  },
  {
   "cell_type": "markdown",
   "metadata": {},
   "source": [
    "### изменение или добавление"
   ]
  },
  {
   "cell_type": "code",
   "execution_count": 37,
   "metadata": {},
   "outputs": [
    {
     "name": "stdout",
     "output_type": "stream",
     "text": [
      "d = {'key': 'value', '4567': [4, 5, 6, 7], 'aqua': True, '0': 0, 'real': -3.1415, 'null': None, 'tuple': ('t', 'u', 'p', 'l', 'e'), 'set': {1, 3, 5, 7, 9}, 'dict': {1: 'a', 2: 'b', 3: 'c', 4: 'd'}, 'world': 'Hello World!'}\n",
      "d = {'key': 'value', '4567': [4, 5, 6, 7], 'aqua': True, '0': 0, 'real': -3.1415, 'null': None, 'tuple': ('t', 'u', 'p', 'l', 'e'), 'set': {1, 3, 5, 7, 9}, 'dict': {1: 'a', 2: 'b', 3: 'c', 4: 'd'}, 'world': 'Bye World!'}\n"
     ]
    }
   ],
   "source": [
    "d['world'] = 'Hello World!'\n",
    "print(f'{d = }')\n",
    "d['world'] = 'Bye World!'\n",
    "print(f'{d = }')"
   ]
  },
  {
   "cell_type": "markdown",
   "metadata": {},
   "source": [
    "### взятие по ключу"
   ]
  },
  {
   "cell_type": "code",
   "execution_count": 38,
   "metadata": {},
   "outputs": [
    {
     "name": "stdout",
     "output_type": "stream",
     "text": [
      "d[\"0\"] == -3.1415 = False\n",
      "d[\"0\"] == 0 = True\n"
     ]
    }
   ],
   "source": [
    "print(f'{d[\"0\"] == -3.1415 = }')\n",
    "print(f'{d[\"0\"] == 0 = }')"
   ]
  },
  {
   "cell_type": "markdown",
   "metadata": {},
   "source": [
    "### `in`"
   ]
  },
  {
   "cell_type": "code",
   "execution_count": 39,
   "metadata": {},
   "outputs": [
    {
     "name": "stdout",
     "output_type": "stream",
     "text": [
      "\"key\" in d = True\n",
      "\"value\" in d = False\n"
     ]
    }
   ],
   "source": [
    "print(f'{\"key\" in d = }')\n",
    "print(f'{\"value\" in d = }')"
   ]
  },
  {
   "cell_type": "markdown",
   "metadata": {},
   "source": [
    "### `get()`"
   ]
  },
  {
   "cell_type": "code",
   "execution_count": 40,
   "metadata": {},
   "outputs": [
    {
     "name": "stdout",
     "output_type": "stream",
     "text": [
      "d = {'key': 'value', '4567': [4, 5, 6, 7], 'aqua': True, '0': 0, 'real': -3.1415, 'null': None, 'tuple': ('t', 'u', 'p', 'l', 'e'), 'set': {1, 3, 5, 7, 9}, 'dict': {1: 'a', 2: 'b', 3: 'c', 4: 'd'}, 'world': 'Bye World!'}\n",
      "d.get(\"0\", None) = 0\n",
      "d.get(\"1\", None) = None\n"
     ]
    }
   ],
   "source": [
    "print(f'{d = }')\n",
    "print(f'{d.get(\"0\", None) = }')\n",
    "print(f'{d.get(\"1\", None) = }')"
   ]
  },
  {
   "cell_type": "markdown",
   "metadata": {},
   "source": [
    "### `keys()` `values()` `items()`"
   ]
  },
  {
   "cell_type": "code",
   "execution_count": 41,
   "metadata": {},
   "outputs": [
    {
     "name": "stdout",
     "output_type": "stream",
     "text": [
      "d.keys() = dict_keys(['key', '4567', 'aqua', '0', 'real', 'null', 'tuple', 'set', 'dict', 'world'])\n",
      "d.values() = dict_values(['value', [4, 5, 6, 7], True, 0, -3.1415, None, ('t', 'u', 'p', 'l', 'e'), {1, 3, 5, 7, 9}, {1: 'a', 2: 'b', 3: 'c', 4: 'd'}, 'Bye World!'])\n",
      "d.items() = dict_items([('key', 'value'), ('4567', [4, 5, 6, 7]), ('aqua', True), ('0', 0), ('real', -3.1415), ('null', None), ('tuple', ('t', 'u', 'p', 'l', 'e')), ('set', {1, 3, 5, 7, 9}), ('dict', {1: 'a', 2: 'b', 3: 'c', 4: 'd'}), ('world', 'Bye World!')])\n"
     ]
    }
   ],
   "source": [
    "print(f'{d.keys() = }')\n",
    "print(f'{d.values() = }')\n",
    "print(f'{d.items() = }')"
   ]
  },
  {
   "cell_type": "code",
   "execution_count": 42,
   "metadata": {},
   "outputs": [
    {
     "name": "stdout",
     "output_type": "stream",
     "text": [
      "list(d.keys()) = ['key', '4567', 'aqua', '0', 'real', 'null', 'tuple', 'set', 'dict', 'world']\n",
      "tuple(d.values()) = ('value', [4, 5, 6, 7], True, 0, -3.1415, None, ('t', 'u', 'p', 'l', 'e'), {1, 3, 5, 7, 9}, {1: 'a', 2: 'b', 3: 'c', 4: 'd'}, 'Bye World!')\n"
     ]
    }
   ],
   "source": [
    "print(f'{list(d.keys()) = }')\n",
    "print(f'{tuple(d.values()) = }')"
   ]
  },
  {
   "cell_type": "code",
   "execution_count": 43,
   "metadata": {},
   "outputs": [
    {
     "name": "stdout",
     "output_type": "stream",
     "text": [
      "keys: key 4567 aqua 0 real null tuple set dict world \n",
      "values: value [4, 5, 6, 7] True 0 -3.1415 None ('t', 'u', 'p', 'l', 'e') {1, 3, 5, 7, 9} {1: 'a', 2: 'b', 3: 'c', 4: 'd'} Bye World! \n",
      "key : value; 4567 : [4, 5, 6, 7]; aqua : True; 0 : 0; real : -3.1415; null : None; tuple : ('t', 'u', 'p', 'l', 'e'); set : {1, 3, 5, 7, 9}; dict : {1: 'a', 2: 'b', 3: 'c', 4: 'd'}; world : Bye World!; "
     ]
    }
   ],
   "source": [
    "print('keys:', end=' ')\n",
    "for key in d.keys(): print(key, end=' ')\n",
    "print()\n",
    "print('values:', end=' ')\n",
    "for value in d.values(): print(value, end=' ')\n",
    "print()\n",
    "for key, value in d.items(): print(key, ':', value, end='; ')"
   ]
  },
  {
   "cell_type": "markdown",
   "metadata": {},
   "source": [
    "### `pop()` `popitem()`"
   ]
  },
  {
   "cell_type": "code",
   "execution_count": 44,
   "metadata": {},
   "outputs": [
    {
     "name": "stdout",
     "output_type": "stream",
     "text": [
      "d = {'key': 'value', '4567': [4, 5, 6, 7], 'aqua': True, '0': 0, 'real': -3.1415, 'null': None, 'tuple': ('t', 'u', 'p', 'l', 'e'), 'set': {1, 3, 5, 7, 9}, 'dict': {1: 'a', 2: 'b', 3: 'c', 4: 'd'}, 'world': 'Bye World!'}\n",
      "d.pop(\"0\") = 0\n",
      "d = {'key': 'value', '4567': [4, 5, 6, 7], 'aqua': True, 'real': -3.1415, 'null': None, 'tuple': ('t', 'u', 'p', 'l', 'e'), 'set': {1, 3, 5, 7, 9}, 'dict': {1: 'a', 2: 'b', 3: 'c', 4: 'd'}, 'world': 'Bye World!'}\n",
      "d.popitem() = ('world', 'Bye World!')\n",
      "d = {'key': 'value', '4567': [4, 5, 6, 7], 'aqua': True, 'real': -3.1415, 'null': None, 'tuple': ('t', 'u', 'p', 'l', 'e'), 'set': {1, 3, 5, 7, 9}, 'dict': {1: 'a', 2: 'b', 3: 'c', 4: 'd'}}\n"
     ]
    }
   ],
   "source": [
    "print(f'{d = }')\n",
    "print(f'{d.pop(\"0\") = }')  # удаление и возвращение значения из словаря по ключу\n",
    "print(f'{d = }')\n",
    "print(f'{d.popitem() = }')  # удаление и возвращение значения из словаря последнее значение\n",
    "print(f'{d = }')"
   ]
  },
  {
   "cell_type": "markdown",
   "metadata": {},
   "source": [
    "### `update()`"
   ]
  },
  {
   "cell_type": "code",
   "execution_count": 45,
   "metadata": {},
   "outputs": [
    {
     "name": "stdout",
     "output_type": "stream",
     "text": [
      "d = {'key': 'value', '4567': [4, 5, 6, 7], 'aqua': True, 'real': -3.1415, 'null': None, 'tuple': ('t', 'u', 'p', 'l', 'e'), 'set': {1, 3, 5, 7, 9}, 'dict': {1: 'a', 2: 'b', 3: 'c', 4: 'd'}, '45': 45, '-9.3': -9.3, '0': -1}\n"
     ]
    }
   ],
   "source": [
    "d.update({'45': 45, '-9.3': -9.3, '0': -1})\n",
    "print(f'{d = }')"
   ]
  },
  {
   "cell_type": "markdown",
   "metadata": {},
   "source": [
    "### `setdefault()`"
   ]
  },
  {
   "cell_type": "code",
   "execution_count": 46,
   "metadata": {},
   "outputs": [
    {
     "name": "stdout",
     "output_type": "stream",
     "text": [
      "d = {'key': 'value', '4567': [4, 5, 6, 7], 'aqua': True, 'real': -3.1415, 'null': None, 'tuple': ('t', 'u', 'p', 'l', 'e'), 'set': {1, 3, 5, 7, 9}, 'dict': {1: 'a', 2: 'b', 3: 'c', 4: 'd'}, '45': 45, '-9.3': -9.3, '0': -1, '123': 123}\n",
      "d = {'key': 'value', '4567': [4, 5, 6, 7], 'aqua': True, 'real': -3.1415, 'null': None, 'tuple': ('t', 'u', 'p', 'l', 'e'), 'set': {1, 3, 5, 7, 9}, 'dict': {1: 'a', 2: 'b', 3: 'c', 4: 'd'}, '45': 45, '-9.3': -9.3, '0': -1, '123': 123}\n",
      "d = {'key': 'value', '4567': [4, 5, 6, 7], 'aqua': True, 'real': -3.1415, 'null': None, 'tuple': ('t', 'u', 'p', 'l', 'e'), 'set': {1, 3, 5, 7, 9}, 'dict': {1: 'a', 2: 'b', 3: 'c', 4: 'd'}, '45': 45, '-9.3': -9.3, '0': -1, '123': 321}\n"
     ]
    }
   ],
   "source": [
    "d.setdefault('123', 123)\n",
    "print(f'{d = }')\n",
    "d.setdefault('123', 321)\n",
    "print(f'{d = }')\n",
    "d['123'] = 321\n",
    "print(f'{d = }')"
   ]
  },
  {
   "cell_type": "markdown",
   "metadata": {},
   "source": [
    "### `copy()`"
   ]
  },
  {
   "cell_type": "code",
   "execution_count": 47,
   "metadata": {},
   "outputs": [
    {
     "name": "stdout",
     "output_type": "stream",
     "text": [
      "d_copy = {'key': 'value', '4567': [4, 5, 6, 7], 'aqua': True, 'real': -3.1415, 'null': None, 'tuple': ('t', 'u', 'p', 'l', 'e'), 'set': {1, 3, 5, 7, 9}, 'dict': {1: 'a', 2: 'b', 3: 'c', 4: 'd'}, '45': 45, '-9.3': -9.3, '0': -1, '123': 321}\n",
      "d_copy.clear()\n",
      "d = {'key': 'value', '4567': [4, 5, 6, 7], 'aqua': True, 'real': -3.1415, 'null': None, 'tuple': ('t', 'u', 'p', 'l', 'e'), 'set': {1, 3, 5, 7, 9}, 'dict': {1: 'a', 2: 'b', 3: 'c', 4: 'd'}, '45': 45, '-9.3': -9.3, '0': -1, '123': 321}\n",
      "d_copy = {}\n"
     ]
    }
   ],
   "source": [
    "d_copy = d.copy()\n",
    "print(f'{d_copy = }')\n",
    "d_copy.clear()\n",
    "print('d_copy.clear()')\n",
    "print(f'{d = }')\n",
    "print(f'{d_copy = }')"
   ]
  },
  {
   "cell_type": "code",
   "execution_count": 48,
   "metadata": {},
   "outputs": [
    {
     "name": "stdout",
     "output_type": "stream",
     "text": [
      "d_copy = {'key': 'value', '4567': [4, 5, 6, 7], 'aqua': True, 'real': -3.1415, 'null': None, 'tuple': ('t', 'u', 'p', 'l', 'e'), 'set': {1, 3, 5, 7, 9}, 'dict': {1: 'a', 2: 'b', 3: 'c', 4: 'd'}, '45': 45, '-9.3': -9.3, '0': -1, '123': 321}\n",
      "d_copy.clear()\n",
      "d = {}\n",
      "d_copy = {}\n"
     ]
    }
   ],
   "source": [
    "d_copy = d\n",
    "print(f'{d_copy = }')\n",
    "d_copy.clear()\n",
    "print('d_copy.clear()')\n",
    "print(f'{d = }')\n",
    "print(f'{d_copy = }')"
   ]
  },
  {
   "cell_type": "markdown",
   "metadata": {},
   "source": [
    "### `clear()`"
   ]
  },
  {
   "cell_type": "code",
   "execution_count": 49,
   "metadata": {},
   "outputs": [
    {
     "name": "stdout",
     "output_type": "stream",
     "text": [
      "d = {1: 'a', 'b': 2}\n",
      "d = {}\n"
     ]
    }
   ],
   "source": [
    "d = {1: 'a', 'b': 2}\n",
    "print(f'{d = }')\n",
    "d.clear()  # != d = dict()\n",
    "print(f'{d = }')"
   ]
  },
  {
   "cell_type": "markdown",
   "metadata": {},
   "source": [
    "### `del`"
   ]
  },
  {
   "cell_type": "code",
   "execution_count": 50,
   "metadata": {},
   "outputs": [
    {
     "name": "stdout",
     "output_type": "stream",
     "text": [
      "d = {'key': 'value', 'ключ': 'значение'}\n",
      "d = {'ключ': 'значение'}\n"
     ]
    },
    {
     "ename": "NameError",
     "evalue": "name 'd' is not defined",
     "output_type": "error",
     "traceback": [
      "\u001b[1;31m---------------------------------------------------------------------------\u001b[0m",
      "\u001b[1;31mNameError\u001b[0m                                 Traceback (most recent call last)",
      "Cell \u001b[1;32mIn[50], line 6\u001b[0m\n\u001b[0;32m      4\u001b[0m \u001b[38;5;28mprint\u001b[39m(\u001b[38;5;124mf\u001b[39m\u001b[38;5;124m'\u001b[39m\u001b[38;5;132;01m{\u001b[39;00md\u001b[38;5;250m \u001b[39m\u001b[38;5;132;01m= }\u001b[39;00m\u001b[38;5;124m'\u001b[39m)\n\u001b[0;32m      5\u001b[0m \u001b[38;5;28;01mdel\u001b[39;00m d\n\u001b[1;32m----> 6\u001b[0m \u001b[38;5;28mprint\u001b[39m(\u001b[38;5;124mf\u001b[39m\u001b[38;5;124m'\u001b[39m\u001b[38;5;132;01m{\u001b[39;00m\u001b[43md\u001b[49m\u001b[38;5;250m \u001b[39m\u001b[38;5;132;01m= }\u001b[39;00m\u001b[38;5;124m'\u001b[39m)\n",
      "\u001b[1;31mNameError\u001b[0m: name 'd' is not defined"
     ]
    }
   ],
   "source": [
    "d = {'key': 'value', 'ключ': 'значение'}\n",
    "print(f'{d = }')\n",
    "del d['key']\n",
    "print(f'{d = }')\n",
    "del d\n",
    "print(f'{d = }')"
   ]
  },
  {
   "cell_type": "markdown",
   "metadata": {},
   "source": [
    "## dict practice"
   ]
  },
  {
   "cell_type": "markdown",
   "metadata": {},
   "source": [
    "### dict from 2 lists"
   ]
  },
  {
   "cell_type": "code",
   "execution_count": 26,
   "metadata": {},
   "outputs": [],
   "source": [
    "keys = ['a', 'b', 'c']\n",
    "values = [1, 2, 3]"
   ]
  },
  {
   "cell_type": "code",
   "execution_count": null,
   "metadata": {},
   "outputs": [
    {
     "name": "stdout",
     "output_type": "stream",
     "text": [
      "d = {'a': 1, 'b': 2, 'c': 3}\n"
     ]
    }
   ],
   "source": [
    "temp = list()\n",
    "for word in range(len(keys)):\n",
    "    temp.append((keys[word], values[word]))\n",
    "d = dict(temp)\n",
    "print(f'{d = }')"
   ]
  },
  {
   "cell_type": "code",
   "execution_count": 28,
   "metadata": {},
   "outputs": [
    {
     "name": "stdout",
     "output_type": "stream",
     "text": [
      "d = {'a': 1, 'b': 2, 'c': 3}\n"
     ]
    }
   ],
   "source": [
    "d = dict(zip(keys, values))\n",
    "print(f'{d = }')"
   ]
  },
  {
   "cell_type": "markdown",
   "metadata": {},
   "source": [
    "### Подсчет количества элементов в списке"
   ]
  },
  {
   "cell_type": "code",
   "execution_count": null,
   "metadata": {},
   "outputs": [],
   "source": [
    "result = [1,4,7,4,4,8,9,5,3,4,6,8,8,7,5,4,3,3,6,8,9,9,6,5,4,3,4,6,5,7,6,8,8,9]"
   ]
  },
  {
   "cell_type": "code",
   "execution_count": null,
   "metadata": {},
   "outputs": [
    {
     "name": "stdout",
     "output_type": "stream",
     "text": [
      "d = {1: 1, 4: 7, 7: 3, 8: 6, 9: 4, 5: 4, 3: 4, 6: 5}\n"
     ]
    }
   ],
   "source": [
    "d = dict()\n",
    "for el in result:\n",
    "    if el not in d.keys():\n",
    "        d[el] = result.count(el)\n",
    "print(f'{d = }')"
   ]
  },
  {
   "cell_type": "markdown",
   "metadata": {},
   "source": [
    "### dict invert"
   ]
  },
  {
   "cell_type": "code",
   "execution_count": 31,
   "metadata": {},
   "outputs": [
    {
     "name": "stdout",
     "output_type": "stream",
     "text": [
      "d = {'a': 1, 'b': 2, 'c': 3}\n",
      "d = {1: 'a', 2: 'b', 3: 'c'}\n"
     ]
    }
   ],
   "source": [
    "d = {'a': 1, 'b': 2, 'c': 3}\n",
    "print(f'{d = }')\n",
    "d_ = dict()\n",
    "for key, value in d.items():\n",
    "    d_[value] = key\n",
    "d = d_.copy()\n",
    "del d_\n",
    "print(f'{d = }')"
   ]
  },
  {
   "cell_type": "markdown",
   "metadata": {},
   "source": [
    "### sort dict"
   ]
  },
  {
   "cell_type": "code",
   "execution_count": 32,
   "metadata": {},
   "outputs": [],
   "source": [
    "d = {1: 3, 2: 2, 3: 1}"
   ]
  },
  {
   "cell_type": "code",
   "execution_count": 33,
   "metadata": {},
   "outputs": [
    {
     "data": {
      "text/plain": [
       "{1: 3, 2: 2, 3: 1}"
      ]
     },
     "execution_count": 33,
     "metadata": {},
     "output_type": "execute_result"
    }
   ],
   "source": [
    "dict(sorted(d.items(), key=lambda x: x[0], reverse=False))"
   ]
  },
  {
   "cell_type": "markdown",
   "metadata": {},
   "source": [
    "### PuntoSwitcher"
   ]
  },
  {
   "cell_type": "markdown",
   "metadata": {},
   "source": [
    "Написать программу изменения текста на другую раскладку (когда забыли поменять раскладку на клавиатуре)"
   ]
  },
  {
   "cell_type": "code",
   "execution_count": null,
   "metadata": {},
   "outputs": [],
   "source": []
  },
  {
   "cell_type": "markdown",
   "metadata": {},
   "source": [
    "### Morse"
   ]
  },
  {
   "cell_type": "markdown",
   "metadata": {},
   "source": [
    "Напишите программу для кодирования и декодирования сообщений при помощи азбуки Морзе"
   ]
  },
  {
   "cell_type": "markdown",
   "metadata": {},
   "source": [
    "![](./images/morse.PNG)"
   ]
  },
  {
   "cell_type": "code",
   "execution_count": 91,
   "metadata": {},
   "outputs": [],
   "source": [
    "MORSE = {\n",
    "    'а': '10',\n",
    "    'б': '0111', \n",
    "    'в': '100', \n",
    "    'г': '001', \n",
    "    'д': '011', \n",
    "    'е': '1', \n",
    "    'ж': '1110', \n",
    "    'з': '0011', \n",
    "    'и': '11',\n",
    "    'й': '1000', \n",
    "    'л': '1011', \n",
    "    'к': '010', \n",
    "    'м': '00', \n",
    "    'н': '01', \n",
    "    'о': '000', \n",
    "    'п': '1001', \n",
    "    'р': '101', \n",
    "    'с': '111', \n",
    "    'т': '0', \n",
    "    'у': '110', \n",
    "    'ф': '1101', \n",
    "    'х': '1111', \n",
    "    'ц': '0101', \n",
    "    'ч': '0001', \n",
    "    'ш': '0000',\n",
    "    'щ': '0010', \n",
    "    'ы': '0100', \n",
    "    'ь': '0110', \n",
    "    'ъ': '0110', \n",
    "    'э': '11011', \n",
    "    'ю': '1100', \n",
    "    'я': '1010', \n",
    "}"
   ]
  },
  {
   "cell_type": "code",
   "execution_count": 79,
   "metadata": {},
   "outputs": [
    {
     "name": "stdout",
     "output_type": "stream",
     "text": [
      "words = ['1001', '101', '11', '100', '1', '0', '1001', '101', '11', '100', '1', '0', '00', '11', '101']\n"
     ]
    }
   ],
   "source": [
    "words = input().strip().lower().split()\n",
    "print(f'{words = }')"
   ]
  },
  {
   "cell_type": "code",
   "execution_count": 92,
   "metadata": {},
   "outputs": [
    {
     "name": "stdout",
     "output_type": "stream",
     "text": [
      "\n",
      "\n",
      "\n",
      "\n",
      "\n",
      "\n",
      "\n",
      "\n",
      "\n",
      "\n",
      "\n",
      "\n",
      "\n",
      "\n",
      "\n"
     ]
    }
   ],
   "source": [
    "result = list()\n",
    "for word in words:\n",
    "    for char in word:\n",
    "        if char in MORSE.keys():\n",
    "            result.append(MORSE[char])\n",
    "    print(' '.join(result))"
   ]
  },
  {
   "cell_type": "code",
   "execution_count": 93,
   "metadata": {},
   "outputs": [
    {
     "name": "stdout",
     "output_type": "stream",
     "text": [
      "п р и в е т п р и в е т м и р\n"
     ]
    }
   ],
   "source": [
    "MORSE = {value: key for key, value in MORSE.items()}\n",
    "result = []\n",
    "for word in words:\n",
    "    if word in MORSE.keys():\n",
    "        result.append(MORSE[word])\n",
    "print(' '.join(result))"
   ]
  },
  {
   "cell_type": "markdown",
   "metadata": {},
   "source": [
    "## frozenset & set"
   ]
  },
  {
   "cell_type": "code",
   "execution_count": 47,
   "metadata": {},
   "outputs": [
    {
     "name": "stdout",
     "output_type": "stream",
     "text": [
      "Frozenset (замороженное множество) – это класс с НЕИЗМЕНЯЕМЫМИ элементами.\n",
      "Кортежи могут рассматриваться как неизменяемые списки, frozenset-ы — как неизменные множества\n",
      "Множества являются изменяемыми и нехешируемыми => нельзя использовать их как словарные ключи.\n",
      "frozenset являются хешированными и могут использоваться в качестве ключей словаря.\n"
     ]
    }
   ],
   "source": [
    "print('Frozenset (замороженное множество) – это класс с НЕИЗМЕНЯЕМЫМИ элементами.')\n",
    "print('Кортежи могут рассматриваться как неизменяемые списки, frozenset-ы — как неизменные множества')\n",
    "print('Множества являются изменяемыми и нехешируемыми => нельзя использовать их как словарные ключи.')\n",
    "print('frozenset являются хешированными и могут использоваться в качестве ключей словаря.')"
   ]
  },
  {
   "cell_type": "code",
   "execution_count": 48,
   "metadata": {},
   "outputs": [
    {
     "name": "stdout",
     "output_type": "stream",
     "text": [
      "frozenset({1, 2, 3, 4, 5, 6})\n",
      "frozenset({4, 5, 6, 7, 8, 9})\n"
     ]
    }
   ],
   "source": [
    "X = frozenset([1, 2, 3, 4, 5, 6])\n",
    "Y = frozenset([4, 5, 6, 7, 8, 9])\n",
    "\n",
    "print(X)\n",
    "print(Y)"
   ]
  },
  {
   "cell_type": "code",
   "execution_count": null,
   "metadata": {},
   "outputs": [],
   "source": [
    "try:\n",
    "    print(X.pop())\n",
    "except:\n",
    "    print(\"'frozenset' object has no attribute 'pop'\")\n",
    "\n",
    "try:\n",
    "    print(X.add(Y))\n",
    "except:\n",
    "    print(\"'frozenset' object has no attribute 'add'\")"
   ]
  },
  {
   "cell_type": "code",
   "execution_count": 34,
   "metadata": {},
   "outputs": [
    {
     "name": "stdout",
     "output_type": "stream",
     "text": [
      "Множества = set – это структура данных, которые содержат неупорядоченные УНИКАЛЬНЫЕ элементы.\n",
      "Элементы множеств неизменяемые и неиндексированные.\n",
      "\tprint(set()[0]) => ошибка\n",
      "\tprint(set()[3:-1]) => ошибка\n",
      "Однако само множество позволяет внесение и удаление элементов.\n"
     ]
    }
   ],
   "source": [
    "print('Множества = set – это структура данных, которые содержат неупорядоченные УНИКАЛЬНЫЕ элементы.')\n",
    "print('Элементы множеств неизменяемые и неиндексированные.')\n",
    "print('\\tprint(set()[0]) => ошибка')\n",
    "print('\\tprint(set()[3:-1]) => ошибка')\n",
    "print('Однако само множество позволяет внесение и удаление элементов.')\n"
   ]
  },
  {
   "cell_type": "markdown",
   "metadata": {},
   "source": [
    "создание "
   ]
  },
  {
   "cell_type": "code",
   "execution_count": 35,
   "metadata": {},
   "outputs": [
    {
     "name": "stdout",
     "output_type": "stream",
     "text": [
      "num_set: {1, 2, 3, 4, 5, 6}\n",
      "string_set: {'John', 'Nicholas', 'Mercy', 'Michelle'}\n",
      "mixed_set: {2.0, 'Nicholas', (1, 2, 3)}\n",
      "num_set: {1, 2, 3, 4, 5, 6, '1', '5', '3'}\n",
      "type(dct): <class 'dict'>\n",
      "type(se): <class 'set'>\n"
     ]
    }
   ],
   "source": [
    "num_set = {1, 2, 3, 4, 5, 6}\n",
    "string_set = {\"Nicholas\", \"Michelle\", \"John\", \"Mercy\"}\n",
    "mixed_set = {2.0, \"Nicholas\", (1, 2, 3)}\n",
    "\n",
    "print(f'num_set: {num_set}')\n",
    "print(f'string_set: {string_set}')\n",
    "print(f'mixed_set: {mixed_set}')\n",
    "\n",
    "num_set = set([1, 2, 3, 4, 5, 6, '5', 4, '3', 2, '1'])\n",
    "print(f'num_set: {num_set}')\n",
    "\n",
    "dct = {}  # dict!\n",
    "se = set()\n",
    "print(f'type(dct): {type(dct)}')\n",
    "print(f'type(se): {type(se)}')"
   ]
  },
  {
   "cell_type": "markdown",
   "metadata": {},
   "source": [
    "### index"
   ]
  },
  {
   "cell_type": "code",
   "execution_count": 36,
   "metadata": {},
   "outputs": [
    {
     "name": "stdout",
     "output_type": "stream",
     "text": [
      "months: {'Aug', 'Apr', 'March', 'May', 'Jan', 'Dec', 'July', 'Nov', 'Feb', 'Oct', 'Sep', 'June'}\n",
      "Aug Apr March May Jan Dec July Nov Feb Oct Sep June "
     ]
    }
   ],
   "source": [
    "months = set([\"Jan\", \"Feb\", \"March\", \"Apr\", \"May\", \"June\", \"July\", \"Aug\", \"Sep\", \"Oct\", \"Nov\", \"Dec\"])\n",
    "print(f'months: {months}')\n",
    "for m in months:\n",
    "    print(m, end=' ')"
   ]
  },
  {
   "cell_type": "markdown",
   "metadata": {},
   "source": [
    "### in"
   ]
  },
  {
   "cell_type": "code",
   "execution_count": 37,
   "metadata": {},
   "outputs": [
    {
     "name": "stdout",
     "output_type": "stream",
     "text": [
      "months: {'Aug', 'Apr', 'March', 'May', 'Jan', 'Dec', 'July', 'Nov', 'Feb', 'Oct', 'Sep', 'June'}\n",
      "May in month: True\n",
      "Nicholas in month: False\n"
     ]
    }
   ],
   "source": [
    "months = set([\"Jan\", \"Feb\", \"March\", \"Apr\", \"May\", \"June\", \"July\", \"Aug\", \"Sep\", \"Oct\", \"Nov\", \"Dec\"])\n",
    "print(f'months: {months}')\n",
    "print(f\"May in month: {'May' in months}\")\n",
    "print(f\"Nicholas in month: {'Nicholas' in months}\")"
   ]
  },
  {
   "cell_type": "markdown",
   "metadata": {},
   "source": [
    "### add"
   ]
  },
  {
   "cell_type": "code",
   "execution_count": 38,
   "metadata": {},
   "outputs": [
    {
     "name": "stdout",
     "output_type": "stream",
     "text": [
      "months: {'Aug', 'Apr', 'March', 'May', 'Jan', 'Dec', 'Nov', 'July', 'Oct', 'Sep', 'June'}\n",
      "months: {'Feb', 'Aug', 'Apr', 'March', 'May', 'Jan', 'Dec', 'Nov', 'July', 'Oct', 'Sep', 'June'}\n"
     ]
    }
   ],
   "source": [
    "months = set([\"Jan\", \"March\", \"Apr\", \"May\", \"June\", \"July\", \"Aug\", \"Sep\", \"Oct\", \"Nov\", \"Dec\"])\n",
    "print(f'months: {months}')\n",
    "months.add(\"Feb\")\n",
    "print(f'months: {months}')"
   ]
  },
  {
   "cell_type": "markdown",
   "metadata": {},
   "source": [
    "### discard & remove & pop"
   ]
  },
  {
   "cell_type": "markdown",
   "metadata": {},
   "source": [
    "- `discard()` не будет выдавать ошибку, если элемент не был найден во множестве\n",
    "- `remove()` выдаст ошибку, если элемент не был найден во множестве\n",
    "- `pop()` удаляет и возвращает СЛУЧАНЫЙ элемент\n"
   ]
  },
  {
   "cell_type": "code",
   "execution_count": 39,
   "metadata": {},
   "outputs": [
    {
     "name": "stdout",
     "output_type": "stream",
     "text": [
      "num_set: {1, 2, 3, 4, 5, 6}\n",
      "num_set: {1, 2, 4, 5, 6}\n",
      "num_set: {1, 2, 4, 5, 6}\n",
      "1\n",
      "num_set: {2, 4, 5, 6}\n",
      "num_set: {2, 4, 5}\n"
     ]
    },
    {
     "ename": "KeyError",
     "evalue": "6",
     "output_type": "error",
     "traceback": [
      "\u001b[1;31m---------------------------------------------------------------------------\u001b[0m",
      "\u001b[1;31mKeyError\u001b[0m                                  Traceback (most recent call last)",
      "Cell \u001b[1;32mIn[39], line 14\u001b[0m\n\u001b[0;32m     12\u001b[0m num_set\u001b[38;5;241m.\u001b[39mremove(\u001b[38;5;241m6\u001b[39m)\n\u001b[0;32m     13\u001b[0m \u001b[38;5;28mprint\u001b[39m(\u001b[38;5;124mf\u001b[39m\u001b[38;5;124m'\u001b[39m\u001b[38;5;124mnum_set: \u001b[39m\u001b[38;5;132;01m{\u001b[39;00mnum_set\u001b[38;5;132;01m}\u001b[39;00m\u001b[38;5;124m'\u001b[39m)\n\u001b[1;32m---> 14\u001b[0m \u001b[43mnum_set\u001b[49m\u001b[38;5;241;43m.\u001b[39;49m\u001b[43mremove\u001b[49m\u001b[43m(\u001b[49m\u001b[38;5;241;43m6\u001b[39;49m\u001b[43m)\u001b[49m\n\u001b[0;32m     15\u001b[0m \u001b[38;5;28mprint\u001b[39m(\u001b[38;5;124mf\u001b[39m\u001b[38;5;124m'\u001b[39m\u001b[38;5;124mnum_set: \u001b[39m\u001b[38;5;132;01m{\u001b[39;00mnum_set\u001b[38;5;132;01m}\u001b[39;00m\u001b[38;5;124m'\u001b[39m)\n\u001b[0;32m     17\u001b[0m num_set\u001b[38;5;241m.\u001b[39mclear()\n",
      "\u001b[1;31mKeyError\u001b[0m: 6"
     ]
    }
   ],
   "source": [
    "num_set = {1, 2, 3, 4, 5, 6}\n",
    "print(f'num_set: {num_set}')\n",
    "\n",
    "num_set.discard(3)\n",
    "print(f'num_set: {num_set}')\n",
    "num_set.discard(3)\n",
    "print(f'num_set: {num_set}')\n",
    "\n",
    "print(f'{num_set.pop()}')\n",
    "print(f'num_set: {num_set}')\n",
    "\n",
    "num_set.remove(6)\n",
    "print(f'num_set: {num_set}')\n",
    "num_set.remove(6)\n",
    "print(f'num_set: {num_set}')\n",
    "\n",
    "num_set.clear()\n",
    "print(f'num_set: {num_set}')"
   ]
  },
  {
   "cell_type": "markdown",
   "metadata": {},
   "source": [
    "### union"
   ]
  },
  {
   "cell_type": "code",
   "execution_count": 40,
   "metadata": {},
   "outputs": [
    {
     "name": "stdout",
     "output_type": "stream",
     "text": [
      "months_a: {'Apr', 'March', 'May', 'Jan', 'Feb', 'June'}; months_b: {'Dec', 'Nov', 'July', 'Oct', 'Sep', 'Aug'}\n",
      "all_months: {'Aug', 'Apr', 'March', 'May', 'Jan', 'Dec', 'July', 'Nov', 'Feb', 'Oct', 'Sep', 'June'}\n",
      "all_months: {'Aug', 'Apr', 'March', 'May', 'Jan', 'Dec', 'July', 'Nov', 'Feb', 'Oct', 'Sep', 'June'}\n",
      "x: {1, 2, 3}; y: {4, 5, 6}; z: {8, 9, 7}.\n",
      "union: {1, 2, 3, 4, 5, 6, 7, 8, 9}\n",
      "union: {1, 2, 3, 4, 5, 6, 7, 8, 9}\n"
     ]
    }
   ],
   "source": [
    "months_a = set([\"Jan\", \"Feb\", \"March\", \"Apr\", \"May\", \"June\"])\n",
    "months_b = set([\"July\", \"Aug\", \"Sep\", \"Oct\", \"Nov\", \"Dec\"])\n",
    "print(f'months_a: {months_a}; months_b: {months_b}')\n",
    "\n",
    "all_months = months_a.union(months_b)\n",
    "print(f'all_months: {all_months}')\n",
    "print(f'all_months: {months_a | months_b}')\n",
    "\n",
    "x = {1, 2, 3}\n",
    "y = {4, 5, 6}\n",
    "z = {7, 8, 9}\n",
    "print(f'x: {x}; y: {y}; z: {z}.')\n",
    "\n",
    "output = x.union(y, z)\n",
    "print(f'union: {output}')\n",
    "print(f'union: {x | y | z}')"
   ]
  },
  {
   "cell_type": "markdown",
   "metadata": {},
   "source": [
    "### intersection"
   ]
  },
  {
   "cell_type": "code",
   "execution_count": 41,
   "metadata": {},
   "outputs": [
    {
     "name": "stdout",
     "output_type": "stream",
     "text": [
      "x: {1, 2, 3}; y: {3, 4, 6}\n",
      "intersection: {3}\n",
      "intersection: {3}\n"
     ]
    }
   ],
   "source": [
    "x = {1, 2, 3}\n",
    "y = {4, 3, 6}\n",
    "print(f'x: {x}; y: {y}')\n",
    "\n",
    "z = x.intersection(y)\n",
    "print(f'intersection: {z}')\n",
    "print(f'intersection: {x & y}')"
   ]
  },
  {
   "cell_type": "markdown",
   "metadata": {},
   "source": [
    "### difference"
   ]
  },
  {
   "cell_type": "code",
   "execution_count": 42,
   "metadata": {},
   "outputs": [
    {
     "name": "stdout",
     "output_type": "stream",
     "text": [
      "А и В - множества.\n",
      "(А — В) — это множество со всеми элементами, которые содержатся в А, но не в В.\n",
      "(В — А) — это множество со всеми элементами в В, но не в А.\n",
      "set_a: {1, 2, 3, 4, 5}; set_b: {4, 5, 6, 7, 8}\n",
      "difference: {1, 2, 3}\n",
      "difference: {1, 2, 3}\n"
     ]
    }
   ],
   "source": [
    "print('А и В - множества.')\n",
    "print('(А — В) — это множество со всеми элементами, которые содержатся в А, но не в В.')\n",
    "print('(В — А) — это множество со всеми элементами в В, но не в А.')\n",
    "\n",
    "set_a = {1, 2, 3, 4, 5}\n",
    "set_b = {4, 5, 6, 7, 8}\n",
    "print(f'set_a: {set_a}; set_b: {set_b}')\n",
    "\n",
    "diff_set = set_a.difference(set_b)\n",
    "print(f'difference: {diff_set}')\n",
    "print(f'difference: {set_a - set_b}')"
   ]
  },
  {
   "cell_type": "markdown",
   "metadata": {},
   "source": [
    "### сравнение"
   ]
  },
  {
   "cell_type": "code",
   "execution_count": 43,
   "metadata": {},
   "outputs": [
    {
     "name": "stdout",
     "output_type": "stream",
     "text": [
      "Проверка: является ли множество родительским или дочерним от другого множества\n",
      "months_a: {'Apr', 'March', 'May', 'Jan', 'Feb', 'June'}\n",
      "months_b: {'Aug', 'Apr', 'March', 'May', 'Jan', 'Dec', 'July', 'Nov', 'Feb', 'Oct', 'Sep', 'June'}\n",
      "months_a.issubset(months_b): True\n",
      "months_b.issuperset(months_a): True\n",
      "months_a <= months_b: True\n",
      "months_b >= months_a: True\n"
     ]
    }
   ],
   "source": [
    "print('Проверка: является ли множество родительским или дочерним от другого множества')\n",
    "\n",
    "months_a = set([\"Jan\", \"Feb\", \"March\", \"Apr\", \"May\", \"June\"])\n",
    "months_b = set([\"Jan\", \"Feb\", \"March\", \"Apr\", \"May\", \"June\", \"July\", \"Aug\", \"Sep\", \"Oct\", \"Nov\", \"Dec\"])\n",
    "print(f'months_a: {months_a}')\n",
    "print(f'months_b: {months_b}')\n",
    "\n",
    "print(f'months_a.issubset(months_b): {months_a.issubset(months_b)}')\n",
    "print(f'months_b.issuperset(months_a): {months_b.issuperset(months_a)}')\n",
    "\n",
    "print(f'months_a <= months_b: {months_a <= months_b}')\n",
    "print(f'months_b >= months_a: {months_b >= months_a}')"
   ]
  },
  {
   "cell_type": "markdown",
   "metadata": {},
   "source": [
    "### copy"
   ]
  },
  {
   "cell_type": "code",
   "execution_count": 44,
   "metadata": {},
   "outputs": [
    {
     "name": "stdout",
     "output_type": "stream",
     "text": [
      "string_set: {'John', 'Nicholas', 'Mercy', 'Michelle'}\n",
      "string_set.copy(): {'John', 'Nicholas', 'Mercy', 'Michelle'}\n"
     ]
    }
   ],
   "source": [
    "string_set = {\"Nicholas\", \"Michelle\", \"John\", \"Mercy\"}\n",
    "print(f'string_set: {string_set}')\n",
    "x = string_set.copy()\n",
    "print(f'string_set.copy(): {x}')"
   ]
  },
  {
   "cell_type": "markdown",
   "metadata": {},
   "source": [
    "### isdisjoint"
   ]
  },
  {
   "cell_type": "code",
   "execution_count": 45,
   "metadata": {},
   "outputs": [
    {
     "name": "stdout",
     "output_type": "stream",
     "text": [
      "метод .isdisjoint() проверяет, является ли множество пересечением или нет\n",
      "names_a: {'John', 'Nicholas', 'Mercy', 'Michelle'}\n",
      "names_b: {'Teddy', 'Bosco', 'Jeff', 'Milly'}\n",
      "names_a.isdisjoint(names_b): True\n"
     ]
    }
   ],
   "source": [
    "print('метод .isdisjoint() проверяет, является ли множество пересечением или нет')\n",
    "names_a = {\"Nicholas\", \"Michelle\", \"John\", \"Mercy\"}\n",
    "names_b = {\"Jeff\", \"Bosco\", \"Teddy\", \"Milly\"}\n",
    "print(f'names_a: {names_a}')\n",
    "print(f'names_b: {names_b}')\n",
    "\n",
    "print(f'names_a.isdisjoint(names_b): {names_a.isdisjoint(names_b)}')\n"
   ]
  },
  {
   "cell_type": "markdown",
   "metadata": {},
   "source": [
    "### len"
   ]
  },
  {
   "cell_type": "code",
   "execution_count": 46,
   "metadata": {},
   "outputs": [
    {
     "name": "stdout",
     "output_type": "stream",
     "text": [
      "names_a: {'John', 'Nicholas', 'Mercy', 'Michelle'}\n",
      "len(names_a): 4\n"
     ]
    }
   ],
   "source": [
    "names_a = {\"Nicholas\", \"Michelle\", \"John\", \"Mercy\"}\n",
    "print(f'names_a: {names_a}')\n",
    "print(f'len(names_a): {len(names_a)}')"
   ]
  },
  {
   "cell_type": "code",
   "execution_count": null,
   "metadata": {},
   "outputs": [],
   "source": []
  },
  {
   "cell_type": "code",
   "execution_count": null,
   "metadata": {},
   "outputs": [],
   "source": []
  },
  {
   "cell_type": "markdown",
   "metadata": {},
   "source": [
    "### factors = множители целого числа"
   ]
  },
  {
   "cell_type": "code",
   "execution_count": null,
   "metadata": {},
   "outputs": [
    {
     "name": "stdout",
     "output_type": "stream",
     "text": [
      "[1, 3, 9, 3607, 3803, 10821, 11409, 32463, 34227, 13717421, 41152263, 123456789]\n"
     ]
    }
   ],
   "source": [
    "import math \n",
    "\n",
    "\n",
    "number = int(input())\n",
    "factors = set()\n",
    "\n",
    "# Поиск множителей числа:\n",
    "for word in range(1, int(math.sqrt(number)) + 1):\n",
    "    if number % word == 0: # Если остатка нет, значит — множитель.\n",
    "        factors.add(word)\n",
    "        factors.add(number // word)\n",
    "\n",
    "# Преобразуем во множество, чтобы избавиться от повторов:\n",
    "factors = list(factors)\n",
    "factors.sort()\n",
    "\n",
    "print(factors)"
   ]
  },
  {
   "cell_type": "markdown",
   "metadata": {},
   "source": [
    "## array"
   ]
  },
  {
   "cell_type": "code",
   "execution_count": null,
   "metadata": {},
   "outputs": [],
   "source": []
  },
  {
   "cell_type": "markdown",
   "metadata": {},
   "source": [
    "## array practice"
   ]
  },
  {
   "cell_type": "code",
   "execution_count": null,
   "metadata": {},
   "outputs": [],
   "source": []
  },
  {
   "cell_type": "markdown",
   "metadata": {},
   "source": [
    "## try-except-else-finally and assert & raise"
   ]
  },
  {
   "cell_type": "code",
   "execution_count": 33,
   "metadata": {},
   "outputs": [
    {
     "ename": "IndentationError",
     "evalue": "unexpected indent (1249879282.py, line 2)",
     "output_type": "error",
     "traceback": [
      "\u001b[1;36m  Cell \u001b[1;32mIn[33], line 2\u001b[1;36m\u001b[0m\n\u001b[1;33m    5 / 2  # перед '5 / 2' стоит пробел\u001b[0m\n\u001b[1;37m    ^\u001b[0m\n\u001b[1;31mIndentationError\u001b[0m\u001b[1;31m:\u001b[0m unexpected indent\n"
     ]
    }
   ],
   "source": [
    "print('Исключение \"ДО исполнения\"')\n",
    " 5 / 2  # перед '5 / 2' стоит пробел"
   ]
  },
  {
   "cell_type": "code",
   "execution_count": 30,
   "metadata": {},
   "outputs": [
    {
     "name": "stdout",
     "output_type": "stream",
     "text": [
      "Исключение \"В МОМЕНТ исполнения\"\n"
     ]
    },
    {
     "ename": "ZeroDivisionError",
     "evalue": "division by zero",
     "output_type": "error",
     "traceback": [
      "\u001b[1;31m---------------------------------------------------------------------------\u001b[0m",
      "\u001b[1;31mZeroDivisionError\u001b[0m                         Traceback (most recent call last)",
      "Cell \u001b[1;32mIn[30], line 2\u001b[0m\n\u001b[0;32m      1\u001b[0m \u001b[38;5;28mprint\u001b[39m(\u001b[38;5;124m'\u001b[39m\u001b[38;5;124mИсключение \u001b[39m\u001b[38;5;124m\"\u001b[39m\u001b[38;5;124mВ МОМЕНТ исполнения\u001b[39m\u001b[38;5;124m\"\u001b[39m\u001b[38;5;124m'\u001b[39m)\n\u001b[1;32m----> 2\u001b[0m \u001b[38;5;241;43m5\u001b[39;49m\u001b[43m \u001b[49m\u001b[38;5;241;43m/\u001b[39;49m\u001b[43m \u001b[49m\u001b[38;5;241;43m0\u001b[39;49m  \u001b[38;5;66;03m# перед '5 / 0' не стоит пробел\u001b[39;00m\n",
      "\u001b[1;31mZeroDivisionError\u001b[0m: division by zero"
     ]
    }
   ],
   "source": [
    "print('Исключение \"В МОМЕНТ исполнения\"')\n",
    "5 / 0  # перед '5 / 0' не стоит пробел"
   ]
  },
  {
   "cell_type": "code",
   "execution_count": null,
   "metadata": {},
   "outputs": [],
   "source": [
    "if 0:\n",
    "    # f = open('file_that_does_not_exist.txt')\n",
    "    print('Открыть доступ к серверу!')\n",
    "    try:\n",
    "        f = open('file_that_does_not_exist.txt')\n",
    "        print('File exists')\n",
    "    except FileNotFoundError:\n",
    "        print('File not found!')\n",
    "    finally:\n",
    "        print('Закрыть доступ к серверу!')\n",
    "\n",
    "if 0:\n",
    "    print('Делитель86 готов к работе!')\n",
    "    try:\n",
    "        x, y = map(int, input('>>> ').strip().split())\n",
    "        res = x / y\n",
    "        print(res)\n",
    "    except ValueError as e:\n",
    "        print('Ошибка при переводе данных в другой тип', e)\n",
    "    except ZeroDivisionError as e:\n",
    "        print('Деление на ноль', e)\n",
    "    else:\n",
    "        print('Во время операций ошибок не обнаружено!')\n",
    "    finally:\n",
    "        print('Делитель86 закончил свою работу!')\n",
    "\n",
    "if 0:\n",
    "    try:\n",
    "        x, y = map(int, input().split())\n",
    "        res = x / y\n",
    "        print(res)\n",
    "    except (ValueError, ZeroDivisionError):\n",
    "        print('ValueError or ZeroDivisionError')\n",
    "\n",
    "'''\n",
    "# Base Exception\n",
    "    # KeyboardInterrupt\n",
    "    # GeneratorExit\n",
    "    # SystemExit\n",
    "    # Exception\n",
    "        # AttributeError\n",
    "        # ArithmeticError\n",
    "            # ZeroDivisionError\n",
    "            # FloatingPointError\n",
    "            # OverflowError\n",
    "        # EOFError\n",
    "        # NameError\n",
    "        # LookupError\n",
    "            # IndexError\n",
    "            # KeyError\n",
    "        # OSError\n",
    "            # FileNotFoundError\n",
    "            # InterruptedError\n",
    "            # permissionError\n",
    "            # TimeOutError\n",
    "        # TypeError\n",
    "        # ValueError\n",
    "'''\n",
    "\n",
    "if 0:\n",
    "    try:\n",
    "        x, y = map(int, input().split())\n",
    "        res = x / y\n",
    "    except Exception as e:\n",
    "        print('all exceptions without \"KeyboardInterrupt\", \"GeneratorExit\", \"SystemExit\"')\n",
    "\n",
    "if 0:\n",
    "    try:\n",
    "        x, y = map(int, input().split())\n",
    "        res = x / y\n",
    "    except Exception:\n",
    "        print('all exceptions without \"KeyboardInterrupt\", \"GeneratorExit\", \"SystemExit\"')\n",
    "    except ValueError:\n",
    "        print('ValueError вызываться не будет, т.к. Exception уже отлавливает ValueError')\n",
    "\n",
    "if 0:\n",
    "    try:\n",
    "        x, y = map(int, input().split())\n",
    "        res = x / y\n",
    "    except:\n",
    "        print('все исключения')\n",
    "\n",
    "# игнорирование ошибки\n",
    "if 0:\n",
    "    try:\n",
    "        7 / 0\n",
    "    except ZeroDivisionError:\n",
    "        pass\n",
    "\n",
    "# вынужденная ошибка\n",
    "if 0:\n",
    "    minA = 100\n",
    "    A = int(input('A = '))\n",
    "\n",
    "    if A < minA:\n",
    "        raise 'minA >= 100!'"
   ]
  },
  {
   "cell_type": "markdown",
   "metadata": {},
   "source": [
    "## try-except-else-finaly and assert & raise practice"
   ]
  },
  {
   "cell_type": "markdown",
   "metadata": {},
   "source": [
    "### isnum"
   ]
  },
  {
   "cell_type": "code",
   "execution_count": null,
   "metadata": {},
   "outputs": [],
   "source": [
    "def isnum(s, type_num: str = 'float') -> bool:\n",
    "        \"\"\"Проверка на число\"\"\"\n",
    "        if type(s) is not str: s = str(s)\n",
    "        if type_num.lower() in ('int', 'integer'):\n",
    "            try:\n",
    "                int(s)\n",
    "            except ValueError:\n",
    "                return False\n",
    "            else:\n",
    "                return True\n",
    "        elif type_num.lower() in ('float', 'real'):\n",
    "            try:\n",
    "                float(s)\n",
    "            except ValueError:\n",
    "                return False\n",
    "            else:\n",
    "                return True\n",
    "        else:\n",
    "            print('type_num = \"int\" or \"float\"'), exit()\n",
    "        # finally: print('check isnum() done')"
   ]
  },
  {
   "cell_type": "code",
   "execution_count": null,
   "metadata": {},
   "outputs": [],
   "source": []
  },
  {
   "cell_type": "markdown",
   "metadata": {},
   "source": [
    "## functions & procedures & generators"
   ]
  },
  {
   "cell_type": "code",
   "execution_count": null,
   "metadata": {},
   "outputs": [],
   "source": []
  },
  {
   "cell_type": "markdown",
   "metadata": {},
   "source": [
    "## random"
   ]
  },
  {
   "cell_type": "code",
   "execution_count": 22,
   "metadata": {},
   "outputs": [],
   "source": [
    "import random"
   ]
  },
  {
   "cell_type": "code",
   "execution_count": 19,
   "metadata": {},
   "outputs": [],
   "source": [
    "random.seed(1000)  # семя рандома"
   ]
  },
  {
   "cell_type": "code",
   "execution_count": null,
   "metadata": {},
   "outputs": [
    {
     "ename": "TypeError",
     "evalue": "Random.getrandbits() takes exactly one argument (0 given)",
     "output_type": "error",
     "traceback": [
      "\u001b[1;31m---------------------------------------------------------------------------\u001b[0m",
      "\u001b[1;31mTypeError\u001b[0m                                 Traceback (most recent call last)",
      "Cell \u001b[1;32mIn[21], line 1\u001b[0m\n\u001b[1;32m----> 1\u001b[0m \u001b[43mrandom\u001b[49m\u001b[38;5;241;43m.\u001b[39;49m\u001b[43mgetrandbits\u001b[49m\u001b[43m(\u001b[49m\u001b[43m)\u001b[49m\n",
      "\u001b[1;31mTypeError\u001b[0m: Random.getrandbits() takes exactly one argument (0 given)"
     ]
    }
   ],
   "source": []
  },
  {
   "cell_type": "code",
   "execution_count": null,
   "metadata": {},
   "outputs": [],
   "source": [
    "print(f'Случайное число в диапазоне [0..1]: {random.random()}')"
   ]
  },
  {
   "cell_type": "code",
   "execution_count": null,
   "metadata": {},
   "outputs": [],
   "source": [
    "a, b, step_int = 9, 39, 3\n",
    "print(f'Случайное целое число из диапазона [{a}..{b}] с шагом {step_int}: {random.randrange(a, b, step_int)}') "
   ]
  },
  {
   "cell_type": "code",
   "execution_count": null,
   "metadata": {},
   "outputs": [],
   "source": [
    "a, b = 9, 39\n",
    "print(f'Случайное число из диапазона [{a}..{b}]: {random.randint(a, b)}')"
   ]
  },
  {
   "cell_type": "code",
   "execution_count": null,
   "metadata": {},
   "outputs": [],
   "source": [
    "lst = ['Паша', 'Гриша', 8, True, -0.7]\n",
    "print(f'Случайный элемент из списка {lst}: {random.choice(lst)}')\n",
    "print(f'Случайные элементы из списка {lst}: {random.choices(lst, k=2)}')"
   ]
  },
  {
   "cell_type": "code",
   "execution_count": null,
   "metadata": {},
   "outputs": [],
   "source": [
    "lst = ['Паша', 'Гриша', 8, True, -0.7, None]\n",
    "print(f'Изначальный список: {lst}')\n",
    "random.shuffle(lst)\n",
    "print(f'Перемешанный список: {lst}')"
   ]
  },
  {
   "cell_type": "code",
   "execution_count": null,
   "metadata": {},
   "outputs": [],
   "source": [
    "a, b = 9.3, 39\n",
    "print(f'Случайное вещественное число из диапазона [{a}..{b}]: {random.uniform(a, b)}')"
   ]
  },
  {
   "cell_type": "code",
   "execution_count": null,
   "metadata": {},
   "outputs": [],
   "source": [
    "a, b, basis = 9, 39, 20\n",
    "print(f'Случайное дробное число из диапазона [{a}..{b}] с базисом {basis}: {random.triangular(a, b, basis)}')"
   ]
  },
  {
   "cell_type": "code",
   "execution_count": null,
   "metadata": {},
   "outputs": [],
   "source": [
    "num_lst = [3, 7, '12', 9, -4.7, 45, 1, True]\n",
    "print(f'Случайная выборка из {num_lst}: {random.sample(num_lst, k=3)}')"
   ]
  },
  {
   "cell_type": "code",
   "execution_count": null,
   "metadata": {},
   "outputs": [],
   "source": [
    "print('random.expovariate(lambd) - экспоненциальное распределение.')\n",
    "print('lambd = 1/среднее желаемое.')\n",
    "print('lambd должен быть отличным от нуля!')\n",
    "print('Возвращаемые значения от 0 до плюс бесконечности, если lambd положительно,')\n",
    "print('и от минус бесконечности до 0, если lambd отрицательный.')\n",
    "avarage_desired = 5\n",
    "print(f'Среднее желаемое: {avarage_desired}')\n",
    "print(f'Экспоненциальное распределение: {random.expovariate(1 / avarage_desired)}')"
   ]
  },
  {
   "cell_type": "code",
   "execution_count": 28,
   "metadata": {},
   "outputs": [
    {
     "name": "stdout",
     "output_type": "stream",
     "text": [
      "alpha = 18, beta = 3\n",
      "Бетта-распределение: 0.8719104268385595\n"
     ]
    }
   ],
   "source": [
    "alpha, beta = 18, 3\n",
    "assert alpha > 0 and beta > 0, 'alpha and betta должны быть > 0!'\n",
    "print(f'alpha = {alpha}, beta = {beta}')\n",
    "print(f'Бетта-распределение: {random.betavariate(alpha, beta)}')"
   ]
  },
  {
   "cell_type": "code",
   "execution_count": null,
   "metadata": {},
   "outputs": [],
   "source": [
    "alpha, beta = 18, 3\n",
    "assert alpha > 0 and beta > 0, 'alpha and betta должны быть > 0!'\n",
    "print(f'alpha = {alpha}, beta = {beta}')\n",
    "print(f'Гамма-распределение: {random.gammavariate(alpha, beta)}')"
   ]
  },
  {
   "cell_type": "code",
   "execution_count": null,
   "metadata": {},
   "outputs": [],
   "source": [
    "value, standard_deviation = 15, 0.6\n",
    "print(f'Значение = {value}, стандартное отклонение = {standard_deviation}')\n",
    "print(f'Распределение Гаусса: {random.gauss(value, standard_deviation)}')"
   ]
  },
  {
   "cell_type": "code",
   "execution_count": null,
   "metadata": {},
   "outputs": [],
   "source": [
    "print('Если взять натуральный логарифм этого распределения, то получится нормальное распределение')\n",
    "mu, sigma = 0.3, 3\n",
    "assert sigma > 0, 'sigma должна быть > 0!'\n",
    "print(f'Среднее значение = {mu}, стандартное отклонение = {sigma}')\n",
    "print(f'Логарифм нормального распределения: {random.lognormvariate(mu, sigma)}')"
   ]
  },
  {
   "cell_type": "code",
   "execution_count": 23,
   "metadata": {},
   "outputs": [
    {
     "name": "stdout",
     "output_type": "stream",
     "text": [
      "Среднее значение = 0.3, стандартное отклонение = 3\n",
      "Нормальное распределение: 4.623287612055845\n"
     ]
    }
   ],
   "source": [
    "mu, sigma = 0.3, 3\n",
    "print(f'Среднее значение = {mu}, стандартное отклонение = {sigma}')\n",
    "print(f'Нормальное распределение: {random.normalvariate(mu, sigma)}')"
   ]
  },
  {
   "cell_type": "code",
   "execution_count": null,
   "metadata": {},
   "outputs": [],
   "source": [
    "from math import pi\n",
    "\n",
    "mu, kappa = 3.14, 0.2\n",
    "assert 0 <= mu <= 2 * pi, '0 <= mu <= 2π'\n",
    "assert kappa >= 0, 'kappa >= 0'\n",
    "print(f'Средний угол = {mu}, параметр концентрации = {kappa}')\n",
    "print('Если каппа равна нулю, это распределение сводится к случайному углу в диапазоне от 0 до 2π')\n",
    "print(f'Случайный угол {random.vonmisesvariate(mu, kappa)} [рад]')"
   ]
  },
  {
   "cell_type": "code",
   "execution_count": null,
   "metadata": {},
   "outputs": [],
   "source": [
    "alpha = 18\n",
    "print(f'alpha = {alpha}')\n",
    "print(f'распределение Парето: {random.paretovariate(alpha)}')"
   ]
  },
  {
   "cell_type": "code",
   "execution_count": null,
   "metadata": {},
   "outputs": [],
   "source": [
    "alpha, beta = 18, 3\n",
    "print(f'alpha = {alpha}, beta = {beta}')\n",
    "print(f'Распределение Вейбулла: {random.weibullvariate(alpha, beta)}')"
   ]
  },
  {
   "cell_type": "markdown",
   "metadata": {},
   "source": [
    "## random practice"
   ]
  },
  {
   "cell_type": "markdown",
   "metadata": {},
   "source": [
    "### password_generator"
   ]
  },
  {
   "cell_type": "code",
   "execution_count": null,
   "metadata": {},
   "outputs": [],
   "source": [
    "import random\n",
    "\n",
    "\n",
    "def get_password(l):\n",
    "    s = 'qwertyuiopasdfghjklzxcvbnm'\n",
    "    res = ''\n",
    "    for i in range(l):\n",
    "        res += random.choice(s)\n",
    "    return res\n",
    "\n",
    "\n",
    "password = get_password(8)\n",
    "print(password)"
   ]
  },
  {
   "cell_type": "markdown",
   "metadata": {},
   "source": [
    "### west world"
   ]
  },
  {
   "cell_type": "code",
   "execution_count": null,
   "metadata": {},
   "outputs": [],
   "source": [
    "import random\n",
    "import time\n",
    "import sys\n",
    "\n",
    "print('Time to test your reflexes and see if you are the fastest')\n",
    "print('draw in the west!')\n",
    "print('When you see \"DRAW\", you have 0.3 seconds to press Enter.')\n",
    "print('But you lose if you press Enter before \"DRAW\" appears.')\n",
    "print()\n",
    "input('Press Enter to begin...')\n",
    "\n",
    "while True:\n",
    "    print('\\nIt is high noon...')\n",
    "    time.sleep(random.uniform(2, 8))\n",
    "    print('DRAW!')\n",
    "    drawTime = time.time()\n",
    "    input()  # This function call doesn't return until Enter is pressed.\n",
    "    timeElapsed = time.time() - drawTime\n",
    "\n",
    "    if timeElapsed < 0.01:\n",
    "        # If the player pressed Enter before DRAW! appeared, the input()\n",
    "        # call returns almost instantly.\n",
    "        print('You drew before \"DRAW\" appeared! You lose.')\n",
    "    elif timeElapsed > 0.4:\n",
    "        timeElapsed = round(timeElapsed, 4)\n",
    "        print('You took', timeElapsed, 'seconds to draw. Too slow!')\n",
    "    else:\n",
    "        timeElapsed = round(timeElapsed, 4)\n",
    "        print('You took', timeElapsed, 'seconds to draw.')\n",
    "        print('You are the fastest draw in the west! You win!')\n",
    "\n",
    "    print('Enter QUIT to stop or press Enter to play again')\n",
    "    response = input('> ').strip().upper()\n",
    "    if response == 'QUIT':\n",
    "        print('Thanks for playing!')\n",
    "        sys.exit()"
   ]
  },
  {
   "cell_type": "markdown",
   "metadata": {},
   "source": [
    "### is car number"
   ]
  },
  {
   "cell_type": "code",
   "execution_count": null,
   "metadata": {},
   "outputs": [],
   "source": [
    "['A167BC77', 'A284MP999', ]"
   ]
  },
  {
   "cell_type": "code",
   "execution_count": null,
   "metadata": {},
   "outputs": [],
   "source": []
  },
  {
   "cell_type": "markdown",
   "metadata": {},
   "source": [
    "## *args, **kwargs "
   ]
  },
  {
   "cell_type": "code",
   "execution_count": null,
   "metadata": {},
   "outputs": [],
   "source": [
    "def s(b, time, *args,\n",
    "      error=0.01, **kwargs):\n",
    "    print(f'b: {b}')\n",
    "    print(f'time: {time}')\n",
    "    print(f'args: {args}')\n",
    "    print(f'error: {error}')\n",
    "    print(f'kwargs: {kwargs}')\n",
    "    print(args[1])\n",
    "    print(kwargs.get('url', '404'))"
   ]
  },
  {
   "cell_type": "code",
   "execution_count": null,
   "metadata": {},
   "outputs": [],
   "source": [
    "s(True, '11:30', 1, 2, 3, 4,\n",
    "    r=False, error=0.05, message='труляля', url='433')"
   ]
  },
  {
   "cell_type": "code",
   "execution_count": null,
   "metadata": {},
   "outputs": [],
   "source": [
    "s(*[1, 8, 0, 9],\n",
    "  **{'1': '1', '2': 'two'})"
   ]
  },
  {
   "cell_type": "markdown",
   "metadata": {},
   "source": [
    "## time"
   ]
  },
  {
   "cell_type": "code",
   "execution_count": 32,
   "metadata": {},
   "outputs": [
    {
     "name": "stdout",
     "output_type": "stream",
     "text": [
      "DST: -4.0\n",
      "GST: -3.0\n",
      "datatime: Mon Dec 16 23:51:50 2024\n",
      "datatime: Mon Dec 16 23:51:50 2024\n",
      "Летнее/зимнее время: 0\n",
      "Текущее время в UTC: time.struct_time(tm_year=2024, tm_mon=12, tm_mday=16, tm_hour=20, tm_min=51, tm_sec=50, tm_wday=0, tm_yday=351, tm_isdst=0)\n",
      "Начало эпохи: 1 января 1970 00:00:00\n",
      "Текущее время в формате числа float секунд с начала эпохи: 1734382311.33975\n",
      "Текущее время в формате числа float секунд с начала эпохи: 23366.015\n",
      "Текущее время в формате числа float секунд с начала эпохи: 23366.9413254\n"
     ]
    }
   ],
   "source": [
    "import time\n",
    "\n",
    "print(f'DST: {time.altzone / 3600}')\n",
    "print(f'GST: {time.timezone / 3600}')\n",
    "print(f'datatime: {time.asctime()}')\n",
    "print(f'datatime: {time.ctime()}')\n",
    "print(f'Летнее/зимнее время: {time.daylight}')\n",
    "print(f'Текущее время в UTC: {time.gmtime()}')\n",
    "time.sleep(1)  # задержка на 1 с\n",
    "print('Начало эпохи: 1 января 1970 00:00:00')\n",
    "print(f'Текущее время в формате числа float секунд с начала эпохи: {time.time()}')\n",
    "print(f'Текущее время в формате числа float секунд с начала эпохи: {time.monotonic()}')\n",
    "print(f'Текущее время в формате числа float секунд с начала эпохи: {time.perf_counter()}')"
   ]
  },
  {
   "cell_type": "markdown",
   "metadata": {},
   "source": [
    "## timeit"
   ]
  },
  {
   "cell_type": "code",
   "execution_count": 33,
   "metadata": {},
   "outputs": [
    {
     "name": "stdout",
     "output_type": "stream",
     "text": [
      "Result: 170666663466666680000000\n",
      "function \"foo\" finished in 4.411791563034058 seconds\n"
     ]
    }
   ],
   "source": [
    "import time\n",
    "\n",
    "start_time = time.time()\n",
    "\n",
    "\n",
    "def foo(N: int) -> int:\n",
    "    \"\"\"Отвратительная ф-я\"\"\"\n",
    "    res = 0\n",
    "    for i in range(N): res += i ** 2\n",
    "    return res\n",
    "\n",
    "\n",
    "print('Result:', foo(80_000_000))\n",
    "print(f'function \"foo\" finished in {time.time() - start_time} seconds')\n",
    "del start_time"
   ]
  },
  {
   "cell_type": "markdown",
   "metadata": {},
   "source": [
    "## decorators"
   ]
  },
  {
   "cell_type": "markdown",
   "metadata": {},
   "source": [
    "___projects/decorators/decorators.py___"
   ]
  },
  {
   "cell_type": "markdown",
   "metadata": {},
   "source": [
    "## pipelines"
   ]
  },
  {
   "cell_type": "code",
   "execution_count": 1,
   "metadata": {},
   "outputs": [],
   "source": [
    "add = lambda x: x+2\n",
    "mul = lambda x: x*2\n",
    "pow = lambda x: x**2"
   ]
  },
  {
   "cell_type": "code",
   "execution_count": 6,
   "metadata": {},
   "outputs": [
    {
     "name": "stdout",
     "output_type": "stream",
     "text": [
      "bad practice: pow(mul(add(2))) = 64\n"
     ]
    }
   ],
   "source": [
    "print(f'bad practice: {pow(mul(add(2))) = }')"
   ]
  },
  {
   "cell_type": "code",
   "execution_count": 8,
   "metadata": {},
   "outputs": [],
   "source": [
    "def compose(*functions):\n",
    "    def pipeline(x):\n",
    "        for function in functions:\n",
    "            x = function(x)\n",
    "        return x\n",
    "    return pipeline"
   ]
  },
  {
   "cell_type": "code",
   "execution_count": 9,
   "metadata": {},
   "outputs": [
    {
     "name": "stdout",
     "output_type": "stream",
     "text": [
      "good practice: compose1(2) = 64\n"
     ]
    }
   ],
   "source": [
    "compose1 = compose(add, mul, pow)\n",
    "print(f'good practice: {compose1(2) = }')"
   ]
  },
  {
   "cell_type": "markdown",
   "metadata": {},
   "source": [
    "## sys"
   ]
  },
  {
   "cell_type": "code",
   "execution_count": null,
   "metadata": {},
   "outputs": [
    {
     "name": "stdout",
     "output_type": "stream",
     "text": [
      "string1: 60\n",
      "string2: 70\n",
      "int: 28\n",
      "float: 24\n",
      "bool: 28\n",
      "None: 16\n",
      "tuple1: 48\n",
      "tuple2: 56\n",
      "list1: 64\n",
      "list2: 72\n",
      "set1: 216\n",
      "set2: 216\n",
      "dict1: 224\n",
      "dict2: 224\n",
      "array1: 116\n",
      "array2: 120\n"
     ]
    }
   ],
   "source": [
    "import sys\n",
    "from numpy import array\n",
    "\n",
    "s1, s2 = 'Я', 'Яндекс'\n",
    "print('string1:', sys.getsizeof(s1))\n",
    "print('string2:', sys.getsizeof(s2))\n",
    "word = 8\n",
    "print('int:', sys.getsizeof(word))\n",
    "f = -3.1415\n",
    "print('float:', sys.getsizeof(f))\n",
    "b = True\n",
    "print('bool:', sys.getsizeof(b))\n",
    "n = None\n",
    "print('None:', sys.getsizeof(n))\n",
    "t1, t2 = (12,), (12, 13)\n",
    "print('tuple1:', sys.getsizeof(t1))\n",
    "print('tuple2:', sys.getsizeof(t2))\n",
    "l1, l2 = [12], [12, 13]\n",
    "print('list1:', sys.getsizeof(l1))\n",
    "print('list2:', sys.getsizeof(l2))\n",
    "se1, se2 = {12, }, {12, 13}\n",
    "print('set1:', sys.getsizeof(se1))\n",
    "print('set2:', sys.getsizeof(se2))\n",
    "d1 = {1: '12'}\n",
    "d2 = {1: '12', 2: '13', 3: '11233123'}\n",
    "print('dict1:', sys.getsizeof(d1))\n",
    "print('dict2:', sys.getsizeof(d2))\n",
    "arr1, arr2 = array([12]), array([12, 13])\n",
    "print('array1:', sys.getsizeof(arr1))\n",
    "print('array2:', sys.getsizeof(arr2))"
   ]
  },
  {
   "cell_type": "markdown",
   "metadata": {},
   "source": [
    "## os"
   ]
  },
  {
   "cell_type": "code",
   "execution_count": 95,
   "metadata": {},
   "outputs": [],
   "source": [
    "import os"
   ]
  },
  {
   "cell_type": "code",
   "execution_count": 96,
   "metadata": {},
   "outputs": [
    {
     "name": "stdout",
     "output_type": "stream",
     "text": [
      "Тип ОС: nt\n",
      "\"nt\" = Windows, \"posix\" = MacOS\n"
     ]
    }
   ],
   "source": [
    "print(f'Тип ОС: {os.name}')\n",
    "print('\"nt\" = Windows, \"posix\" = MacOS')"
   ]
  },
  {
   "cell_type": "code",
   "execution_count": 97,
   "metadata": {},
   "outputs": [
    {
     "name": "stdout",
     "output_type": "stream",
     "text": [
      "Конфигурация ОС: environ({'ACSETUPSVCPORT': '23210', 'ACSVCPORT': '17532', 'ALLUSERSPROFILE': 'C:\\\\ProgramData', 'ANSYS221_DIR': 'C:\\\\Program Files\\\\ANSYS Inc\\\\v221\\\\ANSYS', 'ANSYSLIC_DIR': 'C:\\\\Program Files\\\\ANSYS Inc\\\\Shared Files\\\\licensing', 'ANSYSLMD_LICENSE_FILE': 'C:\\\\Program Files\\\\ANSYS Inc\\\\Shared Files\\\\licensing\\\\license_files\\\\ansyslmd.lic', 'APPDATA': 'C:\\\\Users\\\\parkh\\\\AppData\\\\Roaming', 'ASCON_POLYNOM_LIBRARY': '1', 'AWP_LOCALE221': 'en-us', 'AWP_ROOT221': 'C:\\\\Program Files\\\\ANSYS Inc\\\\v221', 'CADOE_LIBDIR221': 'C:\\\\Program Files\\\\ANSYS Inc\\\\v221\\\\CommonFiles\\\\Language\\\\en-us', 'CFTURBO_ROOT': 'C:\\\\Program Files\\\\CFturbo 2021.2.2', 'CHROME_CRASHPAD_PIPE_NAME': '\\\\\\\\.\\\\pipe\\\\crashpad_11312_OPVUWZEGRCCQFHLP', 'COMMONPROGRAMFILES': 'C:\\\\Program Files\\\\Common Files', 'COMMONPROGRAMFILES(X86)': 'C:\\\\Program Files (x86)\\\\Common Files', 'COMMONPROGRAMW6432': 'C:\\\\Program Files\\\\Common Files', 'COMPUTERNAME': 'ZEPHYR', 'COMSPEC': 'C:\\\\WINDOWS\\\\system32\\\\cmd.exe', 'DRIVERDATA': 'C:\\\\Windows\\\\System32\\\\Drivers\\\\DriverData', 'ELECTRON_RUN_AS_NODE': '1', 'ENABLELOG': 'WARNING', 'FPS_BROWSER_APP_PROFILE_STRING': 'Internet Explorer', 'FPS_BROWSER_USER_PROFILE_STRING': 'Default', 'GOPATH': 'C:\\\\Users\\\\parkh\\\\go', 'HOMEDRIVE': 'C:', 'HOMEPATH': '\\\\Users\\\\parkh', 'ICEMCFD_ROOT221': 'C:\\\\Program Files\\\\ANSYS Inc\\\\v221\\\\icemcfd', 'ICEMCFD_SYSDIR': 'win64_amd', 'JPY_INTERRUPT_EVENT': '3752', 'KOMPAS_SDK': 'C:\\\\Program Files\\\\ASCON\\\\KOMPAS-3D v22 Study\\\\SDK\\\\', 'LOCALAPPDATA': 'C:\\\\Users\\\\parkh\\\\AppData\\\\Local', 'LOGONSERVER': '\\\\\\\\ZEPHYR', 'LSTC_LICENSE': 'Ansys', 'NEXT_DEPLOYMENT_ID': '', 'NODE_ENV': 'production', 'NUMBER_OF_PROCESSORS': '16', 'ONEDRIVE': 'C:\\\\Users\\\\parkh\\\\OneDrive', 'ONEDRIVECONSUMER': 'C:\\\\Users\\\\parkh\\\\OneDrive', 'ORIGINAL_XDG_CURRENT_DESKTOP': 'undefined', 'OS': 'Windows_NT', 'PATH': 'c:\\\\Python\\\\Python3128;c:\\\\Users\\\\parkh\\\\AppData\\\\Roaming\\\\Python\\\\Python312\\\\Scripts;C:\\\\Python\\\\Python351\\\\Scripts\\\\;C:\\\\Python\\\\Python351\\\\;C:\\\\Python\\\\Python354\\\\Scripts\\\\;C:\\\\Python\\\\Python354\\\\;C:\\\\Python\\\\Python379\\\\Scripts\\\\;C:\\\\Python\\\\Python379\\\\;C:\\\\Python\\\\Python389\\\\Scripts\\\\;C:\\\\Python\\\\Python389\\\\;C:\\\\Python\\\\Python3119\\\\Scripts\\\\;C:\\\\Python\\\\Python3119\\\\;C:\\\\Python\\\\Python3128\\\\Scripts\\\\;C:\\\\Python\\\\Python3128\\\\;C:\\\\Program Files\\\\NVIDIA\\\\CUDNN\\\\v9.1\\\\bin;C:\\\\Python\\\\Python 3.11.9\\\\Scripts\\\\;C:\\\\Python\\\\Python 3.11.9\\\\;C:\\\\Windows\\\\system32;C:\\\\Windows;C:\\\\Windows\\\\System32\\\\Wbem;C:\\\\Windows\\\\System32\\\\WindowsPowerShell\\\\v1.0\\\\;C:\\\\Windows\\\\System32\\\\OpenSSH\\\\;C:\\\\Program Files (x86)\\\\NVIDIA Corporation\\\\PhysX\\\\Common;C:\\\\WINDOWS\\\\system32;C:\\\\WINDOWS;C:\\\\WINDOWS\\\\System32\\\\Wbem;C:\\\\WINDOWS\\\\System32\\\\WindowsPowerShell\\\\v1.0\\\\;C:\\\\WINDOWS\\\\System32\\\\OpenSSH\\\\;C:\\\\Program Files\\\\Microsoft SQL Server\\\\120\\\\Tools\\\\Binn\\\\;C:\\\\Program Files\\\\dotnet\\\\;C:\\\\Program Files\\\\NVIDIA Corporation\\\\Nsight Compute 2024.1.1\\\\;C:\\\\Program Files\\\\Go\\\\bin;C:\\\\Program Files\\\\Git\\\\cmd;C:\\\\Program Files\\\\NVIDIA Corporation\\\\NVIDIA app\\\\NvDLISR;C:\\\\Python\\\\Scripts\\\\;C:\\\\Python\\\\;C:\\\\Users\\\\parkh\\\\AppData\\\\Local\\\\Microsoft\\\\WindowsApps;;C:\\\\Program Files\\\\JetBrains\\\\PyCharm Community Edition 2023.1.3\\\\bin;;C:\\\\Users\\\\parkh\\\\AppData\\\\Local\\\\Programs\\\\Microsoft VS Code\\\\bin;C:\\\\Users\\\\parkh\\\\go\\\\bin;C:\\\\Python\\\\Python351\\\\Scripts\\\\;C:\\\\Python\\\\Python351\\\\;C:\\\\Python\\\\Python354\\\\Scripts\\\\;C:\\\\Python\\\\Python354\\\\;C:\\\\Python\\\\Python379\\\\Scripts\\\\;C:\\\\Python\\\\Python379\\\\;C:\\\\Python\\\\Python389\\\\Scripts\\\\;C:\\\\Python\\\\Python389\\\\;C:\\\\Python\\\\Python3119\\\\Scripts\\\\;C:\\\\Python\\\\Python3119\\\\;C:\\\\Python\\\\Python3128\\\\Scripts\\\\;C:\\\\Python\\\\Python3128\\\\;C:\\\\Program Files\\\\NVIDIA\\\\CUDNN\\\\v9.1\\\\bin;C:\\\\Python\\\\Python 3.11.9\\\\Scripts\\\\;C:\\\\Python\\\\Python 3.11.9\\\\;C:\\\\Windows\\\\system32;C:\\\\Windows;C:\\\\Windows\\\\System32\\\\Wbem;C:\\\\Windows\\\\System32\\\\WindowsPowerShell\\\\v1.0\\\\;C:\\\\Windows\\\\System32\\\\OpenSSH\\\\;C:\\\\Program Files (x86)\\\\NVIDIA Corporation\\\\PhysX\\\\Common;C:\\\\WINDOWS\\\\system32;C:\\\\WINDOWS;C:\\\\WINDOWS\\\\System32\\\\Wbem;C:\\\\WINDOWS\\\\System32\\\\WindowsPowerShell\\\\v1.0\\\\;C:\\\\WINDOWS\\\\System32\\\\OpenSSH\\\\;C:\\\\Program Files\\\\Microsoft SQL Server\\\\120\\\\Tools\\\\Binn\\\\;C:\\\\Program Files\\\\dotnet\\\\;C:\\\\Program Files\\\\NVIDIA Corporation\\\\Nsight Compute 2024.1.1\\\\;C:\\\\Program Files\\\\Go\\\\bin;C:\\\\Program Files\\\\Git\\\\cmd;C:\\\\Program Files\\\\NVIDIA Corporation\\\\NVIDIA app\\\\NvDLISR;C:\\\\Python\\\\Scripts\\\\;C:\\\\Python\\\\;C:\\\\Users\\\\parkh\\\\AppData\\\\Local\\\\Microsoft\\\\WindowsApps;;C:\\\\Program Files\\\\JetBrains\\\\PyCharm Community Edition 2023.1.3\\\\bin;;C:\\\\Users\\\\parkh\\\\AppData\\\\Local\\\\Programs\\\\Microsoft VS Code\\\\bin;C:\\\\Users\\\\parkh\\\\go\\\\bin', 'PATHEXT': '.COM;.EXE;.BAT;.CMD;.VBS;.VBE;.JS;.JSE;.WSF;.WSH;.MSC;.PY;.PYW', 'PGDATA': 'C:\\\\Program Files\\\\ASCON\\\\KOMPAS-3D v22 Study\\\\Libs\\\\PolynomLib\\\\Templates\\\\LocalBase\\\\data', 'POLYNOM_INSTALL_PATH': 'C:\\\\Program Files\\\\ASCON\\\\KOMPAS-3D v22 Study\\\\Libs\\\\PolynomLib\\\\', 'PORT': '54112', 'PROCESSOR_ARCHITECTURE': 'AMD64', 'PROCESSOR_IDENTIFIER': 'Intel64 Family 6 Model 141 Stepping 1, GenuineIntel', 'PROCESSOR_LEVEL': '6', 'PROCESSOR_REVISION': '8d01', 'PROGRAMDATA': 'C:\\\\ProgramData', 'PROGRAMFILES': 'C:\\\\Program Files', 'PROGRAMFILES(X86)': 'C:\\\\Program Files (x86)', 'PROGRAMW6432': 'C:\\\\Program Files', 'PSMODULEPATH': 'C:\\\\Program Files\\\\WindowsPowerShell\\\\Modules;C:\\\\WINDOWS\\\\system32\\\\WindowsPowerShell\\\\v1.0\\\\Modules', 'PTC_D_LICENSE_FILE': 'C:\\\\Program Files\\\\PTC\\\\PTC_D_SSQ.dat', 'PUBLIC': 'C:\\\\Users\\\\Public', 'PYCHARM COMMUNITY EDITION': 'C:\\\\Program Files\\\\JetBrains\\\\PyCharm Community Edition 2023.1.3\\\\bin;', 'PYDEVD_IPYTHON_COMPATIBLE_DEBUGGING': '1', 'PYTHONIOENCODING': 'utf-8', 'PYTHONUNBUFFERED': '1', 'PYTHON_FROZEN_MODULES': 'on', 'P_SCHEMA': 'C:\\\\Program Files\\\\ANSYS Inc\\\\v221\\\\AISOL\\\\CADIntegration\\\\Parasolid\\\\PSchema', 'RLSSVCPORT': '22112', 'SEJDA_DESKTOP_INSTALLER_CONFIG': 'LICENSE_KEY=;LOCALE=;UPDATE_CHECK=;DISABLED_FEATURES=;EULA_ACCEPTED=;AUTO_REPORT_ERRORS=', 'SESSIONNAME': 'Console', 'SOS_DEBUG_EXE': 'C:\\\\Program Files\\\\ANSYS Inc\\\\v221\\\\optiSLang\\\\sos\\\\sos_console.exe', 'SOS_EXE': 'C:\\\\Program Files\\\\ANSYS Inc\\\\v221\\\\optiSLang\\\\sos\\\\sos.exe', 'SOS_INSTALL_DIR': 'C:\\\\Program Files\\\\ANSYS Inc\\\\v221\\\\optiSLang\\\\sos', 'SPLM_LICENSE_SERVER': '27800@Zephyr', 'SYSTEMDRIVE': 'C:', 'SYSTEMROOT': 'C:\\\\WINDOWS', 'TEMP': 'C:\\\\Users\\\\parkh\\\\AppData\\\\Local\\\\Temp', 'TMP': 'C:\\\\Users\\\\parkh\\\\AppData\\\\Local\\\\Temp', 'UGII_BASE_DIR': 'C:\\\\Program Files\\\\Siemens\\\\NX 12.0', 'UGII_LANG': 'russian', 'UGII_USER_DIR': 'C:\\\\Users\\\\parkh\\\\AppData\\\\Roaming\\\\cura\\\\4.12\\\\plugins\\\\SiemensNXIntegration\\\\SiemensNXIntegration\\\\files', 'USERDOMAIN': 'ZEPHYR', 'USERDOMAIN_ROAMINGPROFILE': 'ZEPHYR', 'USERNAME': 'parkh', 'USERPROFILE': 'C:\\\\Users\\\\parkh', 'VBOX_MSI_INSTALL_PATH': 'C:\\\\Program Files\\\\Oracle\\\\VirtualBox\\\\', 'VSCODE_CODE_CACHE_PATH': 'C:\\\\Users\\\\parkh\\\\AppData\\\\Roaming\\\\Code\\\\CachedData\\\\6609ac3d66f4eade5cf376d1cb76f13985724bcb', 'VSCODE_CRASH_REPORTER_PROCESS_TYPE': 'extensionHost', 'VSCODE_CWD': 'D:\\\\Programming\\\\Python', 'VSCODE_ESM_ENTRYPOINT': 'vs/workbench/api/node/extensionHostProcess', 'VSCODE_HANDLES_UNCAUGHT_ERRORS': 'true', 'VSCODE_IPC_HOOK': '\\\\\\\\.\\\\pipe\\\\58183e3e-1.98.0-main-sock', 'VSCODE_NLS_CONFIG': '{\"userLocale\":\"en-us\",\"osLocale\":\"ru\",\"resolvedLanguage\":\"en\",\"defaultMessagesFile\":\"C:\\\\\\\\Users\\\\\\\\parkh\\\\\\\\AppData\\\\\\\\Local\\\\\\\\Programs\\\\\\\\Microsoft VS Code\\\\\\\\resources\\\\\\\\app\\\\\\\\out\\\\\\\\nls.messages.json\",\"locale\":\"en-us\",\"availableLanguages\":{}}', 'VSCODE_PID': '11312', 'WINDIR': 'C:\\\\WINDOWS', 'ZES_ENABLE_SYSMAN': '1', '__NEXT_OPTIMIZE_FONTS': 'true', '__NEXT_PRIVATE_ORIGIN': 'http://localhost:54112', '__NEXT_PRIVATE_RUNTIME_TYPE': '', '__NEXT_PRIVATE_STANDALONE_CONFIG': '{\"env\":{},\"webpack\":null,\"eslint\":{\"ignoreDuringBuilds\":false},\"typescript\":{\"ignoreBuildErrors\":false,\"tsconfigPath\":\"tsconfig.json\"},\"distDir\":\"./.next\",\"cleanDistDir\":true,\"assetPrefix\":\"\",\"configOrigin\":\"next.config.js\",\"useFileSystemPublicRoutes\":true,\"generateEtags\":true,\"pageExtensions\":[\"tsx\",\"ts\",\"jsx\",\"js\"],\"poweredByHeader\":true,\"compress\":true,\"analyticsId\":\"\",\"images\":{\"deviceSizes\":[640,750,828,1080,1200,1920,2048,3840],\"imageSizes\":[16,32,48,64,96,128,256,384],\"path\":\"/_next/image\",\"loader\":\"default\",\"loaderFile\":\"\",\"domains\":[],\"disableStaticImages\":false,\"minimumCacheTTL\":60,\"formats\":[\"image/webp\"],\"dangerouslyAllowSVG\":false,\"contentSecurityPolicy\":\"script-src \\'none\\'; frame-src \\'none\\'; sandbox;\",\"contentDispositionType\":\"inline\",\"remotePatterns\":[],\"unoptimized\":false},\"devIndicators\":{\"buildActivity\":true,\"buildActivityPosition\":\"bottom-right\"},\"onDemandEntries\":{\"maxInactiveAge\":60000,\"pagesBufferLength\":5},\"amp\":{\"canonicalBase\":\"\"},\"basePath\":\"\",\"sassOptions\":{},\"trailingSlash\":false,\"i18n\":null,\"productionBrowserSourceMaps\":false,\"optimizeFonts\":true,\"excludeDefaultMomentLocales\":true,\"serverRuntimeConfig\":{},\"publicRuntimeConfig\":{},\"reactProductionProfiling\":false,\"reactStrictMode\":null,\"httpAgentOptions\":{\"keepAlive\":true},\"outputFileTracing\":true,\"staticPageGenerationTimeout\":60,\"swcMinify\":true,\"output\":\"standalone\",\"modularizeImports\":{\"@mui/icons-material\":{\"transform\":\"@mui/icons-material/{{member}}\"},\"date-fns\":{\"transform\":\"date-fns/{{member}}\"},\"lodash\":{\"transform\":\"lodash/{{member}}\"},\"lodash-es\":{\"transform\":\"lodash-es/{{member}}\"},\"ramda\":{\"transform\":\"ramda/es/{{member}}\"},\"react-bootstrap\":{\"transform\":{\"useAccordionButton\":\"modularize-import-loader?name=useAccordionButton&from=named&as=default!react-bootstrap/AccordionButton\",\"*\":\"react-bootstrap/{{member}}\"}},\"antd\":{\"transform\":\"antd/lib/{{kebabCase member}}\"},\"ahooks\":{\"transform\":{\"createUpdateEffect\":\"modularize-import-loader?name=createUpdateEffect&from=named&as=default!ahooks/es/createUpdateEffect\",\"*\":\"ahooks/es/{{member}}\"}},\"@ant-design/icons\":{\"transform\":{\"IconProvider\":\"modularize-import-loader?name=IconProvider&from=named&as=default!@ant-design/icons\",\"createFromIconfontCN\":\"@ant-design/icons/es/components/IconFont\",\"getTwoToneColor\":\"modularize-import-loader?name=getTwoToneColor&from=named&as=default!@ant-design/icons/es/components/twoTonePrimaryColor\",\"setTwoToneColor\":\"modularize-import-loader?name=setTwoToneColor&from=named&as=default!@ant-design/icons/es/components/twoTonePrimaryColor\",\"*\":\"@ant-design/icons/lib/icons/{{member}}\"}},\"next/server\":{\"transform\":\"next/dist/server/web/exports/{{ kebabCase member }}\"}},\"experimental\":{\"serverMinification\":true,\"serverSourceMaps\":false,\"caseSensitiveRoutes\":false,\"useDeploymentId\":false,\"useDeploymentIdServerActions\":false,\"clientRouterFilter\":true,\"clientRouterFilterRedirects\":false,\"fetchCacheKeyPrefix\":\"\",\"middlewarePrefetch\":\"flexible\",\"optimisticClientCache\":true,\"manualClientBasePath\":false,\"cpus\":9,\"memoryBasedWorkersCount\":false,\"isrFlushToDisk\":true,\"workerThreads\":false,\"optimizeCss\":false,\"nextScriptWorkers\":false,\"scrollRestoration\":false,\"externalDir\":false,\"disableOptimizedLoading\":false,\"gzipSize\":true,\"craCompat\":false,\"esmExternals\":true,\"isrMemoryCacheSize\":52428800,\"fullySpecified\":false,\"outputFileTracingRoot\":\"/Users/maol/WebstormProjects/Trabajo/codegpt-nextjs\",\"swcTraceProfiling\":false,\"forceSwcTransforms\":false,\"largePageDataBytes\":128000,\"adjustFontFallbacks\":false,\"adjustFontFallbacksWithSizeAdjust\":false,\"typedRoutes\":false,\"instrumentationHook\":false,\"bundlePagesExternals\":false,\"optimizePackageImports\":[\"lucide-react\",\"@headlessui/react\",\"@headlessui-float/react\",\"@heroicons/react/20/solid\",\"@heroicons/react/24/solid\",\"@heroicons/react/24/outline\",\"@visx/visx\",\"@tremor/react\",\"rxjs\",\"@mui/material\",\"@mui/icons-material\",\"recharts\",\"react-use\",\"@material-ui/core\",\"@material-ui/icons\",\"@tabler/icons-react\",\"mui-core\",\"react-icons/ai\",\"react-icons/bi\",\"react-icons/bs\",\"react-icons/cg\",\"react-icons/ci\",\"react-icons/di\",\"react-icons/fa\",\"react-icons/fa6\",\"react-icons/fc\",\"react-icons/fi\",\"react-icons/gi\",\"react-icons/go\",\"react-icons/gr\",\"react-icons/hi\",\"react-icons/hi2\",\"react-icons/im\",\"react-icons/io\",\"react-icons/io5\",\"react-icons/lia\",\"react-icons/lib\",\"react-icons/lu\",\"react-icons/md\",\"react-icons/pi\",\"react-icons/ri\",\"react-icons/rx\",\"react-icons/si\",\"react-icons/sl\",\"react-icons/tb\",\"react-icons/tfi\",\"react-icons/ti\",\"react-icons/vsc\",\"react-icons/wi\"],\"trustHostHeader\":false,\"isExperimentalCompile\":false},\"configFileName\":\"next.config.js\"}', 'PYDEVD_USE_FRAME_EVAL': 'NO', 'TERM': 'xterm-color', 'CLICOLOR': '1', 'FORCE_COLOR': '1', 'CLICOLOR_FORCE': '1', 'PAGER': 'cat', 'GIT_PAGER': 'cat', 'MPLBACKEND': 'module://matplotlib_inline.backend_inline'})\n",
      "\n",
      "ACSETUPSVCPORT: 23210\n",
      "ACSVCPORT: 17532\n",
      "ALLUSERSPROFILE: C:\\ProgramData\n",
      "ANSYS221_DIR: C:\\Program Files\\ANSYS Inc\\v221\\ANSYS\n",
      "ANSYSLIC_DIR: C:\\Program Files\\ANSYS Inc\\Shared Files\\licensing\n",
      "ANSYSLMD_LICENSE_FILE: C:\\Program Files\\ANSYS Inc\\Shared Files\\licensing\\license_files\\ansyslmd.lic\n",
      "APPDATA: C:\\Users\\parkh\\AppData\\Roaming\n",
      "ASCON_POLYNOM_LIBRARY: 1\n",
      "AWP_LOCALE221: en-us\n",
      "AWP_ROOT221: C:\\Program Files\\ANSYS Inc\\v221\n",
      "CADOE_LIBDIR221: C:\\Program Files\\ANSYS Inc\\v221\\CommonFiles\\Language\\en-us\n",
      "CFTURBO_ROOT: C:\\Program Files\\CFturbo 2021.2.2\n",
      "CHROME_CRASHPAD_PIPE_NAME: \\\\.\\pipe\\crashpad_11312_OPVUWZEGRCCQFHLP\n",
      "COMMONPROGRAMFILES: C:\\Program Files\\Common Files\n",
      "COMMONPROGRAMFILES(X86): C:\\Program Files (x86)\\Common Files\n",
      "COMMONPROGRAMW6432: C:\\Program Files\\Common Files\n",
      "COMPUTERNAME: ZEPHYR\n",
      "COMSPEC: C:\\WINDOWS\\system32\\cmd.exe\n",
      "DRIVERDATA: C:\\Windows\\System32\\Drivers\\DriverData\n",
      "ELECTRON_RUN_AS_NODE: 1\n",
      "ENABLELOG: WARNING\n",
      "FPS_BROWSER_APP_PROFILE_STRING: Internet Explorer\n",
      "FPS_BROWSER_USER_PROFILE_STRING: Default\n",
      "GOPATH: C:\\Users\\parkh\\go\n",
      "HOMEDRIVE: C:\n",
      "HOMEPATH: \\Users\\parkh\n",
      "ICEMCFD_ROOT221: C:\\Program Files\\ANSYS Inc\\v221\\icemcfd\n",
      "ICEMCFD_SYSDIR: win64_amd\n",
      "JPY_INTERRUPT_EVENT: 3752\n",
      "KOMPAS_SDK: C:\\Program Files\\ASCON\\KOMPAS-3D v22 Study\\SDK\\\n",
      "LOCALAPPDATA: C:\\Users\\parkh\\AppData\\Local\n",
      "LOGONSERVER: \\\\ZEPHYR\n",
      "LSTC_LICENSE: Ansys\n",
      "NEXT_DEPLOYMENT_ID: \n",
      "NODE_ENV: production\n",
      "NUMBER_OF_PROCESSORS: 16\n",
      "ONEDRIVE: C:\\Users\\parkh\\OneDrive\n",
      "ONEDRIVECONSUMER: C:\\Users\\parkh\\OneDrive\n",
      "ORIGINAL_XDG_CURRENT_DESKTOP: undefined\n",
      "OS: Windows_NT\n",
      "PATH: c:\\Python\\Python3128;c:\\Users\\parkh\\AppData\\Roaming\\Python\\Python312\\Scripts;C:\\Python\\Python351\\Scripts\\;C:\\Python\\Python351\\;C:\\Python\\Python354\\Scripts\\;C:\\Python\\Python354\\;C:\\Python\\Python379\\Scripts\\;C:\\Python\\Python379\\;C:\\Python\\Python389\\Scripts\\;C:\\Python\\Python389\\;C:\\Python\\Python3119\\Scripts\\;C:\\Python\\Python3119\\;C:\\Python\\Python3128\\Scripts\\;C:\\Python\\Python3128\\;C:\\Program Files\\NVIDIA\\CUDNN\\v9.1\\bin;C:\\Python\\Python 3.11.9\\Scripts\\;C:\\Python\\Python 3.11.9\\;C:\\Windows\\system32;C:\\Windows;C:\\Windows\\System32\\Wbem;C:\\Windows\\System32\\WindowsPowerShell\\v1.0\\;C:\\Windows\\System32\\OpenSSH\\;C:\\Program Files (x86)\\NVIDIA Corporation\\PhysX\\Common;C:\\WINDOWS\\system32;C:\\WINDOWS;C:\\WINDOWS\\System32\\Wbem;C:\\WINDOWS\\System32\\WindowsPowerShell\\v1.0\\;C:\\WINDOWS\\System32\\OpenSSH\\;C:\\Program Files\\Microsoft SQL Server\\120\\Tools\\Binn\\;C:\\Program Files\\dotnet\\;C:\\Program Files\\NVIDIA Corporation\\Nsight Compute 2024.1.1\\;C:\\Program Files\\Go\\bin;C:\\Program Files\\Git\\cmd;C:\\Program Files\\NVIDIA Corporation\\NVIDIA app\\NvDLISR;C:\\Python\\Scripts\\;C:\\Python\\;C:\\Users\\parkh\\AppData\\Local\\Microsoft\\WindowsApps;;C:\\Program Files\\JetBrains\\PyCharm Community Edition 2023.1.3\\bin;;C:\\Users\\parkh\\AppData\\Local\\Programs\\Microsoft VS Code\\bin;C:\\Users\\parkh\\go\\bin;C:\\Python\\Python351\\Scripts\\;C:\\Python\\Python351\\;C:\\Python\\Python354\\Scripts\\;C:\\Python\\Python354\\;C:\\Python\\Python379\\Scripts\\;C:\\Python\\Python379\\;C:\\Python\\Python389\\Scripts\\;C:\\Python\\Python389\\;C:\\Python\\Python3119\\Scripts\\;C:\\Python\\Python3119\\;C:\\Python\\Python3128\\Scripts\\;C:\\Python\\Python3128\\;C:\\Program Files\\NVIDIA\\CUDNN\\v9.1\\bin;C:\\Python\\Python 3.11.9\\Scripts\\;C:\\Python\\Python 3.11.9\\;C:\\Windows\\system32;C:\\Windows;C:\\Windows\\System32\\Wbem;C:\\Windows\\System32\\WindowsPowerShell\\v1.0\\;C:\\Windows\\System32\\OpenSSH\\;C:\\Program Files (x86)\\NVIDIA Corporation\\PhysX\\Common;C:\\WINDOWS\\system32;C:\\WINDOWS;C:\\WINDOWS\\System32\\Wbem;C:\\WINDOWS\\System32\\WindowsPowerShell\\v1.0\\;C:\\WINDOWS\\System32\\OpenSSH\\;C:\\Program Files\\Microsoft SQL Server\\120\\Tools\\Binn\\;C:\\Program Files\\dotnet\\;C:\\Program Files\\NVIDIA Corporation\\Nsight Compute 2024.1.1\\;C:\\Program Files\\Go\\bin;C:\\Program Files\\Git\\cmd;C:\\Program Files\\NVIDIA Corporation\\NVIDIA app\\NvDLISR;C:\\Python\\Scripts\\;C:\\Python\\;C:\\Users\\parkh\\AppData\\Local\\Microsoft\\WindowsApps;;C:\\Program Files\\JetBrains\\PyCharm Community Edition 2023.1.3\\bin;;C:\\Users\\parkh\\AppData\\Local\\Programs\\Microsoft VS Code\\bin;C:\\Users\\parkh\\go\\bin\n",
      "PATHEXT: .COM;.EXE;.BAT;.CMD;.VBS;.VBE;.JS;.JSE;.WSF;.WSH;.MSC;.PY;.PYW\n",
      "PGDATA: C:\\Program Files\\ASCON\\KOMPAS-3D v22 Study\\Libs\\PolynomLib\\Templates\\LocalBase\\data\n",
      "POLYNOM_INSTALL_PATH: C:\\Program Files\\ASCON\\KOMPAS-3D v22 Study\\Libs\\PolynomLib\\\n",
      "PORT: 54112\n",
      "PROCESSOR_ARCHITECTURE: AMD64\n",
      "PROCESSOR_IDENTIFIER: Intel64 Family 6 Model 141 Stepping 1, GenuineIntel\n",
      "PROCESSOR_LEVEL: 6\n",
      "PROCESSOR_REVISION: 8d01\n",
      "PROGRAMDATA: C:\\ProgramData\n",
      "PROGRAMFILES: C:\\Program Files\n",
      "PROGRAMFILES(X86): C:\\Program Files (x86)\n",
      "PROGRAMW6432: C:\\Program Files\n",
      "PSMODULEPATH: C:\\Program Files\\WindowsPowerShell\\Modules;C:\\WINDOWS\\system32\\WindowsPowerShell\\v1.0\\Modules\n",
      "PTC_D_LICENSE_FILE: C:\\Program Files\\PTC\\PTC_D_SSQ.dat\n",
      "PUBLIC: C:\\Users\\Public\n",
      "PYCHARM COMMUNITY EDITION: C:\\Program Files\\JetBrains\\PyCharm Community Edition 2023.1.3\\bin;\n",
      "PYDEVD_IPYTHON_COMPATIBLE_DEBUGGING: 1\n",
      "PYTHONIOENCODING: utf-8\n",
      "PYTHONUNBUFFERED: 1\n",
      "PYTHON_FROZEN_MODULES: on\n",
      "P_SCHEMA: C:\\Program Files\\ANSYS Inc\\v221\\AISOL\\CADIntegration\\Parasolid\\PSchema\n",
      "RLSSVCPORT: 22112\n",
      "SEJDA_DESKTOP_INSTALLER_CONFIG: LICENSE_KEY=;LOCALE=;UPDATE_CHECK=;DISABLED_FEATURES=;EULA_ACCEPTED=;AUTO_REPORT_ERRORS=\n",
      "SESSIONNAME: Console\n",
      "SOS_DEBUG_EXE: C:\\Program Files\\ANSYS Inc\\v221\\optiSLang\\sos\\sos_console.exe\n",
      "SOS_EXE: C:\\Program Files\\ANSYS Inc\\v221\\optiSLang\\sos\\sos.exe\n",
      "SOS_INSTALL_DIR: C:\\Program Files\\ANSYS Inc\\v221\\optiSLang\\sos\n",
      "SPLM_LICENSE_SERVER: 27800@Zephyr\n",
      "SYSTEMDRIVE: C:\n",
      "SYSTEMROOT: C:\\WINDOWS\n",
      "TEMP: C:\\Users\\parkh\\AppData\\Local\\Temp\n",
      "TMP: C:\\Users\\parkh\\AppData\\Local\\Temp\n",
      "UGII_BASE_DIR: C:\\Program Files\\Siemens\\NX 12.0\n",
      "UGII_LANG: russian\n",
      "UGII_USER_DIR: C:\\Users\\parkh\\AppData\\Roaming\\cura\\4.12\\plugins\\SiemensNXIntegration\\SiemensNXIntegration\\files\n",
      "USERDOMAIN: ZEPHYR\n",
      "USERDOMAIN_ROAMINGPROFILE: ZEPHYR\n",
      "USERNAME: parkh\n",
      "USERPROFILE: C:\\Users\\parkh\n",
      "VBOX_MSI_INSTALL_PATH: C:\\Program Files\\Oracle\\VirtualBox\\\n",
      "VSCODE_CODE_CACHE_PATH: C:\\Users\\parkh\\AppData\\Roaming\\Code\\CachedData\\6609ac3d66f4eade5cf376d1cb76f13985724bcb\n",
      "VSCODE_CRASH_REPORTER_PROCESS_TYPE: extensionHost\n",
      "VSCODE_CWD: D:\\Programming\\Python\n",
      "VSCODE_ESM_ENTRYPOINT: vs/workbench/api/node/extensionHostProcess\n",
      "VSCODE_HANDLES_UNCAUGHT_ERRORS: true\n",
      "VSCODE_IPC_HOOK: \\\\.\\pipe\\58183e3e-1.98.0-main-sock\n",
      "VSCODE_NLS_CONFIG: {\"userLocale\":\"en-us\",\"osLocale\":\"ru\",\"resolvedLanguage\":\"en\",\"defaultMessagesFile\":\"C:\\\\Users\\\\parkh\\\\AppData\\\\Local\\\\Programs\\\\Microsoft VS Code\\\\resources\\\\app\\\\out\\\\nls.messages.json\",\"locale\":\"en-us\",\"availableLanguages\":{}}\n",
      "VSCODE_PID: 11312\n",
      "WINDIR: C:\\WINDOWS\n",
      "ZES_ENABLE_SYSMAN: 1\n",
      "__NEXT_OPTIMIZE_FONTS: true\n",
      "__NEXT_PRIVATE_ORIGIN: http://localhost:54112\n",
      "__NEXT_PRIVATE_RUNTIME_TYPE: \n",
      "__NEXT_PRIVATE_STANDALONE_CONFIG: {\"env\":{},\"webpack\":null,\"eslint\":{\"ignoreDuringBuilds\":false},\"typescript\":{\"ignoreBuildErrors\":false,\"tsconfigPath\":\"tsconfig.json\"},\"distDir\":\"./.next\",\"cleanDistDir\":true,\"assetPrefix\":\"\",\"configOrigin\":\"next.config.js\",\"useFileSystemPublicRoutes\":true,\"generateEtags\":true,\"pageExtensions\":[\"tsx\",\"ts\",\"jsx\",\"js\"],\"poweredByHeader\":true,\"compress\":true,\"analyticsId\":\"\",\"images\":{\"deviceSizes\":[640,750,828,1080,1200,1920,2048,3840],\"imageSizes\":[16,32,48,64,96,128,256,384],\"path\":\"/_next/image\",\"loader\":\"default\",\"loaderFile\":\"\",\"domains\":[],\"disableStaticImages\":false,\"minimumCacheTTL\":60,\"formats\":[\"image/webp\"],\"dangerouslyAllowSVG\":false,\"contentSecurityPolicy\":\"script-src 'none'; frame-src 'none'; sandbox;\",\"contentDispositionType\":\"inline\",\"remotePatterns\":[],\"unoptimized\":false},\"devIndicators\":{\"buildActivity\":true,\"buildActivityPosition\":\"bottom-right\"},\"onDemandEntries\":{\"maxInactiveAge\":60000,\"pagesBufferLength\":5},\"amp\":{\"canonicalBase\":\"\"},\"basePath\":\"\",\"sassOptions\":{},\"trailingSlash\":false,\"i18n\":null,\"productionBrowserSourceMaps\":false,\"optimizeFonts\":true,\"excludeDefaultMomentLocales\":true,\"serverRuntimeConfig\":{},\"publicRuntimeConfig\":{},\"reactProductionProfiling\":false,\"reactStrictMode\":null,\"httpAgentOptions\":{\"keepAlive\":true},\"outputFileTracing\":true,\"staticPageGenerationTimeout\":60,\"swcMinify\":true,\"output\":\"standalone\",\"modularizeImports\":{\"@mui/icons-material\":{\"transform\":\"@mui/icons-material/{{member}}\"},\"date-fns\":{\"transform\":\"date-fns/{{member}}\"},\"lodash\":{\"transform\":\"lodash/{{member}}\"},\"lodash-es\":{\"transform\":\"lodash-es/{{member}}\"},\"ramda\":{\"transform\":\"ramda/es/{{member}}\"},\"react-bootstrap\":{\"transform\":{\"useAccordionButton\":\"modularize-import-loader?name=useAccordionButton&from=named&as=default!react-bootstrap/AccordionButton\",\"*\":\"react-bootstrap/{{member}}\"}},\"antd\":{\"transform\":\"antd/lib/{{kebabCase member}}\"},\"ahooks\":{\"transform\":{\"createUpdateEffect\":\"modularize-import-loader?name=createUpdateEffect&from=named&as=default!ahooks/es/createUpdateEffect\",\"*\":\"ahooks/es/{{member}}\"}},\"@ant-design/icons\":{\"transform\":{\"IconProvider\":\"modularize-import-loader?name=IconProvider&from=named&as=default!@ant-design/icons\",\"createFromIconfontCN\":\"@ant-design/icons/es/components/IconFont\",\"getTwoToneColor\":\"modularize-import-loader?name=getTwoToneColor&from=named&as=default!@ant-design/icons/es/components/twoTonePrimaryColor\",\"setTwoToneColor\":\"modularize-import-loader?name=setTwoToneColor&from=named&as=default!@ant-design/icons/es/components/twoTonePrimaryColor\",\"*\":\"@ant-design/icons/lib/icons/{{member}}\"}},\"next/server\":{\"transform\":\"next/dist/server/web/exports/{{ kebabCase member }}\"}},\"experimental\":{\"serverMinification\":true,\"serverSourceMaps\":false,\"caseSensitiveRoutes\":false,\"useDeploymentId\":false,\"useDeploymentIdServerActions\":false,\"clientRouterFilter\":true,\"clientRouterFilterRedirects\":false,\"fetchCacheKeyPrefix\":\"\",\"middlewarePrefetch\":\"flexible\",\"optimisticClientCache\":true,\"manualClientBasePath\":false,\"cpus\":9,\"memoryBasedWorkersCount\":false,\"isrFlushToDisk\":true,\"workerThreads\":false,\"optimizeCss\":false,\"nextScriptWorkers\":false,\"scrollRestoration\":false,\"externalDir\":false,\"disableOptimizedLoading\":false,\"gzipSize\":true,\"craCompat\":false,\"esmExternals\":true,\"isrMemoryCacheSize\":52428800,\"fullySpecified\":false,\"outputFileTracingRoot\":\"/Users/maol/WebstormProjects/Trabajo/codegpt-nextjs\",\"swcTraceProfiling\":false,\"forceSwcTransforms\":false,\"largePageDataBytes\":128000,\"adjustFontFallbacks\":false,\"adjustFontFallbacksWithSizeAdjust\":false,\"typedRoutes\":false,\"instrumentationHook\":false,\"bundlePagesExternals\":false,\"optimizePackageImports\":[\"lucide-react\",\"@headlessui/react\",\"@headlessui-float/react\",\"@heroicons/react/20/solid\",\"@heroicons/react/24/solid\",\"@heroicons/react/24/outline\",\"@visx/visx\",\"@tremor/react\",\"rxjs\",\"@mui/material\",\"@mui/icons-material\",\"recharts\",\"react-use\",\"@material-ui/core\",\"@material-ui/icons\",\"@tabler/icons-react\",\"mui-core\",\"react-icons/ai\",\"react-icons/bi\",\"react-icons/bs\",\"react-icons/cg\",\"react-icons/ci\",\"react-icons/di\",\"react-icons/fa\",\"react-icons/fa6\",\"react-icons/fc\",\"react-icons/fi\",\"react-icons/gi\",\"react-icons/go\",\"react-icons/gr\",\"react-icons/hi\",\"react-icons/hi2\",\"react-icons/im\",\"react-icons/io\",\"react-icons/io5\",\"react-icons/lia\",\"react-icons/lib\",\"react-icons/lu\",\"react-icons/md\",\"react-icons/pi\",\"react-icons/ri\",\"react-icons/rx\",\"react-icons/si\",\"react-icons/sl\",\"react-icons/tb\",\"react-icons/tfi\",\"react-icons/ti\",\"react-icons/vsc\",\"react-icons/wi\"],\"trustHostHeader\":false,\"isExperimentalCompile\":false},\"configFileName\":\"next.config.js\"}\n",
      "PYDEVD_USE_FRAME_EVAL: NO\n",
      "TERM: xterm-color\n",
      "CLICOLOR: 1\n",
      "FORCE_COLOR: 1\n",
      "CLICOLOR_FORCE: 1\n",
      "PAGER: cat\n",
      "GIT_PAGER: cat\n",
      "MPLBACKEND: module://matplotlib_inline.backend_inline\n"
     ]
    }
   ],
   "source": [
    "print(f'Конфигурация ОС: {os.environ}')\n",
    "print()\n",
    "for key, value in os.environ.items():\n",
    "    print(f'{key}: {value}')"
   ]
  },
  {
   "cell_type": "code",
   "execution_count": 98,
   "metadata": {},
   "outputs": [
    {
     "name": "stdout",
     "output_type": "stream",
     "text": [
      "Доступ к различным переменным средам: C:\\Users\\parkh\\AppData\\Local\\Temp\n"
     ]
    }
   ],
   "source": [
    "print(f'Доступ к различным переменным средам: {os.getenv(\"TMP\")}')"
   ]
  },
  {
   "cell_type": "code",
   "execution_count": 99,
   "metadata": {},
   "outputs": [
    {
     "name": "stdout",
     "output_type": "stream",
     "text": [
      "Путь, по которому лежит исполняемый скрипт: d:\\Programming\\Python\n"
     ]
    }
   ],
   "source": [
    "print(f'Путь, по которому лежит исполняемый скрипт: {os.getcwd()}')"
   ]
  },
  {
   "cell_type": "code",
   "execution_count": 100,
   "metadata": {},
   "outputs": [
    {
     "name": "stdout",
     "output_type": "stream",
     "text": [
      "Список содержимого директории нашего скрипта: ['matplotlib', 'Нетология', 'CatBoost', 'scipy', 'sympy', 'Algorithms', 'Math&Statictics', 'tests', 'Important [ Python Built-in Methods ] {CheatSheet}.pdf', 'python_tutorial.ipynb', '.git', 'images', 'documents', 'Вопросы по Python.txt', 'Derivatives In PYTHON (Symbolic AND Numeric).mp4', 'learn_python', 'plagins.txt', 'regular_expressions', 'PyGame', 'ЦОС', 'Нейросети на Python', 'ML', 'books', 'Flask', '.gitignore', 'pandas&polars', 'Шпаргалка по DataScience.pdf', 'Шпаргалка по Python.pdf', 'numpy', 'PySpark', 'requirements.txt', 'PyTorch', 'go4python']\n",
      "\n",
      "matplotlib\n",
      "Нетология\n",
      "CatBoost\n",
      "scipy\n",
      "sympy\n",
      "Algorithms\n",
      "Math&Statictics\n",
      "tests\n",
      "Important [ Python Built-in Methods ] {CheatSheet}.pdf\n",
      "python_tutorial.ipynb\n",
      ".git\n",
      "images\n",
      "documents\n",
      "Вопросы по Python.txt\n",
      "Derivatives In PYTHON (Symbolic AND Numeric).mp4\n",
      "learn_python\n",
      "plagins.txt\n",
      "regular_expressions\n",
      "PyGame\n",
      "ЦОС\n",
      "Нейросети на Python\n",
      "ML\n",
      "books\n",
      "Flask\n",
      ".gitignore\n",
      "pandas&polars\n",
      "Шпаргалка по DataScience.pdf\n",
      "Шпаргалка по Python.pdf\n",
      "numpy\n",
      "PySpark\n",
      "requirements.txt\n",
      "PyTorch\n",
      "go4python\n"
     ]
    }
   ],
   "source": [
    "print(f'Список содержимого директории нашего скрипта: {os.listdir()}')\n",
    "print()\n",
    "for el in os.listdir(): print(el)"
   ]
  },
  {
   "cell_type": "code",
   "execution_count": 101,
   "metadata": {},
   "outputs": [
    {
     "name": "stdout",
     "output_type": "stream",
     "text": [
      "Поиск файла \"passwords.txt\" по относительному пути: False\n",
      "Поиск файла \"LearnPython.py\" по относительному пути: False\n",
      "Поиск директории (папки) \"passwords\" по относительному пути: False\n",
      "Поиск директории (папки) \".idea\" по относительному пути: False\n",
      "\n",
      "Поиск файла \"passwords.txt\" по абсолютному пути: False\n",
      "Поиск файла \"LearnPython.py\" по абсолютному пути: False\n",
      "Поиск директории (папки) \"passwords\" по абсолютному пути: False\n",
      "Поиск директории (папки) \".idea\" по абсолютному пути: False\n"
     ]
    }
   ],
   "source": [
    "print(f'Поиск файла \"passwords.txt\" по относительному пути: {os.path.exists(\"passwords.txt\")}')\n",
    "print(f'Поиск файла \"LearnPython.py\" по относительному пути: {os.path.exists(\"LearnPython.py\")}')\n",
    "print(f'Поиск директории (папки) \"passwords\" по относительному пути: {os.path.exists(\"passwords\")}')\n",
    "print(f'Поиск директории (папки) \".idea\" по относительному пути: {os.path.exists(\".idea\")}')\n",
    "print()\n",
    "print(f'Поиск файла \"passwords.txt\" по абсолютному пути: '\n",
    "        f'{os.path.exists(\"D:/Programming/Python/learnpython/passwords.txt\")}')\n",
    "print(f'Поиск файла \"LearnPython.py\" по абсолютному пути: '\n",
    "        f'{os.path.exists(\"D:/Programming/Python/learnpython/LearnPython.py\")}')\n",
    "print(f'Поиск директории (папки) \"passwords\" по абсолютному пути: '\n",
    "        f'{os.path.exists(\"D:/Programming/Python/learnpython/passwords\")}')\n",
    "print(f'Поиск директории (папки) \".idea\" по абсолютному пути: '\n",
    "        f'{os.path.exists(\"D:/Programming/Python/learnpython/.idea\")}')"
   ]
  },
  {
   "cell_type": "code",
   "execution_count": null,
   "metadata": {},
   "outputs": [],
   "source": [
    "if 0:\n",
    "    print(f'Проверка на файл по относительному пути \".idea\": {os.path.isfile(\".idea\")}')\n",
    "    print(f'Проверка на файл по относительному пути \"LearnPython.py\": {os.path.isfile(\"LearnPython.py\")}')\n",
    "    print(f'Проверка на файл по абсолютному пути \"D:/Programming/Python/learnpython/.idea\": '\n",
    "            f'{os.path.isfile(\"D:/Programming/Python/learnpython/.idea\")}')\n",
    "    print(f'Проверка на файл по абсолютному пути \"D:/Programming/Python/learnpython/LearnPython.py\": '\n",
    "            f'{os.path.isfile(\"D:/Programming/Python/learnpython/LearnPython.py\")}')\n",
    "\n",
    "if 0:\n",
    "    print(f'Проверка на директорию по относительному пути \".idea\": {os.path.isdir(\".idea\")}')\n",
    "    print(f'Проверка на директорию по относительному пути \"LearnPython.py\": {os.path.isdir(\"LearnPython.py\")}')\n",
    "    print(f'Проверка на директорию по абсолютному пути \"D:/Programming/Python/learnpython/.idea\": '\n",
    "            f'{os.path.isdir(\"D:/Programming/Python/learnpython/.idea\")}')\n",
    "    print(f'Проверка на директорию по абсолютному пути \"D:/Programming/Python/learnpython/LearnPython.py\": '\n",
    "            f'{os.path.isdir(\"D:/Programming/Python/learnpython/LearnPython.py\")}')\n",
    "\n",
    "if 0:\n",
    "    # перед любым созданием файла/директории\n",
    "    # обязательна должна следовать проверка на уже существование файла/директории с таким же названием\n",
    "    # В противном случае данные будут перезаписаны и навеки потеряны!\n",
    "\n",
    "    if not os.path.exists('spam1'):\n",
    "        os.mkdir('spam1')\n",
    "        print(f'Директория создана по относительному пути \"spam1\": {os.path.exists(\"spam1\")}')\n",
    "\n",
    "    if not os.path.exists('D:/Programming/Python/learnpython/spam2'):\n",
    "        os.mkdir('D:/Programming/Python/learnpython/spam2')\n",
    "        print(f'Директория создана по абсолютному пути \"D:/Programming/Python/learnpython/spam2\": '\n",
    "                f'{os.path.exists(\"D:/Programming/Python/learnpython/spam2\")}')\n",
    "\n",
    "    if not os.path.exists('0'):\n",
    "        os.makedirs('0/1/2/3/4/5/6/7/8/9')\n",
    "        print(f'Директории созданы по относительному пути \"0/1/2/3/4/5/6/7/8/9\": '\n",
    "                f'{os.path.exists(\"0/1/2/3/4/5/6/7/8/9\")}')\n",
    "\n",
    "    if not os.path.exists('D:/Programming/Python/learnpython/9/8/7/6/5/4/3/2/1/0'):\n",
    "        os.makedirs('D:/Programming/Python/learnpython/9/8/7/6/5/4/3/2/1/0')\n",
    "        print(f'Директории созданы по абсолютному пути '\n",
    "                f'D:/Programming/Python/learnpython/9/8/7/6/5/4/3/2/1/0\": '\n",
    "                f'{os.path.exists(\"D:/Programming/Python/learnpython/9/8/7/6/5/4/3/2/1/0\")}')\n",
    "\n",
    "    if 0:\n",
    "        # перед любым удалением директории\n",
    "        # обязательна должна следовать проверка на уже существование директории\n",
    "        # В противном случае будет ошибка\n",
    "\n",
    "        if os.path.exists('spam1'):\n",
    "            os.rmdir('spam1')\n",
    "            print(f'Директория удалена по относительному пути \"spam1\": {not os.path.exists(\"spam1\")}')\n",
    "\n",
    "        if os.path.exists('D:/Programming/Python/learnpython/spam2'):\n",
    "            os.rmdir('D:/Programming/Python/learnpython/spam2')\n",
    "            print(f'Директория удалена по абсолютному пути \"D:/Programming/Python/learnpython/spam2\": '\n",
    "                    f'{not os.path.exists(\"D:/Programming/Python/learnpython/spam2\")}')\n",
    "\n",
    "        if os.path.exists('0/1/2/3/4/5/6/7/8/9'):\n",
    "            os.removedirs('0/1/2/3/4/5/6/7/8/9')\n",
    "            print(f'Директории удалены по относительному пути \"0/1/2/3/4/5/6/7/8/9\": '\n",
    "                    f'{not os.path.exists(\"0/1/2/3/4/5/6/7/8/9\")}')\n",
    "\n",
    "        if os.path.exists('D:/Programming/Python/learnpython/9/8/7/6/5/4/3/2/1/0'):\n",
    "            os.removedirs('D:/Programming/Python/learnpython/9/8/7/6/5/4/3/2/1/0')\n",
    "            print(f'Директории удалены по абсолютному пути '\n",
    "                    f'D:/Programming/Python/learnpython/9/8/7/6/5/4/3/2/1/0\": '\n",
    "                    f'{not os.path.exists(\"D:/Programming/Python/learnpython/9/8/7/6/5/4/3/2/1/0\")}')\n",
    "\n",
    "if 0:\n",
    "    file = open('test1.txt', 'w')\n",
    "    file.write('Hello World 1!')\n",
    "    file.close()\n",
    "\n",
    "    file = open('test2.txt', 'w')\n",
    "    file.write('Hello World 2!')\n",
    "    file.close()\n",
    "\n",
    "    if 0:\n",
    "        if os.path.exists('test1.txt'):\n",
    "            os.remove(\"test1.txt\")\n",
    "            print(f'Файл удален по относительному пути \"test1.txt\": {not os.path.exists(\"test1.txt\")}')\n",
    "\n",
    "    if 0:\n",
    "        if os.path.exists('D:/Programming/Python/learnpython/test2.txt'):\n",
    "            os.remove(\"D:/Programming/Python/learnpython/test2.txt\")\n",
    "            print(f'Файл удален по абсолютному пути \"D:/Programming/Python/learnpython/test2.txt\": '\n",
    "                    f'{not os.path.exists(\"D:/Programming/Python/learnpython/test2.txt\")}')\n",
    "\n",
    "if 0:\n",
    "    file = open('test.txt', 'w')\n",
    "    file.write('Hello World!')\n",
    "    file.close()\n",
    "\n",
    "    if os.path.exists('test.txt'):\n",
    "        os.startfile('test.txt')  # открыть файл в системе\n",
    "\n",
    "if 0:\n",
    "    abspath = os.path.abspath(__file__)\n",
    "    print(f'Абсолютный путь: {abspath}')\n",
    "    print(f'Извлечение имени файла с расширением из пути {abspath}: {os.path.basename(abspath)}')\n",
    "    print(f'Извлечение пути к файлу из пути {abspath}: {os.path.dirname(abspath)}')\n",
    "\n",
    "if 0:\n",
    "    print(f'Размер файла по относительному пути \"LearnPython.py\": '\n",
    "            f'{os.path.getsize(\"LearnPython.py\")} байт')\n",
    "    print(f'Размер файла по абсолютному пути \"D:/Programming/Python/learnpython/LearnPython.py\": '\n",
    "            f'{os.path.getsize(\"D:/Programming/Python/learnpython/LearnPython.py\")} байт')\n",
    "\n",
    "if 0:\n",
    "    if 0:\n",
    "        if not os.path.exists('spam'):\n",
    "            os.mkdir('spam')\n",
    "            if not os.path.exists('flood'):\n",
    "                os.rename('spam', 'flood')  # переименование директории spam -> flood\n",
    "    if 0:\n",
    "        if not os.path.exists('D:/Programming/Python/learnpython/spam'):\n",
    "            os.mkdir('D:/Programming/Python/learnpython/spam')\n",
    "            if not os.path.exists('D:/Programming/Python/learnpython/flood'):\n",
    "                os.rename('spam', 'flood')  # переименование директории flood -> spam\n",
    "    if 0:\n",
    "        if not os.path.exists('0/1'):\n",
    "            os.makedirs('0/1')\n",
    "            if not os.path.exists('1/0'):\n",
    "                os.renames('0/1',\n",
    "                            '1/0')\n",
    "    if 0:\n",
    "        if not os.path.exists('D:/Programming/Python/learnpython/0/1'):\n",
    "            os.makedirs('D:/Programming/Python/learnpython/0/1')\n",
    "            if not os.path.exists('D:/Programming/Python/learnpython/1/0'):\n",
    "                os.renames('D:/Programming/Python/learnpython/0/1',\n",
    "                            'D:/Programming/Python/learnpython/1/0')\n",
    "\n",
    "if 0:\n",
    "    print(f'Абсолютный путь к исполняемому скрипту: {__file__}')\n",
    "    print(f'Абсолютный путь к исполняемому скрипту: {os.path.abspath(__file__)}')\n",
    "    print(f'Путь к исполняемому скрипту по абсолютному пути: '\n",
    "            f'{os.path.dirname(os.path.abspath(__file__))}')\n",
    "    print(f'Файл.расширение исполняемого скрипта по абсолютному пути: '\n",
    "            f'{os.path.basename(os.path.abspath(__file__))}')\n",
    "\n",
    "# прогулка по всем директориям данного пути и просмотр содержимого\n",
    "if 0:\n",
    "    from colorama import Fore\n",
    "\n",
    "    for root, directories, files in os.walk('D:/Programming/Python/learnpython'):\n",
    "        print(Fore.RED + root + Fore.RESET)\n",
    "        for directory in directories: print('\\t' + Fore.YELLOW + directory + Fore.RESET)\n",
    "        for file in files: print('\\t\\t' + Fore.GREEN + file + Fore.RESET)\n",
    "        print('*' * 1000)\n",
    "\n",
    "if 0:\n",
    "    print(f'Статистика по абсолютному пути: {os.stat(\"D:/Programming/Python/learnpython\")}')\n",
    "    print()\n",
    "    for el in os.stat(\"D:/Programming/Python/learnpython\"):\n",
    "        print(el)\n",
    "\n",
    "if 0:\n",
    "    if not os.path.exists('test_os'):\n",
    "        os.mkdir('test_os')\n",
    "\n",
    "    os.chdir('test_os')  # смена директории (указателя на директорию)\n",
    "\n",
    "    file = open('test_os.txt', 'w')\n",
    "    file.write('Hello World!')\n",
    "    file.close()\n",
    "\n",
    "    os.chdir(os.path.dirname(os.path.abspath(__file__)))  # возвращение к исходной директории\n",
    "\n",
    "    file = open('test_os.txt', 'w')\n",
    "    file.write('Hello World!')\n",
    "    file.close()"
   ]
  },
  {
   "cell_type": "markdown",
   "metadata": {},
   "source": [
    "### folder-virus"
   ]
  },
  {
   "cell_type": "markdown",
   "metadata": {},
   "source": [
    "вирус-флуд папками"
   ]
  },
  {
   "cell_type": "code",
   "execution_count": null,
   "metadata": {},
   "outputs": [],
   "source": []
  },
  {
   "cell_type": "markdown",
   "metadata": {},
   "source": [
    "## files"
   ]
  },
  {
   "cell_type": "markdown",
   "metadata": {},
   "source": [
    "2 типа файлов:\n",
    "- текстовый `.txt` (простой текст), `.rtf` (формат обогащенного текста)\n",
    "- бинарный `.bin`"
   ]
  },
  {
   "cell_type": "markdown",
   "metadata": {},
   "source": [
    "access_mode\n",
    "- `r` = режим чтения\n",
    "- `w` = режим записи. Создаст новый файл, если не найдет с указанным именем\n",
    "- `rb` = режим бинарного чтения\n",
    "- `wb` = режим бинарной записи. Создаст новый файл, если не найдет с указанным именем.\n",
    "- `r+` = режим чтения и записи\n",
    "- `rb+` = режим бинарного чтения и бинарной записи\n",
    "- `w+` = режим чтения и записи. Создаст новый файл, если не найдет с указанным именем.\n",
    "- `wb+` = режим бинарного чтения и бинарной записи. Создаст новый файл, если не найдет с указанным именем.\n",
    "- `a` = режим добавления нового содержимого. Создаст новый файл для записи, если не найдет с указанным именем.\n",
    "- `a+` = режим добавления нового содержимого. Создаст новый файл для чтения записи, если не найдет с указанным именем.\n",
    "- `ab` = режим добавления нового бинарного содержимого. Создаст новый файл для записи, если не найдет с указанным именем.\n",
    "- `ab+` = режим добавления нового бинарного содержимого. Создаст новый файл для чтения записи, если не найдет с указанным именем."
   ]
  },
  {
   "cell_type": "markdown",
   "metadata": {},
   "source": [
    "### txt"
   ]
  },
  {
   "cell_type": "code",
   "execution_count": 4,
   "metadata": {},
   "outputs": [
    {
     "name": "stdout",
     "output_type": "stream",
     "text": [
      "<_io.TextIOWrapper name='./datas/Snow Queen.txt' mode='rt' encoding='utf-8'>\n"
     ]
    }
   ],
   "source": [
    "file = open('./datas/Snow Queen.txt', 'rt', encoding='utf-8')\n",
    "print(file)\n",
    "file.close()"
   ]
  },
  {
   "cell_type": "code",
   "execution_count": null,
   "metadata": {},
   "outputs": [
    {
     "name": "stdout",
     "output_type": "stream",
     "text": [
      "<_io.TextIOWrapper name='datas/Snow Queen.txt' mode='rt' encoding='utf-8'>\n"
     ]
    }
   ],
   "source": [
    "with open('./datas/Snow Queen.txt', 'rt', encoding='utf-8') as file:\n",
    "    print(file)"
   ]
  },
  {
   "cell_type": "code",
   "execution_count": null,
   "metadata": {},
   "outputs": [],
   "source": [
    "with open('Snow Queen.txt', 'rt', encoding='utf-8') as file:\n",
    "    print(f'file.name: {file.name}')\n",
    "    print(f'file.mode: {file.mode}')\n",
    "    print(f'file.encoding: {file.encoding}')"
   ]
  },
  {
   "cell_type": "code",
   "execution_count": null,
   "metadata": {},
   "outputs": [],
   "source": [
    "with open('Snow Queen.txt', 'rt', encoding='utf-8') as file:\n",
    "    print(file.read(4))\n",
    "    print()\n",
    "    print(file.read())  # строка"
   ]
  },
  {
   "cell_type": "code",
   "execution_count": null,
   "metadata": {},
   "outputs": [],
   "source": [
    "with open('Snow Queen.txt', 'rt', encoding='utf-8') as file:\n",
    "    print(file.readlines(20))  # список из абзацев по переданному количеству символов\n",
    "    print()\n",
    "    print(file.readlines())  # список из строчек в файле\n",
    "    # print(list(file)) # аналогично readlines()"
   ]
  },
  {
   "cell_type": "code",
   "execution_count": null,
   "metadata": {},
   "outputs": [],
   "source": [
    "with open('Snow Queen.txt', 'rt', encoding='utf-8') as file:\n",
    "    print(file.readline(4))  # строчка из 4 символ в файле\n",
    "    print()\n",
    "    print(file.readline())  # строчка в файле\n",
    "    for line in file:\n",
    "        print('\\t' + line)  # строчки в файле"
   ]
  },
  {
   "cell_type": "code",
   "execution_count": null,
   "metadata": {},
   "outputs": [],
   "source": [
    "with open('learning_files.txt', 'w+', encoding='utf-8') as file:\n",
    "    print(f'cursor: {file.tell()}')  # положение курсора\n",
    "    file.writelines(['Прювет', ' ', 'Волку', '!'])  # 1 способ\n",
    "    print(f'cursor: {file.tell()}')\n",
    "    file.seek(0)  # изменение положения курсора\n",
    "    print(f'cursor: {file.tell()}')\n",
    "    print('Hello', file=file, end=' ')  # 2 способ\n",
    "    print(f'cursor: {file.tell()}')\n",
    "    file.write('World!')  # 3 способ\n",
    "    print(f'cursor: {file.tell()}')"
   ]
  },
  {
   "cell_type": "markdown",
   "metadata": {},
   "source": [
    "### csv"
   ]
  },
  {
   "cell_type": "code",
   "execution_count": null,
   "metadata": {},
   "outputs": [],
   "source": [
    "import csv"
   ]
  },
  {
   "cell_type": "code",
   "execution_count": null,
   "metadata": {},
   "outputs": [],
   "source": [
    "with open('addresses.csv', 'r') as csvfile:\n",
    "    reader = csv.reader(csvfile, delimiter=',')\n",
    "    for row in reader:\n",
    "        print(row)"
   ]
  },
  {
   "cell_type": "code",
   "execution_count": null,
   "metadata": {},
   "outputs": [],
   "source": [
    "with open('addresses.csv', 'r') as csvfile:\n",
    "    reader = csv.DictReader(csvfile, delimiter=',')\n",
    "    for row in reader:\n",
    "        print(row)"
   ]
  },
  {
   "cell_type": "code",
   "execution_count": null,
   "metadata": {},
   "outputs": [],
   "source": [
    "data = [['Name', 'Age', 'City'],\n",
    "        ['Alice', '30', 'New York'],\n",
    "        ['Bob', '25', 'Lipetsk']]\n",
    "\n",
    "with open('csv_write_lists.csv', 'w', encoding='utf-8') as csvfile:\n",
    "    writer = csv.writer(csvfile, delimiter=',')\n",
    "    for row in data:\n",
    "        writer.writerow(row)"
   ]
  },
  {
   "cell_type": "code",
   "execution_count": null,
   "metadata": {},
   "outputs": [],
   "source": [
    "data = [{'row': '0', 'ID': '000', 'datatime': '12.32.43', 'price': '120'},\n",
    "        {'row': '1', 'ID': '001', 'datatime': '32.22.83', 'price': '5450'},\n",
    "        {'row': '2', 'ID': '010', 'datatime': '92.39.13', 'price': '9'}]\n",
    "\n",
    "with open('csv_write_dicts.csv', 'w', encoding='utf-8') as csvfile:\n",
    "    writer = csv.DictWriter(csvfile, fieldnames=list(data[0].keys()))\n",
    "    writer.writeheader()\n",
    "    for d in data:\n",
    "        writer.writerow(d)"
   ]
  },
  {
   "cell_type": "code",
   "execution_count": null,
   "metadata": {},
   "outputs": [],
   "source": [
    "import pandas as pd\n",
    "import polars as pl\n",
    "\n",
    "df = pd.read_csv('csv_write_lists.csv')\n",
    "print(df)\n",
    "df = pd.read_csv('csv_write_dicts.csv')\n",
    "print(df)\n",
    "df = pl.read_csv('titanic.csv').to_pandas()\n",
    "print(df)"
   ]
  },
  {
   "cell_type": "markdown",
   "metadata": {},
   "source": [
    "## json"
   ]
  },
  {
   "cell_type": "code",
   "execution_count": null,
   "metadata": {},
   "outputs": [],
   "source": []
  },
  {
   "cell_type": "markdown",
   "metadata": {},
   "source": [
    "## multiprocessing"
   ]
  },
  {
   "cell_type": "code",
   "execution_count": 1,
   "metadata": {},
   "outputs": [],
   "source": [
    "import math\n",
    "import multiprocessing as mp"
   ]
  },
  {
   "cell_type": "code",
   "execution_count": 2,
   "metadata": {},
   "outputs": [],
   "source": [
    "def func1(numbers):\n",
    "    result1 = []\n",
    "    for number in numbers:\n",
    "        result1.append(math.sqrt(number ** 1))\n",
    "\n",
    "\n",
    "def func2(numbers):\n",
    "    result2 = []\n",
    "    for number in numbers:\n",
    "        result2.append(math.sqrt(number ** 2))\n",
    "\n",
    "\n",
    "def func3(numbers):\n",
    "    result3 = []\n",
    "    for number in numbers:\n",
    "        result3.append(math.sqrt(number ** 3))"
   ]
  },
  {
   "cell_type": "code",
   "execution_count": 6,
   "metadata": {},
   "outputs": [
    {
     "name": "stdout",
     "output_type": "stream",
     "text": [
      "CPU times: total: 141 ms\n",
      "Wall time: 143 ms\n"
     ]
    }
   ],
   "source": [
    "%%time\n",
    "lst = list(range(9_000_000))"
   ]
  },
  {
   "cell_type": "code",
   "execution_count": 7,
   "metadata": {},
   "outputs": [
    {
     "name": "stdout",
     "output_type": "stream",
     "text": [
      "CPU times: total: 5.11 s\n",
      "Wall time: 5.12 s\n"
     ]
    }
   ],
   "source": [
    "%%time\n",
    "func1(lst)\n",
    "func2(lst)\n",
    "func3(lst)"
   ]
  },
  {
   "cell_type": "code",
   "execution_count": null,
   "metadata": {},
   "outputs": [],
   "source": [
    "%%time\n",
    "p1 = mp.Process(target=func1, args=(lst,))\n",
    "p2 = mp.Process(target=func2, args=(lst,))\n",
    "p3 = mp.Process(target=func3, args=(lst,))"
   ]
  },
  {
   "cell_type": "markdown",
   "metadata": {},
   "source": [
    "# Объектно-ориентированное програмирование"
   ]
  },
  {
   "cell_type": "markdown",
   "metadata": {},
   "source": [
    "## Терминология"
   ]
  },
  {
   "cell_type": "code",
   "execution_count": 4,
   "metadata": {},
   "outputs": [],
   "source": [
    "class Book:  # имя класса ВСЕГДА С ЗАГЛАВНОЙ БУКВЫ\n",
    "    \"\"\"Класс книг\"\"\" # __doc__ \n",
    "\n",
    "    # атрибуты свойства класса\n",
    "    title = ''\n",
    "    pages = 0\n",
    "    bookmark = 0  # закладка\n",
    "\n",
    "    # методы\n",
    "    def print_self(self):\n",
    "        print(self) # ссылка на объект\n",
    "\n",
    "    def set_bookmark(self):\n",
    "        bookmark = input('На какой странице оставить закладку? ')\n",
    "        self.bookmark = bookmark\n",
    "        print(f'Установлена закладка на странице {bookmark}')\n",
    "\n",
    "    def set_title(self, title):\n",
    "        if type(title) == str:\n",
    "            self.title = title\n",
    "        else:\n",
    "            print('type(title) == str!')\n",
    "\n",
    "    def print_title(self):\n",
    "        print(self.title)"
   ]
  },
  {
   "cell_type": "code",
   "execution_count": 5,
   "metadata": {},
   "outputs": [
    {
     "name": "stdout",
     "output_type": "stream",
     "text": [
      "<class '__main__.Book'>\n",
      "<__main__.Book object at 0x000001ADF479CC50>\n"
     ]
    }
   ],
   "source": [
    "class_book = Book  # ссылка класс\n",
    "temp_book = class_book()\n",
    "\n",
    "print(class_book) \n",
    "print(temp_book)"
   ]
  },
  {
   "cell_type": "code",
   "execution_count": 6,
   "metadata": {},
   "outputs": [
    {
     "name": "stdout",
     "output_type": "stream",
     "text": [
      "book1: <__main__.Book object at 0x000001ADF479FA90>\n"
     ]
    }
   ],
   "source": [
    "book1 = Book()  # объект класса = экземпляр класса\n",
    "print(f'book1: {book1}')"
   ]
  },
  {
   "cell_type": "code",
   "execution_count": 7,
   "metadata": {},
   "outputs": [
    {
     "name": "stdout",
     "output_type": "stream",
     "text": [
      "book1.pages: 0\n",
      "book1.pages: 493\n",
      "book2.pages: -1\n",
      "Нет атрибута \"part\"!\n",
      "book2.part: 2\n",
      "Нет атрибута класса \"part\"!\n",
      "2024\n",
      "Нет атрибута \"part\"!\n"
     ]
    }
   ],
   "source": [
    "print(f'book1.pages: {book1.pages}')\n",
    "book1.pages = 493  # изменение атрибута объекта\n",
    "print(f'book1.pages: {book1.pages}')\n",
    "\n",
    "Book.pages = -1  # изменение атрибута класса\n",
    "book2 = Book()\n",
    "print(f'book2.pages: {book2.pages}')\n",
    "\n",
    "try:\n",
    "    print(book2.part)\n",
    "except:\n",
    "    print('Нет атрибута \"part\"!')\n",
    "\n",
    "book2.part = 2  # создали новый атрибут объекта\n",
    "print(f'book2.part: {book2.part}')\n",
    "try:\n",
    "    print(Book.part)\n",
    "except:\n",
    "    print('Нет атрибута класса \"part\"!')\n",
    "\n",
    "Book.year = 2024\n",
    "print(book1.year)\n",
    "delattr(Book, 'year')\n",
    "\n",
    "del book2.part  # удаление атрибута у объекта\n",
    "try:\n",
    "    print(book2.part)\n",
    "except:\n",
    "    print('Нет атрибута \"part\"!')"
   ]
  },
  {
   "cell_type": "code",
   "execution_count": 8,
   "metadata": {},
   "outputs": [
    {
     "name": "stdout",
     "output_type": "stream",
     "text": [
      "<__main__.Book object at 0x000001ADF479FA90>\n"
     ]
    },
    {
     "ename": "KeyboardInterrupt",
     "evalue": "Interrupted by user",
     "output_type": "error",
     "traceback": [
      "\u001b[1;31m---------------------------------------------------------------------------\u001b[0m",
      "\u001b[1;31mKeyboardInterrupt\u001b[0m                         Traceback (most recent call last)",
      "Cell \u001b[1;32mIn[8], line 3\u001b[0m\n\u001b[0;32m      1\u001b[0m book1\u001b[38;5;241m.\u001b[39mprint_self()\n\u001b[1;32m----> 3\u001b[0m \u001b[43mbook1\u001b[49m\u001b[38;5;241;43m.\u001b[39;49m\u001b[43mset_bookmark\u001b[49m\u001b[43m(\u001b[49m\u001b[43m)\u001b[49m\n\u001b[0;32m      4\u001b[0m \u001b[38;5;28mprint\u001b[39m(\u001b[38;5;124mf\u001b[39m\u001b[38;5;124m'\u001b[39m\u001b[38;5;124mbook1.bookmark: \u001b[39m\u001b[38;5;132;01m{\u001b[39;00mbook1\u001b[38;5;241m.\u001b[39mbookmark\u001b[38;5;132;01m}\u001b[39;00m\u001b[38;5;124m'\u001b[39m)\n\u001b[0;32m      6\u001b[0m \u001b[38;5;28mprint\u001b[39m(\u001b[38;5;124mf\u001b[39m\u001b[38;5;124m'\u001b[39m\u001b[38;5;124mbook1.title: \u001b[39m\u001b[38;5;132;01m{\u001b[39;00mbook1\u001b[38;5;241m.\u001b[39mtitle\u001b[38;5;132;01m}\u001b[39;00m\u001b[38;5;124m'\u001b[39m)\n",
      "Cell \u001b[1;32mIn[4], line 14\u001b[0m, in \u001b[0;36mBook.set_bookmark\u001b[1;34m(self)\u001b[0m\n\u001b[0;32m     13\u001b[0m \u001b[38;5;28;01mdef\u001b[39;00m \u001b[38;5;21mset_bookmark\u001b[39m(\u001b[38;5;28mself\u001b[39m):\n\u001b[1;32m---> 14\u001b[0m     bookmark \u001b[38;5;241m=\u001b[39m \u001b[38;5;28;43minput\u001b[39;49m\u001b[43m(\u001b[49m\u001b[38;5;124;43m'\u001b[39;49m\u001b[38;5;124;43mНа какой странице оставить закладку? \u001b[39;49m\u001b[38;5;124;43m'\u001b[39;49m\u001b[43m)\u001b[49m\n\u001b[0;32m     15\u001b[0m     \u001b[38;5;28mself\u001b[39m\u001b[38;5;241m.\u001b[39mbookmark \u001b[38;5;241m=\u001b[39m bookmark\n\u001b[0;32m     16\u001b[0m     \u001b[38;5;28mprint\u001b[39m(\u001b[38;5;124mf\u001b[39m\u001b[38;5;124m'\u001b[39m\u001b[38;5;124mУстановлена закладка на странице \u001b[39m\u001b[38;5;132;01m{\u001b[39;00mbookmark\u001b[38;5;132;01m}\u001b[39;00m\u001b[38;5;124m'\u001b[39m)\n",
      "File \u001b[1;32mc:\\Python\\Python 3.11.9\\Lib\\site-packages\\ipykernel\\kernelbase.py:1282\u001b[0m, in \u001b[0;36mKernel.raw_input\u001b[1;34m(self, prompt)\u001b[0m\n\u001b[0;32m   1280\u001b[0m     msg \u001b[38;5;241m=\u001b[39m \u001b[38;5;124m\"\u001b[39m\u001b[38;5;124mraw_input was called, but this frontend does not support input requests.\u001b[39m\u001b[38;5;124m\"\u001b[39m\n\u001b[0;32m   1281\u001b[0m     \u001b[38;5;28;01mraise\u001b[39;00m StdinNotImplementedError(msg)\n\u001b[1;32m-> 1282\u001b[0m \u001b[38;5;28;01mreturn\u001b[39;00m \u001b[38;5;28;43mself\u001b[39;49m\u001b[38;5;241;43m.\u001b[39;49m\u001b[43m_input_request\u001b[49m\u001b[43m(\u001b[49m\n\u001b[0;32m   1283\u001b[0m \u001b[43m    \u001b[49m\u001b[38;5;28;43mstr\u001b[39;49m\u001b[43m(\u001b[49m\u001b[43mprompt\u001b[49m\u001b[43m)\u001b[49m\u001b[43m,\u001b[49m\n\u001b[0;32m   1284\u001b[0m \u001b[43m    \u001b[49m\u001b[38;5;28;43mself\u001b[39;49m\u001b[38;5;241;43m.\u001b[39;49m\u001b[43m_parent_ident\u001b[49m\u001b[43m[\u001b[49m\u001b[38;5;124;43m\"\u001b[39;49m\u001b[38;5;124;43mshell\u001b[39;49m\u001b[38;5;124;43m\"\u001b[39;49m\u001b[43m]\u001b[49m\u001b[43m,\u001b[49m\n\u001b[0;32m   1285\u001b[0m \u001b[43m    \u001b[49m\u001b[38;5;28;43mself\u001b[39;49m\u001b[38;5;241;43m.\u001b[39;49m\u001b[43mget_parent\u001b[49m\u001b[43m(\u001b[49m\u001b[38;5;124;43m\"\u001b[39;49m\u001b[38;5;124;43mshell\u001b[39;49m\u001b[38;5;124;43m\"\u001b[39;49m\u001b[43m)\u001b[49m\u001b[43m,\u001b[49m\n\u001b[0;32m   1286\u001b[0m \u001b[43m    \u001b[49m\u001b[43mpassword\u001b[49m\u001b[38;5;241;43m=\u001b[39;49m\u001b[38;5;28;43;01mFalse\u001b[39;49;00m\u001b[43m,\u001b[49m\n\u001b[0;32m   1287\u001b[0m \u001b[43m\u001b[49m\u001b[43m)\u001b[49m\n",
      "File \u001b[1;32mc:\\Python\\Python 3.11.9\\Lib\\site-packages\\ipykernel\\kernelbase.py:1325\u001b[0m, in \u001b[0;36mKernel._input_request\u001b[1;34m(self, prompt, ident, parent, password)\u001b[0m\n\u001b[0;32m   1322\u001b[0m \u001b[38;5;28;01mexcept\u001b[39;00m \u001b[38;5;167;01mKeyboardInterrupt\u001b[39;00m:\n\u001b[0;32m   1323\u001b[0m     \u001b[38;5;66;03m# re-raise KeyboardInterrupt, to truncate traceback\u001b[39;00m\n\u001b[0;32m   1324\u001b[0m     msg \u001b[38;5;241m=\u001b[39m \u001b[38;5;124m\"\u001b[39m\u001b[38;5;124mInterrupted by user\u001b[39m\u001b[38;5;124m\"\u001b[39m\n\u001b[1;32m-> 1325\u001b[0m     \u001b[38;5;28;01mraise\u001b[39;00m \u001b[38;5;167;01mKeyboardInterrupt\u001b[39;00m(msg) \u001b[38;5;28;01mfrom\u001b[39;00m \u001b[38;5;28;01mNone\u001b[39;00m\n\u001b[0;32m   1326\u001b[0m \u001b[38;5;28;01mexcept\u001b[39;00m \u001b[38;5;167;01mException\u001b[39;00m:\n\u001b[0;32m   1327\u001b[0m     \u001b[38;5;28mself\u001b[39m\u001b[38;5;241m.\u001b[39mlog\u001b[38;5;241m.\u001b[39mwarning(\u001b[38;5;124m\"\u001b[39m\u001b[38;5;124mInvalid Message:\u001b[39m\u001b[38;5;124m\"\u001b[39m, exc_info\u001b[38;5;241m=\u001b[39m\u001b[38;5;28;01mTrue\u001b[39;00m)\n",
      "\u001b[1;31mKeyboardInterrupt\u001b[0m: Interrupted by user"
     ]
    }
   ],
   "source": [
    "book1.print_self()\n",
    "\n",
    "book1.set_bookmark()\n",
    "print(f'book1.bookmark: {book1.bookmark}')\n",
    "\n",
    "print(f'book1.title: {book1.title}')\n",
    "book1.title = 'Преступление и наказание'\n",
    "print(f'book1.title: {book1.title}')\n",
    "book1.set_title('Идиот') \n",
    "print(f'book1.title: {book1.title}')\n",
    "book1.set_title([1, 2, 3, 4])\n",
    "print(f'book1.title: {book1.title}')"
   ]
  },
  {
   "cell_type": "code",
   "execution_count": null,
   "metadata": {},
   "outputs": [],
   "source": [
    "print(f'type(book1) == Book: {type(book1) == Book}')\n",
    "print(f'isinstance(book1, Book): {isinstance(book1, Book)}')  # сначала объект, потом класс"
   ]
  },
  {
   "cell_type": "code",
   "execution_count": null,
   "metadata": {},
   "outputs": [],
   "source": [
    "# создает/изменяет объект-атрибут-значение атрибута\n",
    "setattr(book1, 'title', 'lalala')  \n",
    "print(f'book1.title: {book1.title}')\n",
    "book1.title = 'lululu'\n",
    "print(f'book1.title: {book1.title}')\n",
    "\n",
    "print(getattr(book1, 'color', 'Такого атрибута НЕТ!'))\n",
    "print(getattr(book1, 'pages', 'Такого свойства НЕТ!'))\n",
    "print(book1.pages)\n",
    "\n",
    "# проверка наличия метода или атрибута у объекта или класса\n",
    "print(hasattr(Book, 'year'))\n",
    "print(hasattr(Book, 'part'))\n",
    "print(hasattr(book1, 'part'))  # атрибут\n",
    "print(hasattr(book1, 'set_title'))  # метод\n",
    "\n",
    "# удаляет атрибут или метод у класса или объекта\n",
    "print(hasattr(Book, 'year'))\n",
    "print(hasattr(Book, 'print_title'))\n",
    "delattr(Book, 'print_title')\n",
    "print(hasattr(Book, 'print_title'))\n",
    "del book1.pages\n",
    "print(hasattr(book1, 'pages'))"
   ]
  },
  {
   "cell_type": "code",
   "execution_count": null,
   "metadata": {},
   "outputs": [],
   "source": [
    "# магические методы\n",
    "print(f'Все атрибуты класса: {dir(Book)}')\n",
    "print(f'Все атрибуты объекта: {dir(Book)}')\n",
    "print(f'Все атрибуты класса: {Book.__dict__}')\n",
    "print(f'Все атрибуты объекта: {book1.__dict__}')\n",
    "print(f'Документация класса: {Book.__doc__}')\n",
    "print(f'Документация класса: {book1.__doc__}')\n",
    "print(f'Название класса: {Book.__name__}')\n",
    "print(f'Название класса: {book1.__class__.__name__}')\n",
    "print(f'Название класса: {type(book1).__name__}')"
   ]
  },
  {
   "cell_type": "markdown",
   "metadata": {},
   "source": [
    "## Процедурно-функциональный подход в ООП"
   ]
  },
  {
   "cell_type": "code",
   "execution_count": null,
   "metadata": {},
   "outputs": [],
   "source": [
    "def car_init(self, brand):\n",
    "    self.brand = brand\n",
    "\n",
    "\n",
    "def drive(self):\n",
    "    print(f'{self.brand} drive()')\n",
    "\n",
    "\n",
    "Car = type('Car',  # имя класса\n",
    "            (),  # super-classes\n",
    "            {'__init__': car_init, 'drive': drive})  # attributes\n",
    "\n",
    "car = Car('Volvo')\n",
    "car.drive()"
   ]
  },
  {
   "cell_type": "markdown",
   "metadata": {},
   "source": [
    "## `__init__` = инициализация объекта"
   ]
  },
  {
   "cell_type": "code",
   "execution_count": 1,
   "metadata": {},
   "outputs": [
    {
     "name": "stdout",
     "output_type": "stream",
     "text": [
      "pygame 2.6.0 (SDL 2.28.4, Python 3.11.9)\n",
      "Hello from the pygame community. https://www.pygame.org/contribute.html\n"
     ]
    }
   ],
   "source": [
    "from numpy import pi, sqrt, cos, sin\n",
    "import pygame\n",
    "\n",
    "\n",
    "class Planet:\n",
    "    \"\"\"Класс планет\"\"\"\n",
    "    G = 6.7 * 10 ** (-11)  # гравитационная постоянная\n",
    "    solar_mass = 1.9891 * 10 ** 30\n",
    "\n",
    "    _min_px = 5 # минимальное количество видимых пикселей \n",
    "    _max_px = 10 # максимальное количество видимых пикселей \n",
    "\n",
    "    def __init__(self, name='Planet', color=(255, 255, 255)) -> None:\n",
    "        self.name = name  # имя планеты\n",
    "        self.color = color  # цвет планеты\n",
    "\n",
    "    def g(self) -> tuple:\n",
    "        \"\"\"Ускорение свободного падения\"\"\"\n",
    "        return self.G * self.m / self.radius ** 2, 'm*s^-2'\n",
    "\n",
    "    def v(self) -> tuple:\n",
    "        \"\"\"Скорость вращения вокруг Солнца\"\"\"\n",
    "        return sqrt(self.G * self.solar_mass / self.solar_distance), 'm/s'\n",
    "\n",
    "    def update(self, a) -> None:\n",
    "        \"\"\"Обновление координаты\"\"\"\n",
    "        k = 1 if self.rotation_direction else -1  # направление вращзения\n",
    "        a = ...\n",
    "        self.x = self.solar_distance * cos(a*k)\n",
    "        self.y = self.solar_distance * sin(a*k)\n",
    "\n",
    "    def draw(self, display, scale=1):\n",
    "        W, H = display.get_size()\n",
    "        x, y, r = self.x / scale, self.y / scale, self.radius / scale\n",
    "        if not (Planet._min_px <= r <= Planet._max_px): r = (Planet._min_px + Planet._max_px) / 2\n",
    "        #print(self.name, x, y, r)\n",
    "        pygame.draw.circle(display, self.color, (x + W / 2, y + H / 2), r)"
   ]
  },
  {
   "cell_type": "code",
   "execution_count": 2,
   "metadata": {},
   "outputs": [
    {
     "name": "stdout",
     "output_type": "stream",
     "text": [
      "Меркурий\n",
      "g = (3.7174935761476093, 'm*s^-2')\n",
      "v = (np.float64(47976.264281096366), 'm/s')\n",
      "{'name': 'Меркурий', 'color': (34, 100, 255), 'm': 3.302e+23, 'radius': 2439500.0, 'solar_distance': 57900000000.0, 'rotation_direction': True}\n",
      "\n",
      "Венера\n",
      "g = (8.903954338888914, 'm*s^-2')\n",
      "v = (np.float64(35095.55216669767), 'm/s')\n",
      "{'name': 'Венера', 'color': (255, 100, 34), 'm': 4.867499999999999e+24, 'radius': 6052000.0, 'solar_distance': 108200000000.0, 'rotation_direction': False}\n",
      "\n"
     ]
    }
   ],
   "source": [
    "solar = Planet('Солнце', 'yellow')\n",
    "solar.m = 1.9885*1030\n",
    "solar.radius = 696_230_000\n",
    "solar.solar_distance = 0\n",
    "solar.rotation_direction = True\n",
    "\n",
    "planets = list()\n",
    "\n",
    "planets.append(Planet('Меркурий', color=(34, 100, 255)))\n",
    "planets[-1].m = 3.302 * 10 ** 23\n",
    "planets[-1].radius = 4879000 / 2\n",
    "planets[-1].solar_distance = 57.9 * 10 ** 9\n",
    "planets[-1].rotation_direction = True\n",
    "\n",
    "planets.append(Planet('Венера', color=(255, 100, 34)))\n",
    "planets[-1].m = 4.8675 * 10 ** 24\n",
    "planets[-1].radius = 12104000 / 2\n",
    "planets[-1].solar_distance = 108.2 * 10 ** 9\n",
    "planets[-1].rotation_direction = False\n",
    "\n",
    "solar.x = 0\n",
    "solar.y = 0\n",
    "for planet in planets:\n",
    "    print(planet.name)\n",
    "    print(f'g = {planet.g()}')\n",
    "    print(f'v = {planet.v()}')\n",
    "    print(planet.__dict__)\n",
    "    planet.x = planet.solar_distance\n",
    "    planet.y = 0\n",
    "    print()"
   ]
  },
  {
   "cell_type": "code",
   "execution_count": 3,
   "metadata": {},
   "outputs": [
    {
     "ename": "TypeError",
     "evalue": "unsupported operand type(s) for *: 'ellipsis' and 'int'",
     "output_type": "error",
     "traceback": [
      "\u001b[1;31m---------------------------------------------------------------------------\u001b[0m",
      "\u001b[1;31mTypeError\u001b[0m                                 Traceback (most recent call last)",
      "Cell \u001b[1;32mIn[3], line 19\u001b[0m\n\u001b[0;32m     16\u001b[0m solar\u001b[38;5;241m.\u001b[39mdraw(display)\n\u001b[0;32m     18\u001b[0m \u001b[38;5;28;01mfor\u001b[39;00m planet \u001b[38;5;129;01min\u001b[39;00m planets:\n\u001b[1;32m---> 19\u001b[0m     \u001b[43mplanet\u001b[49m\u001b[38;5;241;43m.\u001b[39;49m\u001b[43mupdate\u001b[49m\u001b[43m(\u001b[49m\u001b[43mt\u001b[49m\u001b[43m)\u001b[49m\n\u001b[0;32m     20\u001b[0m     planet\u001b[38;5;241m.\u001b[39mdraw(display, scale\u001b[38;5;241m=\u001b[39mscale)\n\u001b[0;32m     22\u001b[0m pygame\u001b[38;5;241m.\u001b[39mdisplay\u001b[38;5;241m.\u001b[39mupdate()\n",
      "Cell \u001b[1;32mIn[1], line 29\u001b[0m, in \u001b[0;36mPlanet.update\u001b[1;34m(self, a)\u001b[0m\n\u001b[0;32m     27\u001b[0m k \u001b[38;5;241m=\u001b[39m \u001b[38;5;241m1\u001b[39m \u001b[38;5;28;01mif\u001b[39;00m \u001b[38;5;28mself\u001b[39m\u001b[38;5;241m.\u001b[39mrotation_direction \u001b[38;5;28;01melse\u001b[39;00m \u001b[38;5;241m-\u001b[39m\u001b[38;5;241m1\u001b[39m  \u001b[38;5;66;03m# направление вращзения\u001b[39;00m\n\u001b[0;32m     28\u001b[0m a \u001b[38;5;241m=\u001b[39m \u001b[38;5;241m.\u001b[39m\u001b[38;5;241m.\u001b[39m\u001b[38;5;241m.\u001b[39m\n\u001b[1;32m---> 29\u001b[0m \u001b[38;5;28mself\u001b[39m\u001b[38;5;241m.\u001b[39mx \u001b[38;5;241m=\u001b[39m \u001b[38;5;28mself\u001b[39m\u001b[38;5;241m.\u001b[39msolar_distance \u001b[38;5;241m*\u001b[39m cos(\u001b[43ma\u001b[49m\u001b[38;5;241;43m*\u001b[39;49m\u001b[43mk\u001b[49m)\n\u001b[0;32m     30\u001b[0m \u001b[38;5;28mself\u001b[39m\u001b[38;5;241m.\u001b[39my \u001b[38;5;241m=\u001b[39m \u001b[38;5;28mself\u001b[39m\u001b[38;5;241m.\u001b[39msolar_distance \u001b[38;5;241m*\u001b[39m sin(a\u001b[38;5;241m*\u001b[39mk)\n",
      "\u001b[1;31mTypeError\u001b[0m: unsupported operand type(s) for *: 'ellipsis' and 'int'"
     ]
    }
   ],
   "source": [
    "pygame.init()\n",
    "\n",
    "WIDTH, HEIGHT = 800, 800\n",
    "display = pygame.display.set_mode((WIDTH, HEIGHT))\n",
    "scale = max([planet.solar_distance for planet in planets])\n",
    "scale = scale / WIDTH * 2\n",
    "\n",
    "t = 0 # начальное время\n",
    "while True:\n",
    "    for event in pygame.event.get():\n",
    "        if event.type == pygame.QUIT:\n",
    "            exit()\n",
    "\n",
    "    display.fill((0, 0, 0))\n",
    "    \n",
    "    solar.draw(display)\n",
    "\n",
    "    for planet in planets:\n",
    "        planet.update(t)\n",
    "        planet.draw(display, scale=scale)\n",
    "        \n",
    "    pygame.display.update()\n",
    "\n",
    "    t += 1*60*60*24*30 # через месяц"
   ]
  },
  {
   "cell_type": "markdown",
   "metadata": {},
   "source": [
    "## Заставка утят"
   ]
  },
  {
   "cell_type": "code",
   "execution_count": null,
   "metadata": {},
   "outputs": [
    {
     "name": "stdout",
     "output_type": "stream",
     "text": [
      "Press Ctrl-C to quit...\n",
      "                    ='')                                          ( \"=     \n",
      "                    (  ^)                    >\" )                (v  )     \n",
      "                (''= ^ ^                     (  ^)                ^ ^      \n",
      "               (^  )                          ^ ^                          \n",
      "                ^ ^                                     (\"<                \n",
      "      (\"=                                ( \"= (``<     (^ )                \n",
      "     (< )      >\")                      (^  )(<  )      ^^                 \n",
      ">``)  ^^  =\")  ( >)       (\"<            ^ ^  ^ ^                          \n",
      "(  ^)     ( >)  ^^       (v )                                              \n",
      " ^ ^       ^^             ^^       >\" )                                    \n",
      "                         =\")       (  v)                (\"=            (\"= \n",
      "                         ( v)       ^ ^                (< )           (^ ) \n",
      "                (\"=       ^^       >\")                  ^^             ^^  \n",
      " (\"=           (< )                ( v)                                    \n",
      "(< )            ^^        (''=      ^^                      =``)           \n",
      " ^^                      (^  )                              (  v)          \n",
      "                          ^ ^       (\"=                      ^ ^           \n",
      "=\")  =\")                           (v ) =\")                                \n",
      "( >) ( >)                           ^^  ( >)                               \n",
      " ^^   ^^             (\"<       (\"=       ^^                                \n",
      "                    (< )      (< )                                         \n",
      "                     ^^        ^^                 >\")   (\"=            (\"= \n",
      "     ='')                                         ( v) (< )           (^ ) \n",
      "     (  ^)           ( \"=                    ='')  ^^   ^^        (\"=  ^^  \n",
      "      ^ ^ =\")       (v  )                    (  >)               (v )      \n",
      "=\")  >\" ) ( v)       ^ ^       (\"=            ^ ^                 ^^       \n",
      "( ^) (  ^) ^^                 (^ )                                         \n",
      " ^^   ^ ^                      ^^                                          \n",
      "          =\" )                                                             \n",
      "          (  v)                                                            \n",
      "           ^ ^                          =\")                                \n",
      "                                        ( >) =\")                           \n"
     ]
    },
    {
     "ename": "AttributeError",
     "evalue": "'tuple' object has no attribute 'tb_frame'",
     "output_type": "error",
     "traceback": [
      "\u001b[1;31m---------------------------------------------------------------------------\u001b[0m",
      "\u001b[1;31mKeyboardInterrupt\u001b[0m                         Traceback (most recent call last)",
      "Cell \u001b[1;32mIn[4], line 201\u001b[0m\n\u001b[0;32m    200\u001b[0m \u001b[38;5;28;01mtry\u001b[39;00m:\n\u001b[1;32m--> 201\u001b[0m     \u001b[43mmain\u001b[49m\u001b[43m(\u001b[49m\u001b[43m)\u001b[49m\n\u001b[0;32m    202\u001b[0m \u001b[38;5;28;01mexcept\u001b[39;00m \u001b[38;5;167;01mKeyboardInterrupt\u001b[39;00m:\n",
      "Cell \u001b[1;32mIn[4], line 196\u001b[0m, in \u001b[0;36mmain\u001b[1;34m()\u001b[0m\n\u001b[0;32m    195\u001b[0m sys\u001b[38;5;241m.\u001b[39mstdout\u001b[38;5;241m.\u001b[39mflush()  \u001b[38;5;66;03m# Make sure text appears on the screen.\u001b[39;00m\n\u001b[1;32m--> 196\u001b[0m time\u001b[38;5;241m.\u001b[39msleep(PAUSE)\n",
      "\u001b[1;31mKeyboardInterrupt\u001b[0m: ",
      "\nDuring handling of the above exception, another exception occurred:\n",
      "\u001b[1;31mSystemExit\u001b[0m                                Traceback (most recent call last)",
      "    \u001b[1;31m[... skipping hidden 1 frame]\u001b[0m\n",
      "Cell \u001b[1;32mIn[4], line 203\u001b[0m\n\u001b[0;32m    202\u001b[0m \u001b[38;5;28;01mexcept\u001b[39;00m \u001b[38;5;167;01mKeyboardInterrupt\u001b[39;00m:\n\u001b[1;32m--> 203\u001b[0m     \u001b[43msys\u001b[49m\u001b[38;5;241;43m.\u001b[39;49m\u001b[43mexit\u001b[49m\u001b[43m(\u001b[49m\u001b[43m)\u001b[49m  \u001b[38;5;66;03m# When Ctrl-C is pressed, end the program.\u001b[39;00m\n",
      "\u001b[1;31mSystemExit\u001b[0m: ",
      "\nDuring handling of the above exception, another exception occurred:\n",
      "\u001b[1;31mAttributeError\u001b[0m                            Traceback (most recent call last)",
      "    \u001b[1;31m[... skipping hidden 1 frame]\u001b[0m\n",
      "File \u001b[1;32mc:\\Python\\Python 3.11.9\\Lib\\site-packages\\IPython\\core\\interactiveshell.py:2145\u001b[0m, in \u001b[0;36mInteractiveShell.showtraceback\u001b[1;34m(self, exc_tuple, filename, tb_offset, exception_only, running_compiled_code)\u001b[0m\n\u001b[0;32m   2142\u001b[0m \u001b[38;5;28;01mif\u001b[39;00m exception_only:\n\u001b[0;32m   2143\u001b[0m     stb \u001b[38;5;241m=\u001b[39m [\u001b[38;5;124m'\u001b[39m\u001b[38;5;124mAn exception has occurred, use \u001b[39m\u001b[38;5;124m%\u001b[39m\u001b[38;5;124mtb to see \u001b[39m\u001b[38;5;124m'\u001b[39m\n\u001b[0;32m   2144\u001b[0m            \u001b[38;5;124m'\u001b[39m\u001b[38;5;124mthe full traceback.\u001b[39m\u001b[38;5;130;01m\\n\u001b[39;00m\u001b[38;5;124m'\u001b[39m]\n\u001b[1;32m-> 2145\u001b[0m     stb\u001b[38;5;241m.\u001b[39mextend(\u001b[38;5;28;43mself\u001b[39;49m\u001b[38;5;241;43m.\u001b[39;49m\u001b[43mInteractiveTB\u001b[49m\u001b[38;5;241;43m.\u001b[39;49m\u001b[43mget_exception_only\u001b[49m\u001b[43m(\u001b[49m\u001b[43metype\u001b[49m\u001b[43m,\u001b[49m\n\u001b[0;32m   2146\u001b[0m \u001b[43m                                                     \u001b[49m\u001b[43mvalue\u001b[49m\u001b[43m)\u001b[49m)\n\u001b[0;32m   2147\u001b[0m \u001b[38;5;28;01melse\u001b[39;00m:\n\u001b[0;32m   2149\u001b[0m     \u001b[38;5;28;01mdef\u001b[39;00m \u001b[38;5;21mcontains_exceptiongroup\u001b[39m(val):\n",
      "File \u001b[1;32mc:\\Python\\Python 3.11.9\\Lib\\site-packages\\IPython\\core\\ultratb.py:710\u001b[0m, in \u001b[0;36mListTB.get_exception_only\u001b[1;34m(self, etype, value)\u001b[0m\n\u001b[0;32m    702\u001b[0m \u001b[38;5;28;01mdef\u001b[39;00m \u001b[38;5;21mget_exception_only\u001b[39m(\u001b[38;5;28mself\u001b[39m, etype, value):\n\u001b[0;32m    703\u001b[0m \u001b[38;5;250m    \u001b[39m\u001b[38;5;124;03m\"\"\"Only print the exception type and message, without a traceback.\u001b[39;00m\n\u001b[0;32m    704\u001b[0m \n\u001b[0;32m    705\u001b[0m \u001b[38;5;124;03m    Parameters\u001b[39;00m\n\u001b[1;32m   (...)\u001b[0m\n\u001b[0;32m    708\u001b[0m \u001b[38;5;124;03m    value : exception value\u001b[39;00m\n\u001b[0;32m    709\u001b[0m \u001b[38;5;124;03m    \"\"\"\u001b[39;00m\n\u001b[1;32m--> 710\u001b[0m     \u001b[38;5;28;01mreturn\u001b[39;00m \u001b[43mListTB\u001b[49m\u001b[38;5;241;43m.\u001b[39;49m\u001b[43mstructured_traceback\u001b[49m\u001b[43m(\u001b[49m\u001b[38;5;28;43mself\u001b[39;49m\u001b[43m,\u001b[49m\u001b[43m \u001b[49m\u001b[43metype\u001b[49m\u001b[43m,\u001b[49m\u001b[43m \u001b[49m\u001b[43mvalue\u001b[49m\u001b[43m)\u001b[49m\n",
      "File \u001b[1;32mc:\\Python\\Python 3.11.9\\Lib\\site-packages\\IPython\\core\\ultratb.py:568\u001b[0m, in \u001b[0;36mListTB.structured_traceback\u001b[1;34m(self, etype, evalue, etb, tb_offset, context)\u001b[0m\n\u001b[0;32m    565\u001b[0m     chained_exc_ids\u001b[38;5;241m.\u001b[39madd(\u001b[38;5;28mid\u001b[39m(exception[\u001b[38;5;241m1\u001b[39m]))\n\u001b[0;32m    566\u001b[0m     chained_exceptions_tb_offset \u001b[38;5;241m=\u001b[39m \u001b[38;5;241m0\u001b[39m\n\u001b[0;32m    567\u001b[0m     out_list \u001b[38;5;241m=\u001b[39m (\n\u001b[1;32m--> 568\u001b[0m         \u001b[38;5;28;43mself\u001b[39;49m\u001b[38;5;241;43m.\u001b[39;49m\u001b[43mstructured_traceback\u001b[49m\u001b[43m(\u001b[49m\n\u001b[0;32m    569\u001b[0m \u001b[43m            \u001b[49m\u001b[43metype\u001b[49m\u001b[43m,\u001b[49m\n\u001b[0;32m    570\u001b[0m \u001b[43m            \u001b[49m\u001b[43mevalue\u001b[49m\u001b[43m,\u001b[49m\n\u001b[0;32m    571\u001b[0m \u001b[43m            \u001b[49m\u001b[43m(\u001b[49m\u001b[43metb\u001b[49m\u001b[43m,\u001b[49m\u001b[43m \u001b[49m\u001b[43mchained_exc_ids\u001b[49m\u001b[43m)\u001b[49m\u001b[43m,\u001b[49m\u001b[43m  \u001b[49m\u001b[38;5;66;43;03m# type: ignore\u001b[39;49;00m\n\u001b[0;32m    572\u001b[0m \u001b[43m            \u001b[49m\u001b[43mchained_exceptions_tb_offset\u001b[49m\u001b[43m,\u001b[49m\n\u001b[0;32m    573\u001b[0m \u001b[43m            \u001b[49m\u001b[43mcontext\u001b[49m\u001b[43m,\u001b[49m\n\u001b[0;32m    574\u001b[0m \u001b[43m        \u001b[49m\u001b[43m)\u001b[49m\n\u001b[0;32m    575\u001b[0m         \u001b[38;5;241m+\u001b[39m chained_exception_message\n\u001b[0;32m    576\u001b[0m         \u001b[38;5;241m+\u001b[39m out_list)\n\u001b[0;32m    578\u001b[0m \u001b[38;5;28;01mreturn\u001b[39;00m out_list\n",
      "File \u001b[1;32mc:\\Python\\Python 3.11.9\\Lib\\site-packages\\IPython\\core\\ultratb.py:1454\u001b[0m, in \u001b[0;36mAutoFormattedTB.structured_traceback\u001b[1;34m(self, etype, evalue, etb, tb_offset, number_of_lines_of_context)\u001b[0m\n\u001b[0;32m   1452\u001b[0m \u001b[38;5;28;01melse\u001b[39;00m:\n\u001b[0;32m   1453\u001b[0m     \u001b[38;5;28mself\u001b[39m\u001b[38;5;241m.\u001b[39mtb \u001b[38;5;241m=\u001b[39m etb\n\u001b[1;32m-> 1454\u001b[0m \u001b[38;5;28;01mreturn\u001b[39;00m \u001b[43mFormattedTB\u001b[49m\u001b[38;5;241;43m.\u001b[39;49m\u001b[43mstructured_traceback\u001b[49m\u001b[43m(\u001b[49m\n\u001b[0;32m   1455\u001b[0m \u001b[43m    \u001b[49m\u001b[38;5;28;43mself\u001b[39;49m\u001b[43m,\u001b[49m\u001b[43m \u001b[49m\u001b[43metype\u001b[49m\u001b[43m,\u001b[49m\u001b[43m \u001b[49m\u001b[43mevalue\u001b[49m\u001b[43m,\u001b[49m\u001b[43m \u001b[49m\u001b[43metb\u001b[49m\u001b[43m,\u001b[49m\u001b[43m \u001b[49m\u001b[43mtb_offset\u001b[49m\u001b[43m,\u001b[49m\u001b[43m \u001b[49m\u001b[43mnumber_of_lines_of_context\u001b[49m\n\u001b[0;32m   1456\u001b[0m \u001b[43m\u001b[49m\u001b[43m)\u001b[49m\n",
      "File \u001b[1;32mc:\\Python\\Python 3.11.9\\Lib\\site-packages\\IPython\\core\\ultratb.py:1345\u001b[0m, in \u001b[0;36mFormattedTB.structured_traceback\u001b[1;34m(self, etype, value, tb, tb_offset, number_of_lines_of_context)\u001b[0m\n\u001b[0;32m   1342\u001b[0m mode \u001b[38;5;241m=\u001b[39m \u001b[38;5;28mself\u001b[39m\u001b[38;5;241m.\u001b[39mmode\n\u001b[0;32m   1343\u001b[0m \u001b[38;5;28;01mif\u001b[39;00m mode \u001b[38;5;129;01min\u001b[39;00m \u001b[38;5;28mself\u001b[39m\u001b[38;5;241m.\u001b[39mverbose_modes:\n\u001b[0;32m   1344\u001b[0m     \u001b[38;5;66;03m# Verbose modes need a full traceback\u001b[39;00m\n\u001b[1;32m-> 1345\u001b[0m     \u001b[38;5;28;01mreturn\u001b[39;00m \u001b[43mVerboseTB\u001b[49m\u001b[38;5;241;43m.\u001b[39;49m\u001b[43mstructured_traceback\u001b[49m\u001b[43m(\u001b[49m\n\u001b[0;32m   1346\u001b[0m \u001b[43m        \u001b[49m\u001b[38;5;28;43mself\u001b[39;49m\u001b[43m,\u001b[49m\u001b[43m \u001b[49m\u001b[43metype\u001b[49m\u001b[43m,\u001b[49m\u001b[43m \u001b[49m\u001b[43mvalue\u001b[49m\u001b[43m,\u001b[49m\u001b[43m \u001b[49m\u001b[43mtb\u001b[49m\u001b[43m,\u001b[49m\u001b[43m \u001b[49m\u001b[43mtb_offset\u001b[49m\u001b[43m,\u001b[49m\u001b[43m \u001b[49m\u001b[43mnumber_of_lines_of_context\u001b[49m\n\u001b[0;32m   1347\u001b[0m \u001b[43m    \u001b[49m\u001b[43m)\u001b[49m\n\u001b[0;32m   1348\u001b[0m \u001b[38;5;28;01melif\u001b[39;00m mode \u001b[38;5;241m==\u001b[39m \u001b[38;5;124m'\u001b[39m\u001b[38;5;124mMinimal\u001b[39m\u001b[38;5;124m'\u001b[39m:\n\u001b[0;32m   1349\u001b[0m     \u001b[38;5;28;01mreturn\u001b[39;00m ListTB\u001b[38;5;241m.\u001b[39mget_exception_only(\u001b[38;5;28mself\u001b[39m, etype, value)\n",
      "File \u001b[1;32mc:\\Python\\Python 3.11.9\\Lib\\site-packages\\IPython\\core\\ultratb.py:1192\u001b[0m, in \u001b[0;36mVerboseTB.structured_traceback\u001b[1;34m(self, etype, evalue, etb, tb_offset, number_of_lines_of_context)\u001b[0m\n\u001b[0;32m   1183\u001b[0m \u001b[38;5;28;01mdef\u001b[39;00m \u001b[38;5;21mstructured_traceback\u001b[39m(\n\u001b[0;32m   1184\u001b[0m     \u001b[38;5;28mself\u001b[39m,\n\u001b[0;32m   1185\u001b[0m     etype: \u001b[38;5;28mtype\u001b[39m,\n\u001b[1;32m   (...)\u001b[0m\n\u001b[0;32m   1189\u001b[0m     number_of_lines_of_context: \u001b[38;5;28mint\u001b[39m \u001b[38;5;241m=\u001b[39m \u001b[38;5;241m5\u001b[39m,\n\u001b[0;32m   1190\u001b[0m ):\n\u001b[0;32m   1191\u001b[0m \u001b[38;5;250m    \u001b[39m\u001b[38;5;124;03m\"\"\"Return a nice text document describing the traceback.\"\"\"\u001b[39;00m\n\u001b[1;32m-> 1192\u001b[0m     formatted_exception \u001b[38;5;241m=\u001b[39m \u001b[38;5;28;43mself\u001b[39;49m\u001b[38;5;241;43m.\u001b[39;49m\u001b[43mformat_exception_as_a_whole\u001b[49m\u001b[43m(\u001b[49m\u001b[43metype\u001b[49m\u001b[43m,\u001b[49m\u001b[43m \u001b[49m\u001b[43mevalue\u001b[49m\u001b[43m,\u001b[49m\u001b[43m \u001b[49m\u001b[43metb\u001b[49m\u001b[43m,\u001b[49m\u001b[43m \u001b[49m\u001b[43mnumber_of_lines_of_context\u001b[49m\u001b[43m,\u001b[49m\n\u001b[0;32m   1193\u001b[0m \u001b[43m                                                           \u001b[49m\u001b[43mtb_offset\u001b[49m\u001b[43m)\u001b[49m\n\u001b[0;32m   1195\u001b[0m     colors \u001b[38;5;241m=\u001b[39m \u001b[38;5;28mself\u001b[39m\u001b[38;5;241m.\u001b[39mColors  \u001b[38;5;66;03m# just a shorthand + quicker name lookup\u001b[39;00m\n\u001b[0;32m   1196\u001b[0m     colorsnormal \u001b[38;5;241m=\u001b[39m colors\u001b[38;5;241m.\u001b[39mNormal  \u001b[38;5;66;03m# used a lot\u001b[39;00m\n",
      "File \u001b[1;32mc:\\Python\\Python 3.11.9\\Lib\\site-packages\\IPython\\core\\ultratb.py:1082\u001b[0m, in \u001b[0;36mVerboseTB.format_exception_as_a_whole\u001b[1;34m(self, etype, evalue, etb, number_of_lines_of_context, tb_offset)\u001b[0m\n\u001b[0;32m   1079\u001b[0m \u001b[38;5;28;01massert\u001b[39;00m \u001b[38;5;28misinstance\u001b[39m(tb_offset, \u001b[38;5;28mint\u001b[39m)\n\u001b[0;32m   1080\u001b[0m head \u001b[38;5;241m=\u001b[39m \u001b[38;5;28mself\u001b[39m\u001b[38;5;241m.\u001b[39mprepare_header(\u001b[38;5;28mstr\u001b[39m(etype), \u001b[38;5;28mself\u001b[39m\u001b[38;5;241m.\u001b[39mlong_header)\n\u001b[0;32m   1081\u001b[0m records \u001b[38;5;241m=\u001b[39m (\n\u001b[1;32m-> 1082\u001b[0m     \u001b[38;5;28;43mself\u001b[39;49m\u001b[38;5;241;43m.\u001b[39;49m\u001b[43mget_records\u001b[49m\u001b[43m(\u001b[49m\u001b[43metb\u001b[49m\u001b[43m,\u001b[49m\u001b[43m \u001b[49m\u001b[43mnumber_of_lines_of_context\u001b[49m\u001b[43m,\u001b[49m\u001b[43m \u001b[49m\u001b[43mtb_offset\u001b[49m\u001b[43m)\u001b[49m \u001b[38;5;28;01mif\u001b[39;00m etb \u001b[38;5;28;01melse\u001b[39;00m []\n\u001b[0;32m   1083\u001b[0m )\n\u001b[0;32m   1085\u001b[0m frames \u001b[38;5;241m=\u001b[39m []\n\u001b[0;32m   1086\u001b[0m skipped \u001b[38;5;241m=\u001b[39m \u001b[38;5;241m0\u001b[39m\n",
      "File \u001b[1;32mc:\\Python\\Python 3.11.9\\Lib\\site-packages\\IPython\\core\\ultratb.py:1150\u001b[0m, in \u001b[0;36mVerboseTB.get_records\u001b[1;34m(self, etb, number_of_lines_of_context, tb_offset)\u001b[0m\n\u001b[0;32m   1148\u001b[0m \u001b[38;5;28;01mwhile\u001b[39;00m cf \u001b[38;5;129;01mis\u001b[39;00m \u001b[38;5;129;01mnot\u001b[39;00m \u001b[38;5;28;01mNone\u001b[39;00m:\n\u001b[0;32m   1149\u001b[0m     \u001b[38;5;28;01mtry\u001b[39;00m:\n\u001b[1;32m-> 1150\u001b[0m         mod \u001b[38;5;241m=\u001b[39m inspect\u001b[38;5;241m.\u001b[39mgetmodule(\u001b[43mcf\u001b[49m\u001b[38;5;241;43m.\u001b[39;49m\u001b[43mtb_frame\u001b[49m)\n\u001b[0;32m   1151\u001b[0m         \u001b[38;5;28;01mif\u001b[39;00m mod \u001b[38;5;129;01mis\u001b[39;00m \u001b[38;5;129;01mnot\u001b[39;00m \u001b[38;5;28;01mNone\u001b[39;00m:\n\u001b[0;32m   1152\u001b[0m             mod_name \u001b[38;5;241m=\u001b[39m mod\u001b[38;5;241m.\u001b[39m\u001b[38;5;18m__name__\u001b[39m\n",
      "\u001b[1;31mAttributeError\u001b[0m: 'tuple' object has no attribute 'tb_frame'"
     ]
    }
   ],
   "source": [
    "import random, shutil, sys, time\n",
    "\n",
    "# Set up the constants:\n",
    "PAUSE = 0.2  # (!) Try changing this to 1.0 or 0.0.\n",
    "DENSITY = 0.10  # (!) Try changing this to anything from 0.0 to 1.0.\n",
    "\n",
    "DUCKLING_WIDTH = 5\n",
    "LEFT = 'left'\n",
    "RIGHT = 'right'\n",
    "BEADY = 'beady'\n",
    "WIDE = 'wide'\n",
    "HAPPY = 'happy'\n",
    "ALOOF = 'aloof'\n",
    "CHUBBY = 'chubby'\n",
    "VERY_CHUBBY = 'very chubby'\n",
    "OPEN = 'open'\n",
    "CLOSED = 'closed'\n",
    "OUT = 'out'\n",
    "DOWN = 'down'\n",
    "UP = 'up'\n",
    "HEAD = 'head'\n",
    "BODY = 'body'\n",
    "FEET = 'feet'\n",
    "\n",
    "# Get the size of the terminal window:\n",
    "WIDTH = shutil.get_terminal_size()[0]\n",
    "# We can't print to the last column on Windows without it adding a\n",
    "# newline automatically, so reduce the width by one:\n",
    "WIDTH -= 1\n",
    "\n",
    "\n",
    "class Duckling:\n",
    "    \"\"\"\n",
    "    >\" )   =^^)    (``=   (\"=  >\")    (\"=\n",
    "    (  >)  (  ^)  (v  )  (^ )  ( >)  (v )\n",
    "     ^ ^    ^ ^    ^ ^    ^^    ^^    ^^\n",
    "    \"\"\"\n",
    "\n",
    "    def __init__(self):\n",
    "        \"\"\"Create a new duckling with random body features.\"\"\"\n",
    "        self.direction = random.choice([LEFT, RIGHT])\n",
    "        self.body = random.choice([CHUBBY, VERY_CHUBBY])\n",
    "        self.mouth = random.choice([OPEN, CLOSED])\n",
    "        self.wing = random.choice([OUT, UP, DOWN])\n",
    "\n",
    "        if self.body == CHUBBY:\n",
    "            # Chubby ducklings can only have beady eyes.\n",
    "            self.eyes = BEADY\n",
    "        else:\n",
    "            self.eyes = random.choice([BEADY, WIDE, HAPPY, ALOOF])\n",
    "\n",
    "        self.partToDisplayNext = HEAD\n",
    "\n",
    "    def getHeadStr(self):\n",
    "        \"\"\"Returns the string of the duckling's head.\"\"\"\n",
    "        headStr = ''\n",
    "        if self.direction == LEFT:\n",
    "            # Get the mouth:\n",
    "            if self.mouth == OPEN:\n",
    "                headStr += '>'\n",
    "            elif self.mouth == CLOSED:\n",
    "                headStr += '='\n",
    "\n",
    "            # Get the eyes:\n",
    "            if self.eyes == BEADY and self.body == CHUBBY:\n",
    "                headStr += '\"'\n",
    "            elif self.eyes == BEADY and self.body == VERY_CHUBBY:\n",
    "                headStr += '\" '\n",
    "            elif self.eyes == WIDE:\n",
    "                headStr += \"''\"\n",
    "            elif self.eyes == HAPPY:\n",
    "                headStr += '^^'\n",
    "            elif self.eyes == ALOOF:\n",
    "                headStr += '``'\n",
    "\n",
    "            headStr += ') '  # Get the back of the head.\n",
    "\n",
    "        if self.direction == RIGHT:\n",
    "            headStr += ' ('  # Get the back of the head.\n",
    "\n",
    "            # Get the eyes:\n",
    "            if self.eyes == BEADY and self.body == CHUBBY:\n",
    "                headStr += '\"'\n",
    "            elif self.eyes == BEADY and self.body == VERY_CHUBBY:\n",
    "                headStr += ' \"'\n",
    "            elif self.eyes == WIDE:\n",
    "                headStr += \"''\"\n",
    "            elif self.eyes == HAPPY:\n",
    "                headStr += '^^'\n",
    "            elif self.eyes == ALOOF:\n",
    "                headStr += '``'\n",
    "\n",
    "            # Get the mouth:\n",
    "            if self.mouth == OPEN:\n",
    "                headStr += '<'\n",
    "            elif self.mouth == CLOSED:\n",
    "                headStr += '='\n",
    "\n",
    "        if self.body == CHUBBY:\n",
    "            # Get an extra space so chubby ducklings are the same\n",
    "            # width as very chubby ducklings.\n",
    "            headStr += ' '\n",
    "\n",
    "        return headStr\n",
    "\n",
    "    def getBodyStr(self):\n",
    "        \"\"\"Returns the string of the duckling's body.\"\"\"\n",
    "        bodyStr = '('  # Get the left side of the body.\n",
    "        if self.direction == LEFT:\n",
    "            # Get the interior body space:\n",
    "            if self.body == CHUBBY:\n",
    "                bodyStr += ' '\n",
    "            elif self.body == VERY_CHUBBY:\n",
    "                bodyStr += '  '\n",
    "\n",
    "            # Get the wing:\n",
    "            if self.wing == OUT:\n",
    "                bodyStr += '>'\n",
    "            elif self.wing == UP:\n",
    "                bodyStr += '^'\n",
    "            elif self.wing == DOWN:\n",
    "                bodyStr += 'v'\n",
    "\n",
    "        if self.direction == RIGHT:\n",
    "            # Get the wing:\n",
    "            if self.wing == OUT:\n",
    "                bodyStr += '<'\n",
    "            elif self.wing == UP:\n",
    "                bodyStr += '^'\n",
    "            elif self.wing == DOWN:\n",
    "                bodyStr += 'v'\n",
    "\n",
    "            # Get the interior body space:\n",
    "            if self.body == CHUBBY:\n",
    "                bodyStr += ' '\n",
    "            elif self.body == VERY_CHUBBY:\n",
    "                bodyStr += '  '\n",
    "\n",
    "        bodyStr += ')'  # Get the right side of the body.\n",
    "\n",
    "        if self.body == CHUBBY:\n",
    "            # Get an extra space so chubby ducklings are the same\n",
    "            # width as very chubby ducklings.\n",
    "            bodyStr += ' '\n",
    "\n",
    "        return bodyStr\n",
    "\n",
    "    def getFeetStr(self):\n",
    "        \"\"\"Returns the string of the duckling's feet.\"\"\"\n",
    "        if self.body == CHUBBY:\n",
    "            return ' ^^  '\n",
    "        elif self.body == VERY_CHUBBY:\n",
    "            return ' ^ ^ '\n",
    "\n",
    "    def getNextBodyPart(self):\n",
    "        \"\"\"Calls the appropriate display method for the next body\n",
    "        part that needs to be displayed. Sets partToDisplayNext to\n",
    "        None when finished.\"\"\"\n",
    "        if self.partToDisplayNext == HEAD:\n",
    "            self.partToDisplayNext = BODY\n",
    "            return self.getHeadStr()\n",
    "        elif self.partToDisplayNext == BODY:\n",
    "            self.partToDisplayNext = FEET\n",
    "            return self.getBodyStr()\n",
    "        elif self.partToDisplayNext == FEET:\n",
    "            self.partToDisplayNext = None\n",
    "            return self.getFeetStr()\n",
    "\n",
    "\n",
    "def main():\n",
    "    print('Press Ctrl-C to quit...')\n",
    "    time.sleep(2)\n",
    "\n",
    "    ducklingLanes = [None] * (WIDTH // DUCKLING_WIDTH)\n",
    "\n",
    "    while True:  # Main program loop.\n",
    "        for laneNum, ducklingObj in enumerate(ducklingLanes):\n",
    "            # See if we should create a duckling in this lane:\n",
    "            if (ducklingObj == None and random.random() <= DENSITY):\n",
    "                # Place a duckling in this lane:\n",
    "                ducklingObj = Duckling()\n",
    "                ducklingLanes[laneNum] = ducklingObj\n",
    "\n",
    "            if ducklingObj != None:\n",
    "                # Draw a duckling if there is one in this lane:\n",
    "                print(ducklingObj.getNextBodyPart(), end='')\n",
    "                # Delete the duckling if we've finished drawing it:\n",
    "                if ducklingObj.partToDisplayNext == None:\n",
    "                    ducklingLanes[laneNum] = None\n",
    "            else:\n",
    "                # Draw five spaces since there is no duckling here.\n",
    "                print(' ' * DUCKLING_WIDTH, end='')\n",
    "\n",
    "        print()  # Print a newline.\n",
    "        sys.stdout.flush()  # Make sure text appears on the screen.\n",
    "        time.sleep(PAUSE)\n",
    "\n",
    "# If this program was run (instead of imported), run the game:\n",
    "if __name__ == '__main__':\n",
    "    try:\n",
    "        main()\n",
    "    except KeyboardInterrupt:\n",
    "        sys.exit()  # When Ctrl-C is pressed, end the program."
   ]
  },
  {
   "cell_type": "markdown",
   "metadata": {},
   "source": [
    "## Pattern Singleton = доступ одному"
   ]
  },
  {
   "cell_type": "code",
   "execution_count": null,
   "metadata": {},
   "outputs": [],
   "source": [
    "class DataBase:\n",
    "    __instance = None  # None => нет объекта, иначе ссылка на объект\n",
    "\n",
    "    def __new__(cls, *args, **kwargs):\n",
    "        \"\"\"Возвращает класс по котором будет инициализироваться объект в __init__\"\"\"\n",
    "        if cls.__instance is None:\n",
    "            cls.__instance = super().__new__(cls) # DataBase\n",
    "        return cls.__instance\n",
    "\n",
    "    def __del__(self):\n",
    "        DataBase.__instance = None\n",
    "\n",
    "    def __init__(self, user, password, port):\n",
    "        self.user = user\n",
    "        self.password = password\n",
    "        self.port = port\n",
    "\n",
    "    def connect(self):\n",
    "        \"\"\"Подключение к БД\"\"\"\n",
    "        print(f'Connecting to DB {self.user}, {self.password}, {self.port}')\n",
    "\n",
    "    def close(self):\n",
    "        print('Closing BD')\n",
    "\n",
    "    def read(self):\n",
    "        return 'data from BD'"
   ]
  },
  {
   "cell_type": "code",
   "execution_count": null,
   "metadata": {},
   "outputs": [
    {
     "name": "stdout",
     "output_type": "stream",
     "text": [
      "2471919878480\n",
      "2471919878480 2471919878480\n"
     ]
    }
   ],
   "source": [
    "db = DataBase('root', 'password', 80)\n",
    "print(id(db))\n",
    "del db\n",
    "db2 = DataBase('root2', 'password2', 40)\n",
    "db3 = DataBase('ro2', 'passd2', 60)\n",
    "print(id(db2), id(db3))"
   ]
  },
  {
   "cell_type": "markdown",
   "metadata": {},
   "source": [
    "## decorators `classmethod` & `staticmethod`"
   ]
  },
  {
   "cell_type": "code",
   "execution_count": null,
   "metadata": {},
   "outputs": [],
   "source": [
    "class Vector:\n",
    "    # атрибуты класса\n",
    "    min_coord, max_coord = 0, 100\n",
    "\n",
    "    @classmethod  # имеет доступ только к атрибутам класса и не имеет к атрибутам объекта\n",
    "    def validate(cls, arg):  # метод класса\n",
    "        return cls.min_coord <= arg <= cls.max_coord\n",
    "\n",
    "    def __init__(self, x, y):\n",
    "        self.x = self.y = 0 # атрибуты объекта\n",
    "        if self.validate(x) and self.validate(y):\n",
    "            self.x = x\n",
    "            self.y = y\n",
    "\n",
    "    def get_coord(self):  # метод объекта\n",
    "        \"\"\"Получение координаты\"\"\"\n",
    "        return self.x, self.y\n",
    "\n",
    "    @staticmethod  # не имеет доступ ни к каким атрибутам\n",
    "    def norm2(x, y):  # нет ни self, ни cls!\n",
    "        \"\"\"Квадратичная норма\"\"\"\n",
    "        return x * x + y * y"
   ]
  },
  {
   "cell_type": "code",
   "execution_count": null,
   "metadata": {},
   "outputs": [
    {
     "name": "stdout",
     "output_type": "stream",
     "text": [
      "True\n",
      "True\n",
      "(1, 2)\n",
      "5\n",
      "5\n"
     ]
    }
   ],
   "source": [
    "v = Vector(1, 2)\n",
    "\n",
    "print(Vector.validate(1))\n",
    "print(v.validate(1))  # ребенок наследует все от родителя\n",
    "print(v.get_coord())\n",
    "print(Vector.norm2(1, 2))\n",
    "print(v.norm2(1, 2))"
   ]
  },
  {
   "cell_type": "markdown",
   "metadata": {},
   "source": [
    "## Stack = куча"
   ]
  },
  {
   "cell_type": "code",
   "execution_count": 37,
   "metadata": {},
   "outputs": [],
   "source": [
    "class Stack:\n",
    "\n",
    "    def __init__(self):\n",
    "        \"\"\"Сковорода\"\"\"\n",
    "        self.top = None\n",
    "        self.data = None\n",
    "        self.next = None\n",
    "\n",
    "    def push(self, data):\n",
    "        s = Stack()\n",
    "        s.data = data\n",
    "        s.next = self.top\n",
    "        self.top = s\n",
    "\n",
    "    def pop(self):\n",
    "        data = self.top.data\n",
    "        self.top = self.top.next\n",
    "        return data"
   ]
  },
  {
   "cell_type": "code",
   "execution_count": 38,
   "metadata": {},
   "outputs": [
    {
     "name": "stdout",
     "output_type": "stream",
     "text": [
      "{'top': <__main__.Stack object at 0x000001F5ECA6F350>, 'data': None, 'next': None}\n",
      "{'top': <__main__.Stack object at 0x000001F5EC543150>, 'data': None, 'next': None}\n",
      "{'top': <__main__.Stack object at 0x000001F5EC503F50>, 'data': None, 'next': None}\n",
      "2\n",
      "{'top': <__main__.Stack object at 0x000001F5EC543150>, 'data': None, 'next': None}\n",
      "1\n",
      "{'top': <__main__.Stack object at 0x000001F5ECA6F350>, 'data': None, 'next': None}\n",
      "0\n",
      "{'top': None, 'data': None, 'next': None}\n"
     ]
    }
   ],
   "source": [
    "stack = Stack()\n",
    "\n",
    "stack.push(0)\n",
    "print(stack.__dict__)\n",
    "stack.push(1)\n",
    "print(stack.__dict__)\n",
    "stack.push(2)\n",
    "print(stack.__dict__)\n",
    "print(stack.pop())\n",
    "print(stack.__dict__)\n",
    "print(stack.pop())\n",
    "print(stack.__dict__)\n",
    "print(stack.pop())\n",
    "print(stack.__dict__)"
   ]
  },
  {
   "cell_type": "markdown",
   "metadata": {},
   "source": [
    "## Queue = очередь"
   ]
  },
  {
   "cell_type": "code",
   "execution_count": null,
   "metadata": {},
   "outputs": [],
   "source": []
  },
  {
   "cell_type": "markdown",
   "metadata": {},
   "source": [
    "## PinnBall"
   ]
  },
  {
   "cell_type": "code",
   "execution_count": null,
   "metadata": {},
   "outputs": [],
   "source": []
  },
  {
   "cell_type": "markdown",
   "metadata": {},
   "source": [
    "## Internet"
   ]
  },
  {
   "cell_type": "markdown",
   "metadata": {},
   "source": [
    "![](./images/internet.png)"
   ]
  },
  {
   "cell_type": "markdown",
   "metadata": {},
   "source": [
    "Время первого испытания. Представьте, что вы получили задание от заказчика. Вас просят реализовать простую имитацию локальной сети, состоящую из набора серверов, соединенных между собой через роутер.\n",
    "\n",
    "Каждый сервер может отправлять пакет любому другому серверу сети. Для этого у каждого есть свой уникальный IP-адрес. Для простоты - это просто целое (натуральное) число от 1 и до N, где N - общее число серверов. Алгоритм следующий. Предположим, сервер с IP = 2 собирается отправить пакет информации серверу с IP = 3. Для этого, он сначала отправляет пакет роутеру, а уже тот, смотрит на IP-адрес и пересылает пакет нужному узлу (серверу).\n",
    "\n",
    "Для реализации этой схемы программе предлагается объявить три класса:\n",
    "- `Server` - для описания работы серверов в сети;\n",
    "- `Router` - для описания работы роутеров в сети (в данной задаче полагается один роутер);\n",
    "- `Data` - для описания пакета информации.\n",
    "\n",
    "Серверы будут создаваться командой: ```sv = Server()```\n",
    "\n",
    "При этом, уникальный IP-адрес каждого сервера должен формироваться автоматически при создании нового экземпляра класса Server.\n",
    "\n",
    "Далее, роутер должен создаваться аналогичной командой: ```router = Router()```\n",
    "\n",
    "А, пакеты данных, командой: ```data = Data(<строка с данными>, <IP-адрес назначения>)```\n",
    "\n",
    "Для формирования и функционирования локальной сети, в классе Router должны быть реализованы следующие методы:\n",
    "- `link(server)` - для присоединения сервера server (объекта класса `Server`) к роутеру (для простоты, каждый сервер соединен только с одним роутером);\n",
    "- `unlink(server)` - для отсоединения сервера server (объекта класса `Server`) от роутера;\n",
    "- `send_data()` - для отправки всех пакетов (объектов класса `Data`) из буфера роутера соответствующим серверам (после отправки буфер должен очищаться).\n",
    "\n",
    "И одно обязательное локальное свойство (могут быть и другие свойства): `buffer` - список для хранения принятых от серверов пакетов (объектов класса `Data`).\n",
    "\n",
    "Класс `Server` должен содержать свой набор методов:\n",
    "- `send_data(data)` - для отправки информационного пакета data (объекта класса Data) с указанным IP-адресом получателя (пакет отправляется роутеру и сохраняется в его буфере - локальном свойстве `buffer`);\n",
    "- `get_data()` - возвращает список принятых пакетов (если ничего принято не было, то возвращается пустой список) и очищает входной буфер;\n",
    "- `get_ip()` - возвращает свой IP-адрес.\n",
    "\n",
    "Соответственно в объектах класса `Server` должны быть локальные свойства:\n",
    "- `buffer` - список принятых пакетов (объекты класса `Data`, изначально пустой);\n",
    "- `ip` - IP-адрес текущего сервера.\n",
    "\n",
    "Наконец, объекты класса `Data` должны содержать два следующих локальных свойства:\n",
    "- `data` - передаваемые данные (строка);\n",
    "- `ip` - IP-адрес назначения.\n",
    "\n",
    "Пример использования этих классов:\n",
    "```\n",
    "router = Router()\n",
    "sv_from = Server()\n",
    "sv_from2 = Server()\n",
    "router.link(sv_from)\n",
    "router.link(sv_from2)\n",
    "router.link(Server())\n",
    "router.link(Server())\n",
    "sv_to = Server()\n",
    "router.link(sv_to)\n",
    "sv_from.send_data(Data(\"Hello\", sv_to.get_ip()))\n",
    "sv_from2.send_data(Data(\"Hello\", sv_to.get_ip()))\n",
    "sv_to.send_data(Data(\"Hi\", sv_from.get_ip()))\n",
    "router.send_data()\n",
    "msg_lst_from = sv_from.get_data()\n",
    "msg_lst_to = sv_to.get_data()\n",
    "```\n",
    "\n",
    "Ваша задача реализовать классы `Router`, `Server` и `Data` в соответствии с приведенным техническим заданием (ТЗ). Что-либо выводить на экран не нужно."
   ]
  },
  {
   "cell_type": "code",
   "execution_count": 2,
   "metadata": {},
   "outputs": [],
   "source": [
    "class Server:\n",
    "    server_ip = 1\n",
    "\n",
    "    def __init__(self):\n",
    "        self.buffer = []\n",
    "        self.ip = Server.server_ip\n",
    "        Server.server_ip += 1\n",
    "        self.router = None\n",
    "\n",
    "    def send_data(self, data):\n",
    "        if self.router:\n",
    "            self.router.buffer.append(data)\n",
    "\n",
    "    def get_data(self):\n",
    "        b = self.buffer[:]\n",
    "        self.buffer.clear()\n",
    "        return b\n",
    "\n",
    "    def get_ip(self):\n",
    "        return self.ip\n",
    "\n",
    "\n",
    "class Router:\n",
    "    def __init__(self):\n",
    "        self.buffer = []\n",
    "        self.servers = {}\n",
    "\n",
    "    def link(self, server):\n",
    "        self.servers[server.ip] = server\n",
    "        server.router = self\n",
    "\n",
    "    def unlink(self, server):\n",
    "        ser = self.servers.pop(server.ip, False)\n",
    "        if ser:\n",
    "            ser.router = None\n",
    "\n",
    "    def send_data(self):\n",
    "        for d in self.buffer:\n",
    "            if d.ip in self.servers:\n",
    "                self.servers[d.ip].buffer.append(d)\n",
    "        self.buffer.clear()\n",
    "\n",
    "\n",
    "class Data:\n",
    "    def __init__(self, data, ip):\n",
    "        self.data = data\n",
    "        self.ip = ip"
   ]
  },
  {
   "cell_type": "code",
   "execution_count": 3,
   "metadata": {},
   "outputs": [
    {
     "name": "stdout",
     "output_type": "stream",
     "text": [
      "Hi\n",
      "Hello\n"
     ]
    }
   ],
   "source": [
    "router = Router()\n",
    "\n",
    "sv_from = Server()\n",
    "router.link(sv_from)\n",
    "sv_to = Server()\n",
    "router.link(sv_to)\n",
    "\n",
    "sv_from.send_data(Data(\"Hello\", sv_to.get_ip()))\n",
    "sv_to.send_data(Data(\"Hi\", sv_from.get_ip()))\n",
    "\n",
    "router.send_data()\n",
    "\n",
    "for data in sv_from.get_data(): print(data.data)\n",
    "for data in sv_to.get_data(): print(data.data)"
   ]
  },
  {
   "cell_type": "markdown",
   "metadata": {},
   "source": [
    "## Инкапсуляция = ограничение доступа к данным и методам вне класса"
   ]
  },
  {
   "cell_type": "markdown",
   "metadata": {},
   "source": [
    "- `attribute` = public (без 1го и 2ух подчеркиваний вначале)\n",
    "- `_attribute` = protected (с 1м подчеркиванием) = служит для обращения внутри класса и во всех дочерних классах как предупреждение\n",
    "- `__attribute` = private (с 2мя подчеркиваниями) = служит для обращения ТОЛЬКО внутри данного класса и для обращения требует getter & setter & deleter"
   ]
  },
  {
   "cell_type": "code",
   "execution_count": 69,
   "metadata": {},
   "outputs": [],
   "source": [
    "class Bild:\n",
    "    stock: float = 315.15  # public class attribute\n",
    "    _money: int = 0  # protected class attribute\n",
    "    __password: str = '1234'  # private class attribute\n",
    "\n",
    "    def __init__(self, name: str, age: int, birth_date: str) -> None:\n",
    "        self.name = name  # public object attribute\n",
    "        self._age = age  # protected object attribute\n",
    "        self.__birth_date = birth_date  # private object attribute\n",
    "\n",
    "    @classmethod\n",
    "    def get_password(cls):\n",
    "        \"\"\"getter for private class attribute password\"\"\"\n",
    "        return cls.__password\n",
    "\n",
    "    @classmethod\n",
    "    def set_password(cls, password: str) -> None:\n",
    "        \"\"\"setter for private class attribute password\"\"\"\n",
    "        if type(password) is str and 4 <= len(password) <= 8:\n",
    "            cls.__password = password\n",
    "        else:\n",
    "            print(f'password \"{password}\" is not correct')\n",
    "\n",
    "    @classmethod\n",
    "    def del_password(cls):\n",
    "        \"\"\"deleter for private class attribute password\"\"\"\n",
    "        cls.__password = ''\n",
    "\n",
    "    def get_birth_date(self) -> str:\n",
    "        \"\"\"getter for private object attribute birth_date\"\"\"\n",
    "        return self.__birth_date\n",
    "    \n",
    "    def set_birth_date(self, birth_date) -> None:\n",
    "        \"\"\"setter for private object attribute birth_date\"\"\"\n",
    "        if type(birth_date) is str and birth_date.count('.') == 2:\n",
    "            self.__birth_date = birth_date\n",
    "        else:\n",
    "            print(f'birth_date \"{birth_date}\" is not correct')\n",
    "    \n",
    "    def del_birth_date(self) -> None:\n",
    "        \"\"\"deleter for private object attribute birth_date\"\"\"\n",
    "        self.__birth_date = '00.00.0000'"
   ]
  },
  {
   "cell_type": "code",
   "execution_count": 25,
   "metadata": {},
   "outputs": [
    {
     "name": "stdout",
     "output_type": "stream",
     "text": [
      "Bild.stock = 315.15, b.stock = 315.15\n",
      "Bild._money = 0, b._money = 0\n",
      "exception = AttributeError(\"type object 'Bild' has no attribute '__password'\")\n",
      "\n",
      "b.name = 'Daniil'\n",
      "b._age = 24\n",
      "exception = AttributeError(\"'Bild' object has no attribute '__birth_date'\")\n"
     ]
    }
   ],
   "source": [
    "b = Bild('Daniil', 24, '04.11.1999')\n",
    "\n",
    "print(f'{Bild.stock = }, {b.stock = }')\n",
    "print(f'{Bild._money = }, {b._money = }')\n",
    "try:\n",
    "    print(f'{Bild.__password = }, {b.__password = }')\n",
    "except Exception as exception:\n",
    "    print(f'{exception = }')\n",
    "print()\n",
    "print(f'{b.name = }')\n",
    "print(f'{b._age = }')\n",
    "try:\n",
    "    print(f'{b.__birth_date = }')\n",
    "except Exception as exception:\n",
    "    print(f'{exception = }')"
   ]
  },
  {
   "cell_type": "code",
   "execution_count": 55,
   "metadata": {},
   "outputs": [
    {
     "name": "stdout",
     "output_type": "stream",
     "text": [
      "Bild.get_password() = '', b.get_password() = ''\n",
      "\u001b[33m<bound method Bild.set_password of <class '__main__.Bild'>>\u001b[39m\n",
      "Bild.get_password() = '4321', b.get_password() = '4321'\n",
      "\u001b[33m<bound method Bild.set_password of <class '__main__.Bild'>>\u001b[39m\n",
      "Bild.get_password() = '1234', b.get_password() = '1234'\n",
      "\u001b[31m<bound method Bild.del_password of <class '__main__.Bild'>>\u001b[39m\n",
      "Bild.get_password() = '', b.get_password() = ''\n",
      "\u001b[33m<bound method Bild.set_password of <class '__main__.Bild'>>\u001b[39m\n",
      "Bild.get_password() = '4321', b.get_password() = '4321'\n",
      "\u001b[31m<bound method Bild.del_password of <class '__main__.Bild'>>\u001b[39m\n",
      "Bild.get_password() = '', b.get_password() = ''\n",
      "\n",
      "b.get_birth_date() = '0000.0000.0000'\n",
      "\u001b[33m<bound method Bild.set_birth_date of <__main__.Bild object at 0x0000011E112BC410>>\u001b[39m\n",
      "b.get_birth_date() = '28.02.2000'\n",
      "\u001b[31m<bound method Bild.del_birth_date of <__main__.Bild object at 0x0000011E112BC410>>\u001b[39m\n",
      "b.get_birth_date() = '00.00.0000'\n"
     ]
    }
   ],
   "source": [
    "from colorama import Fore\n",
    "\n",
    "b = Bild('Laki-Paki', -18, '0000.0000.0000')\n",
    "\n",
    "print(f'{Bild.get_password() = }, {b.get_password() = }')\n",
    "Bild.set_password('4321'), print(Fore.YELLOW + f'{Bild.set_password}' + Fore.RESET)\n",
    "print(f'{Bild.get_password() = }, {b.get_password() = }')\n",
    "b.set_password('1234'), print(Fore.YELLOW + f'{b.set_password}' + Fore.RESET)\n",
    "print(f'{Bild.get_password() = }, {b.get_password() = }')\n",
    "Bild.del_password(), print(Fore.RED + f'{Bild.del_password}' + Fore.RESET)\n",
    "print(f'{Bild.get_password() = }, {b.get_password() = }')\n",
    "Bild.set_password('4321'), print(Fore.YELLOW + f'{Bild.set_password}' + Fore.RESET)\n",
    "print(f'{Bild.get_password() = }, {b.get_password() = }')\n",
    "b.del_password(), print(Fore.RED + f'{b.del_password}' + Fore.RESET)\n",
    "print(f'{Bild.get_password() = }, {b.get_password() = }')\n",
    "print()\n",
    "print(f'{b.get_birth_date() = }')\n",
    "b.set_birth_date('28.02.2000'), print(Fore.YELLOW + f'{b.set_birth_date}' + Fore.RESET)\n",
    "print(f'{b.get_birth_date() = }')\n",
    "b.del_birth_date(), print(Fore.RED + f'{b.del_birth_date}' + Fore.RESET)\n",
    "print(f'{b.get_birth_date() = }')"
   ]
  },
  {
   "cell_type": "code",
   "execution_count": 59,
   "metadata": {},
   "outputs": [
    {
     "name": "stdout",
     "output_type": "stream",
     "text": [
      "birth_date \"Второе февраля двухтысячного года\" is not correct\n",
      "b.get_birth_date() = '00.00.0000'\n"
     ]
    }
   ],
   "source": [
    "b.set_birth_date('Второе февраля двухтысячного года')\n",
    "print(f'{b.get_birth_date() = }')"
   ]
  },
  {
   "cell_type": "markdown",
   "metadata": {},
   "source": [
    "### hack private attribute"
   ]
  },
  {
   "cell_type": "code",
   "execution_count": 70,
   "metadata": {},
   "outputs": [
    {
     "name": "stdout",
     "output_type": "stream",
     "text": [
      "Bild.__dict__ = mappingproxy({'__module__': '__main__', '__annotations__': {'stock': <class 'float'>, '_money': <class 'int'>, '_Bild__password': <class 'str'>}, 'stock': 315.15, '_money': 0, '_Bild__password': '1234', '__init__': <function Bild.__init__ at 0x0000011E1136DD00>, 'get_password': <classmethod(<function Bild.get_password at 0x0000011E1136CB80>)>, 'set_password': <classmethod(<function Bild.set_password at 0x0000011E1136DBC0>)>, 'del_password': <classmethod(<function Bild.del_password at 0x0000011E1136DC60>)>, 'get_birth_date': <function Bild.get_birth_date at 0x0000011E1136E0C0>, 'set_birth_date': <function Bild.set_birth_date at 0x0000011E1136E160>, 'del_birth_date': <function Bild.del_birth_date at 0x0000011E1136CF40>, '__dict__': <attribute '__dict__' of 'Bild' objects>, '__weakref__': <attribute '__weakref__' of 'Bild' objects>, '__doc__': None})\n",
      "b.__dict__ = {'name': 'Daniil', '_age': 24, '_Bild__birth_date': '04.11.1999'}\n",
      "dir(Bild) = ['_Bild__password', '__annotations__', '__class__', '__delattr__', '__dict__', '__dir__', '__doc__', '__eq__', '__format__', '__ge__', '__getattribute__', '__getstate__', '__gt__', '__hash__', '__init__', '__init_subclass__', '__le__', '__lt__', '__module__', '__ne__', '__new__', '__reduce__', '__reduce_ex__', '__repr__', '__setattr__', '__sizeof__', '__str__', '__subclasshook__', '__weakref__', '_money', 'del_birth_date', 'del_password', 'get_birth_date', 'get_password', 'set_birth_date', 'set_password', 'stock']\n",
      "dir(b) = ['_Bild__birth_date', '_Bild__password', '__annotations__', '__class__', '__delattr__', '__dict__', '__dir__', '__doc__', '__eq__', '__format__', '__ge__', '__getattribute__', '__getstate__', '__gt__', '__hash__', '__init__', '__init_subclass__', '__le__', '__lt__', '__module__', '__ne__', '__new__', '__reduce__', '__reduce_ex__', '__repr__', '__setattr__', '__sizeof__', '__str__', '__subclasshook__', '__weakref__', '_age', '_money', 'del_birth_date', 'del_password', 'get_birth_date', 'get_password', 'name', 'set_birth_date', 'set_password', 'stock']\n",
      "\n",
      "Bild._Bild__password = '1234'\n",
      "b._Bild__password = '1234'\n"
     ]
    }
   ],
   "source": [
    "b = Bild('Daniil', 24, '04.11.1999')\n",
    "\n",
    "print(f'{Bild.__dict__ = }')  # вывод словаря с атрибутами и методами\n",
    "print(f'{b.__dict__ = }')  # вывод словаря с атрибутами и методами\n",
    "print(f'{dir(Bild) = }')  # вывод названий атрибутов и методов\n",
    "print(f'{dir(b) = }')  # вывод названий атрибутов и методов\n",
    "print()\n",
    "print(f'{Bild._Bild__password = }')\n",
    "print(f'{b._Bild__password = }')"
   ]
  },
  {
   "cell_type": "code",
   "execution_count": 71,
   "metadata": {},
   "outputs": [
    {
     "name": "stdout",
     "output_type": "stream",
     "text": [
      "Requirement already satisfied: accessify in c:\\python\\python 3.11.9\\lib\\site-packages (0.3.1)\n",
      "Note: you may need to restart the kernel to use updated packages.\n"
     ]
    },
    {
     "name": "stderr",
     "output_type": "stream",
     "text": [
      "WARNING: Ignoring invalid distribution ~atplotlib (c:\\Python\\Python 3.11.9\\Lib\\site-packages)\n",
      "WARNING: Ignoring invalid distribution ~atplotlib (c:\\Python\\Python 3.11.9\\Lib\\site-packages)\n",
      "WARNING: Ignoring invalid distribution ~atplotlib (c:\\Python\\Python 3.11.9\\Lib\\site-packages)\n"
     ]
    }
   ],
   "source": [
    "%pip install accessify"
   ]
  },
  {
   "cell_type": "code",
   "execution_count": 72,
   "metadata": {},
   "outputs": [],
   "source": [
    "from accessify import private, protected  # действительная защита"
   ]
  },
  {
   "cell_type": "code",
   "execution_count": 78,
   "metadata": {},
   "outputs": [],
   "source": [
    "class Point:\n",
    "    \"\"\"Точка\"\"\"\n",
    "\n",
    "    def __init__(self, x=0, y=0):\n",
    "        self.__x = self.__y = 0\n",
    "        if self.__check_value1(x) and self.check_value2(y):\n",
    "            self.__x, self.__y = x, y\n",
    "\n",
    "    def __check_value1(self, x) -> bool:\n",
    "        return type(x) in (int, float)\n",
    "\n",
    "    @private\n",
    "    def check_value2(self, x) -> bool:\n",
    "        return type(x) in (int, float)\n",
    "\n",
    "    def get_coord(self):  # геттер\n",
    "        return self.__x, self.__y\n",
    "\n",
    "    def set_coord(self, x, y):  # сеттер\n",
    "        if self.__check_value1(x) and self.check_value2(y):\n",
    "            self.__x, self.__y = x, y\n",
    "        else:\n",
    "            raise ValueError('Координаты должны быть числом!')"
   ]
  },
  {
   "cell_type": "code",
   "execution_count": 81,
   "metadata": {},
   "outputs": [
    {
     "name": "stdout",
     "output_type": "stream",
     "text": [
      "True\n",
      "Point.check_value2() is inaccessible due to its protection level\n",
      "{'_Point__x': 1, '_Point__y': 2}\n",
      "{'_Point__x': 0, '_Point__y': 0}\n",
      "(0, 0)\n",
      "(3, 4)\n"
     ]
    }
   ],
   "source": [
    "pt = Point(1, 2)\n",
    "print(pt._Point__check_value1(4))\n",
    "try:\n",
    "    print(pt.check_value2(4))  # accessify\n",
    "except Exception as exception:\n",
    "    print(exception)\n",
    "print(pt.__dict__)\n",
    "pt = Point('1', 2)  # Координаты должны быть числом!\n",
    "print(pt.__dict__)\n",
    "print(pt.get_coord())\n",
    "pt.set_coord(3, 4)\n",
    "print(pt.get_coord())\n",
    "#pt.set_coord(3, '4')  # Координаты должны быть числом!"
   ]
  },
  {
   "cell_type": "markdown",
   "metadata": {},
   "source": [
    "## `property`"
   ]
  },
  {
   "cell_type": "markdown",
   "metadata": {},
   "source": [
    "`property` = объединение функционала геттера, сеттера и делитера в одну ПЕРЕМЕННУЮ для приватных атрибутов"
   ]
  },
  {
   "cell_type": "code",
   "execution_count": 27,
   "metadata": {},
   "outputs": [],
   "source": [
    "class Person:\n",
    "    def __init__(self, name: str, age: int):\n",
    "        self.__name = name\n",
    "        self.__age = age\n",
    "\n",
    "    def get_age(self):\n",
    "        return self.__age\n",
    "\n",
    "    def set_age(self, age):\n",
    "        if isinstance(age, int) and age >= 0:\n",
    "            self.__age = age\n",
    "        else:\n",
    "            raise TypeError('Invalid age')\n",
    "    \n",
    "    def del_age(self):\n",
    "        self.__age = 0\n",
    "\n",
    "    #age = property(get_age, set_age, del_age)  # getter -> setter -> deleter!!!\n",
    "    age = property(get_age, set_age, del_age)  # getter -> setter -> deleter!!!"
   ]
  },
  {
   "cell_type": "code",
   "execution_count": 28,
   "metadata": {},
   "outputs": [
    {
     "name": "stdout",
     "output_type": "stream",
     "text": [
      "{'_Person__name': 'Егор', '_Person__age': 16}\n",
      "16\n",
      "{'_Person__name': 'Егор', '_Person__age': 12}\n",
      "{'_Person__name': 'Егор', '_Person__age': 999}\n",
      "999\n",
      "{'_Person__name': 'Егор', '_Person__age': 0}\n",
      "Invalid age\n",
      "Invalid age\n"
     ]
    }
   ],
   "source": [
    "p = Person('Егор', 16)\n",
    "print(p.__dict__)\n",
    "print(p.get_age())\n",
    "p.set_age(12)\n",
    "print(p.__dict__)\n",
    "p.age = 999\n",
    "print(p.__dict__)\n",
    "print(p.age)\n",
    "del p.age\n",
    "print(p.__dict__)\n",
    "try:\n",
    "    p.set_age(-12)\n",
    "except Exception as e:\n",
    "    print(e)\n",
    "try:\n",
    "    p.age = -12\n",
    "except Exception as e:\n",
    "    print(e)"
   ]
  },
  {
   "cell_type": "code",
   "execution_count": 23,
   "metadata": {},
   "outputs": [],
   "source": [
    "class Person2:\n",
    "    def __init__(self, name: str, age: int):\n",
    "        self.__name = name\n",
    "        self.__age = age\n",
    "\n",
    "    @property\n",
    "    def age(self):\n",
    "        return self.__age\n",
    "\n",
    "    @age.setter\n",
    "    def age(self, age):\n",
    "        if isinstance(age, int) and age >= 0:\n",
    "            self.__age = age\n",
    "        else:\n",
    "            raise TypeError('Invalid age')\n",
    "    \n",
    "    @age.deleter\n",
    "    def age(self):\n",
    "        self.__age = 0     "
   ]
  },
  {
   "cell_type": "code",
   "execution_count": null,
   "metadata": {},
   "outputs": [
    {
     "name": "stdout",
     "output_type": "stream",
     "text": [
      "{'_Person__name': 'Егор', '_Person__age': 16}\n",
      "{'_Person__name': 'Егор', '_Person__age': 999}\n",
      "999\n",
      "{'_Person__name': 'Егор', '_Person__age': 0}\n",
      "Invalid age\n"
     ]
    }
   ],
   "source": [
    "p = Person('Егор', 16)\n",
    "print(p.__dict__)\n",
    "#print(p.get_age())\n",
    "#p.set_age(12)\n",
    "#print(p.__dict__)\n",
    "p.age = 999\n",
    "print(p.__dict__)\n",
    "print(p.age)\n",
    "del p.age\n",
    "print(p.__dict__)\n",
    "'''try:\n",
    "    p.set_age(-12)\n",
    "except Exception as e:\n",
    "    print(e)'''\n",
    "try:\n",
    "    p.age = -12\n",
    "except Exception as e:\n",
    "    print(e)"
   ]
  },
  {
   "cell_type": "markdown",
   "metadata": {},
   "source": [
    "### Руками не трогать!"
   ]
  },
  {
   "cell_type": "code",
   "execution_count": 38,
   "metadata": {},
   "outputs": [],
   "source": [
    "class Spy:\n",
    "    \"\"\"ID шпиона\"\"\"\n",
    "\n",
    "    def __init__(self, name, nickname, age, sex):\n",
    "        self.__name = name\n",
    "        self.__nickname = nickname\n",
    "        self.__age = age\n",
    "        self.__sex = sex\n",
    "\n",
    "    @property\n",
    "    def name(self): return self.__name\n",
    "\n",
    "    @property\n",
    "    def nickname(self): return self.__nickname\n",
    "\n",
    "    @property\n",
    "    def age(self): return self.__age\n",
    "\n",
    "    @property\n",
    "    def sex(self): return self.__sex"
   ]
  },
  {
   "cell_type": "code",
   "execution_count": 39,
   "metadata": {},
   "outputs": [
    {
     "name": "stdout",
     "output_type": "stream",
     "text": [
      "{'_Spy__name': 'Ткачев Владислав', '_Spy__nickname': 'Кошмар', '_Spy__age': 19, '_Spy__sex': 'м'}\n",
      "Ткачев Владислав\n",
      "property 'name' of 'Spy' object has no setter\n"
     ]
    }
   ],
   "source": [
    "spy = Spy('Ткачев Владислав', 'Кошмар', 19, 'м')\n",
    "print(spy.__dict__)\n",
    "print(spy.name)\n",
    "try:\n",
    "    spy.name = 'Аламбек Тимбурлаев'\n",
    "except Exception as e:\n",
    "    print(e)"
   ]
  },
  {
   "cell_type": "markdown",
   "metadata": {},
   "source": [
    "### Актуальная информация"
   ]
  },
  {
   "cell_type": "code",
   "execution_count": 50,
   "metadata": {},
   "outputs": [],
   "source": [
    "import time \n",
    "\n",
    "class Time:\n",
    "\n",
    "    def __init__(self):\n",
    "        pass\n",
    "\n",
    "    def get_time(self):\n",
    "        return time.ctime()\n",
    "    \n",
    "    @property\n",
    "    def ctime(self): # больше self ничего быть не должно!\n",
    "        return time.ctime()"
   ]
  },
  {
   "cell_type": "code",
   "execution_count": 55,
   "metadata": {},
   "outputs": [
    {
     "name": "stdout",
     "output_type": "stream",
     "text": [
      "Sun Jan 12 20:31:26 2025\n",
      "Sun Jan 12 20:31:26 2025\n"
     ]
    }
   ],
   "source": [
    "t = Time()\n",
    "print(t.get_time())\n",
    "print(t.ctime)  # переменная с всегда актуальной информаций"
   ]
  },
  {
   "cell_type": "markdown",
   "metadata": {},
   "source": [
    "## descriptors"
   ]
  },
  {
   "cell_type": "markdown",
   "metadata": {},
   "source": [
    "- не данных = non-data descriptors (include only set_name, getter)\n",
    "- данных = data descriptors (include set_name, getter, setter, deleter)"
   ]
  },
  {
   "cell_type": "code",
   "execution_count": 36,
   "metadata": {},
   "outputs": [],
   "source": [
    "class Integer: \n",
    "    \"\"\"data descriptor\"\"\"\n",
    "    \n",
    "    def __set_name__(self, instance, name):\n",
    "        self.name = '_' + name\n",
    "\n",
    "    def __get__(self, instance, owner):\n",
    "        return instance.__dict__[self.name]\n",
    "\n",
    "    def __set__(self, instance, value):\n",
    "        instance.__dict__[self.name] = value"
   ]
  },
  {
   "cell_type": "code",
   "execution_count": 39,
   "metadata": {},
   "outputs": [],
   "source": [
    "class Point3D:\n",
    "    x, y, z = Integer(), Integer(), Integer()\n",
    "\n",
    "    def __init__(self, x, y, z):\n",
    "        self.x = x\n",
    "        self.y = y\n",
    "        self.z = z\n",
    "\n",
    "    @classmethod\n",
    "    def verify_coord(cls, c):\n",
    "        if type(c) is not int:\n",
    "            raise TypeError('тип координаты должен быть int!')\n",
    "\n",
    "    # ниже представлена плохая практика,\n",
    "    # так надо прописать property и для х, и для у и для z - ЧУМА!\n",
    "    # поэтому смотри выше\n",
    "    \"\"\"\n",
    "    def __init__(self, x, y, z):\n",
    "        self._x = x\n",
    "        self._y = y\n",
    "        self._z = z\n",
    "\n",
    "    @property\n",
    "    def x(self):\n",
    "        return self._x\n",
    "\n",
    "    @x.setter\n",
    "    def x(self, value):\n",
    "        self.verify_coord(value)\n",
    "        self._x = value\n",
    "    \"\"\""
   ]
  },
  {
   "cell_type": "code",
   "execution_count": 40,
   "metadata": {},
   "outputs": [],
   "source": [
    "pt3D = Point3D(1, 2, 3)\n",
    "pt3D._x = 3\n",
    "pt3D._y = 2\n",
    "pt3D._z = 1"
   ]
  },
  {
   "cell_type": "markdown",
   "metadata": {},
   "source": [
    "## `__getattribute__`, `__getattr__`, `__setattr__`, `__delattr__`"
   ]
  },
  {
   "cell_type": "code",
   "execution_count": 32,
   "metadata": {},
   "outputs": [],
   "source": [
    "class Point(object):\n",
    "    MIN_COORD, MAX_COORD = 0, 100\n",
    "\n",
    "    def __init__(self, x, y):\n",
    "        self.x, self.y = x, y  # __setattr__,  __setattr__\n",
    "\n",
    "    def set_coord(self, x, y):\n",
    "        if self.MIN_COORD <= x <= self.MAX_COORD and self.MIN_COORD <= y <= self.MAX_COORD:\n",
    "            self.x, self.y = x, y\n",
    "\n",
    "    # управление обращением к атрибуту ОБЪЕКТА класса\n",
    "    def __getattribute__(self, item):\n",
    "        print('__getattribute__')\n",
    "        if item == 'x':\n",
    "            raise ValueError('Доступ запрещен!')\n",
    "        else:\n",
    "            return object.__getattribute__(self, item)  # необходимо для присваивания\n",
    "\n",
    "    # управляет обращением к НЕСУЩЕСТВУЮЩЕМУ атрибуту ОБЪЕКТА класса\n",
    "    def __getattr__(self, item):\n",
    "        print('__getattr__')\n",
    "        return False\n",
    "\n",
    "    # управление присваиваниями атрибутов ОБЪЕКТА класса\n",
    "    def __setattr__(self, key, value):\n",
    "        print('__setattr__')\n",
    "        if key == 'over18':\n",
    "            raise AttributeError('Недопустимое имя атрибута!')\n",
    "        else:\n",
    "            object.__setattr__(self, key, value)\n",
    "            # self.__dict__[key] = value\n",
    "\n",
    "    # управляет удалением атрибута у экземпляра класса\n",
    "    def __delattr__(self, item):\n",
    "        print('__delattr__')\n",
    "        object.__delattr__(self, item)"
   ]
  },
  {
   "cell_type": "code",
   "execution_count": 31,
   "metadata": {},
   "outputs": [
    {
     "name": "stdout",
     "output_type": "stream",
     "text": [
      "__setattr__\n",
      "__setattr__\n",
      "\n",
      "__getattribute__\n",
      "__getattribute__\n",
      "__getattribute__\n",
      "__getattribute__\n",
      "__getattribute__\n",
      "__setattr__\n",
      "__setattr__\n",
      "\n",
      "__setattr__\n",
      "Недопустимое имя атрибута!\n",
      "\n",
      "Point.MAX_COORD = 100\n",
      "__getattribute__\n",
      "pt.MIN_COORD = 0\n",
      "\n",
      "__getattribute__\n",
      "Доступ запрещен!\n",
      "\n",
      "__getattribute__\n",
      "__getattr__\n",
      "pt.k = False\n",
      "\n",
      "__setattr__\n",
      "\n",
      "__getattribute__\n",
      "pt.k = 1.4\n",
      "\n",
      "__delattr__\n",
      "__getattribute__\n",
      "\n"
     ]
    }
   ],
   "source": [
    "pt = Point(1, 2)  # __setattr__, __setattr__\n",
    "print()\n",
    "pt.set_coord(0, 0) # __getattribute__, __getattribute__, __getattribute__, __getattribute__, __getattribute__, __setattr__, __setattr__\n",
    "print()\n",
    "try:\n",
    "    pt.over18 = 18\n",
    "except Exception as e:\n",
    "    print(e)\n",
    "print()\n",
    "print(f'{Point.MAX_COORD = }')  # 100\n",
    "print(f'{pt.MIN_COORD = }')  # __getattribute__, 0\n",
    "print()\n",
    "try:\n",
    "    print(f'{pt.x = }')  # __getattribute__\n",
    "except Exception as e:\n",
    "    print(e)  # Доступ запрещен!\n",
    "print()\n",
    "print(f'{pt.k = }')  # __getattribute__, __getattr__, False\n",
    "print()\n",
    "pt.k = 1.4  # __setattr__\n",
    "print()\n",
    "print(f'{pt.k = }')  # __getattribute__\n",
    "print()\n",
    "del pt.x  # __dellattr__"
   ]
  },
  {
   "cell_type": "markdown",
   "metadata": {},
   "source": [
    "### Практика проверки типов в данных"
   ]
  },
  {
   "cell_type": "code",
   "execution_count": 70,
   "metadata": {},
   "outputs": [],
   "source": [
    "class Book:\n",
    "    attrs = {'title': str, \n",
    "             'author': str, \n",
    "             'pages': int, \n",
    "             'year': int, }\n",
    "\n",
    "    def __init__(self, title='', author='', pages=0, year=0):\n",
    "        self.title = title\n",
    "        self.author = author\n",
    "        self.pages = pages\n",
    "        self.year = year\n",
    "\n",
    "    def __setattr__(self, key, value):\n",
    "        print('__setattr__')\n",
    "        if not (key in Book.attrs and type(value) is Book.attrs[key]):\n",
    "            raise TypeError(f'неверный тип у {key}')\n",
    "        else:\n",
    "            object.__setattr__(self, key, value)"
   ]
  },
  {
   "cell_type": "code",
   "execution_count": 71,
   "metadata": {},
   "outputs": [
    {
     "name": "stdout",
     "output_type": "stream",
     "text": [
      "__setattr__\n",
      "__setattr__\n",
      "__setattr__\n",
      "__setattr__\n",
      "__setattr__\n",
      "__setattr__\n",
      "__setattr__\n",
      "__setattr__\n",
      "неверный тип у year\n"
     ]
    }
   ],
   "source": [
    "book1 = Book('Егоркины рассказы', 'Егор', 1500, 12)\n",
    "try:\n",
    "    book2 = Book('Егоркины рассказы', 'Егор', 1500, '12')\n",
    "except Exception as e:\n",
    "    print(e)"
   ]
  },
  {
   "cell_type": "markdown",
   "metadata": {},
   "source": [
    "## `__call__`"
   ]
  },
  {
   "cell_type": "markdown",
   "metadata": {},
   "source": [
    "call служит для вызова класса через экземпляр подобно ф-и"
   ]
  },
  {
   "cell_type": "code",
   "execution_count": 56,
   "metadata": {},
   "outputs": [],
   "source": [
    "'''\n",
    "def __call__(self, *args, **kwargs):\n",
    "    obj = self.__new__(self, *args, **kwargs)\n",
    "    self.__init__(obj, *args, **kwargs)\n",
    "    return obj\n",
    "''';"
   ]
  },
  {
   "cell_type": "code",
   "execution_count": 10,
   "metadata": {},
   "outputs": [],
   "source": [
    "class Counter:\n",
    "    def __init__(self):\n",
    "        self.__counter = 0"
   ]
  },
  {
   "cell_type": "code",
   "execution_count": 11,
   "metadata": {},
   "outputs": [
    {
     "name": "stdout",
     "output_type": "stream",
     "text": [
      "'Counter' object is not callable\n"
     ]
    }
   ],
   "source": [
    "c = Counter()\n",
    "\n",
    "try:\n",
    "    c()  # ошибка\n",
    "except Exception as e:\n",
    "    print(e)"
   ]
  },
  {
   "cell_type": "code",
   "execution_count": 16,
   "metadata": {},
   "outputs": [],
   "source": [
    "class Counter:  # класс с методом __call__ называется \"Функтор\"\n",
    "    def __init__(self):\n",
    "        self.__counter = 0\n",
    "\n",
    "    # управление вызовом от объекта класса\n",
    "    def __call__(self, *args, **kwargs):\n",
    "        print('__call__')\n",
    "        self.__counter += 1\n",
    "        return self.__counter"
   ]
  },
  {
   "cell_type": "code",
   "execution_count": 17,
   "metadata": {},
   "outputs": [
    {
     "name": "stdout",
     "output_type": "stream",
     "text": [
      "__call__\n",
      "__call__\n",
      "__call__\n",
      "__call__\n",
      "c() = 4\n",
      "__call__\n",
      "c() = 5\n"
     ]
    }
   ],
   "source": [
    "c = Counter()\n",
    "c(45)  # ошибки нет\n",
    "c(df='dataframe')  # ошибки нет\n",
    "c(45, df='dataframe')  # ошибки нет\n",
    "print(f'{c() = }')\n",
    "c2 = Counter()\n",
    "print(f'{c() = }')"
   ]
  },
  {
   "cell_type": "markdown",
   "metadata": {},
   "source": [
    "### derivative"
   ]
  },
  {
   "cell_type": "code",
   "execution_count": 22,
   "metadata": {},
   "outputs": [
    {
     "name": "stdout",
     "output_type": "stream",
     "text": [
      "0.0\n"
     ]
    }
   ],
   "source": [
    "from math import sin, pi\n",
    "\n",
    "\n",
    "class Derivate:  # производная\n",
    "    def __init__(self, func):  # func = расшираемая (оборачиваемая) ф-я\n",
    "        self.__fn = func  # ссылка на расширяемую ф-ю\n",
    "\n",
    "    def __call__(self, x, *args, dx=0.0001, **kwargs):\n",
    "        return (self.__fn(x + dx / 2) - self.__fn(x - dx / 2)) / dx\n",
    "\n",
    "\n",
    "@Derivate\n",
    "def df_sin(x): return sin(x)\n",
    "\n",
    "\n",
    "print(df_sin(pi / 2))"
   ]
  },
  {
   "cell_type": "markdown",
   "metadata": {},
   "source": [
    "## `__str__` & `__repr__`"
   ]
  },
  {
   "cell_type": "markdown",
   "metadata": {},
   "source": [
    "- `__str__` = отражает инфу об объекте класса, н-р с помощью print() или str()\n",
    "- `__repr__` = отображает инфу об объекте класса В РЕЖИМЕ ОТЛАДКИ"
   ]
  },
  {
   "cell_type": "code",
   "execution_count": 27,
   "metadata": {},
   "outputs": [],
   "source": [
    "class Person:\n",
    "    def __init__(self, name):\n",
    "        self.name = name\n",
    "\n",
    "    def __str__(self):\n",
    "        print('__str__')\n",
    "        return f'{self.name}'\n",
    "\n",
    "    def __repr__(self):\n",
    "        print('__repr__')\n",
    "        return f'{self.__class__}: {self.name}'"
   ]
  },
  {
   "cell_type": "code",
   "execution_count": 31,
   "metadata": {},
   "outputs": [
    {
     "name": "stdout",
     "output_type": "stream",
     "text": [
      "Daniil\n",
      "__str__\n",
      "Daniil\n",
      "__str__\n"
     ]
    },
    {
     "data": {
      "text/plain": [
       "'Daniil'"
      ]
     },
     "execution_count": 31,
     "metadata": {},
     "output_type": "execute_result"
    }
   ],
   "source": [
    "p = Person('Daniil')\n",
    "print(p.name)  # обращение через атрибут\n",
    "print(p)  # обращение через __str__\n",
    "print(str(p))  # обращение к __str__"
   ]
  },
  {
   "cell_type": "markdown",
   "metadata": {},
   "source": [
    "## `__len__` & `__abs__`"
   ]
  },
  {
   "cell_type": "markdown",
   "metadata": {},
   "source": [
    "- `__len__` = разрешает применять ф-ю len() к объектам класса\n",
    "- `__abs__` = разрешает применять ф-ю abs() к объектам класса"
   ]
  },
  {
   "cell_type": "code",
   "execution_count": 38,
   "metadata": {},
   "outputs": [],
   "source": [
    "class Point:\n",
    "    def __init__(self, *args):\n",
    "        self.coords: tuple = args\n",
    "\n",
    "    def __len__(self):\n",
    "        return len(self.coords)\n",
    "\n",
    "    def __abs__(self):\n",
    "        return list(map(abs, self.coords))"
   ]
  },
  {
   "cell_type": "code",
   "execution_count": 39,
   "metadata": {},
   "outputs": [
    {
     "name": "stdout",
     "output_type": "stream",
     "text": [
      "4D\n",
      "list(map(abs, self.coords))\n"
     ]
    }
   ],
   "source": [
    "p = Point(1, -2, 45, -400)\n",
    "print(f'{len(p)}D')  # размерность точки: 1D, 2D, 3D ...\n",
    "print(abs(p))  # насильный перевод координат точки в неотрицательную об-ть"
   ]
  },
  {
   "cell_type": "markdown",
   "metadata": {},
   "source": [
    "## `__add__`, `__sub__`, `__mul__`, `__truediv__`, `__floordiv__`, `__mod__`, `__eq__`, `__ne__`, `__lt__`, `__le__`, `__gt__`, `__ge__`"
   ]
  },
  {
   "cell_type": "markdown",
   "metadata": {},
   "source": [
    "- `__add__` = для операции сложения +\n",
    "- `__sub__` = для операции вычитания -\n",
    "- `__mul__` = для операции умножения *\n",
    "- `__truediv__` = для операции деления /\n",
    "- `__floordiv__` = для операции целочисленного деления //\n",
    "- `__mod__` = для операции взятия остатка от деления %\n",
    "\n",
    "- `__eq__` = для операции '==' (убийство hash)\n",
    "- `__ne__` = для операции '!='\n",
    "- `__lt__` = для операции '<'\n",
    "- `__le__` = для операции '<='\n",
    "- `__gt__` = для операции '>'\n",
    "- `__ge__` = для операции '>='"
   ]
  },
  {
   "cell_type": "code",
   "execution_count": 52,
   "metadata": {},
   "outputs": [],
   "source": [
    "class Clock:\n",
    "    __DAY = 86_400  # количество секунд в 1 дне\n",
    "\n",
    "    def __init__(self, seconds: int):\n",
    "        if not isinstance(seconds, int): raise TypeError('Секунды должны быть int!')\n",
    "        self.seconds = seconds % self.__DAY\n",
    "\n",
    "    def get_time(self):\n",
    "        \"\"\"Возращвет строку вида HH:MM:SS\"\"\"\n",
    "        s = self.seconds % 60\n",
    "        m = (self.seconds // 60) % 60\n",
    "        h = (self.seconds // 3600) % 24\n",
    "        return f'{self.__get_formatted(h)}:{self.__get_formatted(m)}:{self.__get_formatted(s)}'\n",
    "\n",
    "    @staticmethod\n",
    "    def __get_formatted(x: int) -> str: return str(x).rjust(2, '0')\n",
    "\n",
    "    @classmethod\n",
    "    def __verify_data(cls, other) -> int:\n",
    "        if not isinstance(other, (int, Clock)): raise ArithmeticError('int or Clock!')\n",
    "        return other.seconds if isinstance(other, Clock) else other\n",
    "\n",
    "    def __add__(self, other):\n",
    "        print('__add__')\n",
    "        return Clock(self.seconds + self.__verify_data(other))\n",
    "\n",
    "    def __radd__(self, other):\n",
    "        print('__radd__')\n",
    "        return self + other\n",
    "\n",
    "    def __iadd__(self, other):\n",
    "        print('__iadd__')\n",
    "        self.seconds += self.__verify_data(other)\n",
    "        return self\n",
    "\n",
    "    def __eq__(self, other):\n",
    "        print('__eq__')\n",
    "        return self.seconds == self.__verify_data(other)\n",
    "\n",
    "    def __ne__(self, other):  # not __eq__ создается автоматически при создании __eq__\n",
    "        print('__ne__')\n",
    "        return not self.seconds == self.__verify_data(other)\n",
    "\n",
    "    def __lt__(self, other):  # __gt__ создается автоматически при создании __lt__\n",
    "        print('__lt__')\n",
    "        return self.seconds < self.__verify_data(other)"
   ]
  },
  {
   "cell_type": "code",
   "execution_count": 53,
   "metadata": {},
   "outputs": [
    {
     "name": "stdout",
     "output_type": "stream",
     "text": [
      "cl.get_time() = '00:16:40'\n",
      "cl.get_time() = '00:18:20'\n",
      "__add__\n",
      "cl.get_time() = '00:23:20'\n",
      "__add__\n",
      "cl.get_time() = '00:25:55'\n",
      "__radd__\n",
      "__add__\n",
      "cl.get_time() = '00:26:17'\n",
      "__add__\n",
      "cl.get_time() = '00:52:34'\n",
      "__iadd__\n",
      "cl.get_time() = '00:54:14'\n",
      "__iadd__\n",
      "cl.get_time() = '00:54:15'\n"
     ]
    }
   ],
   "source": [
    "cl = Clock(1_000)\n",
    "print(f'{cl.get_time() = }')\n",
    "cl.seconds = cl.seconds + 100  # скучно, длинно, обычно\n",
    "print(f'{cl.get_time() = }')\n",
    "cl = cl + 300  # __add__\n",
    "print(f'{cl.get_time() = }')\n",
    "cl = cl + Clock(155)\n",
    "print(f'{cl.get_time() = }')\n",
    "cl = 22 + cl  # __radd__\n",
    "print(f'{cl.get_time() = }')\n",
    "cl = cl + cl  # __radd__\n",
    "print(f'{cl.get_time() = }')\n",
    "cl += 100  # __iadd__\n",
    "print(f'{cl.get_time() = }')\n",
    "cl += Clock(1)\n",
    "print(f'{cl.get_time() = }')"
   ]
  },
  {
   "cell_type": "code",
   "execution_count": 58,
   "metadata": {},
   "outputs": [
    {
     "name": "stdout",
     "output_type": "stream",
     "text": [
      "__eq__\n",
      "cl1 == cl2 = True\n",
      "__eq__\n",
      "cl1 == 8 = False\n",
      "__ne__\n",
      "cl1 True\n",
      "__lt__\n",
      "cl1 < cl2 = False\n"
     ]
    }
   ],
   "source": [
    "cl1, cl2 = Clock(1_000), Clock(1_000)\n",
    "print(f'{cl1 == cl2 = }')  # __eq__\n",
    "print(f'{cl1 == 8 = }')  # __eq__\n",
    "print(f'{cl1 != 999 = }')  # __ne__\n",
    "print(f'{cl1 < cl2 = }')  # __lt__"
   ]
  },
  {
   "cell_type": "markdown",
   "metadata": {},
   "source": [
    "## Decimal"
   ]
  },
  {
   "cell_type": "code",
   "execution_count": 59,
   "metadata": {},
   "outputs": [
    {
     "data": {
      "text/plain": [
       "0.30000000000000004"
      ]
     },
     "execution_count": 59,
     "metadata": {},
     "output_type": "execute_result"
    }
   ],
   "source": [
    "0.1 + 0.2"
   ]
  },
  {
   "cell_type": "code",
   "execution_count": 17,
   "metadata": {},
   "outputs": [],
   "source": [
    "class Decimal:\n",
    "    def __init__(self, num: str | int | float):\n",
    "        assert isinstance(num, (str, int, float))\n",
    "        num = str(num)\n",
    "        assert num.count('.') <= 1\n",
    "        self.num1, self.num2 = num.split('.') if '.' in num else num, ''\n",
    "        self.ans = ''\n",
    "\n",
    "    def __add__(self, other):\n",
    "        oth1 = str(other).split('.')[0]\n",
    "        oth2 = str(other).split('.')[1]\n",
    "        if len(oth1) > len(self.num1):\n",
    "            self.num1 = self.num1.rjust(len(oth1), '0')\n",
    "        if len(oth1) < len(self.num1):\n",
    "            oth1 = oth1.rjust(len(self.num1), '0')\n",
    "        if len(oth2) > len(self.num2):\n",
    "            self.num2 = self.num2.ljust(len(oth2), '0')\n",
    "        if len(oth2) < len(self.num2):\n",
    "            oth2 = oth2.ljust(len(self.num2), '0')\n",
    "        t = len(oth1)\n",
    "        oth = oth1 + oth2\n",
    "        num = self.num1 + self.num2\n",
    "        d = 0\n",
    "        for i in range(len(oth) - 1, -1, -1):\n",
    "            if int(oth[i]) + int(num[i]) + d < 10:\n",
    "                self.ans = str(int(oth[i]) + int(num[i]) + d) + self.ans\n",
    "                d = 0\n",
    "            else:\n",
    "                self.ans = str(int(oth[i]) + int(num[i]) + d - 10) + self.ans\n",
    "                d = 1\n",
    "        self.ans = list(self.ans)\n",
    "        self.ans.insert(t, '.')\n",
    "        self.ans = ''.join(self.ans)\n",
    "        self.ans = str(d) + self.ans\n",
    "        return self.ans\n",
    "\n",
    "    def __sub__(self, other):\n",
    "        oth1 = str(other).split('.')[0]\n",
    "        oth2 = str(other).split('.')[1]\n",
    "        if len(oth1) > len(self.num1):\n",
    "            self.num1 = self.num1.rjust(len(oth1), '0')\n",
    "        if len(oth1) < len(self.num1):\n",
    "            oth1 = oth1.rjust(len(self.num1), '0')\n",
    "        if len(oth2) > len(self.num2):\n",
    "            self.num2 = self.num2.ljust(len(oth2), '0')\n",
    "        if len(oth2) < len(self.num2):\n",
    "            oth2 = oth2.ljust(len(self.num2), '0')\n",
    "        t = len(oth1)\n",
    "        oth = oth1 + oth2\n",
    "        num = self.num1 + self.num2\n",
    "        f = 0\n",
    "        if float(''.join(num)) < float(''.join(oth)):\n",
    "            num, oth = oth, num\n",
    "            f = 1\n",
    "        print(self.num2, oth2)\n",
    "        carry = 0\n",
    "        for i in range(len(num) - 1, -1, -1):\n",
    "            diff = int(num[i]) - int(oth[i]) - carry\n",
    "            if diff < 0:\n",
    "                diff += 10\n",
    "                carry = 1\n",
    "            else:\n",
    "                carry = 0\n",
    "            self.ans = str(diff) + self.ans\n",
    "        if f:\n",
    "            self.ans = list(self.ans)\n",
    "            self.ans.insert(t, '.')\n",
    "            self.ans = ''.join(self.ans)\n",
    "            self.ans = '-' + self.ans\n",
    "            return self.ans\n",
    "        else:\n",
    "            return self.ans"
   ]
  },
  {
   "cell_type": "code",
   "execution_count": null,
   "metadata": {},
   "outputs": [
    {
     "ename": "ValueError",
     "evalue": "invalid literal for int() with base 10: '-'",
     "output_type": "error",
     "traceback": [
      "\u001b[1;31m---------------------------------------------------------------------------\u001b[0m\n",
      "\u001b[1;31mValueError\u001b[0m                                Traceback (most recent call last)\n",
      "Cell \u001b[1;32mIn[20], line 5\u001b[0m\n",
      "\u001b[0;32m      2\u001b[0m num1 \u001b[38;5;241m=\u001b[39m Decimal(\u001b[38;5;124m'\u001b[39m\u001b[38;5;124m-127.4568844386843\u001b[39m\u001b[38;5;124m'\u001b[39m)\n",
      "\u001b[0;32m      3\u001b[0m num2 \u001b[38;5;241m=\u001b[39m Decimal(\u001b[38;5;124m'\u001b[39m\u001b[38;5;124m127.4568844386843\u001b[39m\u001b[38;5;124m'\u001b[39m)\n",
      "\u001b[1;32m----> 5\u001b[0m \u001b[38;5;28mprint\u001b[39m(\u001b[43mnum1\u001b[49m\u001b[43m \u001b[49m\u001b[38;5;241;43m+\u001b[39;49m\u001b[43m \u001b[49m\u001b[43mnum2\u001b[49m)\n",
      "\u001b[0;32m      6\u001b[0m \u001b[38;5;28mprint\u001b[39m(num1 \u001b[38;5;241m+\u001b[39m \u001b[38;5;124m'\u001b[39m\u001b[38;5;124m5687.6542757426573902\u001b[39m\u001b[38;5;124m'\u001b[39m)\n",
      "\u001b[0;32m      8\u001b[0m \u001b[38;5;28mprint\u001b[39m(\u001b[38;5;241m127.4568844386843\u001b[39m \u001b[38;5;241m+\u001b[39m \u001b[38;5;241m5687.6542757426573902\u001b[39m)\n",
      "\n",
      "Cell \u001b[1;32mIn[19], line 168\u001b[0m, in \u001b[0;36mDecimal.__add__\u001b[1;34m(self, other)\u001b[0m\n",
      "\u001b[0;32m    167\u001b[0m \u001b[38;5;28;01mdef\u001b[39;00m\u001b[38;5;250m \u001b[39m\u001b[38;5;21m__add__\u001b[39m(\u001b[38;5;28mself\u001b[39m, other):\n",
      "\u001b[1;32m--> 168\u001b[0m     \u001b[38;5;28;01mreturn\u001b[39;00m \u001b[38;5;28;43mself\u001b[39;49m\u001b[38;5;241;43m.\u001b[39;49m\u001b[43maddition\u001b[49m\u001b[43m(\u001b[49m\u001b[38;5;28;43mstr\u001b[39;49m\u001b[43m(\u001b[49m\u001b[38;5;28;43mself\u001b[39;49m\u001b[38;5;241;43m.\u001b[39;49m\u001b[43m__verification\u001b[49m\u001b[43m(\u001b[49m\u001b[43mother\u001b[49m\u001b[43m)\u001b[49m\u001b[43m)\u001b[49m\u001b[43m)\u001b[49m\n",
      "\n",
      "Cell \u001b[1;32mIn[19], line 47\u001b[0m, in \u001b[0;36mDecimal.addition\u001b[1;34m(self, number)\u001b[0m\n",
      "\u001b[0;32m     45\u001b[0m lst[\u001b[38;5;241m0\u001b[39m] \u001b[38;5;241m=\u001b[39m lst[\u001b[38;5;241m0\u001b[39m]\u001b[38;5;241m.\u001b[39mrjust(\u001b[38;5;28mlen\u001b[39m(lst[\u001b[38;5;241m1\u001b[39m]), \u001b[38;5;124m'\u001b[39m\u001b[38;5;124m0\u001b[39m\u001b[38;5;124m'\u001b[39m)\n",
      "\u001b[0;32m     46\u001b[0m \u001b[38;5;28;01mfor\u001b[39;00m i \u001b[38;5;129;01min\u001b[39;00m \u001b[38;5;28mrange\u001b[39m(\u001b[38;5;28mlen\u001b[39m(lst[\u001b[38;5;241m0\u001b[39m]))[::\u001b[38;5;241m-\u001b[39m\u001b[38;5;241m1\u001b[39m]:\n",
      "\u001b[1;32m---> 47\u001b[0m     res \u001b[38;5;241m+\u001b[39m\u001b[38;5;241m=\u001b[39m (\u001b[38;5;28mint\u001b[39m(lst[\u001b[38;5;241m0\u001b[39m][i]) \u001b[38;5;241m+\u001b[39m \u001b[38;5;28;43mint\u001b[39;49m\u001b[43m(\u001b[49m\u001b[43mlst\u001b[49m\u001b[43m[\u001b[49m\u001b[38;5;241;43m1\u001b[39;49m\u001b[43m]\u001b[49m\u001b[43m[\u001b[49m\u001b[43mi\u001b[49m\u001b[43m]\u001b[49m\u001b[43m)\u001b[49m) \u001b[38;5;241m*\u001b[39m mn\n",
      "\u001b[0;32m     48\u001b[0m     mn \u001b[38;5;241m*\u001b[39m\u001b[38;5;241m=\u001b[39m \u001b[38;5;241m10\u001b[39m\n",
      "\u001b[0;32m     50\u001b[0m res \u001b[38;5;241m=\u001b[39m \u001b[38;5;28mlist\u001b[39m(\u001b[38;5;28mstr\u001b[39m(res))\n",
      "\n",
      "\u001b[1;31mValueError\u001b[0m: invalid literal for int() with base 10: '-'"
     ]
    }
   ],
   "source": [
    "num0 = Decimal('0.')\n",
    "num1 = Decimal('-127.4568844386843')\n",
    "num2 = Decimal('127.4568844386843')\n",
    "\n",
    "print(num1 + num2)\n",
    "print(num1 + '5687.6542757426573902')\n",
    "\n",
    "print(127.4568844386843 + 5687.6542757426573902)"
   ]
  },
  {
   "cell_type": "code",
   "execution_count": 19,
   "metadata": {},
   "outputs": [],
   "source": [
    "class Decimal:\n",
    "    def __init__(self, num):\n",
    "        num = str(num)\n",
    "        try:\n",
    "            float(num)\n",
    "        except:\n",
    "            raise TypeError('неверный тип данных')\n",
    "        self.num = num\n",
    "\n",
    "    def __str__(self):\n",
    "        return f'{self.num}'\n",
    "\n",
    "    @classmethod\n",
    "    def __verification(cls, other):\n",
    "        if not isinstance(other, (int, float, str, Decimal)): raise ArithmeticError('неверное значение')\n",
    "        return str(other.num).replace(',', '.') if isinstance(other, Decimal) else str(other).replace(',', '.')\n",
    "\n",
    "    def addition(self, number):\n",
    "        mn = 1  # множитель разрядов числа\n",
    "        res = 0\n",
    "        lst = [self.num, number]  # список складываемых чисел\n",
    "        before_point = []  # список цифр числа до точки\n",
    "        after_point = []  # список цифр числа после точки\n",
    "\n",
    "        for i in range(len(lst)):\n",
    "            point_counter = lst[i].find('.')\n",
    "            if point_counter != -1:\n",
    "                before_point.append(lst[i][:point_counter])\n",
    "                after_point.append(lst[i][point_counter + 1:])\n",
    "            else:\n",
    "                before_point.append(lst[i])\n",
    "                after_point.append('0')\n",
    "\n",
    "        before_point.sort(key=len)\n",
    "        after_point.sort(key=len)\n",
    "        before_point[0] = before_point[0].rjust(len(before_point[1]), '0')\n",
    "        after_point[0] = after_point[0].ljust(len(after_point[1]), '0')\n",
    "\n",
    "        lst[0] = before_point[0] + '.' + after_point[0]\n",
    "        lst[1] = before_point[1] + '.' + after_point[1]\n",
    "\n",
    "        point_loc = lst[1].find('.')\n",
    "        lst[0] = lst[0].replace('.', '')\n",
    "        lst[1] = lst[1].replace('.', '')\n",
    "        lst[0] = lst[0].rjust(len(lst[1]), '0')\n",
    "        for i in range(len(lst[0]))[::-1]:\n",
    "            res += (int(lst[0][i]) + int(lst[1][i])) * mn\n",
    "            mn *= 10\n",
    "\n",
    "        res = list(str(res))\n",
    "        res.insert(point_loc, '.')\n",
    "        res = ''.join(res)\n",
    "\n",
    "        return res\n",
    "\n",
    "    def subtraction(self, number):\n",
    "        mn = 1  # множитель разрядов числа\n",
    "        res = 0\n",
    "        t = False\n",
    "        a = [self.num, number]  # список складываемых чисел\n",
    "        b = []\n",
    "        c = []\n",
    "\n",
    "        for i in range(len(a)):\n",
    "            point_counter = a[i].find('.')\n",
    "            if point_counter != -1:\n",
    "                b.append(a[i][:point_counter])\n",
    "                c.append(a[i][point_counter + 1:])\n",
    "            else:\n",
    "                b.append(a[i])\n",
    "                c.append('0')\n",
    "        d = b[:]\n",
    "        e = c[:]\n",
    "\n",
    "        d.sort(key=len)\n",
    "        e.sort(key=len)\n",
    "        b[b.index(d[0])] = d[0].rjust(len(d[1]), '0')\n",
    "        c[c.index(e[0])] = e[0].ljust(len(e[1]), '0')\n",
    "\n",
    "        a[0] = b[0] + '.' + c[0]\n",
    "        a[1] = b[1] + '.' + c[1]\n",
    "\n",
    "        point_loc = a[1].find('.')\n",
    "        a[0] = a[0].replace('.', '')\n",
    "        a[1] = a[1].replace('.', '')\n",
    "\n",
    "        for i in range(len(a[0]))[::-1]:\n",
    "            res += (int(a[0][i]) - int(a[1][i])) * mn\n",
    "            mn *= 10\n",
    "\n",
    "        print(a)\n",
    "\n",
    "        if res == 0:\n",
    "            return 0\n",
    "        elif res < 0:\n",
    "            t = True\n",
    "\n",
    "        res = str(res).rjust(len(a[0]), '0')\n",
    "\n",
    "        res = list(str(res))\n",
    "        if t:\n",
    "            res.remove('-')\n",
    "        if 0 < float(''.join(res)) < 100 or 10000000 > float(''.join(res)) > 1000000:\n",
    "            res.insert(point_loc - 1, '.')\n",
    "        else:\n",
    "            res.insert(point_loc, '.')\n",
    "        res = ''.join(res)\n",
    "\n",
    "        for j in range(len(res)):\n",
    "            if res.startswith('0'):\n",
    "                res = res[1:]\n",
    "            if res.endswith('0'):\n",
    "                res = res[:-1]\n",
    "\n",
    "        if res.endswith('.'):\n",
    "            res = res[:-1]\n",
    "        elif res.startswith('.'):\n",
    "            res = '0' + res\n",
    "\n",
    "        if t:\n",
    "            res = '-' + res\n",
    "\n",
    "        return res\n",
    "\n",
    "    def multiplication(self, number):\n",
    "        lst = [self.num, number]\n",
    "        before_point = []\n",
    "        after_point = []\n",
    "        decimal_places = 0  # знаки после запятой\n",
    "        res = 0\n",
    "        sign = 0  # арифметический знак результата\n",
    "\n",
    "        for i in range(len(lst)):\n",
    "            if lst[i].find('-') != -1:\n",
    "                lst[i] = lst[i][1:]\n",
    "                sign += 1\n",
    "            point_counter = lst[i].find('.')\n",
    "            if point_counter != -1:\n",
    "                decimal_places += len(lst[i]) - point_counter - 1\n",
    "                before_point.append(lst[i][:point_counter])\n",
    "                after_point.append(lst[i][point_counter + 1:])\n",
    "            else:\n",
    "                before_point.append(lst[i])\n",
    "                after_point.append('')\n",
    "\n",
    "        lst[0] = before_point[0] + after_point[0]\n",
    "        lst[1] = before_point[1] + after_point[1]\n",
    "\n",
    "        for i in range(len(lst[1])):\n",
    "            res += int(lst[0]) * int(lst[1][i]) * (10 ** (len(lst[1]) - i - 1))\n",
    "\n",
    "        res = list(str(res))\n",
    "        res.insert(len(res) - decimal_places, '.')\n",
    "\n",
    "        if res[0] == '.':\n",
    "            res.insert(0, '0')\n",
    "        elif ''.join(res).endswith('.'):\n",
    "            res = res[:-1]\n",
    "\n",
    "        if sign == 1:\n",
    "            res.insert(0, '-')\n",
    "\n",
    "        res = ''.join(res)\n",
    "\n",
    "        return res\n",
    "\n",
    "    def __add__(self, other):\n",
    "        return self.addition(str(self.__verification(other)))\n",
    "\n",
    "    def __radd__(self, other):\n",
    "        return self.addition(str(self.__verification(other)))\n",
    "\n",
    "    def __sub__(self, other):\n",
    "        return self.subtraction(str(self.__verification(other)))\n",
    "\n",
    "    def __rsub__(self, other):\n",
    "        return self.subtraction(str(self.__verification(other)))\n",
    "\n",
    "    def __mul__(self, other):\n",
    "        return self.multiplication(str(self.__verification(other)))\n",
    "\n",
    "    def __rmul__(self, other):\n",
    "        return self.multiplication(str(self.__verification(other)))"
   ]
  },
  {
   "cell_type": "code",
   "execution_count": 21,
   "metadata": {},
   "outputs": [
    {
     "name": "stdout",
     "output_type": "stream",
     "text": [
      "333333333333333333333333333333333333333333333333333333333333333333333333333333333333333333333333333.0\n",
      "c = -234\n",
      "c = 2471.04\n"
     ]
    }
   ],
   "source": [
    "d1 = Decimal(\n",
    "    '111111111111111111111111111111111111111111111111111111111111111111111111111111111111111111111111111')\n",
    "d2 = Decimal(\n",
    "    '222222222222222222222222222222222222222222222222222222222222222222222222222222222222222222222222222')\n",
    "print(d1 + d2)\n",
    "\n",
    "c = Decimal('-234')\n",
    "print('c =', c)\n",
    "c *= -10.56\n",
    "print('c =', c)"
   ]
  },
  {
   "cell_type": "markdown",
   "metadata": {},
   "source": [
    "## `__hash__`"
   ]
  },
  {
   "cell_type": "markdown",
   "metadata": {},
   "source": [
    "Ф-я hash() формирует по определенному алгоритму ЦЕЛОЧИСЛЕННОЕ зн-е для НЕИЗМЕНЯЕЫХ объектов. Причем для равных объектов на выходе всегда должны получаться равные хэши! Обратное утверждение НЕВЕРНО! Равные хэши не гарантируют равенства объектов. Cеледка - рыба, но не каждая рыба - селедка! С хэшами все тоже самое. Если хэши не равны, то и объекты точно не равны."
   ]
  },
  {
   "cell_type": "code",
   "execution_count": 10,
   "metadata": {},
   "outputs": [
    {
     "name": "stdout",
     "output_type": "stream",
     "text": [
      "hash(123) = 123\n",
      "hash(a) = 123 (a = 123)\n",
      "hash(\"Python\") = -1134093395462384668\n",
      "hash(b) = -1134093395462384668 (b = 'Python')\n",
      "hash((1, 2, 3)) = 529344067295497451\n",
      "hash(c) = 529344067295497451 (c = (1, 2, 3))\n"
     ]
    },
    {
     "ename": "TypeError",
     "evalue": "unhashable type: 'list'",
     "output_type": "error",
     "traceback": [
      "\u001b[1;31m---------------------------------------------------------------------------\u001b[0m",
      "\u001b[1;31mTypeError\u001b[0m                                 Traceback (most recent call last)",
      "Cell \u001b[1;32mIn[10], line 13\u001b[0m\n\u001b[0;32m     10\u001b[0m c \u001b[38;5;241m=\u001b[39m (\u001b[38;5;241m1\u001b[39m, \u001b[38;5;241m2\u001b[39m, \u001b[38;5;241m3\u001b[39m)\n\u001b[0;32m     11\u001b[0m \u001b[38;5;28mprint\u001b[39m(\u001b[38;5;124mf\u001b[39m\u001b[38;5;124m'\u001b[39m\u001b[38;5;132;01m{\u001b[39;00m\u001b[38;5;28mhash\u001b[39m(c)\u001b[38;5;250m \u001b[39m\u001b[38;5;132;01m= }\u001b[39;00m\u001b[38;5;124m (\u001b[39m\u001b[38;5;132;01m{\u001b[39;00mc\u001b[38;5;250m \u001b[39m\u001b[38;5;132;01m= }\u001b[39;00m\u001b[38;5;124m)\u001b[39m\u001b[38;5;124m'\u001b[39m)\n\u001b[1;32m---> 13\u001b[0m \u001b[38;5;28mprint\u001b[39m(\u001b[38;5;28;43mhash\u001b[39;49m\u001b[43m(\u001b[49m\u001b[43m[\u001b[49m\u001b[38;5;241;43m1\u001b[39;49m\u001b[43m,\u001b[49m\u001b[43m \u001b[49m\u001b[38;5;241;43m2\u001b[39;49m\u001b[43m,\u001b[49m\u001b[43m \u001b[49m\u001b[38;5;241;43m3\u001b[39;49m\u001b[43m]\u001b[49m\u001b[43m)\u001b[49m)  \u001b[38;5;66;03m# список - НЕ неизменыемый объект!\u001b[39;00m\n",
      "\u001b[1;31mTypeError\u001b[0m: unhashable type: 'list'"
     ]
    }
   ],
   "source": [
    "print(f'{hash(123) = }')\n",
    "a = 123\n",
    "print(f'{hash(a) = } ({a = })')\n",
    "\n",
    "print(f'{hash(\"Python\") = }')\n",
    "b = \"Python\"\n",
    "print(f'{hash(b) = } ({b = })')\n",
    "\n",
    "print(f'{hash((1, 2, 3)) = }')\n",
    "c = (1, 2, 3)\n",
    "print(f'{hash(c) = } ({c = })')\n",
    "\n",
    "print(hash([1, 2, 3]))  # список - НЕ неизменыемый объект!"
   ]
  },
  {
   "cell_type": "markdown",
   "metadata": {},
   "source": [
    "Cвойства hash:\n",
    "1. if objects a == b => hash(a) == hash(b)\n",
    "2. if hash(a) == hash(b) !=> a == b\n",
    "3. if objects a != b => hash(a) != hash(b)\n",
    "\n",
    "А зачем это нужно?!\n",
    "На самом деле словари в качетсве своих ключей используют кортежи (ключ, хэш ключа)\n",
    "Это нужно для быстрого поиска зн-я по ключу (хэша ключа). Именно поэтому словарь быстрее списка"
   ]
  },
  {
   "cell_type": "code",
   "execution_count": 35,
   "metadata": {},
   "outputs": [],
   "source": [
    "class Point:\n",
    "    def __init__(self, x, y):\n",
    "        self.x, self.y = x, y\n",
    "\n",
    "    def __eq__(self, other):  # убийство hash\n",
    "        return self.x == other.x and self.y == other.y"
   ]
  },
  {
   "cell_type": "code",
   "execution_count": 36,
   "metadata": {},
   "outputs": [
    {
     "name": "stdout",
     "output_type": "stream",
     "text": [
      "pt1 == pt2 = True\n",
      "unhashable type: 'Point'\n",
      "unhashable type: 'Point'\n"
     ]
    }
   ],
   "source": [
    "pt1 = Point(1, 2)\n",
    "pt2 = Point(1, 2)\n",
    "print(f'{pt1 == pt2 = }')\n",
    "try:\n",
    "    print(f'{hash(pt1) = }')\n",
    "except Exception as e:\n",
    "    print(e)\n",
    "try:\n",
    "    d = {pt1: 1, pt2: 2}\n",
    "except Exception as e:\n",
    "    print(e)"
   ]
  },
  {
   "cell_type": "code",
   "execution_count": 37,
   "metadata": {},
   "outputs": [],
   "source": [
    "class Point:\n",
    "    def __init__(self, x, y):\n",
    "        self.x, self.y = x, y\n",
    "\n",
    "    def __eq__(self, other):  # убийство hash\n",
    "        return self.x == other.x and self.y == other.y\n",
    "\n",
    "    def __hash__(self):  # воскрешение hash\n",
    "        return hash((self.x, self.y))"
   ]
  },
  {
   "cell_type": "code",
   "execution_count": 38,
   "metadata": {},
   "outputs": [
    {
     "name": "stdout",
     "output_type": "stream",
     "text": [
      "pt1 == pt2 = True\n",
      "hash(pt1) = -3550055125485641917\n"
     ]
    }
   ],
   "source": [
    "pt1 = Point(1, 2)\n",
    "pt2 = Point(1, 2)\n",
    "print(f'{pt1 == pt2 = }')\n",
    "print(f'{hash(pt1) = }')\n",
    "d = {pt1: 1, pt2: 2}"
   ]
  },
  {
   "cell_type": "markdown",
   "metadata": {},
   "source": [
    "## `__bool__` & `__len__`"
   ]
  },
  {
   "cell_type": "markdown",
   "metadata": {},
   "source": [
    "- `__bool__` вызывается в ПРИОРИТЕТНОМ ПОРЯДКЕ ф-ей bool()\n",
    "- `__len__` вызывается ф-ей bool(), если магический метод `__bool__` неопределен"
   ]
  },
  {
   "cell_type": "code",
   "execution_count": 46,
   "metadata": {},
   "outputs": [
    {
     "name": "stdout",
     "output_type": "stream",
     "text": [
      "bool(123) = True\n",
      "bool(-1) = True\n",
      "bool(0) = False\n",
      "bool(\"Python\") = True\n",
      "bool(\"\") = False\n",
      "bool([False, None, 9]) = True\n",
      "bool([]) = False\n",
      "bool(None) = False\n"
     ]
    }
   ],
   "source": [
    "print(f'{bool(123) = }')\n",
    "print(f'{bool(-1) = }')\n",
    "print(f'{bool(0) = }')\n",
    "\n",
    "print(f'{bool(\"Python\") = }')\n",
    "print(f'{bool(\"\") = }')\n",
    "\n",
    "print(f'{bool([False, None, 9]) = }')\n",
    "print(f'{bool([]) = }')\n",
    "\n",
    "print(f'{bool(None) = }')"
   ]
  },
  {
   "cell_type": "code",
   "execution_count": 56,
   "metadata": {},
   "outputs": [],
   "source": [
    "class Point:\n",
    "    def __init__(self, x, y):\n",
    "        self.x, self.y = x, y\n",
    "\n",
    "    def __len__(self):\n",
    "        \"\"\"Длина радиус-вектора\"\"\"\n",
    "        print('__len__')\n",
    "        return self.x ** 2 + self.y ** 2"
   ]
  },
  {
   "cell_type": "code",
   "execution_count": 57,
   "metadata": {},
   "outputs": [
    {
     "name": "stdout",
     "output_type": "stream",
     "text": [
      "__len__\n",
      "bool(p) = True\n",
      "__len__\n",
      "len(p) = 5\n",
      "__len__\n",
      "bool(p0) = False\n",
      "__len__\n",
      "len(p0) = 0\n"
     ]
    }
   ],
   "source": [
    "p = Point(1, 2)\n",
    "print(f'{bool(p) = }')\n",
    "print(f'{len(p) = }')\n",
    "p0 = Point(0, 0)\n",
    "print(f'{bool(p0) = }')\n",
    "print(f'{len(p0) = }')"
   ]
  },
  {
   "cell_type": "code",
   "execution_count": 58,
   "metadata": {},
   "outputs": [],
   "source": [
    "class Point:\n",
    "    def __init__(self, x, y):\n",
    "        self.x, self.y = x, y\n",
    "\n",
    "    def __len__(self):\n",
    "        \"\"\"Длина радиус-вектора\"\"\"\n",
    "        print('__len__')\n",
    "        return self.x ** 2 + self.y ** 2\n",
    "\n",
    "    def __bool__(self):\n",
    "        print('__bool__')\n",
    "        return self.x == self.y"
   ]
  },
  {
   "cell_type": "code",
   "execution_count": 59,
   "metadata": {},
   "outputs": [
    {
     "name": "stdout",
     "output_type": "stream",
     "text": [
      "__bool__\n",
      "bool(p) = False\n",
      "__len__\n",
      "len(p) = 5\n",
      "__bool__\n",
      "bool(p0) = True\n",
      "__len__\n",
      "len(p0) = 0\n"
     ]
    }
   ],
   "source": [
    "p = Point(1, 2)\n",
    "print(f'{bool(p) = }')\n",
    "print(f'{len(p) = }')\n",
    "p0 = Point(0, 0)\n",
    "print(f'{bool(p0) = }')\n",
    "print(f'{len(p0) = }')"
   ]
  },
  {
   "cell_type": "markdown",
   "metadata": {},
   "source": [
    "## `__slots__`"
   ]
  },
  {
   "cell_type": "markdown",
   "metadata": {},
   "source": [
    "`__slots__` есть:\n",
    "- ограничение локальных атрибутов класса =>\n",
    "- уменьшение занимаемой памяти под объект =>\n",
    "- увеличение быстродействия с локальными атрибутами"
   ]
  },
  {
   "cell_type": "code",
   "execution_count": 90,
   "metadata": {},
   "outputs": [],
   "source": [
    "import timeit"
   ]
  },
  {
   "cell_type": "code",
   "execution_count": 91,
   "metadata": {},
   "outputs": [],
   "source": [
    "class Point:\n",
    "    def __init__(self, x, y):\n",
    "        self.x, self.y = x, y\n",
    "\n",
    "    def calc(self):\n",
    "        self.x += 1\n",
    "        del self.y\n",
    "        self.y = 0"
   ]
  },
  {
   "cell_type": "code",
   "execution_count": 92,
   "metadata": {},
   "outputs": [
    {
     "name": "stdout",
     "output_type": "stream",
     "text": [
      "p.__sizeof__(): 296 байт\n",
      "timeit.timeit(p.calc): 0.1852322000049753\n",
      "p.__dict__: {'x': 1000001, 'y': 0}\n",
      "p.x: 1000001\n",
      "getattr(p, \"x\", None): None\n",
      "p.x: -3\n",
      "{'y': 0, 'x': -3, 'z': 3}\n"
     ]
    }
   ],
   "source": [
    "p = Point(1, 2)\n",
    "print(f'p.__sizeof__(): {p.__sizeof__() + p.__dict__.__sizeof__()} байт')\n",
    "print(f'timeit.timeit(p.calc): {timeit.timeit(p.calc)}')\n",
    "\n",
    "print(f'p.__dict__: {p.__dict__}')\n",
    "print(f'p.x: {p.x}')\n",
    "del p.x\n",
    "print(f'getattr(p, \"x\", None): {getattr(p, \"x\", None)}')\n",
    "p.x = -3\n",
    "print(f'p.x: {p.x}')\n",
    "p.z = 3\n",
    "print(p.__dict__)"
   ]
  },
  {
   "cell_type": "code",
   "execution_count": null,
   "metadata": {},
   "outputs": [],
   "source": [
    "class Point2D:\n",
    "    MIN, MAX = 0, 100  # НЕ локальные атрибуты, а атрибуты класса => ошибки нет\n",
    "    \n",
    "    __slots__ = ('x', 'y', '__length')  # убийство __dict__\n",
    "\n",
    "    def __init__(self, x, y):\n",
    "        self.x, self.y = x, y\n",
    "        self.__length = (x ** 2 + y ** 2) ** 0.5\n",
    "\n",
    "    @property\n",
    "    def length(self):\n",
    "        return self.__length\n",
    "\n",
    "    @length.setter\n",
    "    def length(self, value):\n",
    "        self.__length = value\n",
    "\n",
    "    def calc(self):\n",
    "        self.x += 1\n",
    "        del self.y\n",
    "        self.y = 0"
   ]
  },
  {
   "cell_type": "code",
   "execution_count": 94,
   "metadata": {},
   "outputs": [
    {
     "name": "stdout",
     "output_type": "stream",
     "text": [
      "p.__sizeof__(): 40 байт\n",
      "timeit.timeit(p.calc): 0.08737310000287835\n",
      "p.x: 1000001\n",
      "p.x: 3\n",
      "getattr(p, \"x\", None): None\n",
      "p.x: -3\n",
      "2.23606797749979\n",
      "в __slots__ нет атрибута \"z\"\n",
      "__slots__ убивает __dict__ для экономии памяти\n"
     ]
    }
   ],
   "source": [
    "p = Point2D(1, 2)\n",
    "print(f'p.__sizeof__(): {p.__sizeof__()} байт')\n",
    "print(f'timeit.timeit(p.calc): {timeit.timeit(p.calc)}')\n",
    "\n",
    "print(f'p.x: {p.x}')\n",
    "p.x = 3\n",
    "print(f'p.x: {p.x}')\n",
    "del p.x\n",
    "print(f'getattr(p, \"x\", None): {getattr(p, \"x\", None)}')\n",
    "p.x = -3\n",
    "print(f'p.x: {p.x}')\n",
    "print(p.length)\n",
    "try:\n",
    "    p.z = 3\n",
    "except:\n",
    "    print('в __slots__ нет атрибута \"z\"')\n",
    "try:\n",
    "    print(p.__dict__)\n",
    "except:\n",
    "    print('__slots__ убивает __dict__ для экономии памяти')"
   ]
  },
  {
   "cell_type": "markdown",
   "metadata": {},
   "source": [
    "## `__getitem__`, `__setitem__`, `__delitem__`"
   ]
  },
  {
   "cell_type": "markdown",
   "metadata": {},
   "source": [
    "Объект как коллекция\n",
    "\n",
    "- `__getitem__(self, key)` = получение значения по ключу `key`\n",
    "- `__setitem__(self, key, value)` = запись значения `value` по ключу `key`\n",
    "- `__delitem__(self, key)` = удаление элемента по ключу `key`"
   ]
  },
  {
   "cell_type": "code",
   "execution_count": 22,
   "metadata": {},
   "outputs": [],
   "source": [
    "class Student:\n",
    "    def __init__(self, name: str, marks: tuple | list):\n",
    "        self.name = name\n",
    "        self.marks = list(marks)"
   ]
  },
  {
   "cell_type": "code",
   "execution_count": 26,
   "metadata": {},
   "outputs": [
    {
     "name": "stdout",
     "output_type": "stream",
     "text": [
      "student.marks = [2, 2, 3, 2, 2, 2, 3]\n",
      "student.marks[2] = 3\n"
     ]
    },
    {
     "ename": "TypeError",
     "evalue": "'Student' object is not subscriptable",
     "output_type": "error",
     "traceback": [
      "\u001b[1;31m---------------------------------------------------------------------------\u001b[0m",
      "\u001b[1;31mTypeError\u001b[0m                                 Traceback (most recent call last)",
      "Cell \u001b[1;32mIn[26], line 4\u001b[0m\n\u001b[0;32m      2\u001b[0m \u001b[38;5;28mprint\u001b[39m(\u001b[38;5;124mf\u001b[39m\u001b[38;5;124m'\u001b[39m\u001b[38;5;132;01m{\u001b[39;00mstudent\u001b[38;5;241m.\u001b[39mmarks\u001b[38;5;250m \u001b[39m\u001b[38;5;132;01m= }\u001b[39;00m\u001b[38;5;124m'\u001b[39m)\n\u001b[0;32m      3\u001b[0m \u001b[38;5;28mprint\u001b[39m(\u001b[38;5;124mf\u001b[39m\u001b[38;5;124m'\u001b[39m\u001b[38;5;132;01m{\u001b[39;00mstudent\u001b[38;5;241m.\u001b[39mmarks[\u001b[38;5;241m2\u001b[39m]\u001b[38;5;250m \u001b[39m\u001b[38;5;132;01m= }\u001b[39;00m\u001b[38;5;124m'\u001b[39m)\n\u001b[1;32m----> 4\u001b[0m \u001b[38;5;28mprint\u001b[39m(\u001b[38;5;124mf\u001b[39m\u001b[38;5;124m'\u001b[39m\u001b[38;5;132;01m{\u001b[39;00m\u001b[43mstudent\u001b[49m\u001b[43m[\u001b[49m\u001b[38;5;241;43m2\u001b[39;49m\u001b[43m]\u001b[49m\u001b[38;5;250m \u001b[39m\u001b[38;5;132;01m= }\u001b[39;00m\u001b[38;5;124m'\u001b[39m)  \u001b[38;5;66;03m# ошибка\u001b[39;00m\n",
      "\u001b[1;31mTypeError\u001b[0m: 'Student' object is not subscriptable"
     ]
    }
   ],
   "source": [
    "student = Student('Андрюшин Даниил Витальевич', [2, 2, 3, 2, 2, 2, 3])\n",
    "print(f'{student.marks = }')\n",
    "print(f'{student.marks[2] = }')\n",
    "print(f'{student[2] = }')  # ошибка"
   ]
  },
  {
   "cell_type": "code",
   "execution_count": 39,
   "metadata": {},
   "outputs": [],
   "source": [
    "class Student:\n",
    "    def __init__(self, name: str, marks: tuple | list):\n",
    "        self.name = name\n",
    "        self.marks = list(marks)\n",
    "\n",
    "    def __getitem__(self, key: int):\n",
    "        if isinstance(key, int) and 0 <= key < len(self.marks):  # проверка на выход за границы\n",
    "            return self.marks[key]\n",
    "        else:\n",
    "            raise IndexError(f'Индекс вне границ {0, len(self.marks)}!')\n",
    "\n",
    "    def __setitem__(self, key: int, value: int):\n",
    "        if not isinstance(key, int) or key < 0: raise TypeError('Индекс int > 0!')\n",
    "\n",
    "        if key >= len(self.marks):  # если индекс стоит далеко от крайнего индекса\n",
    "            temp = key + 1 - len(self.marks)  # количество расширяемых оценок\n",
    "            self.marks.extend([None] * temp)  # увеличение списка \n",
    "        self.marks[key] = value \n",
    "\n",
    "    def __delitem__(self, key):\n",
    "        if not isinstance(key, int) or not (0 <= key < len(self.marks)): \n",
    "            raise TypeError('Индекс int > 0!')\n",
    "        del self.marks[key]"
   ]
  },
  {
   "cell_type": "code",
   "execution_count": 40,
   "metadata": {},
   "outputs": [
    {
     "name": "stdout",
     "output_type": "stream",
     "text": [
      "student.marks = [2, 2, 3, 2, 2, 2, 3]\n",
      "student.marks[2] = 3\n",
      "student[2] = 3\n",
      "Индекс вне границ (0, 7)!\n",
      "student.marks = [2, 2, 3, 2, 2, 2, 3, None, None, None, None, None, None, None, None, 5]\n",
      "student.marks = [2, 3, 2, 2, 2, 3, None, None, None, None, None, None, None, None, 5]\n"
     ]
    }
   ],
   "source": [
    "student = Student('Андрюшин Даниил Витальевич', [2, 2, 3, 2, 2, 2, 3])\n",
    "print(f'{student.marks = }')\n",
    "print(f'{student.marks[2] = }')\n",
    "print(f'{student[2] = }')\n",
    "try:\n",
    "    print(f'{student[20]}')  # Индекс вне границ!\n",
    "except Exception as e:\n",
    "    print(e)\n",
    "student[15] = 5\n",
    "print(f'{student.marks = }')\n",
    "del student[0]\n",
    "print(f'{student.marks = }')"
   ]
  },
  {
   "cell_type": "markdown",
   "metadata": {},
   "source": [
    "## `__iter__` & `__next__`"
   ]
  },
  {
   "cell_type": "markdown",
   "metadata": {},
   "source": [
    "- `__iter__(self)` = получение итератора для перебора объекта\n",
    "- `__next__(self)` = переход к следующему значению и его считывание"
   ]
  },
  {
   "cell_type": "code",
   "execution_count": 7,
   "metadata": {},
   "outputs": [
    {
     "name": "stdout",
     "output_type": "stream",
     "text": [
      "<list_iterator object at 0x00000251EF4B4DC0>\n",
      "1\n",
      "2\n",
      "3\n",
      "4\n",
      "5\n",
      "6\n",
      "7\n"
     ]
    },
    {
     "ename": "StopIteration",
     "evalue": "",
     "output_type": "error",
     "traceback": [
      "\u001b[1;31m---------------------------------------------------------------------------\u001b[0m",
      "\u001b[1;31mStopIteration\u001b[0m                             Traceback (most recent call last)",
      "Cell \u001b[1;32mIn[7], line 11\u001b[0m\n\u001b[0;32m      9\u001b[0m \u001b[38;5;28mprint\u001b[39m(\u001b[38;5;28mnext\u001b[39m(it))  \u001b[38;5;66;03m# 6\u001b[39;00m\n\u001b[0;32m     10\u001b[0m \u001b[38;5;28mprint\u001b[39m(\u001b[38;5;28mnext\u001b[39m(it))  \u001b[38;5;66;03m# 7\u001b[39;00m\n\u001b[1;32m---> 11\u001b[0m \u001b[38;5;28mprint\u001b[39m(\u001b[38;5;28;43mnext\u001b[39;49m\u001b[43m(\u001b[49m\u001b[43mit\u001b[49m\u001b[43m)\u001b[49m)  \u001b[38;5;66;03m# StopIteration\u001b[39;00m\n",
      "\u001b[1;31mStopIteration\u001b[0m: "
     ]
    }
   ],
   "source": [
    "lst = [1, 2, 3, 4, 5, 6, 7]\n",
    "it = iter(lst)\n",
    "print(it)\n",
    "print(next(it))  # 1\n",
    "print(next(it))  # 2\n",
    "print(next(it))  # 3\n",
    "print(next(it))  # 4\n",
    "print(next(it))  # 5\n",
    "print(next(it))  # 6\n",
    "print(next(it))  # 7\n",
    "print(next(it))  # StopIteration"
   ]
  },
  {
   "cell_type": "code",
   "execution_count": null,
   "metadata": {},
   "outputs": [
    {
     "name": "stdout",
     "output_type": "stream",
     "text": [
      "1\n",
      "2\n",
      "3\n",
      "4\n",
      "5\n",
      "6\n",
      "7\n"
     ]
    }
   ],
   "source": [
    "for word in lst:\n",
    "    print(word)"
   ]
  },
  {
   "cell_type": "code",
   "execution_count": 8,
   "metadata": {},
   "outputs": [
    {
     "name": "stdout",
     "output_type": "stream",
     "text": [
      "<class 'range'>\n",
      "range(2, 7, 2)\n",
      "[2, 4, 6]\n"
     ]
    },
    {
     "ename": "TypeError",
     "evalue": "'float' object cannot be interpreted as an integer",
     "output_type": "error",
     "traceback": [
      "\u001b[1;31m---------------------------------------------------------------------------\u001b[0m",
      "\u001b[1;31mTypeError\u001b[0m                                 Traceback (most recent call last)",
      "Cell \u001b[1;32mIn[8], line 4\u001b[0m\n\u001b[0;32m      2\u001b[0m \u001b[38;5;28mprint\u001b[39m(\u001b[38;5;28mrange\u001b[39m(\u001b[38;5;241m2\u001b[39m, \u001b[38;5;241m7\u001b[39m, \u001b[38;5;241m2\u001b[39m))\n\u001b[0;32m      3\u001b[0m \u001b[38;5;28mprint\u001b[39m(\u001b[38;5;28mlist\u001b[39m(\u001b[38;5;28mrange\u001b[39m(\u001b[38;5;241m2\u001b[39m, \u001b[38;5;241m7\u001b[39m, \u001b[38;5;241m2\u001b[39m)))\n\u001b[1;32m----> 4\u001b[0m \u001b[38;5;28mprint\u001b[39m(\u001b[38;5;28mlist\u001b[39m(\u001b[38;5;28;43mrange\u001b[39;49m\u001b[43m(\u001b[49m\u001b[38;5;241;43m2.5\u001b[39;49m\u001b[43m,\u001b[49m\u001b[43m \u001b[49m\u001b[38;5;241;43m7.9\u001b[39;49m\u001b[43m,\u001b[49m\u001b[43m \u001b[49m\u001b[38;5;241;43m2.1\u001b[39;49m\u001b[43m)\u001b[49m))  \u001b[38;5;66;03m# ошибка\u001b[39;00m\n",
      "\u001b[1;31mTypeError\u001b[0m: 'float' object cannot be interpreted as an integer"
     ]
    }
   ],
   "source": [
    "print(range)\n",
    "print(range(2, 7, 2))\n",
    "print(list(range(2, 7, 2)))\n",
    "print(list(range(2.5, 7.9, 2.1)))  # ошибка"
   ]
  },
  {
   "cell_type": "code",
   "execution_count": 46,
   "metadata": {},
   "outputs": [],
   "source": [
    "class arange:\n",
    "    \"\"\"range() в вещественных числах\"\"\"\n",
    "\n",
    "    def __init__(self, start=0.0, end=0.0, step=1.0):\n",
    "        self.start = start\n",
    "        self.end = end\n",
    "        self.step = step\n",
    "\n",
    "    def __iter__(self):\n",
    "        self.value = self.start - self.step  # стартовое значение\n",
    "        return self\n",
    "\n",
    "    def __next__(self):\n",
    "        if self.value + self.step < self.end:\n",
    "            self.value += self.step\n",
    "            return self.value\n",
    "        else:\n",
    "            raise StopIteration"
   ]
  },
  {
   "cell_type": "code",
   "execution_count": 47,
   "metadata": {},
   "outputs": [
    {
     "name": "stdout",
     "output_type": "stream",
     "text": [
      "0.0\n",
      "0.5\n",
      "1.0\n",
      "1.5\n"
     ]
    },
    {
     "ename": "StopIteration",
     "evalue": "",
     "output_type": "error",
     "traceback": [
      "\u001b[1;31m---------------------------------------------------------------------------\u001b[0m",
      "\u001b[1;31mStopIteration\u001b[0m                             Traceback (most recent call last)",
      "Cell \u001b[1;32mIn[47], line 6\u001b[0m\n\u001b[0;32m      4\u001b[0m \u001b[38;5;28mprint\u001b[39m(ar\u001b[38;5;241m.\u001b[39m\u001b[38;5;21m__next__\u001b[39m())\n\u001b[0;32m      5\u001b[0m \u001b[38;5;28mprint\u001b[39m(\u001b[38;5;28mnext\u001b[39m(ar))\n\u001b[1;32m----> 6\u001b[0m \u001b[38;5;28mprint\u001b[39m(\u001b[43mar\u001b[49m\u001b[38;5;241;43m.\u001b[39;49m\u001b[38;5;21;43m__next__\u001b[39;49m\u001b[43m(\u001b[49m\u001b[43m)\u001b[49m)\n\u001b[0;32m      7\u001b[0m \u001b[38;5;28mprint\u001b[39m(\u001b[38;5;28mnext\u001b[39m(ar))\n\u001b[0;32m      8\u001b[0m \u001b[38;5;28mprint\u001b[39m(ar\u001b[38;5;241m.\u001b[39m\u001b[38;5;21m__next__\u001b[39m())\n",
      "Cell \u001b[1;32mIn[46], line 18\u001b[0m, in \u001b[0;36marange.__next__\u001b[1;34m(self)\u001b[0m\n\u001b[0;32m     16\u001b[0m     \u001b[38;5;28;01mreturn\u001b[39;00m \u001b[38;5;28mself\u001b[39m\u001b[38;5;241m.\u001b[39mvalue\n\u001b[0;32m     17\u001b[0m \u001b[38;5;28;01melse\u001b[39;00m:\n\u001b[1;32m---> 18\u001b[0m     \u001b[38;5;28;01mraise\u001b[39;00m \u001b[38;5;167;01mStopIteration\u001b[39;00m\n",
      "\u001b[1;31mStopIteration\u001b[0m: "
     ]
    }
   ],
   "source": [
    "ar = iter(arange(0, 2, 0.5))\n",
    "print(ar.__next__())\n",
    "print(next(ar))\n",
    "print(ar.__next__())\n",
    "print(next(ar))\n",
    "print(ar.__next__())\n",
    "print(next(ar))\n",
    "print(ar.__next__())\n",
    "print(next(ar))"
   ]
  },
  {
   "cell_type": "code",
   "execution_count": 51,
   "metadata": {},
   "outputs": [
    {
     "name": "stdout",
     "output_type": "stream",
     "text": [
      "-34.6\n",
      "-31.3\n",
      "-28.0\n",
      "-24.7\n",
      "-21.4\n",
      "-18.099999999999998\n",
      "-14.799999999999997\n",
      "-11.499999999999996\n",
      "-8.199999999999996\n",
      "-4.899999999999996\n",
      "-1.599999999999996\n",
      "1.7000000000000037\n",
      "5.0000000000000036\n",
      "8.300000000000004\n"
     ]
    }
   ],
   "source": [
    "for x in arange(-34.6, 10, 3.3):\n",
    "    print(x)"
   ]
  },
  {
   "cell_type": "code",
   "execution_count": 12,
   "metadata": {},
   "outputs": [],
   "source": [
    "class arange2D:\n",
    "    def __init__(self, start=0.0, end=0.0, step=1.0, rows=5):\n",
    "        self.rows = rows\n",
    "        self.ar = arange(start, end, step)\n",
    "\n",
    "    def __iter__(self):\n",
    "        self.value = 0\n",
    "        return self\n",
    "\n",
    "    def __next__(self):\n",
    "        if self.value < self.rows:\n",
    "            self.value += 1\n",
    "            return iter(self.ar)\n",
    "        else:\n",
    "            raise StopIteration"
   ]
  },
  {
   "cell_type": "code",
   "execution_count": 13,
   "metadata": {},
   "outputs": [
    {
     "name": "stdout",
     "output_type": "stream",
     "text": [
      "0.0 0.5 1.0 1.5 \n",
      "0.0 0.5 1.0 1.5 \n",
      "0.0 0.5 1.0 1.5 \n",
      "0.0 0.5 1.0 1.5 \n"
     ]
    }
   ],
   "source": [
    "ar2D = arange2D(0, 2, 0.5, 4)\n",
    "for row in iter(ar2D):\n",
    "    for x in row:\n",
    "        print(x, end=' ')\n",
    "    print()"
   ]
  },
  {
   "cell_type": "markdown",
   "metadata": {},
   "source": [
    "## TicTacToe"
   ]
  },
  {
   "cell_type": "markdown",
   "metadata": {},
   "source": [
    "Вы прошли магические методы. Начальство оценило вашу стойкость, рвение и решило дать вам испытание для подтверждения уровня полученных навыков. Вам выпала великая честь создать полноценную программу игры в \"Крестики-нолики\". И вот перед вами текст с заданием самого испытания.\n",
    "\n",
    "**Техническое задание**\n",
    "\n",
    "Необходимо объявить класс с именем `TicTacToe` (крестики-нолики) для управления игровым процессом. Объекты этого класса будут создаваться командой: `game = TicTacToe()`\n",
    "\n",
    "В каждом объекте этого класса должен быть публичный атрибут: `pole` - двумерный кортеж, размером 3x3.\n",
    "\n",
    "Каждый элемент кортежа pole является объектом класса Cell: `cell = Cell()`\n",
    "\n",
    "В объектах этого класса должно автоматически формироваться локальное свойство: `value` - текущее значение в ячейке: 0 - клетка свободна; 1 - стоит крестик; 2 - стоит нолик.\n",
    "\n",
    "Также с объектами класса `Cell` должна выполняться функция: `bool(cell)` - возвращает `True`, если клетка свободна (value = 0) и `False` - в противном случае.\n",
    "\n",
    "К каждой клетке игрового поля должен быть доступ через операторы:\n",
    "- `res = game[i, j]` # получение значения из клетки с индексами i, j\n",
    "- `game[i, j]` = value # запись нового значения в клетку с индексами i, j\n",
    "\n",
    "Если индексы указаны неверно (не целые числа или числа, выходящие за диапазон [0; 2]), то следует генерировать исключение командой: `raise IndexError('некорректно указанные индексы')`\n",
    "\n",
    "Чтобы в программе не оперировать величинами: 0 - свободная клетка; 1 - крестики и 2 - нолики, в классе `TicTacToe` должны быть три публичных атрибута (атрибуты класса):\n",
    "- `FREE_CELL = 0`  # свободная клетка\n",
    "- `HUMAN_X = 1`  # крестик (игрок - человек)\n",
    "- `COMPUTER_O = 2`  # нолик (игрок - компьютер)\n",
    "\n",
    "В самом классе `TicTacToe` должны быть объявлены следующие методы (как минимум):\n",
    "- `init()` - инициализация игры (очистка игрового поля, возможно, еще какие-либо действия);\n",
    "- `show()` - отображение текущего состояния игрового поля (как именно - на свое усмотрение);\n",
    "- `human_go()` - реализация хода игрока (запрашивает координаты свободной клетки и ставит туда крестик);\n",
    "- `computer_go()` - реализация хода компьютера (ставит случайным образом нолик в свободную клетку).\n",
    "\n",
    "Также в классе `TicTacToe` должны быть следующие объекты-свойства `property`:\n",
    "- `is_human_win` - возвращает `True`, если победил человек, иначе - `False`;\n",
    "- `is_computer_win` - возвращает `True`, если победил компьютер, иначе - `False`;\n",
    "- `is_draw` - возвращает `True`, если ничья, иначе - `False`.\n",
    "\n",
    "Наконец, с объектами класса `TicTacToe` должна выполняться функция:\n",
    "`bool(game)` - возвращает `True`, если игра не окончена (никто не победил и есть свободные клетки) и `False` - в противном случае.\n",
    "\n",
    "Все эти функции и свойства предполагается использовать следующим образом:\n",
    "```\n",
    "game = TicTacToe()\n",
    "game.init()\n",
    "step_game = 0\n",
    "while game:\n",
    "    game.show()\n",
    "\n",
    "    if step_game % 2 == 0:\n",
    "        game.human_go()\n",
    "    else:\n",
    "        game.computer_go()\n",
    "\n",
    "    step_game += 1\n",
    "\n",
    "game.show()\n",
    "\n",
    "if game.is_human_win:\n",
    "    print(\"Поздравляем! Вы победили!\")\n",
    "elif game.is_computer_win:\n",
    "    print(\"Все получится, со временем\")\n",
    "else:\n",
    "    print(\"Ничья.\")\n",
    "```\n",
    "\n",
    "P.S.S. Домашнее задание: завершите создание этой игры и выиграйте у компьютера хотя бы один раз."
   ]
  },
  {
   "cell_type": "code",
   "execution_count": 23,
   "metadata": {},
   "outputs": [],
   "source": [
    "from random import randint\n",
    "\n",
    "class Cell:\n",
    "    def __init__(self):\n",
    "        self.value = 0\n",
    "\n",
    "    def __bool__(self):\n",
    "        return self.value == 0\n",
    "    \n",
    "class TicTacToe:\n",
    "    FREE_CELL = 0  # free cell\n",
    "    HUMAN_X = 1  # cross\n",
    "    COMPUTER_O = 2  # sircle\n",
    "\n",
    "    def __init__(self):\n",
    "        self._size = 3\n",
    "        self._win = 0 # 0 = game, 1 = human win, 2 = computert win, 3 = nobody win\n",
    "        self.pole = tuple(tuple(Cell() for _ in range(self._size)) for _ in range(self._size))\n",
    "\n",
    "    def __check_index(self, index):\n",
    "        if type(index) not in (tuple, list) or len(index) != 2:\n",
    "            raise IndexError('incorrect index')\n",
    "        r, c = index\n",
    "        if not (0 <= r < self._size) or not (0 <= c < self._size):\n",
    "            raise IndexError('incorrect index')\n",
    "    \n",
    "    def __update_win_status(self):\n",
    "        for row in self.pole:\n",
    "            if all(x.value == self.HUMAN_X for x in row):\n",
    "                self._win = 1\n",
    "                return\n",
    "            if all(x.value == self.HUMAN_X for x in row):\n",
    "                self._win = 2\n",
    "                return\n",
    "            \n",
    "        for i in range(self._size):\n",
    "            if all(x.value == self.HUMAN_X for x in (row[i] for row in self.pole)):\n",
    "                self._win = 1\n",
    "                return\n",
    "            if all(x.value == self.HUMAN_X for x in (row[i] for row in self.pole)):\n",
    "                self._win = 2\n",
    "                return\n",
    "            \n",
    "        if all(self.pole[i][i].value == self.HUMAN_X for i in range(self._size)) or all(self.pole[i][-1-i].value == self.HUMAN_X for i in range(self._size)):\n",
    "            self._win = 1\n",
    "            return\n",
    "        \n",
    "        if all(self.pole[i][i].value == self.COMPUTER_O for i in range(self._size)) or all(self.pole[i][-1-i].value == self.COMPUTER_O for i in range(self._size)):\n",
    "            self._win = 2\n",
    "            return\n",
    "        \n",
    "        if all(x.value != self.FREE_CELL for row in self.pole for x in row):\n",
    "            self._win = 3\n",
    "\n",
    "    def __getitem__(self, item):\n",
    "        self.__check_index(item)\n",
    "        r, c = item\n",
    "        return self.pole[r][c].value\n",
    "    \n",
    "    def __setitem__(self, key, value):\n",
    "        self.__check_index(key)\n",
    "        r, c = key\n",
    "        self.pole[r][c].value = value\n",
    "        self.__update_win_status()\n",
    "    \n",
    "    def init(self):\n",
    "        for i in range(self._size):\n",
    "            for j in range(self._size):\n",
    "                self.pole[i][j].value = 0\n",
    "        self._win = 0\n",
    "        \n",
    "    def show(self):\n",
    "        for row in self.pole:\n",
    "            print(*map(lambda x: '#' if x.value == 0 else x.value, row))\n",
    "        print()\n",
    "    \n",
    "    def human_go(self):\n",
    "        if not self:\n",
    "            return\n",
    "\n",
    "        while True:\n",
    "            i,j = map(int, input('>>>').split())\n",
    "            if not (0 <= i < self._size) or not (0 <= j < self._size):\n",
    "                continue\n",
    "            if self[i,j] ==  self.FREE_CELL:\n",
    "                self[i,j] = self.HUMAN_X\n",
    "                break\n",
    "        \n",
    "    def computer_go(self):\n",
    "        if not self: return\n",
    "\n",
    "        while True:\n",
    "            i = randint(0, self._size-1)\n",
    "            j = randint(0, self._size-1)\n",
    "            if self[i,j] != self.FREE_CELL:\n",
    "                continue\n",
    "            self[i,j] = self.COMPUTER_O\n",
    "            break\n",
    "\n",
    "    @property\n",
    "    def is_human_win(self):\n",
    "        return self._win == 1\n",
    "    \n",
    "    @property\n",
    "    def is_computer_win(self):\n",
    "        return self._win == 2\n",
    "    \n",
    "    @property\n",
    "    def is_draw(self):\n",
    "        return self._win == 3\n",
    "\n",
    "    def __bool__(self):\n",
    "        return self._win == 0 and self._win not in (1, 2, 3)"
   ]
  },
  {
   "cell_type": "code",
   "execution_count": 24,
   "metadata": {},
   "outputs": [
    {
     "name": "stdout",
     "output_type": "stream",
     "text": [
      "# # #\n",
      "# # #\n",
      "# # #\n",
      "\n",
      "1 # #\n",
      "# # #\n",
      "# # #\n",
      "\n",
      "1 # #\n",
      "# 2 #\n",
      "# # #\n",
      "\n",
      "1 1 #\n",
      "# 2 #\n",
      "# # #\n",
      "\n",
      "1 1 #\n",
      "# 2 #\n",
      "# # 2\n",
      "\n",
      "1 1 1\n",
      "# 2 #\n",
      "# # 2\n",
      "\n",
      "Поздравляем! Вы победили!\n"
     ]
    }
   ],
   "source": [
    "game = TicTacToe()\n",
    "game.init()\n",
    "step_game = 0\n",
    "while game:\n",
    "    game.show()\n",
    "\n",
    "    if step_game % 2 == 0:\n",
    "        game.human_go()\n",
    "    else:\n",
    "        game.computer_go()\n",
    "\n",
    "    step_game += 1\n",
    "\n",
    "\n",
    "game.show()\n",
    "\n",
    "if game.is_human_win:\n",
    "    print(\"Поздравляем! Вы победили!\")\n",
    "elif game.is_computer_win:\n",
    "    print(\"Все получится, со временем\")\n",
    "else:\n",
    "    print(\"Ничья.\")"
   ]
  },
  {
   "cell_type": "markdown",
   "metadata": {},
   "source": [
    "## Наследование"
   ]
  },
  {
   "cell_type": "markdown",
   "metadata": {},
   "source": [
    "## `issubclass` & `isinstance`"
   ]
  },
  {
   "cell_type": "markdown",
   "metadata": {},
   "source": [
    "- issubclass(дочерний **КЛАСС**, родительский **КЛАСС**)\n",
    "- isinstance(дочерний объект класса, родительский **КЛАСС**)"
   ]
  },
  {
   "cell_type": "code",
   "execution_count": 1,
   "metadata": {},
   "outputs": [],
   "source": [
    "class Geometry:\n",
    "    pass\n",
    "\n",
    "\n",
    "class Line(Geometry):  # наследование от Geometry\n",
    "    pass"
   ]
  },
  {
   "cell_type": "code",
   "execution_count": 3,
   "metadata": {},
   "outputs": [
    {
     "name": "stdout",
     "output_type": "stream",
     "text": [
      "issubclass(Line, Geometry) = True\n",
      "issubclass(Geometry, Line) = False\n",
      "issubclass работает только с КЛАССАМИ!\n"
     ]
    }
   ],
   "source": [
    "print(f'{issubclass(Line, Geometry) = }')  # True\n",
    "print(f'{issubclass(Geometry, Line) = }')  # False\n",
    "try:\n",
    "    print(f'{issubclass(Geometry(), Line) = }')  # TypeError\n",
    "except Exception as e:\n",
    "    print('issubclass работает только с КЛАССАМИ!')"
   ]
  },
  {
   "cell_type": "code",
   "execution_count": 7,
   "metadata": {},
   "outputs": [
    {
     "name": "stdout",
     "output_type": "stream",
     "text": [
      "isinstance(Geometry, Line) = False\n",
      "isinstance(Geometry(), Line) = False\n",
      "isinstance(Line, Geometry) = False\n",
      "isinstance(Line(), Geometry) = True\n"
     ]
    }
   ],
   "source": [
    "print(f'{isinstance(Geometry, Line) = }')  # False\n",
    "print(f'{isinstance(Geometry(), Line) = }')  # False\n",
    "print(f'{isinstance(Line, Geometry) = }')  # False!!!\n",
    "print(f'{isinstance(Line(), Geometry) = }')  # True"
   ]
  },
  {
   "cell_type": "markdown",
   "metadata": {},
   "source": [
    "## extending = расширение базового класса"
   ]
  },
  {
   "cell_type": "code",
   "execution_count": 22,
   "metadata": {},
   "outputs": [],
   "source": [
    "class Geometry:\n",
    "    name = 'Geometry'\n",
    "\n",
    "\n",
    "class Line(Geometry):\n",
    "    def draw(self):\n",
    "        print(f'{self.name} рисует линию')"
   ]
  },
  {
   "cell_type": "code",
   "execution_count": 23,
   "metadata": {},
   "outputs": [
    {
     "name": "stdout",
     "output_type": "stream",
     "text": [
      "Geometry рисует линию\n",
      "Geometry\n"
     ]
    }
   ],
   "source": [
    "line = Line()\n",
    "line.draw()\n",
    "print(line.name)"
   ]
  },
  {
   "cell_type": "markdown",
   "metadata": {},
   "source": [
    "## overwriting = переопределение"
   ]
  },
  {
   "cell_type": "code",
   "execution_count": 24,
   "metadata": {},
   "outputs": [],
   "source": [
    "class Geometry:\n",
    "    name = 'Geometry'\n",
    "\n",
    "    def draw(self):\n",
    "        raise Exception('Необходимо реализовать рисование геометрии!')\n",
    "\n",
    "\n",
    "class Line(Geometry):\n",
    "    def draw(self):\n",
    "        print('Рисую линию')\n",
    "\n",
    "\n",
    "class Circle(Geometry):\n",
    "    pass"
   ]
  },
  {
   "cell_type": "code",
   "execution_count": 25,
   "metadata": {},
   "outputs": [
    {
     "name": "stdout",
     "output_type": "stream",
     "text": [
      "Рисую линию\n"
     ]
    },
    {
     "ename": "Exception",
     "evalue": "Необходимо реализовать рисование геометрии!",
     "output_type": "error",
     "traceback": [
      "\u001b[1;31m---------------------------------------------------------------------------\u001b[0m",
      "\u001b[1;31mException\u001b[0m                                 Traceback (most recent call last)",
      "Cell \u001b[1;32mIn[25], line 3\u001b[0m\n\u001b[0;32m      1\u001b[0m line, circle \u001b[38;5;241m=\u001b[39m Line(), Circle()\n\u001b[0;32m      2\u001b[0m line\u001b[38;5;241m.\u001b[39mdraw()\n\u001b[1;32m----> 3\u001b[0m \u001b[43mcircle\u001b[49m\u001b[38;5;241;43m.\u001b[39;49m\u001b[43mdraw\u001b[49m\u001b[43m(\u001b[49m\u001b[43m)\u001b[49m\n",
      "Cell \u001b[1;32mIn[24], line 5\u001b[0m, in \u001b[0;36mGeometry.draw\u001b[1;34m(self)\u001b[0m\n\u001b[0;32m      4\u001b[0m \u001b[38;5;28;01mdef\u001b[39;00m\u001b[38;5;250m \u001b[39m\u001b[38;5;21mdraw\u001b[39m(\u001b[38;5;28mself\u001b[39m):\n\u001b[1;32m----> 5\u001b[0m     \u001b[38;5;28;01mraise\u001b[39;00m \u001b[38;5;167;01mException\u001b[39;00m(\u001b[38;5;124m'\u001b[39m\u001b[38;5;124mНеобходимо реализовать рисование геометрии!\u001b[39m\u001b[38;5;124m'\u001b[39m)\n",
      "\u001b[1;31mException\u001b[0m: Необходимо реализовать рисование геометрии!"
     ]
    }
   ],
   "source": [
    "line, circle = Line(), Circle()\n",
    "line.draw()\n",
    "circle.draw()"
   ]
  },
  {
   "cell_type": "markdown",
   "metadata": {},
   "source": [
    "## Поиск по родственникам-наследникам"
   ]
  },
  {
   "cell_type": "code",
   "execution_count": 50,
   "metadata": {},
   "outputs": [],
   "source": [
    "class Geometry:\n",
    "    name = 'Geometry'\n",
    "\n",
    "    def __init__(self):\n",
    "        print(f'Инициализация {Geometry.__name__}')\n",
    "\n",
    "    def draw(self):\n",
    "        print('Рисую геометрию')\n",
    "\n",
    "\n",
    "class Line(Geometry):\n",
    "\n",
    "    def draw(self):\n",
    "        print('Рисую линию')"
   ]
  },
  {
   "cell_type": "code",
   "execution_count": 51,
   "metadata": {},
   "outputs": [
    {
     "name": "stdout",
     "output_type": "stream",
     "text": [
      "Инициализация Geometry\n"
     ]
    }
   ],
   "source": [
    "line = Line()  # Инициализация Geometry"
   ]
  },
  {
   "cell_type": "markdown",
   "metadata": {},
   "source": [
    "## `super()` = делегирование; возвращает объект-посредник"
   ]
  },
  {
   "cell_type": "code",
   "execution_count": null,
   "metadata": {},
   "outputs": [],
   "source": [
    "class Geometry:\n",
    "    name = 'Geometry'\n",
    "\n",
    "    def __init__(self, x1, y1, x2, y2):\n",
    "        print(f'Инициализация {Geometry.__name__} для {self.__class__}')\n",
    "        self.x1, self.y1 = x1, y1\n",
    "        self.x2, self.y2 = x2, y2\n",
    "\n",
    "    def draw(self):\n",
    "        print('Рисую геометрию')\n",
    "\n",
    "\n",
    "class Rectangle(Geometry):\n",
    "    def __init__(self, x1, y1, x2, y2, fill=None):\n",
    "        super().__init__(x1, y1, x2, y2)  # вызывается в 1 очередь!\n",
    "        print(f'Инициализация {Rectangle.__name__}')\n",
    "        self.fill = fill  # вызывается в последнюю очередь\n",
    "        # чтобы не переопределить может уже существующий атрибут fill в родительском классе\n",
    "\n",
    "\n",
    "class Line(Geometry):\n",
    "\n",
    "    def draw(self):\n",
    "        print('Рисую линию')"
   ]
  },
  {
   "cell_type": "code",
   "execution_count": 48,
   "metadata": {},
   "outputs": [
    {
     "name": "stdout",
     "output_type": "stream",
     "text": [
      "Инициализация Geometry для <class '__main__.Line'>\n",
      "{'x1': 0, 'y1': 0, 'x2': 10, 'y2': 20}\n"
     ]
    }
   ],
   "source": [
    "line = Line(0, 0, 10, 20)  # Инициализация Geom для <class '__main__.Line'>\n",
    "print(line.__dict__)"
   ]
  },
  {
   "cell_type": "code",
   "execution_count": 49,
   "metadata": {},
   "outputs": [
    {
     "name": "stdout",
     "output_type": "stream",
     "text": [
      "Инициализация Geometry для <class '__main__.Rectangle'>\n",
      "Инициализация Rectangle\n",
      "{'x1': 1, 'y1': 2, 'x2': 3, 'y2': 4, 'fill': None}\n"
     ]
    }
   ],
   "source": [
    "rectangle = Rectangle(1, 2, 3, 4)  # Инициализация Geom для <class '__main__.Rectangle'> & Инициализация Rectangle\n",
    "print(rectangle.__dict__)"
   ]
  },
  {
   "cell_type": "markdown",
   "metadata": {},
   "source": [
    "## Режимы доступа при наследовании"
   ]
  },
  {
   "cell_type": "markdown",
   "metadata": {},
   "source": [
    "- public (доступ отовсюду)\n",
    "- _protected (наследуется в дочерний класс)\n",
    "- __private (жестко привязан к классу, где атрибуты создаются)"
   ]
  },
  {
   "cell_type": "code",
   "execution_count": 70,
   "metadata": {},
   "outputs": [],
   "source": [
    "class Geometry:\n",
    "    public_class_attribute = 'public_class_attribute'\n",
    "    _protected_class_attribute = '_protected_class_attribute'\n",
    "    __private_class_attribute = '__private_class_attribute'\n",
    "\n",
    "    def __init__(self, x1, y1, x2, y2):\n",
    "        print(f'Инициализация {Geometry.__name__} для {self.__class__}')\n",
    "        self._x1, self._y1 = x1, y1\n",
    "        self.__x2, self.__y2 = x2, y2\n",
    "\n",
    "\n",
    "class Rectangle(Geometry):\n",
    "    def __init__(self, x1, y1, x2, y2, fill=None):\n",
    "        super().__init__(x1, y1, x2, y2)\n",
    "        print(f'Инициализация {Rectangle.__name__}')\n",
    "        self._fill = fill\n",
    "\n",
    "    def get_cords1(self):\n",
    "        return self._x1, self._y1\n",
    "    \n",
    "    def get_cords2(self):\n",
    "        return self.__x2, self.__y2"
   ]
  },
  {
   "cell_type": "code",
   "execution_count": 80,
   "metadata": {},
   "outputs": [
    {
     "name": "stdout",
     "output_type": "stream",
     "text": [
      "Инициализация Geometry для <class '__main__.Rectangle'>\n",
      "Инициализация Rectangle\n",
      "\n",
      "dir(rectangle) = ['_Geometry__private_class_attribute', '_Geometry__x2', '_Geometry__y2', '__class__', '__delattr__', '__dict__', '__dir__', '__doc__', '__eq__', '__format__', '__ge__', '__getattribute__', '__getstate__', '__gt__', '__hash__', '__init__', '__init_subclass__', '__le__', '__lt__', '__module__', '__ne__', '__new__', '__reduce__', '__reduce_ex__', '__repr__', '__setattr__', '__sizeof__', '__str__', '__subclasshook__', '__weakref__', '_fill', '_protected_class_attribute', '_x1', '_y1', 'get_cords1', 'get_cords2', 'public_class_attribute']\n",
      "rectangle.__dict__ = {'_x1': 0, '_y1': 0, '_Geometry__x2': 10, '_Geometry__y2': 20, '_fill': None}\n",
      "\n",
      "rectangle.public_class_attribute = 'public_class_attribute'\n",
      "rectangle._protected_class_attribute = '_protected_class_attribute'\n",
      "'Rectangle' object has no attribute '__private_class_attribute'\n",
      "нет доступа к приватному атрибуту у дочернего объекта класса\n",
      "\n",
      "rectangle.get_cords1() = (0, 0)\n",
      "'Rectangle' object has no attribute '_Rectangle__x2'\n"
     ]
    }
   ],
   "source": [
    "rectangle = Rectangle(0, 0, 10, 20)\n",
    "print()\n",
    "print(f'{dir(rectangle) = }')\n",
    "print(f'{rectangle.__dict__ = }')\n",
    "print()\n",
    "print(f'{rectangle.public_class_attribute = }')\n",
    "print(f'{rectangle._protected_class_attribute = }')\n",
    "try:\n",
    "    print(f'{rectangle.__private_class_attribute = }')\n",
    "except Exception as e:\n",
    "    print(e)\n",
    "    print('нет доступа к приватному атрибуту у дочернего объекта класса')\n",
    "print()\n",
    "print(f'{rectangle.get_cords1() = }')  \n",
    "try:\n",
    "    print(f'{rectangle.get_cords2() = }')  # __attr можно вызывать только через Geom\n",
    "except Exception as e:\n",
    "    print(e)"
   ]
  },
  {
   "cell_type": "markdown",
   "metadata": {},
   "source": [
    "## Полиморфизм = возможность работы с совершенно разными объектами ЕДИНЫМ ОБРАЗОМ!"
   ]
  },
  {
   "cell_type": "code",
   "execution_count": null,
   "metadata": {},
   "outputs": [],
   "source": [
    "class Geometry:  # класс абстракт\n",
    "    def get_p(self):\n",
    "        \"\"\"Надо чтобы выводило периметр\"\"\"\n",
    "        raise NotImplemented('В дочернем классе нет метода get_p()!')\n",
    "\n",
    "\n",
    "class Rectangle(Geometry):\n",
    "    def __init__(self, w, h): \n",
    "        self.w, self.h = w, h\n",
    "\n",
    "    def get_p(self): \n",
    "        return 2 * (self.w + self.h)\n",
    "\n",
    "\n",
    "class Square(Geometry):\n",
    "    def __init__(self, a): \n",
    "        self.a = a\n",
    "\n",
    "    def get_p_from_square(self): \n",
    "        return 4 * self.a\n",
    "    \n",
    "    #def get_p(self): return 4 * self.a\n",
    "\n",
    "\n",
    "class Triangle(Geometry):\n",
    "    def __init__(self, a, b, c): \n",
    "        self.a, self.b, self.c = a, b, c"
   ]
  },
  {
   "cell_type": "code",
   "execution_count": 87,
   "metadata": {},
   "outputs": [
    {
     "name": "stdout",
     "output_type": "stream",
     "text": [
      "g.get_p() = 6\n",
      "g.get_p() = 14\n",
      "g.get_p() = 40\n",
      "g.get_p() = 60\n"
     ]
    },
    {
     "ename": "TypeError",
     "evalue": "'NotImplementedType' object is not callable",
     "output_type": "error",
     "traceback": [
      "\u001b[1;31m---------------------------------------------------------------------------\u001b[0m",
      "\u001b[1;31mTypeError\u001b[0m                                 Traceback (most recent call last)",
      "Cell \u001b[1;32mIn[87], line 6\u001b[0m\n\u001b[0;32m      4\u001b[0m geom\u001b[38;5;241m.\u001b[39mappend(Triangle(\u001b[38;5;241m4\u001b[39m, \u001b[38;5;241m5\u001b[39m, \u001b[38;5;241m6\u001b[39m))\n\u001b[0;32m      5\u001b[0m \u001b[38;5;28;01mfor\u001b[39;00m g \u001b[38;5;129;01min\u001b[39;00m geom: \n\u001b[1;32m----> 6\u001b[0m     \u001b[38;5;28mprint\u001b[39m(\u001b[38;5;124mf\u001b[39m\u001b[38;5;124m'\u001b[39m\u001b[38;5;132;01m{\u001b[39;00m\u001b[43mg\u001b[49m\u001b[38;5;241;43m.\u001b[39;49m\u001b[43mget_p\u001b[49m\u001b[43m(\u001b[49m\u001b[43m)\u001b[49m\u001b[38;5;250m \u001b[39m\u001b[38;5;132;01m= }\u001b[39;00m\u001b[38;5;124m'\u001b[39m)\n",
      "Cell \u001b[1;32mIn[86], line 4\u001b[0m, in \u001b[0;36mGeometry.get_p\u001b[1;34m(self)\u001b[0m\n\u001b[0;32m      2\u001b[0m \u001b[38;5;28;01mdef\u001b[39;00m\u001b[38;5;250m \u001b[39m\u001b[38;5;21mget_p\u001b[39m(\u001b[38;5;28mself\u001b[39m):\n\u001b[0;32m      3\u001b[0m \u001b[38;5;250m    \u001b[39m\u001b[38;5;124;03m\"\"\"Надо чтобы выводило периметр\"\"\"\u001b[39;00m\n\u001b[1;32m----> 4\u001b[0m     \u001b[38;5;28;01mraise\u001b[39;00m \u001b[38;5;28;43mNotImplemented\u001b[39;49m\u001b[43m(\u001b[49m\u001b[38;5;124;43m'\u001b[39;49m\u001b[38;5;124;43mВ дочернем классе нет метода get_p()!\u001b[39;49m\u001b[38;5;124;43m'\u001b[39;49m\u001b[43m)\u001b[49m\n",
      "\u001b[1;31mTypeError\u001b[0m: 'NotImplementedType' object is not callable"
     ]
    }
   ],
   "source": [
    "geom = [Rectangle(1, 2), Rectangle(3, 4),\n",
    "        Square(10), Square(15),\n",
    "        Triangle(1, 2, 3)]\n",
    "geom.append(Triangle(4, 5, 6))\n",
    "for g in geom: \n",
    "    print(f'{g.get_p() = }')"
   ]
  },
  {
   "cell_type": "markdown",
   "metadata": {},
   "source": [
    "## Множественное наследование = примеси"
   ]
  },
  {
   "cell_type": "code",
   "execution_count": 88,
   "metadata": {},
   "outputs": [],
   "source": [
    "import time\n",
    "\n",
    "\n",
    "class Goods:\n",
    "    def __init__(self, name, weight, price):\n",
    "        super().__init__()  # вызов класса object с магическими методами\n",
    "        print('init Goods')\n",
    "        self.name = name\n",
    "        self.weight = weight\n",
    "        self.price = price\n",
    "\n",
    "    def print_info(self):\n",
    "        print(f'{self.name}, {self.weight}, {self.price}')\n",
    "\n",
    "\n",
    "class LogVk:\n",
    "    ID = 0\n",
    "\n",
    "    def __init__(self):  # при множественном наследовании в __init__(self) ничего не передаем\n",
    "        print('init LogVk')\n",
    "        LogVk.ID += 1\n",
    "        self.id = LogVk.ID\n",
    "\n",
    "    def save_sell_log(self):\n",
    "        print(f'{self.id}: товар был продан в {time.ctime()}')\n",
    "\n",
    "    def print_info(self): print(f'{self.id}')\n",
    "\n",
    "\n",
    "class NoteBook(Goods, LogVk):  # порядок наследования\n",
    "    pass"
   ]
  },
  {
   "cell_type": "code",
   "execution_count": 89,
   "metadata": {},
   "outputs": [
    {
     "name": "stdout",
     "output_type": "stream",
     "text": [
      "init LogVk\n",
      "init Goods\n",
      "ASUS, 3, 150000\n",
      "1: товар был продан в Sat Mar  8 21:36:11 2025\n",
      "порядок поиска родственников: (<class '__main__.NoteBook'>, <class '__main__.Goods'>, <class '__main__.LogVk'>, <class 'object'>)\n",
      "1\n"
     ]
    }
   ],
   "source": [
    "n = NoteBook('ASUS', 3, 150_000)\n",
    "n.print_info()\n",
    "n.save_sell_log()\n",
    "print(f'порядок поиска родственников: {NoteBook.__mro__}')\n",
    "LogVk.print_info(n)  # вызовется print_info от второго по __mro__ класса"
   ]
  },
  {
   "cell_type": "markdown",
   "metadata": {},
   "source": [
    "## Metro"
   ]
  },
  {
   "cell_type": "code",
   "execution_count": null,
   "metadata": {},
   "outputs": [],
   "source": []
  },
  {
   "cell_type": "code",
   "execution_count": null,
   "metadata": {},
   "outputs": [],
   "source": []
  },
  {
   "cell_type": "code",
   "execution_count": null,
   "metadata": {},
   "outputs": [],
   "source": []
  },
  {
   "cell_type": "code",
   "execution_count": null,
   "metadata": {},
   "outputs": [],
   "source": []
  },
  {
   "cell_type": "markdown",
   "metadata": {},
   "source": []
  },
  {
   "cell_type": "markdown",
   "metadata": {},
   "source": [
    "## GoogleDino"
   ]
  },
  {
   "cell_type": "markdown",
   "metadata": {},
   "source": []
  },
  {
   "cell_type": "markdown",
   "metadata": {},
   "source": [
    "## FlappyBird"
   ]
  },
  {
   "cell_type": "markdown",
   "metadata": {},
   "source": []
  },
  {
   "cell_type": "markdown",
   "metadata": {},
   "source": []
  }
 ],
 "metadata": {
  "kernelspec": {
   "display_name": "Python 3",
   "language": "python",
   "name": "python3"
  },
  "language_info": {
   "codemirror_mode": {
    "name": "ipython",
    "version": 3
   },
   "file_extension": ".py",
   "mimetype": "text/x-python",
   "name": "python",
   "nbconvert_exporter": "python",
   "pygments_lexer": "ipython3",
   "version": "3.12.8"
  }
 },
 "nbformat": 4,
 "nbformat_minor": 2
}
