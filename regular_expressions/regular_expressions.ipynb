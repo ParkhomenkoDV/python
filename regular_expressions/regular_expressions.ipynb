{
 "cells": [
  {
   "cell_type": "markdown",
   "metadata": {},
   "source": [
    "# Регулярные выражения"
   ]
  },
  {
   "cell_type": "markdown",
   "metadata": {},
   "source": [
    "Импорт библиотеки"
   ]
  },
  {
   "cell_type": "code",
   "execution_count": 1,
   "metadata": {},
   "outputs": [],
   "source": [
    "import re"
   ]
  },
  {
   "cell_type": "markdown",
   "metadata": {},
   "source": [
    "- проверка фрагмента текста заданному шаблону\n",
    "- поиск подстрок по указанному шаблону в тексте\n",
    "- поиск и замена регулярного выражения на заданную строку\n",
    "- разбинение строки по найденным шаблонам, записанного в виде регулярного выражения"
   ]
  },
  {
   "cell_type": "markdown",
   "metadata": {},
   "source": [
    "## Поиск подстрок"
   ]
  },
  {
   "cell_type": "code",
   "execution_count": 3,
   "metadata": {},
   "outputs": [],
   "source": [
    "text = \"Карта map и объект bitmap - это разные вещи!\""
   ]
  },
  {
   "cell_type": "markdown",
   "metadata": {},
   "source": [
    "Метод нахождения подстрок \"map\" в text"
   ]
  },
  {
   "cell_type": "code",
   "execution_count": 4,
   "metadata": {},
   "outputs": [
    {
     "name": "stdout",
     "output_type": "stream",
     "text": [
      "['map', 'map']\n"
     ]
    }
   ],
   "source": [
    "match = re.findall(\"map\", text)\n",
    "print(match)"
   ]
  },
  {
   "cell_type": "markdown",
   "metadata": {},
   "source": [
    "Метод нахождения подстрок \" map \" в text"
   ]
  },
  {
   "cell_type": "code",
   "execution_count": 5,
   "metadata": {},
   "outputs": [
    {
     "name": "stdout",
     "output_type": "stream",
     "text": [
      "['map']\n",
      "['map']\n"
     ]
    }
   ],
   "source": [
    "match = re.findall(\"\\\\bmap\\\\b\", text) # двойные слэши - неудобны\n",
    "print(match)\n",
    "\n",
    "match = re.findall(r\"\\bmap\\b\", text) # так-то лучше\n",
    "print(match)"
   ]
  },
  {
   "cell_type": "code",
   "execution_count": 6,
   "metadata": {},
   "outputs": [
    {
     "name": "stdout",
     "output_type": "stream",
     "text": [
      "['еда', 'еда', 'еда']\n"
     ]
    }
   ],
   "source": [
    "match = re.findall(\"еда\", \"еда, беда, победа\")\n",
    "print(match)"
   ]
  },
  {
   "cell_type": "markdown",
   "metadata": {},
   "source": [
    "Специальные символы: `\\.^$?+*{}[]()|`"
   ]
  },
  {
   "cell_type": "code",
   "execution_count": 7,
   "metadata": {},
   "outputs": [
    {
     "name": "stdout",
     "output_type": "stream",
     "text": [
      "['еда', 'еда', 'еда']\n"
     ]
    }
   ],
   "source": [
    "match = re.findall(\"(еда)\", \"еда, беда, победа\") \n",
    "print(match)"
   ]
  },
  {
   "cell_type": "code",
   "execution_count": 8,
   "metadata": {},
   "outputs": [
    {
     "name": "stdout",
     "output_type": "stream",
     "text": [
      "[]\n"
     ]
    }
   ],
   "source": [
    "match = re.findall(\"\\(еда\\)\", \"еда, беда, победа\") # поиск \"(еда)\"\n",
    "print(match)"
   ]
  },
  {
   "cell_type": "markdown",
   "metadata": {},
   "source": [
    "## Символьные классы"
   ]
  },
  {
   "cell_type": "markdown",
   "metadata": {},
   "source": [
    "- [] = символьный класс вариантов для ОДНОГО символа"
   ]
  },
  {
   "cell_type": "markdown",
   "metadata": {},
   "source": [
    "Ищем \"еда\", \"еду\", \"Еда\", \"Еду\", отличающиеся первыми и последними буквами"
   ]
  },
  {
   "cell_type": "code",
   "execution_count": 9,
   "metadata": {},
   "outputs": [
    {
     "name": "stdout",
     "output_type": "stream",
     "text": [
      "['Еду', 'еду', 'еда']\n"
     ]
    }
   ],
   "source": [
    "text = \"Еду, беду, победа\"\n",
    "match = re.findall(r\"[еЕ]д[ау]\", text)\n",
    "print(match)"
   ]
  },
  {
   "cell_type": "code",
   "execution_count": 10,
   "metadata": {},
   "outputs": [
    {
     "name": "stdout",
     "output_type": "stream",
     "text": [
      "['3', '4', '5']\n",
      "['45']\n",
      "['45']\n",
      "['-3', '45']\n",
      "['Е', 'д', 'у', ',', ' ', 'б', 'е', 'д', 'у', ',', ' ', '-', ' ', '(', ')', ' ', 'п', 'о', 'б', 'е', 'д', 'а']\n",
      "['д', 'у', 'б', 'е', 'д', 'у', 'п', 'о', 'б', 'е', 'д', 'а']\n",
      "['Е', 'д', 'у', 'б', 'е', 'д', 'у', 'п', 'о', 'б', 'е', 'д', 'а']\n",
      "['Е', 'д', 'у', 'б', 'е', 'д', 'у', '3', '4', '5', 'п', 'о', 'б', 'е', 'д', 'а']\n",
      "['Е', 'д', 'у', 'б', 'е', 'д', 'у', '3', '(', '4', '5', ')', 'п', 'о', 'б', 'е', 'д', 'а']\n"
     ]
    }
   ],
   "source": [
    "text = \"Еду, беду, -3 (45) победа\"\n",
    "\n",
    "match = re.findall(r\"[0123456789]\", text)\n",
    "print(match)\n",
    "\n",
    "match = re.findall(r\"[0123456789][0123456789]\", text)\n",
    "print(match)\n",
    "\n",
    "match = re.findall(r\"[0-9][0-9]\", text)\n",
    "print(match)\n",
    "\n",
    "match = re.findall(r\"[-0-9][0-9]\", text) # минус\n",
    "print(match)\n",
    "\n",
    "match = re.findall(r\"[^0-9]\", text) # отрицание\n",
    "print(match)\n",
    "\n",
    "match = re.findall(r\"[а-я]\", text) # буквы маленькие\n",
    "print(match)\n",
    "\n",
    "match = re.findall(r\"[а-яА-Я]\", text) # буквы все\n",
    "print(match)\n",
    "\n",
    "match = re.findall(r\"[а-яА-Я0-9]\", text) # буквы все и цифры\n",
    "print(match)\n",
    "\n",
    "match = re.findall(r\"[().?а-яА-Я0-9]\", text) # буквы все и цифры и символы\n",
    "print(match)"
   ]
  },
  {
   "cell_type": "markdown",
   "metadata": {},
   "source": [
    "- `.` = любой символ, кроме `\\n`. Но если установлен флаг re.DOTALL, то точка соответствует вообще любому символу. Но если точка записана внутри символьного класса [] - то это просто точка\n",
    "- `\\d` = любая цифра при использовании Юникода. Если установлен флаг re.ASCII, то диаппазону цифр [0-9]\n",
    "- `\\D` = любая НЕ цифра при использовании Юникода. Если установлен флаг re.ASCII, то диаппазону цифр [^0-9]\n",
    "- `\\s` = любой пробельный символ. Для re.ASCII диаппазону [\\t\\n\\r\\f\\v]\n",
    "- `\\S` = любой НЕ пробельный символ. Для re.ASCII диаппазону [^\\t\\n\\r\\f\\v]\n",
    "- `\\w` = любой символ слова. При флаге re.ASCII диаппазону [a-zA-Z0-9_]\n",
    "- `\\W` = любой НЕ символ слова. При флаге re.ASCII диаппазону [^a-zA-Z0-9_]"
   ]
  },
  {
   "cell_type": "code",
   "execution_count": 11,
   "metadata": {},
   "outputs": [
    {
     "name": "stdout",
     "output_type": "stream",
     "text": [
      "['Е', 'д', 'у', ',', ' ', 'б', 'е', 'д', 'у', ',', ' ', '-', '3', ' ', '(', '4', '5', ')', ' ', 'п', 'о', 'б', 'е', 'д', 'а']\n",
      "['3', '4', '5']\n",
      "['Е', 'д', 'у', 'б', 'е', 'д', 'у', '3', '4', '5', 'п', 'о', 'б', 'е', 'д', 'а']\n",
      "['3', '4', '5']\n"
     ]
    }
   ],
   "source": [
    "match = re.findall(r\".\", text) # буквы все и цифры и символы\n",
    "print(match)\n",
    "\n",
    "match = re.findall(r\"\\d\", text) # цифры\n",
    "print(match)\n",
    "\n",
    "match = re.findall(r\"\\w\", text) # буквы все и цифры\n",
    "print(match)\n",
    "\n",
    "match = re.findall(r\"\\w\", text, re.ASCII) # буквы все и цифры, но латинского языка\n",
    "print(match)"
   ]
  },
  {
   "cell_type": "code",
   "execution_count": 12,
   "metadata": {},
   "outputs": [
    {
     "name": "stdout",
     "output_type": "stream",
     "text": [
      "['0xf', '0xa', '0x5']\n"
     ]
    }
   ],
   "source": [
    "text = \"0xf, 0xa, 0x5\"\n",
    "match = re.findall(r\"0x[\\da-zA-Z]\", text)\n",
    "print(match)"
   ]
  },
  {
   "cell_type": "markdown",
   "metadata": {},
   "source": [
    "## Квантификаторы"
   ]
  },
  {
   "cell_type": "markdown",
   "metadata": {},
   "source": [
    "Запись квантификаторов осуществляется следующим образом: `{m,n}`. В фигурных скобках, через запятую и без пробела, где \n",
    "- m = минимальное число совпадений с выражением\n",
    "- n = максимальное число совпадений с выражением\n",
    "\n",
    "Причем выделяется наибольшая длина совпадений их нескольких наденных по умолчанию, т.е. \"o{2,3}\" для строки \"ooo\" можно найти \"оо\" так и \"ooo\". Но будет большее \"ooo\". Для принудительного поиска минимального совпадения надо после фигурных скобок написать знак вопроса: \"o{2,3}?\""
   ]
  },
  {
   "cell_type": "code",
   "execution_count": 13,
   "metadata": {},
   "outputs": [
    {
     "name": "stdout",
     "output_type": "stream",
     "text": [
      "['oo', 'ooo', 'ooooo']\n",
      "['oo', 'oo', 'oo', 'oo', 'oo']\n"
     ]
    }
   ],
   "source": [
    "text = \"Google, Gooogle, Goooooogle\"\n",
    "\n",
    "match = re.findall(r\"o{2,5}\", text) # мажор = максимальная длина совпадения\n",
    "print(match)\n",
    "# G_oo_gle, G_ooo_ogle, G__ooooo_ogle\n",
    "\n",
    "match = re.findall(r\"o{2,5}?\", text) # минор = минимальная длина совпадения\n",
    "print(match)\n",
    "# G_oo_gle, G_oo_ogle, G__oo_oo_oo_gle "
   ]
  },
  {
   "cell_type": "markdown",
   "metadata": {},
   "source": [
    "- {m} = повторение выражения ровно m раз\n",
    "- {m,} = повторение от m и более раз\n",
    "- {,n} = повторение не более n раз\n",
    "\n",
    "Аналогично работает и минорный режим (?)"
   ]
  },
  {
   "cell_type": "code",
   "execution_count": 14,
   "metadata": {},
   "outputs": [
    {
     "name": "stdout",
     "output_type": "stream",
     "text": [
      "['Google', 'Gooogle', 'Goooooogle']\n",
      "['Google', 'Gooogle']\n"
     ]
    }
   ],
   "source": [
    "text = \"Google, Gooogle, Goooooogle\"\n",
    "\n",
    "match = re.findall(r\"Go{2,}gle\", text) # 2 и более \"o\"\n",
    "print(match)\n",
    "match = re.findall(r\"Go{,4}gle\", text) # не более 4 \"o\"\n",
    "print(match)"
   ]
  },
  {
   "cell_type": "code",
   "execution_count": 19,
   "metadata": {},
   "outputs": [
    {
     "name": "stdout",
     "output_type": "stream",
     "text": [
      "['89061180089']\n",
      "[]\n"
     ]
    }
   ],
   "source": [
    "# корректность записи телефонного номера\n",
    "\n",
    "phone_number = \"89061180089\"\n",
    "match = re.findall(r\"8\\d{10}\", phone_number) # после 8 идут ровно 10 цифр\n",
    "print(match)\n",
    "phone_number = \"890611\"\n",
    "match = re.findall(r\"8\\d{10}\", phone_number) \n",
    "print(match)"
   ]
  },
  {
   "cell_type": "markdown",
   "metadata": {},
   "source": [
    "Квантификаторы вида \n",
    "- {0,} = *\n",
    "- {1,} = +\n",
    "- {0,1} = ?\n",
    "- комбинации вида ??, *?, +?"
   ]
  },
  {
   "cell_type": "code",
   "execution_count": 21,
   "metadata": {},
   "outputs": [
    {
     "name": "stdout",
     "output_type": "stream",
     "text": [
      "['стеклянный', 'стекляный']\n",
      "['стеклянный', 'стекляный']\n"
     ]
    }
   ],
   "source": [
    "text = \"стеклянный, стекляный\"\n",
    "match = re.findall(r\"стеклянн?ый\", text)\n",
    "print(match)\n",
    "match = re.findall(r\"стеклянн{0,1}ый\", text)\n",
    "print(match)"
   ]
  },
  {
   "cell_type": "code",
   "execution_count": null,
   "metadata": {},
   "outputs": [
    {
     "name": "stdout",
     "output_type": "stream",
     "text": [
      "['author=Пушкин А.С.', 'title = Евгений Онегин', 'price =200', 'year= 2001']\n",
      "[('author', 'Пушкин А.С.'), ('title', 'Евгений Онегин'), ('price', '200'), ('year', '2001')]\n"
     ]
    }
   ],
   "source": [
    "# парсинг\n",
    "text = \"author=Пушкин А.С.; title = Евгений Онегин; price =200; year= 2001\"\n",
    "# ищем 1 или более слов,\n",
    "# затем если найдем пробелы/табуляции, \n",
    "# затем знак равно, \n",
    "# затем если найдем пробелы/табуляции,\n",
    "# затем все, кроме точки с запятой 1 или более раз\n",
    "match = re.findall(r\"\\w+\\s*=\\s*[^;]+\", text)\n",
    "print(match) # = print(text.split(';'))\n",
    "match = re.findall(r\"(\\w+)\\s*=\\s*([^;]+)\", text)\n",
    "print(match) # = print(text.split(';'))"
   ]
  },
  {
   "cell_type": "code",
   "execution_count": null,
   "metadata": {},
   "outputs": [
    {
     "name": "stdout",
     "output_type": "stream",
     "text": [
      "[\"<img src='bg.jpg'> в тексте<p>\"]\n",
      "[\"<img src='bg.jpg'>\"]\n"
     ]
    }
   ],
   "source": [
    "# html\n",
    "text = \"<p>Картинка <img src='bg.jpg'> в тексте<p>\"\n",
    "# после <img берем любой сивол и выделяем все пока не встреим >\n",
    "match = re.findall(r\"<img.*>\", text) # забрали лишнее\n",
    "print(match)\n",
    "match = re.findall(r\"<img.*?>\", text) #\n",
    "print(match)"
   ]
  },
  {
   "cell_type": "markdown",
   "metadata": {},
   "source": [
    "## Группировка и сохранение"
   ]
  },
  {
   "cell_type": "markdown",
   "metadata": {},
   "source": [
    "Задача: найти в тексте ключ-значение"
   ]
  },
  {
   "cell_type": "code",
   "execution_count": 3,
   "metadata": {},
   "outputs": [
    {
     "name": "stdout",
     "output_type": "stream",
     "text": [
      "['lat = 5', 'lon=7']\n",
      "['pi=3', 'a = 5']\n"
     ]
    }
   ],
   "source": [
    "for text in ('lat = 5, lon=7', 'pi=3, a = 5'):\n",
    "    match = re.findall(r'\\w+\\s*=\\s*\\d+', text)\n",
    "    print(match)"
   ]
  },
  {
   "cell_type": "markdown",
   "metadata": {},
   "source": [
    "Задача: найти в тексте ключ-значение с определенным ключом"
   ]
  },
  {
   "cell_type": "code",
   "execution_count": 5,
   "metadata": {},
   "outputs": [
    {
     "name": "stdout",
     "output_type": "stream",
     "text": [
      "['lat = 5', 'lon=7']\n",
      "[]\n"
     ]
    }
   ],
   "source": [
    "for text in ('lat = 5, lon=7', 'pi=3, a = 5'):\n",
    "    match = re.findall(r'lat\\s*=\\s*\\d+|lon\\s*=\\s*\\d+', text)\n",
    "    print(match)"
   ]
  },
  {
   "cell_type": "markdown",
   "metadata": {},
   "source": [
    "У шаблона выше есть недостаток в дублировании кода!"
   ]
  },
  {
   "cell_type": "code",
   "execution_count": 7,
   "metadata": {},
   "outputs": [
    {
     "name": "stdout",
     "output_type": "stream",
     "text": [
      "['lat = 5', 'lon=7']\n",
      "[]\n"
     ]
    }
   ],
   "source": [
    "for text in ('lat = 5, lon=7', 'pi=3, a = 5'):\n",
    "    match = re.findall(r'(?:lat|lon)\\s*=\\s*\\d+', text)\n",
    "    print(match)"
   ]
  },
  {
   "cell_type": "markdown",
   "metadata": {},
   "source": [
    "В крглых скобках можно прописать выбор между.  \n",
    "Но после `(` надо прописать `?:`, чтобы выражение было **несохраняющим**"
   ]
  },
  {
   "cell_type": "code",
   "execution_count": 8,
   "metadata": {},
   "outputs": [
    {
     "name": "stdout",
     "output_type": "stream",
     "text": [
      "['lat', 'lon']\n",
      "[]\n"
     ]
    }
   ],
   "source": [
    "for text in ('lat = 5, lon=7', 'pi=3, a = 5'):\n",
    "    match = re.findall(r'(lat|lon)\\s*=\\s*\\d+', text)\n",
    "    print(match)"
   ]
  },
  {
   "cell_type": "code",
   "execution_count": 9,
   "metadata": {},
   "outputs": [
    {
     "name": "stdout",
     "output_type": "stream",
     "text": [
      "[('lat', '5'), ('lon', '7')]\n",
      "[]\n"
     ]
    }
   ],
   "source": [
    "for text in ('lat = 5, lon=7', 'pi=3, a = 5'):\n",
    "    match = re.findall(r'(lat|lon)\\s*=\\s*(\\d+)', text)\n",
    "    print(match)"
   ]
  },
  {
   "cell_type": "markdown",
   "metadata": {},
   "source": [
    "Задача: выделить тэг src"
   ]
  },
  {
   "cell_type": "code",
   "execution_count": null,
   "metadata": {},
   "outputs": [
    {
     "name": "stdout",
     "output_type": "stream",
     "text": [
      "['bg.jpg']\n"
     ]
    }
   ],
   "source": [
    "text = \"<p>Картинка <img src='bg.jpg'> в тексте</p>\"\n",
    "# определим тэг img\n",
    "# далее идут 1 или несколько пробеллов\n",
    "# затем любые символы кроме > до тех пор пока не встретим src\n",
    "# ищем путь\n",
    "match = re.findall(r\"<img\\s+[^>]*src=[\\\"'](.+?)[\\\"']\", text) \n",
    "print(match)"
   ]
  },
  {
   "cell_type": "markdown",
   "metadata": {},
   "source": [
    "Но у шаблона выше есть недостаток: если вместо одинарной кавычки будет двойная, то все также сработает, хотя атрибут записан неверно. См. ниже"
   ]
  },
  {
   "cell_type": "code",
   "execution_count": null,
   "metadata": {},
   "outputs": [
    {
     "name": "stdout",
     "output_type": "stream",
     "text": [
      "['bg.jpg']\n"
     ]
    }
   ],
   "source": [
    "text = \"<p>Картинка <img src='bg.jpg\\\"> в тексте</p>\"\n",
    "match = re.findall(r\"<img\\s+[^>]*src=[\\\"'](.+?)[\\\"']\", text) \n",
    "print(match)"
   ]
  },
  {
   "cell_type": "markdown",
   "metadata": {},
   "source": [
    "Поправляем ситуацию"
   ]
  },
  {
   "cell_type": "markdown",
   "metadata": {},
   "source": [
    "с одинаковыми кавычками"
   ]
  },
  {
   "cell_type": "code",
   "execution_count": 15,
   "metadata": {},
   "outputs": [
    {
     "name": "stdout",
     "output_type": "stream",
     "text": [
      "[(\"'\", 'bg.jpg')]\n"
     ]
    }
   ],
   "source": [
    "text = \"<p>Картинка <img src='bg.jpg'> в тексте</p>\"\n",
    "match = re.findall(r\"<img\\s+[^>]*src=([\\\"'])(.+?)\\1\", text)  # \\1 означает, что сюда надо подставить значение 1ой скобки\n",
    "print(match)"
   ]
  },
  {
   "cell_type": "markdown",
   "metadata": {},
   "source": [
    "с разными кавычками"
   ]
  },
  {
   "cell_type": "code",
   "execution_count": 14,
   "metadata": {},
   "outputs": [
    {
     "name": "stdout",
     "output_type": "stream",
     "text": [
      "[]\n"
     ]
    }
   ],
   "source": [
    "text = \"<p>Картинка <img src='bg.jpg\\\"> в тексте</p>\"\n",
    "match = re.findall(r\"<img\\s+[^>]*src=([\\\"'])(.+?)\\1\", text)  # \\1 означает, что сюда надо подставить значение 1ой скобки\n",
    "print(match)"
   ]
  },
  {
   "cell_type": "markdown",
   "metadata": {},
   "source": [
    "Таким образом (выше) ищутся одинаковые кавычки.  \n",
    "Но использоавть числа не всегда удобно. Потому что при изменении/добавлении сохраняющей скобки ранее, надо менять все числа!  \n",
    "Но можно обзывать сохраняющие скобки по шаблону `(?P<name>)`, и далее обращение к ней происходит так: `(?P=name)`"
   ]
  },
  {
   "cell_type": "code",
   "execution_count": 13,
   "metadata": {},
   "outputs": [
    {
     "name": "stdout",
     "output_type": "stream",
     "text": [
      "[(\"'\", 'bg.jpg')]\n"
     ]
    }
   ],
   "source": [
    "text = \"<p>Картинка <img src='bg.jpg'> в тексте</p>\"\n",
    "match = re.findall(r\"<img\\s+[^>]*src=(?P<q>[\\\"'])(.+?)(?P=q)\", text)  # \\1 означает, что сюда надо подставить значение 1ой скобки\n",
    "print(match)"
   ]
  },
  {
   "cell_type": "markdown",
   "metadata": {},
   "source": [
    "парсинг xml-файла"
   ]
  },
  {
   "cell_type": "code",
   "execution_count": 16,
   "metadata": {},
   "outputs": [],
   "source": [
    "text = '''<!DOCTYPE xmlmap>\n",
    "<xmlmap>\n",
    " <parametrs>\n",
    "  <name>map</name>\n",
    "  <scale>750000</scale>\n",
    "  <issuedate>20060828</issuedate>\n",
    "  <correctiondate>20060828</correctiondate>\n",
    " </parametrs>\n",
    " <object code=\"43\" >\n",
    "  <attribute number=\"133\" value=\"3000000\" />\n",
    "  <attribute number=\"174\" value=\"20\" />\n",
    "  <primitive pointType=\"2\" name=\"2\" >\n",
    "   <point lon=\"40.8482\" lat=\"52.6274\" />\n",
    "   <point lon=\"40.8559\" lat=\"52.6361\" />'''"
   ]
  },
  {
   "cell_type": "code",
   "execution_count": 22,
   "metadata": {},
   "outputs": [
    {
     "name": "stdout",
     "output_type": "stream",
     "text": [
      "[]\n",
      "[]\n",
      "[]\n",
      "[]\n",
      "[]\n",
      "[]\n",
      "[]\n",
      "[]\n",
      "[]\n",
      "[]\n",
      "[]\n",
      "[]\n",
      "[('\"', '40.8482', '\"', '52.6274')]\n",
      "[('\"', '40.8559', '\"', '52.6361')]\n",
      "[]\n",
      "[]\n"
     ]
    }
   ],
   "source": [
    "lon, lat = [], []\n",
    "for t in text.split('\\n'):\n",
    "    match = re.findall(r\"<point\\s+[^>]*?lon=([\\\"\\'])([0-9.,]+)\\1\\s+[^>]*lat=([\\\"\\'])([0-9.,]+)\\1\", t)\n",
    "    print(match)\n",
    "print(lon, lat, sep=\"\\n\")"
   ]
  },
  {
   "cell_type": "markdown",
   "metadata": {},
   "source": [
    "Реализация выше плохая!\n",
    "- нет проверки на найденную пустоту\n",
    "- не вытащены lon и lat"
   ]
  },
  {
   "cell_type": "code",
   "execution_count": 26,
   "metadata": {},
   "outputs": [
    {
     "name": "stdout",
     "output_type": "stream",
     "text": [
      "['40.8482', '40.8559']\n",
      "['52.6274', '52.6361']\n"
     ]
    }
   ],
   "source": [
    "lon, lat = [], []\n",
    "for t in text.split('\\n'):\n",
    "    match = re.findall(r\"<point\\s+[^>]*?lon=([\\\"\\'])([0-9.,]+)\\1\\s+[^>]*lat=([\\\"\\'])([0-9.,]+)\\1\", t)\n",
    "    if len(match) > 0:\n",
    "        lon.append(match[0][1])\n",
    "        lat.append(match[0][3])\n",
    "print(lon, lat, sep=\"\\n\")"
   ]
  },
  {
   "cell_type": "markdown",
   "metadata": {},
   "source": [
    "Реализация выше тоже плохая! Потому что регулярное выражение может измениться и индексы соответственно тоже изменятся.  \n",
    "Здесь лучше использовать имена сохраняющих групп, а затем, обращаться к данным по этим именам:"
   ]
  },
  {
   "cell_type": "code",
   "execution_count": 28,
   "metadata": {},
   "outputs": [
    {
     "name": "stdout",
     "output_type": "stream",
     "text": [
      "['40.8482', '40.8559']\n",
      "['52.6274', '52.6361']\n"
     ]
    }
   ],
   "source": [
    "lon, lat = [], []\n",
    "for t in text.split('\\n'):\n",
    "    match = re.search(r\"<point\\s+[^>]*?lon=([\\\"\\'])(?P<lon>[0-9.,]+)\\1\\s+[^>]*lat=([\\\"\\'])(?P<lat>[0-9.,]+)\\1\", t)\n",
    "    if match:\n",
    "        v = match.groupdict()\n",
    "        if \"lon\" in v and \"lat\" in v:\n",
    "            lon.append(v[\"lon\"])\n",
    "            lat.append(v[\"lat\"])\n",
    "print(lon, lat, sep=\"\\n\")"
   ]
  },
  {
   "cell_type": "markdown",
   "metadata": {},
   "source": [
    "## флаги и проверки"
   ]
  },
  {
   "cell_type": "code",
   "execution_count": null,
   "metadata": {},
   "outputs": [],
   "source": []
  }
 ],
 "metadata": {
  "kernelspec": {
   "display_name": "Python 3",
   "language": "python",
   "name": "python3"
  },
  "language_info": {
   "codemirror_mode": {
    "name": "ipython",
    "version": 3
   },
   "file_extension": ".py",
   "mimetype": "text/x-python",
   "name": "python",
   "nbconvert_exporter": "python",
   "pygments_lexer": "ipython3",
   "version": "3.11.9"
  }
 },
 "nbformat": 4,
 "nbformat_minor": 2
}
